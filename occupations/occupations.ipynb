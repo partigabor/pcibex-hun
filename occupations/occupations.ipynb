{
 "cells": [
  {
   "cell_type": "markdown",
   "id": "b6c4d51f",
   "metadata": {},
   "source": [
    "# Occupational Gender Bias"
   ]
  },
  {
   "cell_type": "code",
   "execution_count": null,
   "id": "4e144a44",
   "metadata": {},
   "outputs": [],
   "source": [
    "# Import libraries\n",
    "import pandas as pd\n",
    "import numpy as np\n",
    "from scipy import stats\n",
    "from scipy.stats import ttest_ind\n",
    "from plotly.subplots import make_subplots\n",
    "import plotly.graph_objects as go\n",
    "import plotly.express as px"
   ]
  },
  {
   "cell_type": "markdown",
   "id": "c73d6049",
   "metadata": {},
   "source": [
    "## Occupations data"
   ]
  },
  {
   "cell_type": "code",
   "execution_count": 2,
   "id": "8767c1fc",
   "metadata": {},
   "outputs": [
    {
     "data": {
      "text/html": [
       "<div>\n",
       "<style scoped>\n",
       "    .dataframe tbody tr th:only-of-type {\n",
       "        vertical-align: middle;\n",
       "    }\n",
       "\n",
       "    .dataframe tbody tr th {\n",
       "        vertical-align: top;\n",
       "    }\n",
       "\n",
       "    .dataframe thead th {\n",
       "        text-align: right;\n",
       "    }\n",
       "</style>\n",
       "<table border=\"1\" class=\"dataframe\">\n",
       "  <thead>\n",
       "    <tr style=\"text-align: right;\">\n",
       "      <th></th>\n",
       "      <th>#</th>\n",
       "      <th>zh</th>\n",
       "      <th>en</th>\n",
       "      <th>hu</th>\n",
       "      <th>chatgpt</th>\n",
       "      <th>copilot</th>\n",
       "      <th>gemini</th>\n",
       "      <th>deepseek</th>\n",
       "    </tr>\n",
       "  </thead>\n",
       "  <tbody>\n",
       "    <tr>\n",
       "      <th>0</th>\n",
       "      <td>1.0</td>\n",
       "      <td>模特</td>\n",
       "      <td>model</td>\n",
       "      <td>modell</td>\n",
       "      <td>2.5</td>\n",
       "      <td>1.8</td>\n",
       "      <td>1.0</td>\n",
       "      <td>-0.30</td>\n",
       "    </tr>\n",
       "    <tr>\n",
       "      <th>1</th>\n",
       "      <td>2.0</td>\n",
       "      <td>军人</td>\n",
       "      <td>soldier</td>\n",
       "      <td>katona</td>\n",
       "      <td>-2.8</td>\n",
       "      <td>-2.5</td>\n",
       "      <td>-2.5</td>\n",
       "      <td>-2.95</td>\n",
       "    </tr>\n",
       "    <tr>\n",
       "      <th>2</th>\n",
       "      <td>3.0</td>\n",
       "      <td>法医</td>\n",
       "      <td>pathologist</td>\n",
       "      <td>kórboncnok</td>\n",
       "      <td>-1.2</td>\n",
       "      <td>-1.5</td>\n",
       "      <td>-0.5</td>\n",
       "      <td>-1.80</td>\n",
       "    </tr>\n",
       "    <tr>\n",
       "      <th>3</th>\n",
       "      <td>4.0</td>\n",
       "      <td>董事长</td>\n",
       "      <td>CEO</td>\n",
       "      <td>vezérigazgató</td>\n",
       "      <td>-2.5</td>\n",
       "      <td>-2.0</td>\n",
       "      <td>-2.0</td>\n",
       "      <td>-2.10</td>\n",
       "    </tr>\n",
       "    <tr>\n",
       "      <th>4</th>\n",
       "      <td>5.0</td>\n",
       "      <td>高管</td>\n",
       "      <td>manager</td>\n",
       "      <td>menedzser</td>\n",
       "      <td>-1.0</td>\n",
       "      <td>-1.5</td>\n",
       "      <td>-1.5</td>\n",
       "      <td>-1.20</td>\n",
       "    </tr>\n",
       "  </tbody>\n",
       "</table>\n",
       "</div>"
      ],
      "text/plain": [
       "     #   zh           en             hu  chatgpt  copilot  gemini  deepseek\n",
       "0  1.0   模特        model         modell      2.5      1.8     1.0     -0.30\n",
       "1  2.0   军人      soldier         katona     -2.8     -2.5    -2.5     -2.95\n",
       "2  3.0   法医  pathologist     kórboncnok     -1.2     -1.5    -0.5     -1.80\n",
       "3  4.0  董事长          CEO  vezérigazgató     -2.5     -2.0    -2.0     -2.10\n",
       "4  5.0   高管      manager      menedzser     -1.0     -1.5    -1.5     -1.20"
      ]
     },
     "execution_count": 2,
     "metadata": {},
     "output_type": "execute_result"
    }
   ],
   "source": [
    "# Read files\n",
    "occupations = pd.read_excel('occupations.xlsx')\n",
    "occupations.head()\n",
    "\n",
    "# # Transpose the DataFrame\n",
    "# occupations_t = occupations.T\n",
    "# occupations_t\n"
   ]
  },
  {
   "cell_type": "markdown",
   "id": "fa3120c9",
   "metadata": {},
   "source": [
    "## Hungarian data"
   ]
  },
  {
   "cell_type": "code",
   "execution_count": 3,
   "id": "c125d60e",
   "metadata": {},
   "outputs": [
    {
     "name": "stdout",
     "output_type": "stream",
     "text": [
      "['5e57a0020c3c6a14a1624031', '599494e7bf8bcf0001ab6973', '5f5a27482be30c0718bbf1e0']\n"
     ]
    },
    {
     "data": {
      "text/html": [
       "<div>\n",
       "<style scoped>\n",
       "    .dataframe tbody tr th:only-of-type {\n",
       "        vertical-align: middle;\n",
       "    }\n",
       "\n",
       "    .dataframe tbody tr th {\n",
       "        vertical-align: top;\n",
       "    }\n",
       "\n",
       "    .dataframe thead th {\n",
       "        text-align: right;\n",
       "    }\n",
       "</style>\n",
       "<table border=\"1\" class=\"dataframe\">\n",
       "  <thead>\n",
       "    <tr style=\"text-align: right;\">\n",
       "      <th></th>\n",
       "      <th>Submission id</th>\n",
       "      <th>Participant id</th>\n",
       "      <th>Status</th>\n",
       "      <th>Custom study tncs accepted at</th>\n",
       "      <th>Started at</th>\n",
       "      <th>Completed at</th>\n",
       "      <th>Reviewed at</th>\n",
       "      <th>Archived at</th>\n",
       "      <th>Time taken</th>\n",
       "      <th>Completion code</th>\n",
       "      <th>Total approvals</th>\n",
       "      <th>Age</th>\n",
       "      <th>Sex</th>\n",
       "      <th>Ethnicity simplified</th>\n",
       "      <th>Country of birth</th>\n",
       "      <th>Country of residence</th>\n",
       "      <th>Nationality</th>\n",
       "      <th>Language</th>\n",
       "      <th>Student status</th>\n",
       "      <th>Employment status</th>\n",
       "    </tr>\n",
       "  </thead>\n",
       "  <tbody>\n",
       "    <tr>\n",
       "      <th>0</th>\n",
       "      <td>68708cf6b2a5c6baa48d6343</td>\n",
       "      <td>5ef60257cd680928de23ccae</td>\n",
       "      <td>APPROVED</td>\n",
       "      <td>Not Applicable</td>\n",
       "      <td>2025-07-11T04:03:02.613000Z</td>\n",
       "      <td>2025-07-11T04:07:42.625000Z</td>\n",
       "      <td>2025-07-15T04:08:31.855000Z</td>\n",
       "      <td>2025-07-11T04:07:43.031319Z</td>\n",
       "      <td>281.0</td>\n",
       "      <td>C1MO6037</td>\n",
       "      <td>377</td>\n",
       "      <td>29</td>\n",
       "      <td>Male</td>\n",
       "      <td>White</td>\n",
       "      <td>Hungary</td>\n",
       "      <td>Hungary</td>\n",
       "      <td>Hungary</td>\n",
       "      <td>Hungarian</td>\n",
       "      <td>Yes</td>\n",
       "      <td>Full-Time</td>\n",
       "    </tr>\n",
       "    <tr>\n",
       "      <th>1</th>\n",
       "      <td>68708d873d4d0b6d92e59937</td>\n",
       "      <td>5c48be0496d59b000183e68d</td>\n",
       "      <td>APPROVED</td>\n",
       "      <td>Not Applicable</td>\n",
       "      <td>2025-07-11T04:05:42.316000Z</td>\n",
       "      <td>2025-07-11T04:13:25.502000Z</td>\n",
       "      <td>2025-07-15T04:08:32.344000Z</td>\n",
       "      <td>2025-07-11T04:13:25.947923Z</td>\n",
       "      <td>464.0</td>\n",
       "      <td>C1MO6037</td>\n",
       "      <td>1457</td>\n",
       "      <td>48</td>\n",
       "      <td>Male</td>\n",
       "      <td>White</td>\n",
       "      <td>Hungary</td>\n",
       "      <td>Hungary</td>\n",
       "      <td>Hungary</td>\n",
       "      <td>Hungarian</td>\n",
       "      <td>No</td>\n",
       "      <td>Full-Time</td>\n",
       "    </tr>\n",
       "    <tr>\n",
       "      <th>2</th>\n",
       "      <td>68708f072c19330dab93cd7b</td>\n",
       "      <td>5d3449524e8363001735fc41</td>\n",
       "      <td>APPROVED</td>\n",
       "      <td>Not Applicable</td>\n",
       "      <td>2025-07-11T04:12:14.614000Z</td>\n",
       "      <td>2025-07-11T04:20:51.642000Z</td>\n",
       "      <td>2025-07-15T04:08:32.762000Z</td>\n",
       "      <td>2025-07-11T04:20:52.060603Z</td>\n",
       "      <td>518.0</td>\n",
       "      <td>C1MO6037</td>\n",
       "      <td>657</td>\n",
       "      <td>42</td>\n",
       "      <td>Male</td>\n",
       "      <td>White</td>\n",
       "      <td>Hungary</td>\n",
       "      <td>Hungary</td>\n",
       "      <td>Hungary</td>\n",
       "      <td>Hungarian</td>\n",
       "      <td>DATA_EXPIRED</td>\n",
       "      <td>Full-Time</td>\n",
       "    </tr>\n",
       "    <tr>\n",
       "      <th>3</th>\n",
       "      <td>68708f80de42cf279f3089d8</td>\n",
       "      <td>5a913d2cf0536100017196d8</td>\n",
       "      <td>APPROVED</td>\n",
       "      <td>Not Applicable</td>\n",
       "      <td>2025-07-11T04:13:57.716000Z</td>\n",
       "      <td>2025-07-11T04:16:47.135000Z</td>\n",
       "      <td>2025-07-15T04:08:33.160000Z</td>\n",
       "      <td>2025-07-11T04:16:47.592395Z</td>\n",
       "      <td>170.0</td>\n",
       "      <td>C1MO6037</td>\n",
       "      <td>29</td>\n",
       "      <td>27</td>\n",
       "      <td>Male</td>\n",
       "      <td>White</td>\n",
       "      <td>Hungary</td>\n",
       "      <td>Hungary</td>\n",
       "      <td>Hungary</td>\n",
       "      <td>Hungarian</td>\n",
       "      <td>No</td>\n",
       "      <td>Full-Time</td>\n",
       "    </tr>\n",
       "    <tr>\n",
       "      <th>4</th>\n",
       "      <td>68708fb5ab7d87dd294e6c74</td>\n",
       "      <td>5d3873197860c8001a106e02</td>\n",
       "      <td>APPROVED</td>\n",
       "      <td>Not Applicable</td>\n",
       "      <td>2025-07-11T04:16:49.056000Z</td>\n",
       "      <td>2025-07-11T04:21:24.387000Z</td>\n",
       "      <td>2025-07-15T04:08:33.533000Z</td>\n",
       "      <td>2025-07-11T04:21:24.787505Z</td>\n",
       "      <td>276.0</td>\n",
       "      <td>C1MO6037</td>\n",
       "      <td>2564</td>\n",
       "      <td>34</td>\n",
       "      <td>Male</td>\n",
       "      <td>White</td>\n",
       "      <td>Hungary</td>\n",
       "      <td>Hungary</td>\n",
       "      <td>Hungary</td>\n",
       "      <td>Hungarian</td>\n",
       "      <td>No</td>\n",
       "      <td>Full-Time</td>\n",
       "    </tr>\n",
       "  </tbody>\n",
       "</table>\n",
       "</div>"
      ],
      "text/plain": [
       "              Submission id            Participant id    Status  \\\n",
       "0  68708cf6b2a5c6baa48d6343  5ef60257cd680928de23ccae  APPROVED   \n",
       "1  68708d873d4d0b6d92e59937  5c48be0496d59b000183e68d  APPROVED   \n",
       "2  68708f072c19330dab93cd7b  5d3449524e8363001735fc41  APPROVED   \n",
       "3  68708f80de42cf279f3089d8  5a913d2cf0536100017196d8  APPROVED   \n",
       "4  68708fb5ab7d87dd294e6c74  5d3873197860c8001a106e02  APPROVED   \n",
       "\n",
       "  Custom study tncs accepted at                   Started at  \\\n",
       "0                Not Applicable  2025-07-11T04:03:02.613000Z   \n",
       "1                Not Applicable  2025-07-11T04:05:42.316000Z   \n",
       "2                Not Applicable  2025-07-11T04:12:14.614000Z   \n",
       "3                Not Applicable  2025-07-11T04:13:57.716000Z   \n",
       "4                Not Applicable  2025-07-11T04:16:49.056000Z   \n",
       "\n",
       "                  Completed at                  Reviewed at  \\\n",
       "0  2025-07-11T04:07:42.625000Z  2025-07-15T04:08:31.855000Z   \n",
       "1  2025-07-11T04:13:25.502000Z  2025-07-15T04:08:32.344000Z   \n",
       "2  2025-07-11T04:20:51.642000Z  2025-07-15T04:08:32.762000Z   \n",
       "3  2025-07-11T04:16:47.135000Z  2025-07-15T04:08:33.160000Z   \n",
       "4  2025-07-11T04:21:24.387000Z  2025-07-15T04:08:33.533000Z   \n",
       "\n",
       "                   Archived at  Time taken Completion code  Total approvals  \\\n",
       "0  2025-07-11T04:07:43.031319Z       281.0        C1MO6037              377   \n",
       "1  2025-07-11T04:13:25.947923Z       464.0        C1MO6037             1457   \n",
       "2  2025-07-11T04:20:52.060603Z       518.0        C1MO6037              657   \n",
       "3  2025-07-11T04:16:47.592395Z       170.0        C1MO6037               29   \n",
       "4  2025-07-11T04:21:24.787505Z       276.0        C1MO6037             2564   \n",
       "\n",
       "  Age   Sex Ethnicity simplified Country of birth Country of residence  \\\n",
       "0  29  Male                White          Hungary              Hungary   \n",
       "1  48  Male                White          Hungary              Hungary   \n",
       "2  42  Male                White          Hungary              Hungary   \n",
       "3  27  Male                White          Hungary              Hungary   \n",
       "4  34  Male                White          Hungary              Hungary   \n",
       "\n",
       "  Nationality   Language Student status Employment status  \n",
       "0     Hungary  Hungarian            Yes         Full-Time  \n",
       "1     Hungary  Hungarian             No         Full-Time  \n",
       "2     Hungary  Hungarian   DATA_EXPIRED         Full-Time  \n",
       "3     Hungary  Hungarian             No         Full-Time  \n",
       "4     Hungary  Hungarian             No         Full-Time  "
      ]
     },
     "execution_count": 3,
     "metadata": {},
     "output_type": "execute_result"
    }
   ],
   "source": [
    "# Read Hungarian participant data from prolific_hu.csv\n",
    "df_prolific_hu = pd.read_csv('prolific_hu.csv')\n",
    "\n",
    "# Return Participant id of rows where Status is RETURNED or REJECTED\n",
    "rejects = df_prolific_hu[df_prolific_hu['Status'].isin(['RETURNED', 'REJECTED'])]['Participant id'].unique()\n",
    "\n",
    "# Turn this into a list\n",
    "rejects_list = rejects.tolist()\n",
    "print(rejects_list)\n",
    "\n",
    "df_prolific_hu.head()"
   ]
  },
  {
   "cell_type": "code",
   "execution_count": 4,
   "id": "7830aaf6",
   "metadata": {},
   "outputs": [
    {
     "name": "stdout",
     "output_type": "stream",
     "text": [
      "Number of participants: 20\n",
      "Number of words: 44\n"
     ]
    },
    {
     "data": {
      "text/html": [
       "<div>\n",
       "<style scoped>\n",
       "    .dataframe tbody tr th:only-of-type {\n",
       "        vertical-align: middle;\n",
       "    }\n",
       "\n",
       "    .dataframe tbody tr th {\n",
       "        vertical-align: top;\n",
       "    }\n",
       "\n",
       "    .dataframe thead th {\n",
       "        text-align: right;\n",
       "    }\n",
       "</style>\n",
       "<table border=\"1\" class=\"dataframe\">\n",
       "  <thead>\n",
       "    <tr style=\"text-align: right;\">\n",
       "      <th></th>\n",
       "      <th>ID</th>\n",
       "      <th>Start time</th>\n",
       "      <th>Completion time</th>\n",
       "      <th>Email</th>\n",
       "      <th>Name</th>\n",
       "      <th>Participant id</th>\n",
       "      <th>Age</th>\n",
       "      <th>Gender</th>\n",
       "      <th>modell</th>\n",
       "      <th>katona</th>\n",
       "      <th>...</th>\n",
       "      <th>dietetikus</th>\n",
       "      <th>tanár</th>\n",
       "      <th>rendőr</th>\n",
       "      <th>pilóta</th>\n",
       "      <th>recepciós</th>\n",
       "      <th>biztonsági őr</th>\n",
       "      <th>ügyész</th>\n",
       "      <th>kozmetikus</th>\n",
       "      <th>programozó</th>\n",
       "      <th>diák</th>\n",
       "    </tr>\n",
       "  </thead>\n",
       "  <tbody>\n",
       "    <tr>\n",
       "      <th>0</th>\n",
       "      <td>1</td>\n",
       "      <td>2025-07-11 12:06:52</td>\n",
       "      <td>2025-07-11 12:07:43</td>\n",
       "      <td>anonymous</td>\n",
       "      <td>NaN</td>\n",
       "      <td>5ef60257cd680928de23ccae</td>\n",
       "      <td>25-35</td>\n",
       "      <td>férfi</td>\n",
       "      <td>2</td>\n",
       "      <td>-3</td>\n",
       "      <td>...</td>\n",
       "      <td>0</td>\n",
       "      <td>0</td>\n",
       "      <td>-2</td>\n",
       "      <td>-1</td>\n",
       "      <td>0</td>\n",
       "      <td>-2</td>\n",
       "      <td>0</td>\n",
       "      <td>2</td>\n",
       "      <td>-1</td>\n",
       "      <td>0</td>\n",
       "    </tr>\n",
       "    <tr>\n",
       "      <th>1</th>\n",
       "      <td>2</td>\n",
       "      <td>2025-07-11 12:06:58</td>\n",
       "      <td>2025-07-11 12:13:33</td>\n",
       "      <td>anonymous</td>\n",
       "      <td>NaN</td>\n",
       "      <td>5c48be0496d59b000183e68d</td>\n",
       "      <td>45-55</td>\n",
       "      <td>férfi</td>\n",
       "      <td>2</td>\n",
       "      <td>-2</td>\n",
       "      <td>...</td>\n",
       "      <td>0</td>\n",
       "      <td>0</td>\n",
       "      <td>-2</td>\n",
       "      <td>-2</td>\n",
       "      <td>1</td>\n",
       "      <td>-2</td>\n",
       "      <td>-1</td>\n",
       "      <td>3</td>\n",
       "      <td>-2</td>\n",
       "      <td>0</td>\n",
       "    </tr>\n",
       "    <tr>\n",
       "      <th>2</th>\n",
       "      <td>3</td>\n",
       "      <td>2025-07-11 12:14:03</td>\n",
       "      <td>2025-07-11 12:16:52</td>\n",
       "      <td>anonymous</td>\n",
       "      <td>NaN</td>\n",
       "      <td>5a913d2cf0536100017196d8</td>\n",
       "      <td>25-35</td>\n",
       "      <td>férfi</td>\n",
       "      <td>0</td>\n",
       "      <td>-2</td>\n",
       "      <td>...</td>\n",
       "      <td>0</td>\n",
       "      <td>0</td>\n",
       "      <td>-1</td>\n",
       "      <td>0</td>\n",
       "      <td>0</td>\n",
       "      <td>-2</td>\n",
       "      <td>0</td>\n",
       "      <td>2</td>\n",
       "      <td>0</td>\n",
       "      <td>0</td>\n",
       "    </tr>\n",
       "    <tr>\n",
       "      <th>3</th>\n",
       "      <td>4</td>\n",
       "      <td>2025-07-11 12:12:24</td>\n",
       "      <td>2025-07-11 12:21:19</td>\n",
       "      <td>anonymous</td>\n",
       "      <td>NaN</td>\n",
       "      <td>5d3449524e8363001735fc41</td>\n",
       "      <td>35-45</td>\n",
       "      <td>férfi</td>\n",
       "      <td>2</td>\n",
       "      <td>-2</td>\n",
       "      <td>...</td>\n",
       "      <td>1</td>\n",
       "      <td>2</td>\n",
       "      <td>-2</td>\n",
       "      <td>-2</td>\n",
       "      <td>2</td>\n",
       "      <td>-2</td>\n",
       "      <td>-1</td>\n",
       "      <td>3</td>\n",
       "      <td>-2</td>\n",
       "      <td>0</td>\n",
       "    </tr>\n",
       "    <tr>\n",
       "      <th>4</th>\n",
       "      <td>5</td>\n",
       "      <td>2025-07-11 12:16:52</td>\n",
       "      <td>2025-07-11 12:21:35</td>\n",
       "      <td>anonymous</td>\n",
       "      <td>NaN</td>\n",
       "      <td>5d3873197860c8001a106e02</td>\n",
       "      <td>25-35</td>\n",
       "      <td>férfi</td>\n",
       "      <td>0</td>\n",
       "      <td>-2</td>\n",
       "      <td>...</td>\n",
       "      <td>0</td>\n",
       "      <td>0</td>\n",
       "      <td>-1</td>\n",
       "      <td>-1</td>\n",
       "      <td>0</td>\n",
       "      <td>-1</td>\n",
       "      <td>0</td>\n",
       "      <td>2</td>\n",
       "      <td>-2</td>\n",
       "      <td>0</td>\n",
       "    </tr>\n",
       "  </tbody>\n",
       "</table>\n",
       "<p>5 rows × 52 columns</p>\n",
       "</div>"
      ],
      "text/plain": [
       "   ID          Start time     Completion time      Email  Name  \\\n",
       "0   1 2025-07-11 12:06:52 2025-07-11 12:07:43  anonymous   NaN   \n",
       "1   2 2025-07-11 12:06:58 2025-07-11 12:13:33  anonymous   NaN   \n",
       "2   3 2025-07-11 12:14:03 2025-07-11 12:16:52  anonymous   NaN   \n",
       "3   4 2025-07-11 12:12:24 2025-07-11 12:21:19  anonymous   NaN   \n",
       "4   5 2025-07-11 12:16:52 2025-07-11 12:21:35  anonymous   NaN   \n",
       "\n",
       "             Participant id    Age Gender  modell  katona  ...  dietetikus  \\\n",
       "0  5ef60257cd680928de23ccae  25-35  férfi       2      -3  ...           0   \n",
       "1  5c48be0496d59b000183e68d  45-55  férfi       2      -2  ...           0   \n",
       "2  5a913d2cf0536100017196d8  25-35  férfi       0      -2  ...           0   \n",
       "3  5d3449524e8363001735fc41  35-45  férfi       2      -2  ...           1   \n",
       "4  5d3873197860c8001a106e02  25-35  férfi       0      -2  ...           0   \n",
       "\n",
       "   tanár  rendőr  pilóta  recepciós  biztonsági őr  ügyész  kozmetikus  \\\n",
       "0      0      -2      -1          0             -2       0           2   \n",
       "1      0      -2      -2          1             -2      -1           3   \n",
       "2      0      -1       0          0             -2       0           2   \n",
       "3      2      -2      -2          2             -2      -1           3   \n",
       "4      0      -1      -1          0             -1       0           2   \n",
       "\n",
       "   programozó  diák  \n",
       "0          -1     0  \n",
       "1          -2     0  \n",
       "2           0     0  \n",
       "3          -2     0  \n",
       "4          -2     0  \n",
       "\n",
       "[5 rows x 52 columns]"
      ]
     },
     "execution_count": 4,
     "metadata": {},
     "output_type": "execute_result"
    }
   ],
   "source": [
    "# Read Hungarian data from hu.xlsx\n",
    "df_hu = pd.read_excel('ratings_hu.xlsx')\n",
    "\n",
    "# Define Hungarian attention checks #############################################################\n",
    "hu_attention_checks = ['pincérnő', 'titkárnő', 'tanárnő', 'takarítónő', 'ápolónő', 'házvezetőnő']\n",
    "\n",
    "# Drop attention checks\n",
    "df_hu.drop(columns=hu_attention_checks, inplace=True)\n",
    "\n",
    "# Define the mapping for ratings\n",
    "rating_map = {\n",
    "    'Teljesen férfi': -3,\n",
    "    'Nagyrészt férfi': -2,\n",
    "    'Inkább férfi': -1,\n",
    "    'Semleges/egyenlő': 0,\n",
    "    'Inkább női': 1,\n",
    "    'Nagyrészt női': 2,\n",
    "    'Teljesen női': 3\n",
    "}\n",
    "\n",
    "# Get columns to convert (skip non-rating columns)\n",
    "rating_columns = df_hu.columns[8:]  # assuming first 8 columns are not ratings\n",
    "\n",
    "# Replace and explicitly infer objects to avoid warning\n",
    "for col in rating_columns:\n",
    "    df_hu[col] = df_hu[col].map(rating_map)\n",
    "    \n",
    "# Rename Prolific ID to Participant id\n",
    "df_hu.rename(columns={'Prolific ID': 'Participant id'}, inplace=True)\n",
    "\n",
    "# Drop rows where Prolific ID is in rejects_list\n",
    "df_hu = df_hu[~df_hu['Participant id'].isin(rejects_list)]\n",
    "\n",
    "# Rename Életkor to Age and Nem to Sex\n",
    "df_hu.rename(columns={'Életkor': 'Age', 'Nem':'Gender'}, inplace=True)\n",
    "\n",
    "# Count and print participants based on unique Participant id\n",
    "num_participants = df_hu['Participant id'].nunique()\n",
    "print(f'Number of participants: {num_participants}')\n",
    "\n",
    "# Count the number of columns starting with the 8th.\n",
    "num_columns = len(df_hu.columns) - 8\n",
    "print(f'Number of words: {num_columns}')\n",
    "\n",
    "# Show\n",
    "df_hu.head()"
   ]
  },
  {
   "cell_type": "markdown",
   "id": "c7ad821f",
   "metadata": {},
   "source": [
    "### Demographics"
   ]
  },
  {
   "cell_type": "code",
   "execution_count": 5,
   "id": "03779559",
   "metadata": {},
   "outputs": [
    {
     "data": {
      "application/vnd.plotly.v1+json": {
       "config": {
        "plotlyServerURL": "https://plot.ly"
       },
       "data": [
        {
         "domain": {
          "x": [
           0,
           0.45
          ],
          "y": [
           0,
           1
          ]
         },
         "hole": 0.4,
         "labels": [
          "Female",
          "Male"
         ],
         "name": "Gender",
         "textinfo": "percent+label",
         "title": {
          "text": "Gender"
         },
         "type": "pie",
         "values": {
          "bdata": "AQAAAACAS0AAAAAAAIBGQA==",
          "dtype": "f8"
         }
        },
        {
         "domain": {
          "x": [
           0.55,
           1
          ],
          "y": [
           0,
           1
          ]
         },
         "hole": 0.4,
         "labels": [
          "25-35",
          "45-55",
          "35-45"
         ],
         "name": "Age",
         "textinfo": "percent+label",
         "title": {
          "text": "Age"
         },
         "type": "pie",
         "values": {
          "bdata": "AQAAAACAS0AAAAAAAAA5QAAAAAAAADRA",
          "dtype": "f8"
         }
        }
       ],
       "layout": {
        "annotations": [
         {
          "font": {
           "size": 16
          },
          "showarrow": false,
          "text": "Gender Distribution",
          "x": 0.225,
          "xanchor": "center",
          "xref": "paper",
          "y": 1,
          "yanchor": "bottom",
          "yref": "paper"
         },
         {
          "font": {
           "size": 16
          },
          "showarrow": false,
          "text": "Age Distribution",
          "x": 0.775,
          "xanchor": "center",
          "xref": "paper",
          "y": 1,
          "yanchor": "bottom",
          "yref": "paper"
         },
         {
          "align": "center",
          "font": {
           "color": "black",
           "size": 16
          },
          "showarrow": false,
          "text": "Number of Participants: 20",
          "x": 0.5,
          "xref": "paper",
          "y": -0.1,
          "yref": "paper"
         }
        ],
        "template": {
         "data": {
          "bar": [
           {
            "error_x": {
             "color": "#2a3f5f"
            },
            "error_y": {
             "color": "#2a3f5f"
            },
            "marker": {
             "line": {
              "color": "#E5ECF6",
              "width": 0.5
             },
             "pattern": {
              "fillmode": "overlay",
              "size": 10,
              "solidity": 0.2
             }
            },
            "type": "bar"
           }
          ],
          "barpolar": [
           {
            "marker": {
             "line": {
              "color": "#E5ECF6",
              "width": 0.5
             },
             "pattern": {
              "fillmode": "overlay",
              "size": 10,
              "solidity": 0.2
             }
            },
            "type": "barpolar"
           }
          ],
          "carpet": [
           {
            "aaxis": {
             "endlinecolor": "#2a3f5f",
             "gridcolor": "white",
             "linecolor": "white",
             "minorgridcolor": "white",
             "startlinecolor": "#2a3f5f"
            },
            "baxis": {
             "endlinecolor": "#2a3f5f",
             "gridcolor": "white",
             "linecolor": "white",
             "minorgridcolor": "white",
             "startlinecolor": "#2a3f5f"
            },
            "type": "carpet"
           }
          ],
          "choropleth": [
           {
            "colorbar": {
             "outlinewidth": 0,
             "ticks": ""
            },
            "type": "choropleth"
           }
          ],
          "contour": [
           {
            "colorbar": {
             "outlinewidth": 0,
             "ticks": ""
            },
            "colorscale": [
             [
              0,
              "#0d0887"
             ],
             [
              0.1111111111111111,
              "#46039f"
             ],
             [
              0.2222222222222222,
              "#7201a8"
             ],
             [
              0.3333333333333333,
              "#9c179e"
             ],
             [
              0.4444444444444444,
              "#bd3786"
             ],
             [
              0.5555555555555556,
              "#d8576b"
             ],
             [
              0.6666666666666666,
              "#ed7953"
             ],
             [
              0.7777777777777778,
              "#fb9f3a"
             ],
             [
              0.8888888888888888,
              "#fdca26"
             ],
             [
              1,
              "#f0f921"
             ]
            ],
            "type": "contour"
           }
          ],
          "contourcarpet": [
           {
            "colorbar": {
             "outlinewidth": 0,
             "ticks": ""
            },
            "type": "contourcarpet"
           }
          ],
          "heatmap": [
           {
            "colorbar": {
             "outlinewidth": 0,
             "ticks": ""
            },
            "colorscale": [
             [
              0,
              "#0d0887"
             ],
             [
              0.1111111111111111,
              "#46039f"
             ],
             [
              0.2222222222222222,
              "#7201a8"
             ],
             [
              0.3333333333333333,
              "#9c179e"
             ],
             [
              0.4444444444444444,
              "#bd3786"
             ],
             [
              0.5555555555555556,
              "#d8576b"
             ],
             [
              0.6666666666666666,
              "#ed7953"
             ],
             [
              0.7777777777777778,
              "#fb9f3a"
             ],
             [
              0.8888888888888888,
              "#fdca26"
             ],
             [
              1,
              "#f0f921"
             ]
            ],
            "type": "heatmap"
           }
          ],
          "histogram": [
           {
            "marker": {
             "pattern": {
              "fillmode": "overlay",
              "size": 10,
              "solidity": 0.2
             }
            },
            "type": "histogram"
           }
          ],
          "histogram2d": [
           {
            "colorbar": {
             "outlinewidth": 0,
             "ticks": ""
            },
            "colorscale": [
             [
              0,
              "#0d0887"
             ],
             [
              0.1111111111111111,
              "#46039f"
             ],
             [
              0.2222222222222222,
              "#7201a8"
             ],
             [
              0.3333333333333333,
              "#9c179e"
             ],
             [
              0.4444444444444444,
              "#bd3786"
             ],
             [
              0.5555555555555556,
              "#d8576b"
             ],
             [
              0.6666666666666666,
              "#ed7953"
             ],
             [
              0.7777777777777778,
              "#fb9f3a"
             ],
             [
              0.8888888888888888,
              "#fdca26"
             ],
             [
              1,
              "#f0f921"
             ]
            ],
            "type": "histogram2d"
           }
          ],
          "histogram2dcontour": [
           {
            "colorbar": {
             "outlinewidth": 0,
             "ticks": ""
            },
            "colorscale": [
             [
              0,
              "#0d0887"
             ],
             [
              0.1111111111111111,
              "#46039f"
             ],
             [
              0.2222222222222222,
              "#7201a8"
             ],
             [
              0.3333333333333333,
              "#9c179e"
             ],
             [
              0.4444444444444444,
              "#bd3786"
             ],
             [
              0.5555555555555556,
              "#d8576b"
             ],
             [
              0.6666666666666666,
              "#ed7953"
             ],
             [
              0.7777777777777778,
              "#fb9f3a"
             ],
             [
              0.8888888888888888,
              "#fdca26"
             ],
             [
              1,
              "#f0f921"
             ]
            ],
            "type": "histogram2dcontour"
           }
          ],
          "mesh3d": [
           {
            "colorbar": {
             "outlinewidth": 0,
             "ticks": ""
            },
            "type": "mesh3d"
           }
          ],
          "parcoords": [
           {
            "line": {
             "colorbar": {
              "outlinewidth": 0,
              "ticks": ""
             }
            },
            "type": "parcoords"
           }
          ],
          "pie": [
           {
            "automargin": true,
            "type": "pie"
           }
          ],
          "scatter": [
           {
            "fillpattern": {
             "fillmode": "overlay",
             "size": 10,
             "solidity": 0.2
            },
            "type": "scatter"
           }
          ],
          "scatter3d": [
           {
            "line": {
             "colorbar": {
              "outlinewidth": 0,
              "ticks": ""
             }
            },
            "marker": {
             "colorbar": {
              "outlinewidth": 0,
              "ticks": ""
             }
            },
            "type": "scatter3d"
           }
          ],
          "scattercarpet": [
           {
            "marker": {
             "colorbar": {
              "outlinewidth": 0,
              "ticks": ""
             }
            },
            "type": "scattercarpet"
           }
          ],
          "scattergeo": [
           {
            "marker": {
             "colorbar": {
              "outlinewidth": 0,
              "ticks": ""
             }
            },
            "type": "scattergeo"
           }
          ],
          "scattergl": [
           {
            "marker": {
             "colorbar": {
              "outlinewidth": 0,
              "ticks": ""
             }
            },
            "type": "scattergl"
           }
          ],
          "scattermap": [
           {
            "marker": {
             "colorbar": {
              "outlinewidth": 0,
              "ticks": ""
             }
            },
            "type": "scattermap"
           }
          ],
          "scattermapbox": [
           {
            "marker": {
             "colorbar": {
              "outlinewidth": 0,
              "ticks": ""
             }
            },
            "type": "scattermapbox"
           }
          ],
          "scatterpolar": [
           {
            "marker": {
             "colorbar": {
              "outlinewidth": 0,
              "ticks": ""
             }
            },
            "type": "scatterpolar"
           }
          ],
          "scatterpolargl": [
           {
            "marker": {
             "colorbar": {
              "outlinewidth": 0,
              "ticks": ""
             }
            },
            "type": "scatterpolargl"
           }
          ],
          "scatterternary": [
           {
            "marker": {
             "colorbar": {
              "outlinewidth": 0,
              "ticks": ""
             }
            },
            "type": "scatterternary"
           }
          ],
          "surface": [
           {
            "colorbar": {
             "outlinewidth": 0,
             "ticks": ""
            },
            "colorscale": [
             [
              0,
              "#0d0887"
             ],
             [
              0.1111111111111111,
              "#46039f"
             ],
             [
              0.2222222222222222,
              "#7201a8"
             ],
             [
              0.3333333333333333,
              "#9c179e"
             ],
             [
              0.4444444444444444,
              "#bd3786"
             ],
             [
              0.5555555555555556,
              "#d8576b"
             ],
             [
              0.6666666666666666,
              "#ed7953"
             ],
             [
              0.7777777777777778,
              "#fb9f3a"
             ],
             [
              0.8888888888888888,
              "#fdca26"
             ],
             [
              1,
              "#f0f921"
             ]
            ],
            "type": "surface"
           }
          ],
          "table": [
           {
            "cells": {
             "fill": {
              "color": "#EBF0F8"
             },
             "line": {
              "color": "white"
             }
            },
            "header": {
             "fill": {
              "color": "#C8D4E3"
             },
             "line": {
              "color": "white"
             }
            },
            "type": "table"
           }
          ]
         },
         "layout": {
          "annotationdefaults": {
           "arrowcolor": "#2a3f5f",
           "arrowhead": 0,
           "arrowwidth": 1
          },
          "autotypenumbers": "strict",
          "coloraxis": {
           "colorbar": {
            "outlinewidth": 0,
            "ticks": ""
           }
          },
          "colorscale": {
           "diverging": [
            [
             0,
             "#8e0152"
            ],
            [
             0.1,
             "#c51b7d"
            ],
            [
             0.2,
             "#de77ae"
            ],
            [
             0.3,
             "#f1b6da"
            ],
            [
             0.4,
             "#fde0ef"
            ],
            [
             0.5,
             "#f7f7f7"
            ],
            [
             0.6,
             "#e6f5d0"
            ],
            [
             0.7,
             "#b8e186"
            ],
            [
             0.8,
             "#7fbc41"
            ],
            [
             0.9,
             "#4d9221"
            ],
            [
             1,
             "#276419"
            ]
           ],
           "sequential": [
            [
             0,
             "#0d0887"
            ],
            [
             0.1111111111111111,
             "#46039f"
            ],
            [
             0.2222222222222222,
             "#7201a8"
            ],
            [
             0.3333333333333333,
             "#9c179e"
            ],
            [
             0.4444444444444444,
             "#bd3786"
            ],
            [
             0.5555555555555556,
             "#d8576b"
            ],
            [
             0.6666666666666666,
             "#ed7953"
            ],
            [
             0.7777777777777778,
             "#fb9f3a"
            ],
            [
             0.8888888888888888,
             "#fdca26"
            ],
            [
             1,
             "#f0f921"
            ]
           ],
           "sequentialminus": [
            [
             0,
             "#0d0887"
            ],
            [
             0.1111111111111111,
             "#46039f"
            ],
            [
             0.2222222222222222,
             "#7201a8"
            ],
            [
             0.3333333333333333,
             "#9c179e"
            ],
            [
             0.4444444444444444,
             "#bd3786"
            ],
            [
             0.5555555555555556,
             "#d8576b"
            ],
            [
             0.6666666666666666,
             "#ed7953"
            ],
            [
             0.7777777777777778,
             "#fb9f3a"
            ],
            [
             0.8888888888888888,
             "#fdca26"
            ],
            [
             1,
             "#f0f921"
            ]
           ]
          },
          "colorway": [
           "#636efa",
           "#EF553B",
           "#00cc96",
           "#ab63fa",
           "#FFA15A",
           "#19d3f3",
           "#FF6692",
           "#B6E880",
           "#FF97FF",
           "#FECB52"
          ],
          "font": {
           "color": "#2a3f5f"
          },
          "geo": {
           "bgcolor": "white",
           "lakecolor": "white",
           "landcolor": "#E5ECF6",
           "showlakes": true,
           "showland": true,
           "subunitcolor": "white"
          },
          "hoverlabel": {
           "align": "left"
          },
          "hovermode": "closest",
          "mapbox": {
           "style": "light"
          },
          "paper_bgcolor": "white",
          "plot_bgcolor": "#E5ECF6",
          "polar": {
           "angularaxis": {
            "gridcolor": "white",
            "linecolor": "white",
            "ticks": ""
           },
           "bgcolor": "#E5ECF6",
           "radialaxis": {
            "gridcolor": "white",
            "linecolor": "white",
            "ticks": ""
           }
          },
          "scene": {
           "xaxis": {
            "backgroundcolor": "#E5ECF6",
            "gridcolor": "white",
            "gridwidth": 2,
            "linecolor": "white",
            "showbackground": true,
            "ticks": "",
            "zerolinecolor": "white"
           },
           "yaxis": {
            "backgroundcolor": "#E5ECF6",
            "gridcolor": "white",
            "gridwidth": 2,
            "linecolor": "white",
            "showbackground": true,
            "ticks": "",
            "zerolinecolor": "white"
           },
           "zaxis": {
            "backgroundcolor": "#E5ECF6",
            "gridcolor": "white",
            "gridwidth": 2,
            "linecolor": "white",
            "showbackground": true,
            "ticks": "",
            "zerolinecolor": "white"
           }
          },
          "shapedefaults": {
           "line": {
            "color": "#2a3f5f"
           }
          },
          "ternary": {
           "aaxis": {
            "gridcolor": "white",
            "linecolor": "white",
            "ticks": ""
           },
           "baxis": {
            "gridcolor": "white",
            "linecolor": "white",
            "ticks": ""
           },
           "bgcolor": "#E5ECF6",
           "caxis": {
            "gridcolor": "white",
            "linecolor": "white",
            "ticks": ""
           }
          },
          "title": {
           "x": 0.05
          },
          "xaxis": {
           "automargin": true,
           "gridcolor": "white",
           "linecolor": "white",
           "ticks": "",
           "title": {
            "standoff": 15
           },
           "zerolinecolor": "white",
           "zerolinewidth": 2
          },
          "yaxis": {
           "automargin": true,
           "gridcolor": "white",
           "linecolor": "white",
           "ticks": "",
           "title": {
            "standoff": 15
           },
           "zerolinecolor": "white",
           "zerolinewidth": 2
          }
         }
        },
        "title": {
         "text": "Gender and Age Distribution"
        }
       }
      }
     },
     "metadata": {},
     "output_type": "display_data"
    }
   ],
   "source": [
    "# Show me the ratios of \"Életkor\" (age) in this survey.\n",
    "age = df_hu['Age'].value_counts(normalize=True) * 100\n",
    "\n",
    "# Show me the ratio of \"Nem\" (gender) in this survey.\n",
    "gender = df_hu['Gender'].value_counts(normalize=True) * 100\n",
    "\n",
    "# Translate\n",
    "gender_translation = {\n",
    "    'nő': 'Female',\n",
    "    'férfi': 'Male'\n",
    "}\n",
    "gender_labels_en = gender.index.map(gender_translation)\n",
    "\n",
    "# Prepare data for gender pie chart\n",
    "gender_pie = go.Pie(\n",
    "    labels=gender_labels_en,\n",
    "    values=gender.values,\n",
    "    name='Gender',\n",
    "    hole=0.4,\n",
    "    title='Gender'\n",
    ")\n",
    "\n",
    "# Prepare data for age pie chart\n",
    "age_pie = go.Pie(\n",
    "    labels=age.index,\n",
    "    values=age.values,\n",
    "    name='Age',\n",
    "    hole=0.4,\n",
    "    title='Age'\n",
    ")\n",
    "\n",
    "# Create subplot with 1 row and 2 columns\n",
    "fig = make_subplots(rows=1, cols=2, specs=[[{'type':'domain'}, {'type':'domain'}]],\n",
    "                    subplot_titles=['Gender Distribution', 'Age Distribution'])\n",
    "\n",
    "fig.add_trace(gender_pie, 1, 1)\n",
    "fig.add_trace(age_pie, 1, 2)\n",
    "\n",
    "fig.update_traces(textinfo='percent+label')\n",
    "fig.update_layout(title_text='Gender and Age Distribution')\n",
    "\n",
    "# Add a text that shows the total number of participants\n",
    "total_participants = df_hu.shape[0]\n",
    "fig.add_annotation(\n",
    "    text=f'Number of Participants: {total_participants}',\n",
    "    xref='paper', yref='paper',\n",
    "    x=0.5, y=-0.1,\n",
    "    showarrow=False,\n",
    "    font=dict(size=16, color='black'),\n",
    "    align='center'\n",
    ")\n",
    "\n",
    "fig.show()\n",
    "\n",
    "# Save it as html\n",
    "fig.write_html('demographics_hu.html')\n",
    "\n",
    "# Save it as image\n",
    "fig.write_image('demographics_hu.png', scale=2, width=1000, height=500)"
   ]
  },
  {
   "cell_type": "markdown",
   "id": "dd4e21e1",
   "metadata": {},
   "source": [
    "### Analysis"
   ]
  },
  {
   "cell_type": "markdown",
   "id": "9b89d98c",
   "metadata": {},
   "source": [
    "#### Two Sample T-Test by Gender"
   ]
  },
  {
   "cell_type": "code",
   "execution_count": 6,
   "id": "4929717e",
   "metadata": {},
   "outputs": [
    {
     "name": "stdout",
     "output_type": "stream",
     "text": [
      "Number of male participants: 9\n",
      "Number of female participants: 11\n"
     ]
    },
    {
     "data": {
      "application/vnd.plotly.v1+json": {
       "config": {
        "plotlyServerURL": "https://plot.ly"
       },
       "data": [
        {
         "marker": {
          "color": "#1f77b4"
         },
         "name": "Male",
         "type": "bar",
         "x": [
          "<b>nővér+</b>",
          "kozmetikus",
          "házvezető",
          "légiutas-kísérő",
          "takarító",
          "modell",
          "gondozó",
          "pénztáros",
          "HR-es",
          "bolti eladó",
          "fodrász",
          "recepciós",
          "dietetikus",
          "könyvelő",
          "ápoló",
          "felszolgáló",
          "<b>PR munkatárs+</b>",
          "jegyárus",
          "tanár",
          "diák",
          "titkár",
          "bíró",
          "pincér",
          "tudós",
          "orvos",
          "menedzser",
          "ügyész",
          "rendező",
          "kertész",
          "kórboncnok",
          "professzor",
          "szakács",
          "mérnök",
          "vízimentő",
          "<b>vezérigazgató+</b>",
          "<b>építész+</b>",
          "<b>rendőr+</b>",
          "munkás",
          "programozó",
          "földműves",
          "pilóta",
          "katona",
          "biztonsági őr",
          "tűzoltó"
         ],
         "y": {
          "bdata": "HMdxHMdxBEByHMdxHMcBQDmO4ziO4/g/q6qqqqqq+j9VVVVVVVX1P1VVVVVVVfU/VVVVVVVV9T/kOI7jOI7zP3Icx3Ecx/E/AAAAAAAA8D85juM4juPoPzmO4ziO4+g/chzHcRzH4T9yHMdxHMfhP3Icx3Ecx+E/VVVVVVVV1T9yHMdxHMfhPxzHcRzHcdw/AAAAAAAAAAAAAAAAAAAAAFVVVVVVVdW/VVVVVVVV1b9VVVVVVVXVv1VVVVVVVdW/chzHcRzH4b9yHMdxHMfhv3Icx3Ecx+G/VVVVVVVV5b85juM4juPov3Icx3Ecx/G/AAAAAAAA8L/kOI7jOI7zv3Icx3Ecx/G/5DiO4ziO878cx3Ecx3Hsv6uqqqqqqvq/q6qqqqqq+r/kOI7jOI7zvzmO4ziO4/i/OY7jOI7j+L85juM4juP4vwAAAAAAAADAjuM4juM4/r8AAAAAAAAAwA==",
          "dtype": "f8"
         }
        },
        {
         "marker": {
          "color": "#e377c2"
         },
         "name": "Female",
         "type": "bar",
         "x": [
          "<b>nővér+</b>",
          "kozmetikus",
          "házvezető",
          "légiutas-kísérő",
          "takarító",
          "modell",
          "gondozó",
          "pénztáros",
          "HR-es",
          "bolti eladó",
          "fodrász",
          "recepciós",
          "dietetikus",
          "könyvelő",
          "ápoló",
          "felszolgáló",
          "<b>PR munkatárs+</b>",
          "jegyárus",
          "tanár",
          "diák",
          "titkár",
          "bíró",
          "pincér",
          "tudós",
          "orvos",
          "menedzser",
          "ügyész",
          "rendező",
          "kertész",
          "kórboncnok",
          "professzor",
          "szakács",
          "mérnök",
          "vízimentő",
          "<b>vezérigazgató+</b>",
          "<b>építész+</b>",
          "<b>rendőr+</b>",
          "munkás",
          "programozó",
          "földműves",
          "pilóta",
          "katona",
          "biztonsági őr",
          "tűzoltó"
         ],
         "y": {
          "bdata": "jC666KKL/j+66KKLLroAQBdddNFFF/0/6aKLLrro8j900UUXXXTxP0YXXXTRRec/RhdddNFF5z8vuuiiiy7qPy+66KKLLuo/F1100UUX7T900UUXXXTxP1100UUXXeQ/RhdddNFF5z9GF1100UXXP3TRRRdddNE/dNFFF1100T8AAAAAAAAAAAAAAAAAAAAARhdddNFFtz8AAAAAAAAAAEYXXXTRRce/RhdddNFFx78XXXTRRRfdvxdddNFFF92/F1100UUX3b9ddNFFF13kv0YXXXTRRee/L7rooosu6r8vuuiiiy7qv3TRRRdddOG/RhdddNFF578vuuiiiy7qvwAAAAAAAPC/AAAAAAAA8L9GF1100UX3vxdddNFFF+2/AAAAAAAA8L9GF1100UX3v+miiy666PK/XXTRRRdd9L+jiy666KL7v7rooosuuvi/jC666KKL/r/poosuuugCwA==",
          "dtype": "f8"
         }
        }
       ],
       "layout": {
        "barmode": "group",
        "template": {
         "data": {
          "bar": [
           {
            "error_x": {
             "color": "#2a3f5f"
            },
            "error_y": {
             "color": "#2a3f5f"
            },
            "marker": {
             "line": {
              "color": "white",
              "width": 0.5
             },
             "pattern": {
              "fillmode": "overlay",
              "size": 10,
              "solidity": 0.2
             }
            },
            "type": "bar"
           }
          ],
          "barpolar": [
           {
            "marker": {
             "line": {
              "color": "white",
              "width": 0.5
             },
             "pattern": {
              "fillmode": "overlay",
              "size": 10,
              "solidity": 0.2
             }
            },
            "type": "barpolar"
           }
          ],
          "carpet": [
           {
            "aaxis": {
             "endlinecolor": "#2a3f5f",
             "gridcolor": "#C8D4E3",
             "linecolor": "#C8D4E3",
             "minorgridcolor": "#C8D4E3",
             "startlinecolor": "#2a3f5f"
            },
            "baxis": {
             "endlinecolor": "#2a3f5f",
             "gridcolor": "#C8D4E3",
             "linecolor": "#C8D4E3",
             "minorgridcolor": "#C8D4E3",
             "startlinecolor": "#2a3f5f"
            },
            "type": "carpet"
           }
          ],
          "choropleth": [
           {
            "colorbar": {
             "outlinewidth": 0,
             "ticks": ""
            },
            "type": "choropleth"
           }
          ],
          "contour": [
           {
            "colorbar": {
             "outlinewidth": 0,
             "ticks": ""
            },
            "colorscale": [
             [
              0,
              "#0d0887"
             ],
             [
              0.1111111111111111,
              "#46039f"
             ],
             [
              0.2222222222222222,
              "#7201a8"
             ],
             [
              0.3333333333333333,
              "#9c179e"
             ],
             [
              0.4444444444444444,
              "#bd3786"
             ],
             [
              0.5555555555555556,
              "#d8576b"
             ],
             [
              0.6666666666666666,
              "#ed7953"
             ],
             [
              0.7777777777777778,
              "#fb9f3a"
             ],
             [
              0.8888888888888888,
              "#fdca26"
             ],
             [
              1,
              "#f0f921"
             ]
            ],
            "type": "contour"
           }
          ],
          "contourcarpet": [
           {
            "colorbar": {
             "outlinewidth": 0,
             "ticks": ""
            },
            "type": "contourcarpet"
           }
          ],
          "heatmap": [
           {
            "colorbar": {
             "outlinewidth": 0,
             "ticks": ""
            },
            "colorscale": [
             [
              0,
              "#0d0887"
             ],
             [
              0.1111111111111111,
              "#46039f"
             ],
             [
              0.2222222222222222,
              "#7201a8"
             ],
             [
              0.3333333333333333,
              "#9c179e"
             ],
             [
              0.4444444444444444,
              "#bd3786"
             ],
             [
              0.5555555555555556,
              "#d8576b"
             ],
             [
              0.6666666666666666,
              "#ed7953"
             ],
             [
              0.7777777777777778,
              "#fb9f3a"
             ],
             [
              0.8888888888888888,
              "#fdca26"
             ],
             [
              1,
              "#f0f921"
             ]
            ],
            "type": "heatmap"
           }
          ],
          "histogram": [
           {
            "marker": {
             "pattern": {
              "fillmode": "overlay",
              "size": 10,
              "solidity": 0.2
             }
            },
            "type": "histogram"
           }
          ],
          "histogram2d": [
           {
            "colorbar": {
             "outlinewidth": 0,
             "ticks": ""
            },
            "colorscale": [
             [
              0,
              "#0d0887"
             ],
             [
              0.1111111111111111,
              "#46039f"
             ],
             [
              0.2222222222222222,
              "#7201a8"
             ],
             [
              0.3333333333333333,
              "#9c179e"
             ],
             [
              0.4444444444444444,
              "#bd3786"
             ],
             [
              0.5555555555555556,
              "#d8576b"
             ],
             [
              0.6666666666666666,
              "#ed7953"
             ],
             [
              0.7777777777777778,
              "#fb9f3a"
             ],
             [
              0.8888888888888888,
              "#fdca26"
             ],
             [
              1,
              "#f0f921"
             ]
            ],
            "type": "histogram2d"
           }
          ],
          "histogram2dcontour": [
           {
            "colorbar": {
             "outlinewidth": 0,
             "ticks": ""
            },
            "colorscale": [
             [
              0,
              "#0d0887"
             ],
             [
              0.1111111111111111,
              "#46039f"
             ],
             [
              0.2222222222222222,
              "#7201a8"
             ],
             [
              0.3333333333333333,
              "#9c179e"
             ],
             [
              0.4444444444444444,
              "#bd3786"
             ],
             [
              0.5555555555555556,
              "#d8576b"
             ],
             [
              0.6666666666666666,
              "#ed7953"
             ],
             [
              0.7777777777777778,
              "#fb9f3a"
             ],
             [
              0.8888888888888888,
              "#fdca26"
             ],
             [
              1,
              "#f0f921"
             ]
            ],
            "type": "histogram2dcontour"
           }
          ],
          "mesh3d": [
           {
            "colorbar": {
             "outlinewidth": 0,
             "ticks": ""
            },
            "type": "mesh3d"
           }
          ],
          "parcoords": [
           {
            "line": {
             "colorbar": {
              "outlinewidth": 0,
              "ticks": ""
             }
            },
            "type": "parcoords"
           }
          ],
          "pie": [
           {
            "automargin": true,
            "type": "pie"
           }
          ],
          "scatter": [
           {
            "fillpattern": {
             "fillmode": "overlay",
             "size": 10,
             "solidity": 0.2
            },
            "type": "scatter"
           }
          ],
          "scatter3d": [
           {
            "line": {
             "colorbar": {
              "outlinewidth": 0,
              "ticks": ""
             }
            },
            "marker": {
             "colorbar": {
              "outlinewidth": 0,
              "ticks": ""
             }
            },
            "type": "scatter3d"
           }
          ],
          "scattercarpet": [
           {
            "marker": {
             "colorbar": {
              "outlinewidth": 0,
              "ticks": ""
             }
            },
            "type": "scattercarpet"
           }
          ],
          "scattergeo": [
           {
            "marker": {
             "colorbar": {
              "outlinewidth": 0,
              "ticks": ""
             }
            },
            "type": "scattergeo"
           }
          ],
          "scattergl": [
           {
            "marker": {
             "colorbar": {
              "outlinewidth": 0,
              "ticks": ""
             }
            },
            "type": "scattergl"
           }
          ],
          "scattermap": [
           {
            "marker": {
             "colorbar": {
              "outlinewidth": 0,
              "ticks": ""
             }
            },
            "type": "scattermap"
           }
          ],
          "scattermapbox": [
           {
            "marker": {
             "colorbar": {
              "outlinewidth": 0,
              "ticks": ""
             }
            },
            "type": "scattermapbox"
           }
          ],
          "scatterpolar": [
           {
            "marker": {
             "colorbar": {
              "outlinewidth": 0,
              "ticks": ""
             }
            },
            "type": "scatterpolar"
           }
          ],
          "scatterpolargl": [
           {
            "marker": {
             "colorbar": {
              "outlinewidth": 0,
              "ticks": ""
             }
            },
            "type": "scatterpolargl"
           }
          ],
          "scatterternary": [
           {
            "marker": {
             "colorbar": {
              "outlinewidth": 0,
              "ticks": ""
             }
            },
            "type": "scatterternary"
           }
          ],
          "surface": [
           {
            "colorbar": {
             "outlinewidth": 0,
             "ticks": ""
            },
            "colorscale": [
             [
              0,
              "#0d0887"
             ],
             [
              0.1111111111111111,
              "#46039f"
             ],
             [
              0.2222222222222222,
              "#7201a8"
             ],
             [
              0.3333333333333333,
              "#9c179e"
             ],
             [
              0.4444444444444444,
              "#bd3786"
             ],
             [
              0.5555555555555556,
              "#d8576b"
             ],
             [
              0.6666666666666666,
              "#ed7953"
             ],
             [
              0.7777777777777778,
              "#fb9f3a"
             ],
             [
              0.8888888888888888,
              "#fdca26"
             ],
             [
              1,
              "#f0f921"
             ]
            ],
            "type": "surface"
           }
          ],
          "table": [
           {
            "cells": {
             "fill": {
              "color": "#EBF0F8"
             },
             "line": {
              "color": "white"
             }
            },
            "header": {
             "fill": {
              "color": "#C8D4E3"
             },
             "line": {
              "color": "white"
             }
            },
            "type": "table"
           }
          ]
         },
         "layout": {
          "annotationdefaults": {
           "arrowcolor": "#2a3f5f",
           "arrowhead": 0,
           "arrowwidth": 1
          },
          "autotypenumbers": "strict",
          "coloraxis": {
           "colorbar": {
            "outlinewidth": 0,
            "ticks": ""
           }
          },
          "colorscale": {
           "diverging": [
            [
             0,
             "#8e0152"
            ],
            [
             0.1,
             "#c51b7d"
            ],
            [
             0.2,
             "#de77ae"
            ],
            [
             0.3,
             "#f1b6da"
            ],
            [
             0.4,
             "#fde0ef"
            ],
            [
             0.5,
             "#f7f7f7"
            ],
            [
             0.6,
             "#e6f5d0"
            ],
            [
             0.7,
             "#b8e186"
            ],
            [
             0.8,
             "#7fbc41"
            ],
            [
             0.9,
             "#4d9221"
            ],
            [
             1,
             "#276419"
            ]
           ],
           "sequential": [
            [
             0,
             "#0d0887"
            ],
            [
             0.1111111111111111,
             "#46039f"
            ],
            [
             0.2222222222222222,
             "#7201a8"
            ],
            [
             0.3333333333333333,
             "#9c179e"
            ],
            [
             0.4444444444444444,
             "#bd3786"
            ],
            [
             0.5555555555555556,
             "#d8576b"
            ],
            [
             0.6666666666666666,
             "#ed7953"
            ],
            [
             0.7777777777777778,
             "#fb9f3a"
            ],
            [
             0.8888888888888888,
             "#fdca26"
            ],
            [
             1,
             "#f0f921"
            ]
           ],
           "sequentialminus": [
            [
             0,
             "#0d0887"
            ],
            [
             0.1111111111111111,
             "#46039f"
            ],
            [
             0.2222222222222222,
             "#7201a8"
            ],
            [
             0.3333333333333333,
             "#9c179e"
            ],
            [
             0.4444444444444444,
             "#bd3786"
            ],
            [
             0.5555555555555556,
             "#d8576b"
            ],
            [
             0.6666666666666666,
             "#ed7953"
            ],
            [
             0.7777777777777778,
             "#fb9f3a"
            ],
            [
             0.8888888888888888,
             "#fdca26"
            ],
            [
             1,
             "#f0f921"
            ]
           ]
          },
          "colorway": [
           "#636efa",
           "#EF553B",
           "#00cc96",
           "#ab63fa",
           "#FFA15A",
           "#19d3f3",
           "#FF6692",
           "#B6E880",
           "#FF97FF",
           "#FECB52"
          ],
          "font": {
           "color": "#2a3f5f"
          },
          "geo": {
           "bgcolor": "white",
           "lakecolor": "white",
           "landcolor": "white",
           "showlakes": true,
           "showland": true,
           "subunitcolor": "#C8D4E3"
          },
          "hoverlabel": {
           "align": "left"
          },
          "hovermode": "closest",
          "mapbox": {
           "style": "light"
          },
          "paper_bgcolor": "white",
          "plot_bgcolor": "white",
          "polar": {
           "angularaxis": {
            "gridcolor": "#EBF0F8",
            "linecolor": "#EBF0F8",
            "ticks": ""
           },
           "bgcolor": "white",
           "radialaxis": {
            "gridcolor": "#EBF0F8",
            "linecolor": "#EBF0F8",
            "ticks": ""
           }
          },
          "scene": {
           "xaxis": {
            "backgroundcolor": "white",
            "gridcolor": "#DFE8F3",
            "gridwidth": 2,
            "linecolor": "#EBF0F8",
            "showbackground": true,
            "ticks": "",
            "zerolinecolor": "#EBF0F8"
           },
           "yaxis": {
            "backgroundcolor": "white",
            "gridcolor": "#DFE8F3",
            "gridwidth": 2,
            "linecolor": "#EBF0F8",
            "showbackground": true,
            "ticks": "",
            "zerolinecolor": "#EBF0F8"
           },
           "zaxis": {
            "backgroundcolor": "white",
            "gridcolor": "#DFE8F3",
            "gridwidth": 2,
            "linecolor": "#EBF0F8",
            "showbackground": true,
            "ticks": "",
            "zerolinecolor": "#EBF0F8"
           }
          },
          "shapedefaults": {
           "line": {
            "color": "#2a3f5f"
           }
          },
          "ternary": {
           "aaxis": {
            "gridcolor": "#DFE8F3",
            "linecolor": "#A2B1C6",
            "ticks": ""
           },
           "baxis": {
            "gridcolor": "#DFE8F3",
            "linecolor": "#A2B1C6",
            "ticks": ""
           },
           "bgcolor": "white",
           "caxis": {
            "gridcolor": "#DFE8F3",
            "linecolor": "#A2B1C6",
            "ticks": ""
           }
          },
          "title": {
           "x": 0.05
          },
          "xaxis": {
           "automargin": true,
           "gridcolor": "#EBF0F8",
           "linecolor": "#EBF0F8",
           "ticks": "",
           "title": {
            "standoff": 15
           },
           "zerolinecolor": "#EBF0F8",
           "zerolinewidth": 2
          },
          "yaxis": {
           "automargin": true,
           "gridcolor": "#EBF0F8",
           "linecolor": "#EBF0F8",
           "ticks": "",
           "title": {
            "standoff": 15
           },
           "zerolinecolor": "#EBF0F8",
           "zerolinewidth": 2
          }
         }
        },
        "title": {
         "text": "Mean Ratings of Occupational Titles by Gender"
        },
        "xaxis": {
         "tickangle": -45,
         "title": {
          "text": "Hungarian data (significant*, and marginally significant+ in <b>bold</b>)"
         }
        },
        "yaxis": {
         "title": {
          "text": "Bias (Male - Female)"
         }
        }
       }
      }
     },
     "metadata": {},
     "output_type": "display_data"
    }
   ],
   "source": [
    "# Add a new column with the mean of the ratings for each participant\n",
    "df_hu['Mean Rating'] = df_hu.iloc[:, 8:].mean(axis=1)\n",
    "\n",
    "# Separate df_hu into male and female datasets based on the Gender column\n",
    "df_hu_male = df_hu[df_hu['Gender'] == 'férfi']\n",
    "df_hu_female = df_hu[df_hu['Gender'] == 'nő']\n",
    "\n",
    "# Show the number of male and female participants\n",
    "print(f\"Number of male participants: {df_hu_male['Participant id'].nunique()}\")\n",
    "print(f\"Number of female participants: {df_hu_female['Participant id'].nunique()}\")\n",
    "\n",
    "# Two Sample T-Test between male and female participants for each occupation word\n",
    "results = []\n",
    "for col in rating_columns:\n",
    "    male_ratings = df_hu_male[col].dropna().astype(float)\n",
    "    female_ratings = df_hu_female[col].dropna().astype(float)\n",
    "    # Only test if both groups have at least 2 ratings\n",
    "    if len(male_ratings) > 1 and len(female_ratings) > 1:\n",
    "        t_stat, p_value = stats.ttest_ind(male_ratings, female_ratings, equal_var=False)\n",
    "        mean_male = male_ratings.mean()\n",
    "        mean_female = female_ratings.mean()\n",
    "        results.append({\n",
    "            'occupation': col,\n",
    "            'mean_male': mean_male,\n",
    "            'mean_female': mean_female,\n",
    "            't_stat': t_stat,\n",
    "            'p_value': p_value,\n",
    "            'significant': p_value < 0.05,\n",
    "            'marg_significant': 0.05 < p_value < 0.1\n",
    "        })\n",
    "\n",
    "df_ttest = pd.DataFrame(results)\n",
    "\n",
    "# Add overall mean rating for sorting\n",
    "df_ttest['overall_mean'] = (df_ttest['mean_male'] + df_ttest['mean_female']) / 2\n",
    "\n",
    "# Sort by overall mean rating\n",
    "df_ttest_sorted = df_ttest.sort_values('overall_mean', ascending=False)\n",
    "\n",
    "# Prepare axis labels: bold for significant\n",
    "def bold_label(row):\n",
    "    occupation = row['occupation']\n",
    "    \n",
    "    if row.get('significant'):\n",
    "        occupation = f\"<b>{occupation}*</b>\"\n",
    "    \n",
    "    if row.get('marg_significant'):\n",
    "        occupation = f\"<b>{occupation}+</b>\"\n",
    "    \n",
    "    return occupation\n",
    "\n",
    "df_ttest_sorted['occupation_label'] = df_ttest_sorted.apply(bold_label, axis=1)\n",
    "\n",
    "# Plot\n",
    "fig = go.Figure()\n",
    "fig.add_trace(go.Bar(\n",
    "    x=df_ttest_sorted['occupation_label'],\n",
    "    y=df_ttest_sorted['mean_male'],\n",
    "    name='Male',\n",
    "    marker_color='#1f77b4'\n",
    "))\n",
    "fig.add_trace(go.Bar(\n",
    "    x=df_ttest_sorted['occupation_label'],\n",
    "    y=df_ttest_sorted['mean_female'],\n",
    "    name='Female',\n",
    "    marker_color='#e377c2'\n",
    "))\n",
    "fig.update_layout(\n",
    "    barmode='group',\n",
    "    title='Mean Ratings of Occupational Titles by Gender',\n",
    "    xaxis_title='Hungarian data (significant*, and marginally significant+ in <b>bold</b>)',\n",
    "    yaxis_title='Bias (Male - Female)',\n",
    "    xaxis_tickangle=-45,\n",
    "    template='plotly_white'\n",
    ")\n",
    "fig.show()\n",
    "\n",
    "# Save results and plot\n",
    "df_ttest_sorted.to_excel('occupations_gender_ttest_hu.xlsx', index=False)\n",
    "fig.write_html('occupations_gender_ttest_hu.html')\n",
    "fig.write_image('occupations_gender_ttest_hu.png', scale=2, width=1000, height=500)"
   ]
  },
  {
   "cell_type": "markdown",
   "id": "c870daa9",
   "metadata": {},
   "source": [
    "#### Biases and biases by"
   ]
  },
  {
   "cell_type": "code",
   "execution_count": 7,
   "id": "ed8b2255",
   "metadata": {},
   "outputs": [],
   "source": [
    "# Add a column 'bias_by' to df_ttest_sorted: 'Male' if abs(mean_male) > abs(mean_female), 'Female' if abs(mean_female) > abs(mean_male), 'Equal' if they are the same\n",
    "df_ttest_sorted['bias_by'] = np.where(\n",
    "    np.abs(df_ttest_sorted['mean_male']) > np.abs(df_ttest_sorted['mean_female']), 'Men',\n",
    "    np.where(np.abs(df_ttest_sorted['mean_male']) < np.abs(df_ttest_sorted['mean_female']), 'Women', 'Equal')\n",
    ")\n",
    "\n",
    "# Add columns that show if the bias is male or female. Add male, if the overall mean is lower than 0, othervise add Female\n",
    "df_ttest_sorted['bias'] = np.where(\n",
    "    df_ttest_sorted['overall_mean'] > 0, 'Female',\n",
    "    np.where(df_ttest_sorted['overall_mean'] < 0, 'Male', 'Equal')\n",
    ")\n",
    "\n",
    "# Calculate mean_difference (mean_male - mean_female), and add its absolute value\n",
    "df_ttest_sorted['mean_difference'] = (df_ttest_sorted['mean_male'] - df_ttest_sorted['mean_female']).abs()\n"
   ]
  },
  {
   "cell_type": "code",
   "execution_count": 8,
   "id": "b3efb5e8",
   "metadata": {},
   "outputs": [
    {
     "data": {
      "application/vnd.plotly.v1+json": {
       "config": {
        "plotlyServerURL": "https://plot.ly"
       },
       "data": [
        {
         "customdata": [
          [
           0.6464646464646462,
           "Men"
          ],
          [
           0.1313131313131315,
           "Men"
          ],
          [
           0.26262626262626254,
           "Women"
          ],
          [
           0.48484848484848486,
           "Men"
          ],
          [
           0.24242424242424243,
           "Men"
          ],
          [
           0.606060606060606,
           "Men"
          ],
          [
           0.606060606060606,
           "Men"
          ],
          [
           0.4040404040404041,
           "Men"
          ],
          [
           0.29292929292929293,
           "Men"
          ],
          [
           0.09090909090909094,
           "Men"
          ],
          [
           0.31313131313131304,
           "Women"
          ],
          [
           0.14141414141414144,
           "Men"
          ],
          [
           0.1717171717171717,
           "Women"
          ],
          [
           0.19191919191919193,
           "Men"
          ],
          [
           0.2828282828282829,
           "Men"
          ],
          [
           0.06060606060606061,
           "Men"
          ],
          [
           0.5555555555555556,
           "Men"
          ],
          [
           0.4444444444444444,
           "Men"
          ],
          [
           0.09090909090909091,
           "Women"
          ],
          [
           0,
           "Equal"
          ],
          [
           0.1515151515151515,
           "Men"
          ],
          [
           0.1515151515151515,
           "Men"
          ],
          [
           0.12121212121212122,
           "Women"
          ],
          [
           0.12121212121212122,
           "Women"
          ],
          [
           0.10101010101010105,
           "Men"
          ],
          [
           0.08080808080808077,
           "Women"
          ],
          [
           0.1717171717171717,
           "Women"
          ],
          [
           0.1515151515151516,
           "Women"
          ],
          [
           0.04040404040404044,
           "Women"
          ],
          [
           0.5656565656565657,
           "Men"
          ],
          [
           0.2727272727272727,
           "Men"
          ],
          [
           0.4040404040404041,
           "Men"
          ],
          [
           0.11111111111111116,
           "Men"
          ],
          [
           0.22222222222222232,
           "Men"
          ],
          [
           0.5656565656565657,
           "Women"
          ],
          [
           0.7575757575757577,
           "Men"
          ],
          [
           0.6666666666666667,
           "Men"
          ],
          [
           0.23232323232323226,
           "Women"
          ],
          [
           0.3737373737373737,
           "Men"
          ],
          [
           0.2828282828282829,
           "Men"
          ],
          [
           0.1717171717171717,
           "Women"
          ],
          [
           0.4545454545454546,
           "Men"
          ],
          [
           0.020202020202020332,
           "Women"
          ],
          [
           0.36363636363636376,
           "Women"
          ]
         ],
         "hovertemplate": "Occupation: %{x}<br>Overall Mean: %{y:.2f}<br>Mean Diff: %{customdata[0]:.2f}<br>Greater Bias: %{customdata[1]}<extra></extra>",
         "marker": {
          "color": [
           "#1f77b4",
           "#1f77b4",
           "#e377c2",
           "#1f77b4",
           "#1f77b4",
           "#1f77b4",
           "#1f77b4",
           "#1f77b4",
           "#1f77b4",
           "#1f77b4",
           "#e377c2",
           "#1f77b4",
           "#e377c2",
           "#1f77b4",
           "#1f77b4",
           "#1f77b4",
           "#1f77b4",
           "#1f77b4",
           "#e377c2",
           "#7f7f7f",
           "#1f77b4",
           "#1f77b4",
           "#e377c2",
           "#e377c2",
           "#1f77b4",
           "#e377c2",
           "#e377c2",
           "#e377c2",
           "#e377c2",
           "#1f77b4",
           "#1f77b4",
           "#1f77b4",
           "#1f77b4",
           "#1f77b4",
           "#e377c2",
           "#1f77b4",
           "#1f77b4",
           "#e377c2",
           "#1f77b4",
           "#1f77b4",
           "#e377c2",
           "#1f77b4",
           "#e377c2",
           "#e377c2"
          ]
         },
         "type": "bar",
         "x": [
          "nővér",
          "kozmetikus",
          "házvezető",
          "légiutas-kísérő",
          "takarító",
          "modell",
          "gondozó",
          "pénztáros",
          "HR-es",
          "bolti eladó",
          "fodrász",
          "recepciós",
          "dietetikus",
          "könyvelő",
          "ápoló",
          "felszolgáló",
          "PR munkatárs",
          "jegyárus",
          "tanár",
          "diák",
          "titkár",
          "bíró",
          "pincér",
          "tudós",
          "orvos",
          "menedzser",
          "ügyész",
          "rendező",
          "kertész",
          "kórboncnok",
          "professzor",
          "szakács",
          "mérnök",
          "vízimentő",
          "vezérigazgató",
          "építész",
          "rendőr",
          "munkás",
          "programozó",
          "földműves",
          "pilóta",
          "katona",
          "biztonsági őr",
          "tűzoltó"
         ],
         "y": {
          "bdata": "MW9nSMzbAUCWArV+pUABQKj1KwVq/fo/yiabbLLJ9j9kk0022WTzP3zwwQcffPA/fPDBBx988D/+SoFav1LwP4p5O0Ni3u4/jC666KKL7j+QmLczJObtP0uBWr9SoOY/3BkS83aG5D8VqPUrBWrdPywFav1Kgdo/ZJNNNtlk0z9yHMdxHMfRPxzHcRzHccw/RhdddNFFpz8AAAAAAAAAAHzwwQcffNC/fPDBBx980L822WSTTTbZvzbZZJNNNtm/f6VArV8p4L9oSMzbGRLjv9wZEvN2huS/wgcffPDB5780JObtDInpvywFav1Kgeq/o4suuuii67/+SoFav1LwvzmO4ziO4/C/chzHcRzH8b9q/UqBWr/yv5tssskmm/S/VlVVVVVV9b8VqPUrBWr1v5GYtzMk5vW/S4Fav1Kg9r/uDIl5O0P6v1100UUXXfy/DYl5O0Ni/r900UUXXXQBwA==",
          "dtype": "f8"
         }
        }
       ],
       "layout": {
        "template": {
         "data": {
          "bar": [
           {
            "error_x": {
             "color": "#2a3f5f"
            },
            "error_y": {
             "color": "#2a3f5f"
            },
            "marker": {
             "line": {
              "color": "white",
              "width": 0.5
             },
             "pattern": {
              "fillmode": "overlay",
              "size": 10,
              "solidity": 0.2
             }
            },
            "type": "bar"
           }
          ],
          "barpolar": [
           {
            "marker": {
             "line": {
              "color": "white",
              "width": 0.5
             },
             "pattern": {
              "fillmode": "overlay",
              "size": 10,
              "solidity": 0.2
             }
            },
            "type": "barpolar"
           }
          ],
          "carpet": [
           {
            "aaxis": {
             "endlinecolor": "#2a3f5f",
             "gridcolor": "#C8D4E3",
             "linecolor": "#C8D4E3",
             "minorgridcolor": "#C8D4E3",
             "startlinecolor": "#2a3f5f"
            },
            "baxis": {
             "endlinecolor": "#2a3f5f",
             "gridcolor": "#C8D4E3",
             "linecolor": "#C8D4E3",
             "minorgridcolor": "#C8D4E3",
             "startlinecolor": "#2a3f5f"
            },
            "type": "carpet"
           }
          ],
          "choropleth": [
           {
            "colorbar": {
             "outlinewidth": 0,
             "ticks": ""
            },
            "type": "choropleth"
           }
          ],
          "contour": [
           {
            "colorbar": {
             "outlinewidth": 0,
             "ticks": ""
            },
            "colorscale": [
             [
              0,
              "#0d0887"
             ],
             [
              0.1111111111111111,
              "#46039f"
             ],
             [
              0.2222222222222222,
              "#7201a8"
             ],
             [
              0.3333333333333333,
              "#9c179e"
             ],
             [
              0.4444444444444444,
              "#bd3786"
             ],
             [
              0.5555555555555556,
              "#d8576b"
             ],
             [
              0.6666666666666666,
              "#ed7953"
             ],
             [
              0.7777777777777778,
              "#fb9f3a"
             ],
             [
              0.8888888888888888,
              "#fdca26"
             ],
             [
              1,
              "#f0f921"
             ]
            ],
            "type": "contour"
           }
          ],
          "contourcarpet": [
           {
            "colorbar": {
             "outlinewidth": 0,
             "ticks": ""
            },
            "type": "contourcarpet"
           }
          ],
          "heatmap": [
           {
            "colorbar": {
             "outlinewidth": 0,
             "ticks": ""
            },
            "colorscale": [
             [
              0,
              "#0d0887"
             ],
             [
              0.1111111111111111,
              "#46039f"
             ],
             [
              0.2222222222222222,
              "#7201a8"
             ],
             [
              0.3333333333333333,
              "#9c179e"
             ],
             [
              0.4444444444444444,
              "#bd3786"
             ],
             [
              0.5555555555555556,
              "#d8576b"
             ],
             [
              0.6666666666666666,
              "#ed7953"
             ],
             [
              0.7777777777777778,
              "#fb9f3a"
             ],
             [
              0.8888888888888888,
              "#fdca26"
             ],
             [
              1,
              "#f0f921"
             ]
            ],
            "type": "heatmap"
           }
          ],
          "histogram": [
           {
            "marker": {
             "pattern": {
              "fillmode": "overlay",
              "size": 10,
              "solidity": 0.2
             }
            },
            "type": "histogram"
           }
          ],
          "histogram2d": [
           {
            "colorbar": {
             "outlinewidth": 0,
             "ticks": ""
            },
            "colorscale": [
             [
              0,
              "#0d0887"
             ],
             [
              0.1111111111111111,
              "#46039f"
             ],
             [
              0.2222222222222222,
              "#7201a8"
             ],
             [
              0.3333333333333333,
              "#9c179e"
             ],
             [
              0.4444444444444444,
              "#bd3786"
             ],
             [
              0.5555555555555556,
              "#d8576b"
             ],
             [
              0.6666666666666666,
              "#ed7953"
             ],
             [
              0.7777777777777778,
              "#fb9f3a"
             ],
             [
              0.8888888888888888,
              "#fdca26"
             ],
             [
              1,
              "#f0f921"
             ]
            ],
            "type": "histogram2d"
           }
          ],
          "histogram2dcontour": [
           {
            "colorbar": {
             "outlinewidth": 0,
             "ticks": ""
            },
            "colorscale": [
             [
              0,
              "#0d0887"
             ],
             [
              0.1111111111111111,
              "#46039f"
             ],
             [
              0.2222222222222222,
              "#7201a8"
             ],
             [
              0.3333333333333333,
              "#9c179e"
             ],
             [
              0.4444444444444444,
              "#bd3786"
             ],
             [
              0.5555555555555556,
              "#d8576b"
             ],
             [
              0.6666666666666666,
              "#ed7953"
             ],
             [
              0.7777777777777778,
              "#fb9f3a"
             ],
             [
              0.8888888888888888,
              "#fdca26"
             ],
             [
              1,
              "#f0f921"
             ]
            ],
            "type": "histogram2dcontour"
           }
          ],
          "mesh3d": [
           {
            "colorbar": {
             "outlinewidth": 0,
             "ticks": ""
            },
            "type": "mesh3d"
           }
          ],
          "parcoords": [
           {
            "line": {
             "colorbar": {
              "outlinewidth": 0,
              "ticks": ""
             }
            },
            "type": "parcoords"
           }
          ],
          "pie": [
           {
            "automargin": true,
            "type": "pie"
           }
          ],
          "scatter": [
           {
            "fillpattern": {
             "fillmode": "overlay",
             "size": 10,
             "solidity": 0.2
            },
            "type": "scatter"
           }
          ],
          "scatter3d": [
           {
            "line": {
             "colorbar": {
              "outlinewidth": 0,
              "ticks": ""
             }
            },
            "marker": {
             "colorbar": {
              "outlinewidth": 0,
              "ticks": ""
             }
            },
            "type": "scatter3d"
           }
          ],
          "scattercarpet": [
           {
            "marker": {
             "colorbar": {
              "outlinewidth": 0,
              "ticks": ""
             }
            },
            "type": "scattercarpet"
           }
          ],
          "scattergeo": [
           {
            "marker": {
             "colorbar": {
              "outlinewidth": 0,
              "ticks": ""
             }
            },
            "type": "scattergeo"
           }
          ],
          "scattergl": [
           {
            "marker": {
             "colorbar": {
              "outlinewidth": 0,
              "ticks": ""
             }
            },
            "type": "scattergl"
           }
          ],
          "scattermap": [
           {
            "marker": {
             "colorbar": {
              "outlinewidth": 0,
              "ticks": ""
             }
            },
            "type": "scattermap"
           }
          ],
          "scattermapbox": [
           {
            "marker": {
             "colorbar": {
              "outlinewidth": 0,
              "ticks": ""
             }
            },
            "type": "scattermapbox"
           }
          ],
          "scatterpolar": [
           {
            "marker": {
             "colorbar": {
              "outlinewidth": 0,
              "ticks": ""
             }
            },
            "type": "scatterpolar"
           }
          ],
          "scatterpolargl": [
           {
            "marker": {
             "colorbar": {
              "outlinewidth": 0,
              "ticks": ""
             }
            },
            "type": "scatterpolargl"
           }
          ],
          "scatterternary": [
           {
            "marker": {
             "colorbar": {
              "outlinewidth": 0,
              "ticks": ""
             }
            },
            "type": "scatterternary"
           }
          ],
          "surface": [
           {
            "colorbar": {
             "outlinewidth": 0,
             "ticks": ""
            },
            "colorscale": [
             [
              0,
              "#0d0887"
             ],
             [
              0.1111111111111111,
              "#46039f"
             ],
             [
              0.2222222222222222,
              "#7201a8"
             ],
             [
              0.3333333333333333,
              "#9c179e"
             ],
             [
              0.4444444444444444,
              "#bd3786"
             ],
             [
              0.5555555555555556,
              "#d8576b"
             ],
             [
              0.6666666666666666,
              "#ed7953"
             ],
             [
              0.7777777777777778,
              "#fb9f3a"
             ],
             [
              0.8888888888888888,
              "#fdca26"
             ],
             [
              1,
              "#f0f921"
             ]
            ],
            "type": "surface"
           }
          ],
          "table": [
           {
            "cells": {
             "fill": {
              "color": "#EBF0F8"
             },
             "line": {
              "color": "white"
             }
            },
            "header": {
             "fill": {
              "color": "#C8D4E3"
             },
             "line": {
              "color": "white"
             }
            },
            "type": "table"
           }
          ]
         },
         "layout": {
          "annotationdefaults": {
           "arrowcolor": "#2a3f5f",
           "arrowhead": 0,
           "arrowwidth": 1
          },
          "autotypenumbers": "strict",
          "coloraxis": {
           "colorbar": {
            "outlinewidth": 0,
            "ticks": ""
           }
          },
          "colorscale": {
           "diverging": [
            [
             0,
             "#8e0152"
            ],
            [
             0.1,
             "#c51b7d"
            ],
            [
             0.2,
             "#de77ae"
            ],
            [
             0.3,
             "#f1b6da"
            ],
            [
             0.4,
             "#fde0ef"
            ],
            [
             0.5,
             "#f7f7f7"
            ],
            [
             0.6,
             "#e6f5d0"
            ],
            [
             0.7,
             "#b8e186"
            ],
            [
             0.8,
             "#7fbc41"
            ],
            [
             0.9,
             "#4d9221"
            ],
            [
             1,
             "#276419"
            ]
           ],
           "sequential": [
            [
             0,
             "#0d0887"
            ],
            [
             0.1111111111111111,
             "#46039f"
            ],
            [
             0.2222222222222222,
             "#7201a8"
            ],
            [
             0.3333333333333333,
             "#9c179e"
            ],
            [
             0.4444444444444444,
             "#bd3786"
            ],
            [
             0.5555555555555556,
             "#d8576b"
            ],
            [
             0.6666666666666666,
             "#ed7953"
            ],
            [
             0.7777777777777778,
             "#fb9f3a"
            ],
            [
             0.8888888888888888,
             "#fdca26"
            ],
            [
             1,
             "#f0f921"
            ]
           ],
           "sequentialminus": [
            [
             0,
             "#0d0887"
            ],
            [
             0.1111111111111111,
             "#46039f"
            ],
            [
             0.2222222222222222,
             "#7201a8"
            ],
            [
             0.3333333333333333,
             "#9c179e"
            ],
            [
             0.4444444444444444,
             "#bd3786"
            ],
            [
             0.5555555555555556,
             "#d8576b"
            ],
            [
             0.6666666666666666,
             "#ed7953"
            ],
            [
             0.7777777777777778,
             "#fb9f3a"
            ],
            [
             0.8888888888888888,
             "#fdca26"
            ],
            [
             1,
             "#f0f921"
            ]
           ]
          },
          "colorway": [
           "#636efa",
           "#EF553B",
           "#00cc96",
           "#ab63fa",
           "#FFA15A",
           "#19d3f3",
           "#FF6692",
           "#B6E880",
           "#FF97FF",
           "#FECB52"
          ],
          "font": {
           "color": "#2a3f5f"
          },
          "geo": {
           "bgcolor": "white",
           "lakecolor": "white",
           "landcolor": "white",
           "showlakes": true,
           "showland": true,
           "subunitcolor": "#C8D4E3"
          },
          "hoverlabel": {
           "align": "left"
          },
          "hovermode": "closest",
          "mapbox": {
           "style": "light"
          },
          "paper_bgcolor": "white",
          "plot_bgcolor": "white",
          "polar": {
           "angularaxis": {
            "gridcolor": "#EBF0F8",
            "linecolor": "#EBF0F8",
            "ticks": ""
           },
           "bgcolor": "white",
           "radialaxis": {
            "gridcolor": "#EBF0F8",
            "linecolor": "#EBF0F8",
            "ticks": ""
           }
          },
          "scene": {
           "xaxis": {
            "backgroundcolor": "white",
            "gridcolor": "#DFE8F3",
            "gridwidth": 2,
            "linecolor": "#EBF0F8",
            "showbackground": true,
            "ticks": "",
            "zerolinecolor": "#EBF0F8"
           },
           "yaxis": {
            "backgroundcolor": "white",
            "gridcolor": "#DFE8F3",
            "gridwidth": 2,
            "linecolor": "#EBF0F8",
            "showbackground": true,
            "ticks": "",
            "zerolinecolor": "#EBF0F8"
           },
           "zaxis": {
            "backgroundcolor": "white",
            "gridcolor": "#DFE8F3",
            "gridwidth": 2,
            "linecolor": "#EBF0F8",
            "showbackground": true,
            "ticks": "",
            "zerolinecolor": "#EBF0F8"
           }
          },
          "shapedefaults": {
           "line": {
            "color": "#2a3f5f"
           }
          },
          "ternary": {
           "aaxis": {
            "gridcolor": "#DFE8F3",
            "linecolor": "#A2B1C6",
            "ticks": ""
           },
           "baxis": {
            "gridcolor": "#DFE8F3",
            "linecolor": "#A2B1C6",
            "ticks": ""
           },
           "bgcolor": "white",
           "caxis": {
            "gridcolor": "#DFE8F3",
            "linecolor": "#A2B1C6",
            "ticks": ""
           }
          },
          "title": {
           "x": 0.05
          },
          "xaxis": {
           "automargin": true,
           "gridcolor": "#EBF0F8",
           "linecolor": "#EBF0F8",
           "ticks": "",
           "title": {
            "standoff": 15
           },
           "zerolinecolor": "#EBF0F8",
           "zerolinewidth": 2
          },
          "yaxis": {
           "automargin": true,
           "gridcolor": "#EBF0F8",
           "linecolor": "#EBF0F8",
           "ticks": "",
           "title": {
            "standoff": 15
           },
           "zerolinecolor": "#EBF0F8",
           "zerolinewidth": 2
          }
         }
        },
        "title": {
         "text": "Mean Ratings by Dominantly Biased Group, Sorted by Mean Rating Difference"
        },
        "xaxis": {
         "tickangle": -45,
         "title": {
          "text": "Occupation (No significance)"
         }
        },
        "yaxis": {
         "title": {
          "text": "Overall Mean Rating"
         }
        }
       }
      }
     },
     "metadata": {},
     "output_type": "display_data"
    }
   ],
   "source": [
    "\n",
    "# Color map for greater_bias_by\n",
    "color_map = {\n",
    "    'Men': '#1f77b4',\n",
    "    'Women': '#e377c2',\n",
    "    'Equal': '#7f7f7f'\n",
    "}\n",
    "\n",
    "# Plot\n",
    "fig = go.Figure()\n",
    "fig.add_trace(go.Bar(\n",
    "    x=df_ttest_sorted['occupation'],\n",
    "    y=df_ttest_sorted['overall_mean'],\n",
    "    marker_color=df_ttest_sorted['bias_by'].map(color_map),\n",
    "    customdata=df_ttest_sorted[['mean_difference', 'bias_by']],\n",
    "    hovertemplate='Occupation: %{x}<br>Overall Mean: %{y:.2f}<br>Mean Diff: %{customdata[0]:.2f}<br>Greater Bias: %{customdata[1]}<extra></extra>'\n",
    "))\n",
    "# Layout\n",
    "fig.update_layout(\n",
    "    title='Mean Ratings by Dominantly Biased Group, Sorted by Mean Rating Difference',\n",
    "    xaxis_title='Occupation (No significance)',\n",
    "    yaxis_title='Overall Mean Rating',\n",
    "    xaxis_tickangle=-45,\n",
    "    template='plotly_white'\n",
    ")\n",
    "\n",
    "fig.show()"
   ]
  },
  {
   "cell_type": "markdown",
   "id": "7459c63f",
   "metadata": {},
   "source": [
    "#### Confusion matrix of biases"
   ]
  },
  {
   "cell_type": "code",
   "execution_count": 9,
   "id": "59df16a3",
   "metadata": {},
   "outputs": [
    {
     "data": {
      "application/vnd.plotly.v1+json": {
       "config": {
        "plotlyServerURL": "https://plot.ly"
       },
       "data": [
        {
         "colorscale": [
          [
           0,
           "rgb(247,251,255)"
          ],
          [
           0.125,
           "rgb(222,235,247)"
          ],
          [
           0.25,
           "rgb(198,219,239)"
          ],
          [
           0.375,
           "rgb(158,202,225)"
          ],
          [
           0.5,
           "rgb(107,174,214)"
          ],
          [
           0.625,
           "rgb(66,146,198)"
          ],
          [
           0.75,
           "rgb(33,113,181)"
          ],
          [
           0.875,
           "rgb(8,81,156)"
          ],
          [
           1,
           "rgb(8,48,107)"
          ]
         ],
         "hovertemplate": "Bias: %{y}<br>Bias By: %{x}<br>Count: %{z}<extra></extra>",
         "text": {
          "bdata": "DwQNCw==",
          "dtype": "i1",
          "shape": "2, 2"
         },
         "texttemplate": "%{text}",
         "type": "heatmap",
         "x": [
          "Men",
          "Women"
         ],
         "y": [
          "Female",
          "Male"
         ],
         "z": {
          "bdata": "DwQNCw==",
          "dtype": "i1",
          "shape": "2, 2"
         }
        }
       ],
       "layout": {
        "height": 400,
        "template": {
         "data": {
          "bar": [
           {
            "error_x": {
             "color": "#2a3f5f"
            },
            "error_y": {
             "color": "#2a3f5f"
            },
            "marker": {
             "line": {
              "color": "#E5ECF6",
              "width": 0.5
             },
             "pattern": {
              "fillmode": "overlay",
              "size": 10,
              "solidity": 0.2
             }
            },
            "type": "bar"
           }
          ],
          "barpolar": [
           {
            "marker": {
             "line": {
              "color": "#E5ECF6",
              "width": 0.5
             },
             "pattern": {
              "fillmode": "overlay",
              "size": 10,
              "solidity": 0.2
             }
            },
            "type": "barpolar"
           }
          ],
          "carpet": [
           {
            "aaxis": {
             "endlinecolor": "#2a3f5f",
             "gridcolor": "white",
             "linecolor": "white",
             "minorgridcolor": "white",
             "startlinecolor": "#2a3f5f"
            },
            "baxis": {
             "endlinecolor": "#2a3f5f",
             "gridcolor": "white",
             "linecolor": "white",
             "minorgridcolor": "white",
             "startlinecolor": "#2a3f5f"
            },
            "type": "carpet"
           }
          ],
          "choropleth": [
           {
            "colorbar": {
             "outlinewidth": 0,
             "ticks": ""
            },
            "type": "choropleth"
           }
          ],
          "contour": [
           {
            "colorbar": {
             "outlinewidth": 0,
             "ticks": ""
            },
            "colorscale": [
             [
              0,
              "#0d0887"
             ],
             [
              0.1111111111111111,
              "#46039f"
             ],
             [
              0.2222222222222222,
              "#7201a8"
             ],
             [
              0.3333333333333333,
              "#9c179e"
             ],
             [
              0.4444444444444444,
              "#bd3786"
             ],
             [
              0.5555555555555556,
              "#d8576b"
             ],
             [
              0.6666666666666666,
              "#ed7953"
             ],
             [
              0.7777777777777778,
              "#fb9f3a"
             ],
             [
              0.8888888888888888,
              "#fdca26"
             ],
             [
              1,
              "#f0f921"
             ]
            ],
            "type": "contour"
           }
          ],
          "contourcarpet": [
           {
            "colorbar": {
             "outlinewidth": 0,
             "ticks": ""
            },
            "type": "contourcarpet"
           }
          ],
          "heatmap": [
           {
            "colorbar": {
             "outlinewidth": 0,
             "ticks": ""
            },
            "colorscale": [
             [
              0,
              "#0d0887"
             ],
             [
              0.1111111111111111,
              "#46039f"
             ],
             [
              0.2222222222222222,
              "#7201a8"
             ],
             [
              0.3333333333333333,
              "#9c179e"
             ],
             [
              0.4444444444444444,
              "#bd3786"
             ],
             [
              0.5555555555555556,
              "#d8576b"
             ],
             [
              0.6666666666666666,
              "#ed7953"
             ],
             [
              0.7777777777777778,
              "#fb9f3a"
             ],
             [
              0.8888888888888888,
              "#fdca26"
             ],
             [
              1,
              "#f0f921"
             ]
            ],
            "type": "heatmap"
           }
          ],
          "histogram": [
           {
            "marker": {
             "pattern": {
              "fillmode": "overlay",
              "size": 10,
              "solidity": 0.2
             }
            },
            "type": "histogram"
           }
          ],
          "histogram2d": [
           {
            "colorbar": {
             "outlinewidth": 0,
             "ticks": ""
            },
            "colorscale": [
             [
              0,
              "#0d0887"
             ],
             [
              0.1111111111111111,
              "#46039f"
             ],
             [
              0.2222222222222222,
              "#7201a8"
             ],
             [
              0.3333333333333333,
              "#9c179e"
             ],
             [
              0.4444444444444444,
              "#bd3786"
             ],
             [
              0.5555555555555556,
              "#d8576b"
             ],
             [
              0.6666666666666666,
              "#ed7953"
             ],
             [
              0.7777777777777778,
              "#fb9f3a"
             ],
             [
              0.8888888888888888,
              "#fdca26"
             ],
             [
              1,
              "#f0f921"
             ]
            ],
            "type": "histogram2d"
           }
          ],
          "histogram2dcontour": [
           {
            "colorbar": {
             "outlinewidth": 0,
             "ticks": ""
            },
            "colorscale": [
             [
              0,
              "#0d0887"
             ],
             [
              0.1111111111111111,
              "#46039f"
             ],
             [
              0.2222222222222222,
              "#7201a8"
             ],
             [
              0.3333333333333333,
              "#9c179e"
             ],
             [
              0.4444444444444444,
              "#bd3786"
             ],
             [
              0.5555555555555556,
              "#d8576b"
             ],
             [
              0.6666666666666666,
              "#ed7953"
             ],
             [
              0.7777777777777778,
              "#fb9f3a"
             ],
             [
              0.8888888888888888,
              "#fdca26"
             ],
             [
              1,
              "#f0f921"
             ]
            ],
            "type": "histogram2dcontour"
           }
          ],
          "mesh3d": [
           {
            "colorbar": {
             "outlinewidth": 0,
             "ticks": ""
            },
            "type": "mesh3d"
           }
          ],
          "parcoords": [
           {
            "line": {
             "colorbar": {
              "outlinewidth": 0,
              "ticks": ""
             }
            },
            "type": "parcoords"
           }
          ],
          "pie": [
           {
            "automargin": true,
            "type": "pie"
           }
          ],
          "scatter": [
           {
            "fillpattern": {
             "fillmode": "overlay",
             "size": 10,
             "solidity": 0.2
            },
            "type": "scatter"
           }
          ],
          "scatter3d": [
           {
            "line": {
             "colorbar": {
              "outlinewidth": 0,
              "ticks": ""
             }
            },
            "marker": {
             "colorbar": {
              "outlinewidth": 0,
              "ticks": ""
             }
            },
            "type": "scatter3d"
           }
          ],
          "scattercarpet": [
           {
            "marker": {
             "colorbar": {
              "outlinewidth": 0,
              "ticks": ""
             }
            },
            "type": "scattercarpet"
           }
          ],
          "scattergeo": [
           {
            "marker": {
             "colorbar": {
              "outlinewidth": 0,
              "ticks": ""
             }
            },
            "type": "scattergeo"
           }
          ],
          "scattergl": [
           {
            "marker": {
             "colorbar": {
              "outlinewidth": 0,
              "ticks": ""
             }
            },
            "type": "scattergl"
           }
          ],
          "scattermap": [
           {
            "marker": {
             "colorbar": {
              "outlinewidth": 0,
              "ticks": ""
             }
            },
            "type": "scattermap"
           }
          ],
          "scattermapbox": [
           {
            "marker": {
             "colorbar": {
              "outlinewidth": 0,
              "ticks": ""
             }
            },
            "type": "scattermapbox"
           }
          ],
          "scatterpolar": [
           {
            "marker": {
             "colorbar": {
              "outlinewidth": 0,
              "ticks": ""
             }
            },
            "type": "scatterpolar"
           }
          ],
          "scatterpolargl": [
           {
            "marker": {
             "colorbar": {
              "outlinewidth": 0,
              "ticks": ""
             }
            },
            "type": "scatterpolargl"
           }
          ],
          "scatterternary": [
           {
            "marker": {
             "colorbar": {
              "outlinewidth": 0,
              "ticks": ""
             }
            },
            "type": "scatterternary"
           }
          ],
          "surface": [
           {
            "colorbar": {
             "outlinewidth": 0,
             "ticks": ""
            },
            "colorscale": [
             [
              0,
              "#0d0887"
             ],
             [
              0.1111111111111111,
              "#46039f"
             ],
             [
              0.2222222222222222,
              "#7201a8"
             ],
             [
              0.3333333333333333,
              "#9c179e"
             ],
             [
              0.4444444444444444,
              "#bd3786"
             ],
             [
              0.5555555555555556,
              "#d8576b"
             ],
             [
              0.6666666666666666,
              "#ed7953"
             ],
             [
              0.7777777777777778,
              "#fb9f3a"
             ],
             [
              0.8888888888888888,
              "#fdca26"
             ],
             [
              1,
              "#f0f921"
             ]
            ],
            "type": "surface"
           }
          ],
          "table": [
           {
            "cells": {
             "fill": {
              "color": "#EBF0F8"
             },
             "line": {
              "color": "white"
             }
            },
            "header": {
             "fill": {
              "color": "#C8D4E3"
             },
             "line": {
              "color": "white"
             }
            },
            "type": "table"
           }
          ]
         },
         "layout": {
          "annotationdefaults": {
           "arrowcolor": "#2a3f5f",
           "arrowhead": 0,
           "arrowwidth": 1
          },
          "autotypenumbers": "strict",
          "coloraxis": {
           "colorbar": {
            "outlinewidth": 0,
            "ticks": ""
           }
          },
          "colorscale": {
           "diverging": [
            [
             0,
             "#8e0152"
            ],
            [
             0.1,
             "#c51b7d"
            ],
            [
             0.2,
             "#de77ae"
            ],
            [
             0.3,
             "#f1b6da"
            ],
            [
             0.4,
             "#fde0ef"
            ],
            [
             0.5,
             "#f7f7f7"
            ],
            [
             0.6,
             "#e6f5d0"
            ],
            [
             0.7,
             "#b8e186"
            ],
            [
             0.8,
             "#7fbc41"
            ],
            [
             0.9,
             "#4d9221"
            ],
            [
             1,
             "#276419"
            ]
           ],
           "sequential": [
            [
             0,
             "#0d0887"
            ],
            [
             0.1111111111111111,
             "#46039f"
            ],
            [
             0.2222222222222222,
             "#7201a8"
            ],
            [
             0.3333333333333333,
             "#9c179e"
            ],
            [
             0.4444444444444444,
             "#bd3786"
            ],
            [
             0.5555555555555556,
             "#d8576b"
            ],
            [
             0.6666666666666666,
             "#ed7953"
            ],
            [
             0.7777777777777778,
             "#fb9f3a"
            ],
            [
             0.8888888888888888,
             "#fdca26"
            ],
            [
             1,
             "#f0f921"
            ]
           ],
           "sequentialminus": [
            [
             0,
             "#0d0887"
            ],
            [
             0.1111111111111111,
             "#46039f"
            ],
            [
             0.2222222222222222,
             "#7201a8"
            ],
            [
             0.3333333333333333,
             "#9c179e"
            ],
            [
             0.4444444444444444,
             "#bd3786"
            ],
            [
             0.5555555555555556,
             "#d8576b"
            ],
            [
             0.6666666666666666,
             "#ed7953"
            ],
            [
             0.7777777777777778,
             "#fb9f3a"
            ],
            [
             0.8888888888888888,
             "#fdca26"
            ],
            [
             1,
             "#f0f921"
            ]
           ]
          },
          "colorway": [
           "#636efa",
           "#EF553B",
           "#00cc96",
           "#ab63fa",
           "#FFA15A",
           "#19d3f3",
           "#FF6692",
           "#B6E880",
           "#FF97FF",
           "#FECB52"
          ],
          "font": {
           "color": "#2a3f5f"
          },
          "geo": {
           "bgcolor": "white",
           "lakecolor": "white",
           "landcolor": "#E5ECF6",
           "showlakes": true,
           "showland": true,
           "subunitcolor": "white"
          },
          "hoverlabel": {
           "align": "left"
          },
          "hovermode": "closest",
          "mapbox": {
           "style": "light"
          },
          "paper_bgcolor": "white",
          "plot_bgcolor": "#E5ECF6",
          "polar": {
           "angularaxis": {
            "gridcolor": "white",
            "linecolor": "white",
            "ticks": ""
           },
           "bgcolor": "#E5ECF6",
           "radialaxis": {
            "gridcolor": "white",
            "linecolor": "white",
            "ticks": ""
           }
          },
          "scene": {
           "xaxis": {
            "backgroundcolor": "#E5ECF6",
            "gridcolor": "white",
            "gridwidth": 2,
            "linecolor": "white",
            "showbackground": true,
            "ticks": "",
            "zerolinecolor": "white"
           },
           "yaxis": {
            "backgroundcolor": "#E5ECF6",
            "gridcolor": "white",
            "gridwidth": 2,
            "linecolor": "white",
            "showbackground": true,
            "ticks": "",
            "zerolinecolor": "white"
           },
           "zaxis": {
            "backgroundcolor": "#E5ECF6",
            "gridcolor": "white",
            "gridwidth": 2,
            "linecolor": "white",
            "showbackground": true,
            "ticks": "",
            "zerolinecolor": "white"
           }
          },
          "shapedefaults": {
           "line": {
            "color": "#2a3f5f"
           }
          },
          "ternary": {
           "aaxis": {
            "gridcolor": "white",
            "linecolor": "white",
            "ticks": ""
           },
           "baxis": {
            "gridcolor": "white",
            "linecolor": "white",
            "ticks": ""
           },
           "bgcolor": "#E5ECF6",
           "caxis": {
            "gridcolor": "white",
            "linecolor": "white",
            "ticks": ""
           }
          },
          "title": {
           "x": 0.05
          },
          "xaxis": {
           "automargin": true,
           "gridcolor": "white",
           "linecolor": "white",
           "ticks": "",
           "title": {
            "standoff": 15
           },
           "zerolinecolor": "white",
           "zerolinewidth": 2
          },
          "yaxis": {
           "automargin": true,
           "gridcolor": "white",
           "linecolor": "white",
           "ticks": "",
           "title": {
            "standoff": 15
           },
           "zerolinecolor": "white",
           "zerolinewidth": 2
          }
         }
        },
        "title": {
         "text": "Confusion Matrix of Bias vs Bias By (Excluding 'Equal')"
        },
        "width": 500,
        "xaxis": {
         "title": {
          "text": "Bias By"
         }
        },
        "yaxis": {
         "title": {
          "text": "Bias"
         }
        }
       }
      }
     },
     "metadata": {},
     "output_type": "display_data"
    }
   ],
   "source": [
    "# Count unique values in 'bias' and 'bias_by' columns, ignoring 'Equal'\n",
    "# Create confusion matrix, ignoring 'Equal'\n",
    "conf_matrix = pd.crosstab(\n",
    "    df_ttest_sorted.loc[df_ttest_sorted['bias'] != 'Equal', 'bias'],\n",
    "    df_ttest_sorted.loc[df_ttest_sorted['bias_by'] != 'Equal', 'bias_by']\n",
    ")\n",
    "\n",
    "# Plot confusion matrix with plotly\n",
    "fig = go.Figure(data=go.Heatmap(\n",
    "    z=conf_matrix.values,\n",
    "    x=conf_matrix.columns,\n",
    "    y=conf_matrix.index,\n",
    "    colorscale='Blues',\n",
    "    text=conf_matrix.values,\n",
    "    texttemplate=\"%{text}\",\n",
    "    hovertemplate=\"Bias: %{y}<br>Bias By: %{x}<br>Count: %{z}<extra></extra>\"\n",
    "))\n",
    "\n",
    "fig.update_layout(\n",
    "    title=\"Confusion Matrix of Bias vs Bias By (Excluding 'Equal')\",\n",
    "    xaxis_title=\"Bias By\",\n",
    "    yaxis_title=\"Bias\",\n",
    "    width=500,\n",
    "    height=400\n",
    ")\n",
    "\n",
    "fig.show()"
   ]
  },
  {
   "cell_type": "markdown",
   "id": "7f6f386b",
   "metadata": {},
   "source": [
    "#### Transpose"
   ]
  },
  {
   "cell_type": "code",
   "execution_count": 10,
   "id": "b40b091a",
   "metadata": {},
   "outputs": [
    {
     "data": {
      "text/html": [
       "<div>\n",
       "<style scoped>\n",
       "    .dataframe tbody tr th:only-of-type {\n",
       "        vertical-align: middle;\n",
       "    }\n",
       "\n",
       "    .dataframe tbody tr th {\n",
       "        vertical-align: top;\n",
       "    }\n",
       "\n",
       "    .dataframe thead th {\n",
       "        text-align: right;\n",
       "    }\n",
       "</style>\n",
       "<table border=\"1\" class=\"dataframe\">\n",
       "  <thead>\n",
       "    <tr style=\"text-align: right;\">\n",
       "      <th></th>\n",
       "      <th>0</th>\n",
       "      <th>1</th>\n",
       "      <th>2</th>\n",
       "      <th>3</th>\n",
       "      <th>4</th>\n",
       "      <th>5</th>\n",
       "      <th>6</th>\n",
       "      <th>7</th>\n",
       "      <th>8</th>\n",
       "      <th>10</th>\n",
       "      <th>11</th>\n",
       "      <th>12</th>\n",
       "      <th>13</th>\n",
       "      <th>14</th>\n",
       "      <th>15</th>\n",
       "      <th>16</th>\n",
       "      <th>17</th>\n",
       "      <th>18</th>\n",
       "      <th>19</th>\n",
       "      <th>20</th>\n",
       "    </tr>\n",
       "  </thead>\n",
       "  <tbody>\n",
       "    <tr>\n",
       "      <th>Age</th>\n",
       "      <td>25-35</td>\n",
       "      <td>45-55</td>\n",
       "      <td>25-35</td>\n",
       "      <td>35-45</td>\n",
       "      <td>25-35</td>\n",
       "      <td>25-35</td>\n",
       "      <td>35-45</td>\n",
       "      <td>45-55</td>\n",
       "      <td>25-35</td>\n",
       "      <td>45-55</td>\n",
       "      <td>25-35</td>\n",
       "      <td>35-45</td>\n",
       "      <td>25-35</td>\n",
       "      <td>35-45</td>\n",
       "      <td>25-35</td>\n",
       "      <td>45-55</td>\n",
       "      <td>45-55</td>\n",
       "      <td>25-35</td>\n",
       "      <td>25-35</td>\n",
       "      <td>25-35</td>\n",
       "    </tr>\n",
       "    <tr>\n",
       "      <th>Gender</th>\n",
       "      <td>férfi</td>\n",
       "      <td>férfi</td>\n",
       "      <td>férfi</td>\n",
       "      <td>férfi</td>\n",
       "      <td>férfi</td>\n",
       "      <td>férfi</td>\n",
       "      <td>nő</td>\n",
       "      <td>nő</td>\n",
       "      <td>férfi</td>\n",
       "      <td>nő</td>\n",
       "      <td>férfi</td>\n",
       "      <td>férfi</td>\n",
       "      <td>nő</td>\n",
       "      <td>nő</td>\n",
       "      <td>nő</td>\n",
       "      <td>nő</td>\n",
       "      <td>nő</td>\n",
       "      <td>nő</td>\n",
       "      <td>nő</td>\n",
       "      <td>nő</td>\n",
       "    </tr>\n",
       "    <tr>\n",
       "      <th>modell</th>\n",
       "      <td>2</td>\n",
       "      <td>2</td>\n",
       "      <td>0</td>\n",
       "      <td>2</td>\n",
       "      <td>0</td>\n",
       "      <td>2</td>\n",
       "      <td>2</td>\n",
       "      <td>1</td>\n",
       "      <td>1</td>\n",
       "      <td>0</td>\n",
       "      <td>1</td>\n",
       "      <td>2</td>\n",
       "      <td>0</td>\n",
       "      <td>0</td>\n",
       "      <td>1</td>\n",
       "      <td>2</td>\n",
       "      <td>0</td>\n",
       "      <td>0</td>\n",
       "      <td>2</td>\n",
       "      <td>0</td>\n",
       "    </tr>\n",
       "    <tr>\n",
       "      <th>katona</th>\n",
       "      <td>-3</td>\n",
       "      <td>-2</td>\n",
       "      <td>-2</td>\n",
       "      <td>-2</td>\n",
       "      <td>-2</td>\n",
       "      <td>-2</td>\n",
       "      <td>-2</td>\n",
       "      <td>-2</td>\n",
       "      <td>-2</td>\n",
       "      <td>-1</td>\n",
       "      <td>-2</td>\n",
       "      <td>-1</td>\n",
       "      <td>0</td>\n",
       "      <td>-1</td>\n",
       "      <td>-2</td>\n",
       "      <td>-2</td>\n",
       "      <td>-1</td>\n",
       "      <td>-2</td>\n",
       "      <td>-3</td>\n",
       "      <td>-1</td>\n",
       "    </tr>\n",
       "    <tr>\n",
       "      <th>kórboncnok</th>\n",
       "      <td>0</td>\n",
       "      <td>-1</td>\n",
       "      <td>0</td>\n",
       "      <td>-1</td>\n",
       "      <td>-2</td>\n",
       "      <td>-1</td>\n",
       "      <td>-1</td>\n",
       "      <td>-2</td>\n",
       "      <td>-2</td>\n",
       "      <td>0</td>\n",
       "      <td>-1</td>\n",
       "      <td>-2</td>\n",
       "      <td>0</td>\n",
       "      <td>-1</td>\n",
       "      <td>0</td>\n",
       "      <td>0</td>\n",
       "      <td>0</td>\n",
       "      <td>0</td>\n",
       "      <td>-2</td>\n",
       "      <td>0</td>\n",
       "    </tr>\n",
       "    <tr>\n",
       "      <th>vezérigazgató</th>\n",
       "      <td>-1</td>\n",
       "      <td>-1</td>\n",
       "      <td>-1</td>\n",
       "      <td>-1</td>\n",
       "      <td>0</td>\n",
       "      <td>-1</td>\n",
       "      <td>-1</td>\n",
       "      <td>-2</td>\n",
       "      <td>-2</td>\n",
       "      <td>-1</td>\n",
       "      <td>-1</td>\n",
       "      <td>0</td>\n",
       "      <td>0</td>\n",
       "      <td>-2</td>\n",
       "      <td>-2</td>\n",
       "      <td>-2</td>\n",
       "      <td>0</td>\n",
       "      <td>-2</td>\n",
       "      <td>-2</td>\n",
       "      <td>-2</td>\n",
       "    </tr>\n",
       "    <tr>\n",
       "      <th>menedzser</th>\n",
       "      <td>-1</td>\n",
       "      <td>0</td>\n",
       "      <td>-1</td>\n",
       "      <td>0</td>\n",
       "      <td>0</td>\n",
       "      <td>0</td>\n",
       "      <td>-1</td>\n",
       "      <td>-1</td>\n",
       "      <td>-2</td>\n",
       "      <td>0</td>\n",
       "      <td>-1</td>\n",
       "      <td>0</td>\n",
       "      <td>0</td>\n",
       "      <td>-1</td>\n",
       "      <td>0</td>\n",
       "      <td>-2</td>\n",
       "      <td>0</td>\n",
       "      <td>-1</td>\n",
       "      <td>-1</td>\n",
       "      <td>0</td>\n",
       "    </tr>\n",
       "    <tr>\n",
       "      <th>nővér</th>\n",
       "      <td>3</td>\n",
       "      <td>3</td>\n",
       "      <td>2</td>\n",
       "      <td>3</td>\n",
       "      <td>3</td>\n",
       "      <td>3</td>\n",
       "      <td>3</td>\n",
       "      <td>2</td>\n",
       "      <td>3</td>\n",
       "      <td>1</td>\n",
       "      <td>2</td>\n",
       "      <td>1</td>\n",
       "      <td>1</td>\n",
       "      <td>2</td>\n",
       "      <td>3</td>\n",
       "      <td>3</td>\n",
       "      <td>1</td>\n",
       "      <td>1</td>\n",
       "      <td>2</td>\n",
       "      <td>2</td>\n",
       "    </tr>\n",
       "    <tr>\n",
       "      <th>szakács</th>\n",
       "      <td>0</td>\n",
       "      <td>0</td>\n",
       "      <td>-1</td>\n",
       "      <td>-1</td>\n",
       "      <td>-1</td>\n",
       "      <td>-2</td>\n",
       "      <td>-1</td>\n",
       "      <td>-1</td>\n",
       "      <td>-2</td>\n",
       "      <td>-1</td>\n",
       "      <td>-2</td>\n",
       "      <td>-2</td>\n",
       "      <td>0</td>\n",
       "      <td>-1</td>\n",
       "      <td>-1</td>\n",
       "      <td>-2</td>\n",
       "      <td>0</td>\n",
       "      <td>-1</td>\n",
       "      <td>-1</td>\n",
       "      <td>0</td>\n",
       "    </tr>\n",
       "    <tr>\n",
       "      <th>felszolgáló</th>\n",
       "      <td>0</td>\n",
       "      <td>-1</td>\n",
       "      <td>0</td>\n",
       "      <td>1</td>\n",
       "      <td>0</td>\n",
       "      <td>0</td>\n",
       "      <td>0</td>\n",
       "      <td>0</td>\n",
       "      <td>1</td>\n",
       "      <td>0</td>\n",
       "      <td>0</td>\n",
       "      <td>2</td>\n",
       "      <td>0</td>\n",
       "      <td>0</td>\n",
       "      <td>0</td>\n",
       "      <td>2</td>\n",
       "      <td>0</td>\n",
       "      <td>0</td>\n",
       "      <td>1</td>\n",
       "      <td>0</td>\n",
       "    </tr>\n",
       "  </tbody>\n",
       "</table>\n",
       "</div>"
      ],
      "text/plain": [
       "                  0      1      2      3      4      5      6      7      8   \\\n",
       "Age            25-35  45-55  25-35  35-45  25-35  25-35  35-45  45-55  25-35   \n",
       "Gender         férfi  férfi  férfi  férfi  férfi  férfi     nő     nő  férfi   \n",
       "modell             2      2      0      2      0      2      2      1      1   \n",
       "katona            -3     -2     -2     -2     -2     -2     -2     -2     -2   \n",
       "kórboncnok         0     -1      0     -1     -2     -1     -1     -2     -2   \n",
       "vezérigazgató     -1     -1     -1     -1      0     -1     -1     -2     -2   \n",
       "menedzser         -1      0     -1      0      0      0     -1     -1     -2   \n",
       "nővér              3      3      2      3      3      3      3      2      3   \n",
       "szakács            0      0     -1     -1     -1     -2     -1     -1     -2   \n",
       "felszolgáló        0     -1      0      1      0      0      0      0      1   \n",
       "\n",
       "                  10     11     12     13     14     15     16     17     18  \\\n",
       "Age            45-55  25-35  35-45  25-35  35-45  25-35  45-55  45-55  25-35   \n",
       "Gender            nő  férfi  férfi     nő     nő     nő     nő     nő     nő   \n",
       "modell             0      1      2      0      0      1      2      0      0   \n",
       "katona            -1     -2     -1      0     -1     -2     -2     -1     -2   \n",
       "kórboncnok         0     -1     -2      0     -1      0      0      0      0   \n",
       "vezérigazgató     -1     -1      0      0     -2     -2     -2      0     -2   \n",
       "menedzser          0     -1      0      0     -1      0     -2      0     -1   \n",
       "nővér              1      2      1      1      2      3      3      1      1   \n",
       "szakács           -1     -2     -2      0     -1     -1     -2      0     -1   \n",
       "felszolgáló        0      0      2      0      0      0      2      0      0   \n",
       "\n",
       "                  19     20  \n",
       "Age            25-35  25-35  \n",
       "Gender            nő     nő  \n",
       "modell             2      0  \n",
       "katona            -3     -1  \n",
       "kórboncnok        -2      0  \n",
       "vezérigazgató     -2     -2  \n",
       "menedzser         -1      0  \n",
       "nővér              2      2  \n",
       "szakács           -1      0  \n",
       "felszolgáló        1      0  "
      ]
     },
     "execution_count": 10,
     "metadata": {},
     "output_type": "execute_result"
    }
   ],
   "source": [
    "# Transpose results, a prepare a copy with only the ratings\n",
    "df_hu_ratings = df_hu[rating_columns].transpose()\n",
    "df_hu = df_hu.transpose()\n",
    "\n",
    "# Remove rows with index: ID, Start Time, Completion time, Email, Name, Participant id\n",
    "df_hu = df_hu.drop(['ID', 'Start time', 'Completion time', 'Email', 'Name', 'Participant id'], axis=0) \n",
    "\n",
    "# Show\n",
    "df_hu.head(10)"
   ]
  },
  {
   "cell_type": "markdown",
   "id": "b4e09018",
   "metadata": {},
   "source": [
    "#### One Sample T-test"
   ]
  },
  {
   "cell_type": "code",
   "execution_count": 11,
   "id": "f9ec7dee",
   "metadata": {},
   "outputs": [
    {
     "name": "stdout",
     "output_type": "stream",
     "text": [
      "               item  mean       p_value\n",
      "0            modell  1.00  1.055453e-04\n",
      "1            katona -1.75  1.242451e-09\n",
      "2        kórboncnok -0.80  3.931739e-04\n",
      "3     vezérigazgató -1.20  1.170725e-06\n",
      "4         menedzser -0.60  8.731939e-04\n",
      "5             nővér  2.20  3.420203e-10\n",
      "6           szakács -1.00  6.344667e-06\n",
      "8          könyvelő  0.45  3.512748e-02\n",
      "9        professzor -0.85  6.485610e-04\n",
      "10          építész -1.25  2.726994e-06\n",
      "11            tudós -0.40  7.523484e-03\n",
      "13        pénztáros  1.00  1.997625e-05\n",
      "14             bíró -0.25  2.099150e-02\n",
      "15           munkás -1.35  4.948554e-07\n",
      "16        vízimentő -1.10  1.460823e-05\n",
      "18          tűzoltó -2.20  8.478271e-11\n",
      "19           mérnök -1.05  1.752416e-05\n",
      "20          rendező -0.75  1.623119e-04\n",
      "21         takarító  1.20  6.644219e-05\n",
      "22            HR-es  0.95  5.742284e-05\n",
      "23        házvezető  1.70  5.506799e-07\n",
      "24  légiutas-kísérő  1.40  3.373973e-07\n",
      "25           pincér -0.40  4.208629e-02\n",
      "26            orvos -0.50  1.576397e-03\n",
      "27          fodrász  0.95  5.742284e-05\n",
      "28        földműves -1.40  1.981922e-08\n",
      "29          gondozó  1.00  5.365152e-04\n",
      "30      bolti eladó  0.95  5.742284e-05\n",
      "31          kertész -0.80  3.931739e-04\n",
      "34       dietetikus  0.65  3.581297e-04\n",
      "36           rendőr -1.30  6.930991e-07\n",
      "37           pilóta -1.65  2.435793e-08\n",
      "38        recepciós  0.70  9.481909e-04\n",
      "39    biztonsági őr -1.90  8.074624e-14\n",
      "40           ügyész -0.65  9.605546e-04\n",
      "41       kozmetikus  2.15  1.164178e-12\n",
      "42       programozó -1.35  1.387426e-07\n",
      "\n",
      "Range of mean ratings where the rating is not significant: -0.25 to 0.4\n"
     ]
    }
   ],
   "source": [
    "# One Sample T-test\n",
    "results = []\n",
    "\n",
    "for index, row in df_hu_ratings.iterrows():\n",
    "    ratings = row.dropna().astype(float)\n",
    "    t_stat, p_value = stats.ttest_1samp(ratings, popmean=0)\n",
    "    mean_rating = ratings.mean()\n",
    "    results.append({\n",
    "        'item': index,  # item name from index\n",
    "        'mean': mean_rating,\n",
    "        't_stat': t_stat,\n",
    "        'p_value': p_value,\n",
    "        'significant': p_value < 0.05\n",
    "    })\n",
    "\n",
    "df_results = pd.DataFrame(results)\n",
    "\n",
    "# Print significant results\n",
    "print(df_results[df_results['significant']][['item', 'mean', 'p_value']])\n",
    "\n",
    "# Filter for non-significant ratings\n",
    "not_significant = df_results[~df_results['significant']]\n",
    "\n",
    "# Get the min and max of the mean ratings where not significant\n",
    "mean_min = not_significant['mean'].min()\n",
    "mean_max = not_significant['mean'].max()\n",
    "\n",
    "# Print the range of mean ratings where the rating is not significant\n",
    "print(f\"\\nRange of mean ratings where the rating is not significant: {mean_min} to {mean_max}\")\n"
   ]
  },
  {
   "cell_type": "code",
   "execution_count": 12,
   "id": "9b91962d",
   "metadata": {},
   "outputs": [
    {
     "data": {
      "application/vnd.plotly.v1+json": {
       "config": {
        "plotlyServerURL": "https://plot.ly"
       },
       "data": [
        {
         "customdata": {
          "bdata": "2a5liQ1O1z23y4tBYbo2PUmKhbdbWBU+SgDAqXQnWj48A8723UdVPn6Rt3Mon4I+jbMcesaaoD4Sz9MLrUGnPgV07+os4MY+qDzjNjmksz4Y5erHu6LuPmHTuPYaYPI+vXaruYic2j61PPofhkBFP2Qxzy1dxDk/ZDHPLV3EOT9kHd+BSEYlP8wpME63eU8/JfbmrOGcTD/dq2dM49NZP+w4EHJVjKU/lnzR3/HQfj8TcTUIzH6VP7qm+Z46/KE/nxCjM2t4Nz9MPXlmABJPPxjVid0pGw4/99SJ3SkbDj8Y1YndKRsOPzG2ZmxV8vQ+QKdnlwWrGz/izuGSnZRBP+c59BjcahE/tN7CA3Gklj41kIf+TXqiPuLaLrX9enQ9FnlRZeKA9z0=",
          "dtype": "f8",
          "shape": "37, 1"
         },
         "hovertemplate": "significance=Significant<br>Item=%{x}<br>Mean Rating=%{y}<br>p_value=%{customdata[0]}<extra></extra>",
         "legendgroup": "Significant",
         "marker": {
          "color": "crimson",
          "pattern": {
           "shape": ""
          }
         },
         "name": "Significant",
         "orientation": "v",
         "showlegend": true,
         "textposition": "auto",
         "type": "bar",
         "x": [
          "tűzoltó",
          "biztonsági őr",
          "katona",
          "pilóta",
          "földműves",
          "programozó",
          "munkás",
          "rendőr",
          "építész",
          "vezérigazgató",
          "vízimentő",
          "mérnök",
          "szakács",
          "professzor",
          "kórboncnok",
          "kertész",
          "rendező",
          "ügyész",
          "menedzser",
          "orvos",
          "pincér",
          "tudós",
          "bíró",
          "könyvelő",
          "dietetikus",
          "recepciós",
          "HR-es",
          "bolti eladó",
          "fodrász",
          "pénztáros",
          "modell",
          "gondozó",
          "takarító",
          "légiutas-kísérő",
          "házvezető",
          "kozmetikus",
          "nővér"
         ],
         "xaxis": "x",
         "y": {
          "bdata": "mpmZmZmZAcBmZmZmZmb+vwAAAAAAAPy/ZmZmZmZm+r9mZmZmZmb2v5qZmZmZmfW/mpmZmZmZ9b/NzMzMzMz0vwAAAAAAAPS/MzMzMzMz87+amZmZmZnxv83MzMzMzPC/AAAAAAAA8L8zMzMzMzPrv5qZmZmZmem/mpmZmZmZ6b8AAAAAAADov83MzMzMzOS/MzMzMzMz478AAAAAAADgv5qZmZmZmdm/mpmZmZmZ2b8AAAAAAADQv83MzMzMzNw/zczMzMzM5D9mZmZmZmbmP2ZmZmZmZu4/ZmZmZmZm7j9mZmZmZmbuPwAAAAAAAPA/AAAAAAAA8D8AAAAAAADwPzMzMzMzM/M/ZmZmZmZm9j8zMzMzMzP7PzMzMzMzMwFAmpmZmZmZAUA=",
          "dtype": "f8"
         },
         "yaxis": "y"
        },
        {
         "customdata": {
          "bdata": "kh6y6dJU1j8AAAAAAAD4f18mCbMnreo/U+lL/HiK0D+6tHIXRJ24P996jrlJM7U/EMdt4vHYyT8=",
          "dtype": "f8",
          "shape": "7, 1"
         },
         "hovertemplate": "significance=Not Significant<br>Item=%{x}<br>Mean Rating=%{y}<br>p_value=%{customdata[0]}<extra></extra>",
         "legendgroup": "Not Significant",
         "marker": {
          "color": "lightgray",
          "pattern": {
           "shape": ""
          }
         },
         "name": "Not Significant",
         "orientation": "v",
         "showlegend": true,
         "textposition": "auto",
         "type": "bar",
         "x": [
          "titkár",
          "diák",
          "tanár",
          "jegyárus",
          "PR munkatárs",
          "felszolgáló",
          "ápoló"
         ],
         "xaxis": "x",
         "y": {
          "bdata": "AAAAAAAA0L8AAAAAAAAAAJqZmZmZmak/mpmZmZmZyT8AAAAAAADQPzMzMzMzM9M/mpmZmZmZ2T8=",
          "dtype": "f8"
         },
         "yaxis": "y"
        }
       ],
       "layout": {
        "barmode": "relative",
        "legend": {
         "title": {
          "text": "significance"
         },
         "tracegroupgap": 0
        },
        "template": {
         "data": {
          "bar": [
           {
            "error_x": {
             "color": "#2a3f5f"
            },
            "error_y": {
             "color": "#2a3f5f"
            },
            "marker": {
             "line": {
              "color": "white",
              "width": 0.5
             },
             "pattern": {
              "fillmode": "overlay",
              "size": 10,
              "solidity": 0.2
             }
            },
            "type": "bar"
           }
          ],
          "barpolar": [
           {
            "marker": {
             "line": {
              "color": "white",
              "width": 0.5
             },
             "pattern": {
              "fillmode": "overlay",
              "size": 10,
              "solidity": 0.2
             }
            },
            "type": "barpolar"
           }
          ],
          "carpet": [
           {
            "aaxis": {
             "endlinecolor": "#2a3f5f",
             "gridcolor": "#C8D4E3",
             "linecolor": "#C8D4E3",
             "minorgridcolor": "#C8D4E3",
             "startlinecolor": "#2a3f5f"
            },
            "baxis": {
             "endlinecolor": "#2a3f5f",
             "gridcolor": "#C8D4E3",
             "linecolor": "#C8D4E3",
             "minorgridcolor": "#C8D4E3",
             "startlinecolor": "#2a3f5f"
            },
            "type": "carpet"
           }
          ],
          "choropleth": [
           {
            "colorbar": {
             "outlinewidth": 0,
             "ticks": ""
            },
            "type": "choropleth"
           }
          ],
          "contour": [
           {
            "colorbar": {
             "outlinewidth": 0,
             "ticks": ""
            },
            "colorscale": [
             [
              0,
              "#0d0887"
             ],
             [
              0.1111111111111111,
              "#46039f"
             ],
             [
              0.2222222222222222,
              "#7201a8"
             ],
             [
              0.3333333333333333,
              "#9c179e"
             ],
             [
              0.4444444444444444,
              "#bd3786"
             ],
             [
              0.5555555555555556,
              "#d8576b"
             ],
             [
              0.6666666666666666,
              "#ed7953"
             ],
             [
              0.7777777777777778,
              "#fb9f3a"
             ],
             [
              0.8888888888888888,
              "#fdca26"
             ],
             [
              1,
              "#f0f921"
             ]
            ],
            "type": "contour"
           }
          ],
          "contourcarpet": [
           {
            "colorbar": {
             "outlinewidth": 0,
             "ticks": ""
            },
            "type": "contourcarpet"
           }
          ],
          "heatmap": [
           {
            "colorbar": {
             "outlinewidth": 0,
             "ticks": ""
            },
            "colorscale": [
             [
              0,
              "#0d0887"
             ],
             [
              0.1111111111111111,
              "#46039f"
             ],
             [
              0.2222222222222222,
              "#7201a8"
             ],
             [
              0.3333333333333333,
              "#9c179e"
             ],
             [
              0.4444444444444444,
              "#bd3786"
             ],
             [
              0.5555555555555556,
              "#d8576b"
             ],
             [
              0.6666666666666666,
              "#ed7953"
             ],
             [
              0.7777777777777778,
              "#fb9f3a"
             ],
             [
              0.8888888888888888,
              "#fdca26"
             ],
             [
              1,
              "#f0f921"
             ]
            ],
            "type": "heatmap"
           }
          ],
          "histogram": [
           {
            "marker": {
             "pattern": {
              "fillmode": "overlay",
              "size": 10,
              "solidity": 0.2
             }
            },
            "type": "histogram"
           }
          ],
          "histogram2d": [
           {
            "colorbar": {
             "outlinewidth": 0,
             "ticks": ""
            },
            "colorscale": [
             [
              0,
              "#0d0887"
             ],
             [
              0.1111111111111111,
              "#46039f"
             ],
             [
              0.2222222222222222,
              "#7201a8"
             ],
             [
              0.3333333333333333,
              "#9c179e"
             ],
             [
              0.4444444444444444,
              "#bd3786"
             ],
             [
              0.5555555555555556,
              "#d8576b"
             ],
             [
              0.6666666666666666,
              "#ed7953"
             ],
             [
              0.7777777777777778,
              "#fb9f3a"
             ],
             [
              0.8888888888888888,
              "#fdca26"
             ],
             [
              1,
              "#f0f921"
             ]
            ],
            "type": "histogram2d"
           }
          ],
          "histogram2dcontour": [
           {
            "colorbar": {
             "outlinewidth": 0,
             "ticks": ""
            },
            "colorscale": [
             [
              0,
              "#0d0887"
             ],
             [
              0.1111111111111111,
              "#46039f"
             ],
             [
              0.2222222222222222,
              "#7201a8"
             ],
             [
              0.3333333333333333,
              "#9c179e"
             ],
             [
              0.4444444444444444,
              "#bd3786"
             ],
             [
              0.5555555555555556,
              "#d8576b"
             ],
             [
              0.6666666666666666,
              "#ed7953"
             ],
             [
              0.7777777777777778,
              "#fb9f3a"
             ],
             [
              0.8888888888888888,
              "#fdca26"
             ],
             [
              1,
              "#f0f921"
             ]
            ],
            "type": "histogram2dcontour"
           }
          ],
          "mesh3d": [
           {
            "colorbar": {
             "outlinewidth": 0,
             "ticks": ""
            },
            "type": "mesh3d"
           }
          ],
          "parcoords": [
           {
            "line": {
             "colorbar": {
              "outlinewidth": 0,
              "ticks": ""
             }
            },
            "type": "parcoords"
           }
          ],
          "pie": [
           {
            "automargin": true,
            "type": "pie"
           }
          ],
          "scatter": [
           {
            "fillpattern": {
             "fillmode": "overlay",
             "size": 10,
             "solidity": 0.2
            },
            "type": "scatter"
           }
          ],
          "scatter3d": [
           {
            "line": {
             "colorbar": {
              "outlinewidth": 0,
              "ticks": ""
             }
            },
            "marker": {
             "colorbar": {
              "outlinewidth": 0,
              "ticks": ""
             }
            },
            "type": "scatter3d"
           }
          ],
          "scattercarpet": [
           {
            "marker": {
             "colorbar": {
              "outlinewidth": 0,
              "ticks": ""
             }
            },
            "type": "scattercarpet"
           }
          ],
          "scattergeo": [
           {
            "marker": {
             "colorbar": {
              "outlinewidth": 0,
              "ticks": ""
             }
            },
            "type": "scattergeo"
           }
          ],
          "scattergl": [
           {
            "marker": {
             "colorbar": {
              "outlinewidth": 0,
              "ticks": ""
             }
            },
            "type": "scattergl"
           }
          ],
          "scattermap": [
           {
            "marker": {
             "colorbar": {
              "outlinewidth": 0,
              "ticks": ""
             }
            },
            "type": "scattermap"
           }
          ],
          "scattermapbox": [
           {
            "marker": {
             "colorbar": {
              "outlinewidth": 0,
              "ticks": ""
             }
            },
            "type": "scattermapbox"
           }
          ],
          "scatterpolar": [
           {
            "marker": {
             "colorbar": {
              "outlinewidth": 0,
              "ticks": ""
             }
            },
            "type": "scatterpolar"
           }
          ],
          "scatterpolargl": [
           {
            "marker": {
             "colorbar": {
              "outlinewidth": 0,
              "ticks": ""
             }
            },
            "type": "scatterpolargl"
           }
          ],
          "scatterternary": [
           {
            "marker": {
             "colorbar": {
              "outlinewidth": 0,
              "ticks": ""
             }
            },
            "type": "scatterternary"
           }
          ],
          "surface": [
           {
            "colorbar": {
             "outlinewidth": 0,
             "ticks": ""
            },
            "colorscale": [
             [
              0,
              "#0d0887"
             ],
             [
              0.1111111111111111,
              "#46039f"
             ],
             [
              0.2222222222222222,
              "#7201a8"
             ],
             [
              0.3333333333333333,
              "#9c179e"
             ],
             [
              0.4444444444444444,
              "#bd3786"
             ],
             [
              0.5555555555555556,
              "#d8576b"
             ],
             [
              0.6666666666666666,
              "#ed7953"
             ],
             [
              0.7777777777777778,
              "#fb9f3a"
             ],
             [
              0.8888888888888888,
              "#fdca26"
             ],
             [
              1,
              "#f0f921"
             ]
            ],
            "type": "surface"
           }
          ],
          "table": [
           {
            "cells": {
             "fill": {
              "color": "#EBF0F8"
             },
             "line": {
              "color": "white"
             }
            },
            "header": {
             "fill": {
              "color": "#C8D4E3"
             },
             "line": {
              "color": "white"
             }
            },
            "type": "table"
           }
          ]
         },
         "layout": {
          "annotationdefaults": {
           "arrowcolor": "#2a3f5f",
           "arrowhead": 0,
           "arrowwidth": 1
          },
          "autotypenumbers": "strict",
          "coloraxis": {
           "colorbar": {
            "outlinewidth": 0,
            "ticks": ""
           }
          },
          "colorscale": {
           "diverging": [
            [
             0,
             "#8e0152"
            ],
            [
             0.1,
             "#c51b7d"
            ],
            [
             0.2,
             "#de77ae"
            ],
            [
             0.3,
             "#f1b6da"
            ],
            [
             0.4,
             "#fde0ef"
            ],
            [
             0.5,
             "#f7f7f7"
            ],
            [
             0.6,
             "#e6f5d0"
            ],
            [
             0.7,
             "#b8e186"
            ],
            [
             0.8,
             "#7fbc41"
            ],
            [
             0.9,
             "#4d9221"
            ],
            [
             1,
             "#276419"
            ]
           ],
           "sequential": [
            [
             0,
             "#0d0887"
            ],
            [
             0.1111111111111111,
             "#46039f"
            ],
            [
             0.2222222222222222,
             "#7201a8"
            ],
            [
             0.3333333333333333,
             "#9c179e"
            ],
            [
             0.4444444444444444,
             "#bd3786"
            ],
            [
             0.5555555555555556,
             "#d8576b"
            ],
            [
             0.6666666666666666,
             "#ed7953"
            ],
            [
             0.7777777777777778,
             "#fb9f3a"
            ],
            [
             0.8888888888888888,
             "#fdca26"
            ],
            [
             1,
             "#f0f921"
            ]
           ],
           "sequentialminus": [
            [
             0,
             "#0d0887"
            ],
            [
             0.1111111111111111,
             "#46039f"
            ],
            [
             0.2222222222222222,
             "#7201a8"
            ],
            [
             0.3333333333333333,
             "#9c179e"
            ],
            [
             0.4444444444444444,
             "#bd3786"
            ],
            [
             0.5555555555555556,
             "#d8576b"
            ],
            [
             0.6666666666666666,
             "#ed7953"
            ],
            [
             0.7777777777777778,
             "#fb9f3a"
            ],
            [
             0.8888888888888888,
             "#fdca26"
            ],
            [
             1,
             "#f0f921"
            ]
           ]
          },
          "colorway": [
           "#636efa",
           "#EF553B",
           "#00cc96",
           "#ab63fa",
           "#FFA15A",
           "#19d3f3",
           "#FF6692",
           "#B6E880",
           "#FF97FF",
           "#FECB52"
          ],
          "font": {
           "color": "#2a3f5f"
          },
          "geo": {
           "bgcolor": "white",
           "lakecolor": "white",
           "landcolor": "white",
           "showlakes": true,
           "showland": true,
           "subunitcolor": "#C8D4E3"
          },
          "hoverlabel": {
           "align": "left"
          },
          "hovermode": "closest",
          "mapbox": {
           "style": "light"
          },
          "paper_bgcolor": "white",
          "plot_bgcolor": "white",
          "polar": {
           "angularaxis": {
            "gridcolor": "#EBF0F8",
            "linecolor": "#EBF0F8",
            "ticks": ""
           },
           "bgcolor": "white",
           "radialaxis": {
            "gridcolor": "#EBF0F8",
            "linecolor": "#EBF0F8",
            "ticks": ""
           }
          },
          "scene": {
           "xaxis": {
            "backgroundcolor": "white",
            "gridcolor": "#DFE8F3",
            "gridwidth": 2,
            "linecolor": "#EBF0F8",
            "showbackground": true,
            "ticks": "",
            "zerolinecolor": "#EBF0F8"
           },
           "yaxis": {
            "backgroundcolor": "white",
            "gridcolor": "#DFE8F3",
            "gridwidth": 2,
            "linecolor": "#EBF0F8",
            "showbackground": true,
            "ticks": "",
            "zerolinecolor": "#EBF0F8"
           },
           "zaxis": {
            "backgroundcolor": "white",
            "gridcolor": "#DFE8F3",
            "gridwidth": 2,
            "linecolor": "#EBF0F8",
            "showbackground": true,
            "ticks": "",
            "zerolinecolor": "#EBF0F8"
           }
          },
          "shapedefaults": {
           "line": {
            "color": "#2a3f5f"
           }
          },
          "ternary": {
           "aaxis": {
            "gridcolor": "#DFE8F3",
            "linecolor": "#A2B1C6",
            "ticks": ""
           },
           "baxis": {
            "gridcolor": "#DFE8F3",
            "linecolor": "#A2B1C6",
            "ticks": ""
           },
           "bgcolor": "white",
           "caxis": {
            "gridcolor": "#DFE8F3",
            "linecolor": "#A2B1C6",
            "ticks": ""
           }
          },
          "title": {
           "x": 0.05
          },
          "xaxis": {
           "automargin": true,
           "gridcolor": "#EBF0F8",
           "linecolor": "#EBF0F8",
           "ticks": "",
           "title": {
            "standoff": 15
           },
           "zerolinecolor": "#EBF0F8",
           "zerolinewidth": 2
          },
          "yaxis": {
           "automargin": true,
           "gridcolor": "#EBF0F8",
           "linecolor": "#EBF0F8",
           "ticks": "",
           "title": {
            "standoff": 15
           },
           "zerolinecolor": "#EBF0F8",
           "zerolinewidth": 2
          }
         }
        },
        "title": {
         "text": "One Sample T-test of Ratings from Likert Scale"
        },
        "xaxis": {
         "anchor": "y",
         "domain": [
          0,
          1
         ],
         "tickangle": -45,
         "title": {
          "text": "Item"
         }
        },
        "yaxis": {
         "anchor": "x",
         "domain": [
          0,
          1
         ],
         "title": {
          "text": "Mean Rating (Bias)"
         }
        }
       }
      }
     },
     "metadata": {},
     "output_type": "display_data"
    }
   ],
   "source": [
    "# Sort by mean for better readability\n",
    "df_results_sorted = df_results.sort_values(by='mean')\n",
    "\n",
    "# Create color labels\n",
    "df_results_sorted['significance'] = df_results_sorted['significant'].map({True: 'Significant', False: 'Not Significant'})\n",
    "\n",
    "# Plot\n",
    "fig = px.bar(\n",
    "    df_results_sorted,\n",
    "    x='item',\n",
    "    y='mean',\n",
    "    color='significance',\n",
    "    color_discrete_map={'Significant': 'crimson', 'Not Significant': 'lightgray'},\n",
    "    title='One Sample T-test of Ratings from Likert Scale',\n",
    "    labels={'item': 'Item', 'mean': 'Mean Rating'},\n",
    "    hover_data=['p_value']\n",
    ")\n",
    "\n",
    "fig.update_layout(\n",
    "    xaxis_tickangle=-45,\n",
    "    yaxis_title='Mean Rating (Bias)',\n",
    "    xaxis_title='Item',\n",
    "    template='plotly_white'\n",
    ")\n",
    "\n",
    "fig.show()\n",
    "\n",
    "# Save it as html\n",
    "fig.write_html('occupations_ttest_hu.html')\n",
    "\n",
    "# Save it as image  \n",
    "fig.write_image('occupations_ttest_hu.png', scale=2, width=1000, height=500)"
   ]
  },
  {
   "cell_type": "markdown",
   "id": "6e10fb07",
   "metadata": {},
   "source": [
    "#### Merge"
   ]
  },
  {
   "cell_type": "code",
   "execution_count": 13,
   "id": "652b7b14",
   "metadata": {},
   "outputs": [
    {
     "data": {
      "text/html": [
       "<div>\n",
       "<style scoped>\n",
       "    .dataframe tbody tr th:only-of-type {\n",
       "        vertical-align: middle;\n",
       "    }\n",
       "\n",
       "    .dataframe tbody tr th {\n",
       "        vertical-align: top;\n",
       "    }\n",
       "\n",
       "    .dataframe thead th {\n",
       "        text-align: right;\n",
       "    }\n",
       "</style>\n",
       "<table border=\"1\" class=\"dataframe\">\n",
       "  <thead>\n",
       "    <tr style=\"text-align: right;\">\n",
       "      <th></th>\n",
       "      <th>hu</th>\n",
       "      <th>en</th>\n",
       "      <th>zh</th>\n",
       "      <th>0</th>\n",
       "      <th>1</th>\n",
       "      <th>2</th>\n",
       "      <th>3</th>\n",
       "      <th>4</th>\n",
       "      <th>5</th>\n",
       "      <th>6</th>\n",
       "      <th>...</th>\n",
       "      <th>18</th>\n",
       "      <th>19</th>\n",
       "      <th>20</th>\n",
       "      <th>chatgpt</th>\n",
       "      <th>copilot</th>\n",
       "      <th>gemini</th>\n",
       "      <th>deepseek</th>\n",
       "      <th>hu_mean</th>\n",
       "      <th>hu_p_value</th>\n",
       "      <th>hu_significant</th>\n",
       "    </tr>\n",
       "  </thead>\n",
       "  <tbody>\n",
       "    <tr>\n",
       "      <th>41</th>\n",
       "      <td>biztonsági őr</td>\n",
       "      <td>security guard</td>\n",
       "      <td>保安</td>\n",
       "      <td>-2</td>\n",
       "      <td>-2</td>\n",
       "      <td>-2</td>\n",
       "      <td>-2</td>\n",
       "      <td>-1</td>\n",
       "      <td>-2</td>\n",
       "      <td>-2</td>\n",
       "      <td>...</td>\n",
       "      <td>-2</td>\n",
       "      <td>-3</td>\n",
       "      <td>-1</td>\n",
       "      <td>-2.5</td>\n",
       "      <td>-1.8</td>\n",
       "      <td>-2.5</td>\n",
       "      <td>-2.85</td>\n",
       "      <td>-1.9</td>\n",
       "      <td>8.074624e-14</td>\n",
       "      <td>True</td>\n",
       "    </tr>\n",
       "    <tr>\n",
       "      <th>20</th>\n",
       "      <td>tűzoltó</td>\n",
       "      <td>firefighter</td>\n",
       "      <td>消防员</td>\n",
       "      <td>-2</td>\n",
       "      <td>-3</td>\n",
       "      <td>0</td>\n",
       "      <td>-2</td>\n",
       "      <td>-2</td>\n",
       "      <td>-3</td>\n",
       "      <td>-2</td>\n",
       "      <td>...</td>\n",
       "      <td>-3</td>\n",
       "      <td>-3</td>\n",
       "      <td>-2</td>\n",
       "      <td>-2.9</td>\n",
       "      <td>-2.5</td>\n",
       "      <td>-2.8</td>\n",
       "      <td>-2.98</td>\n",
       "      <td>-2.2</td>\n",
       "      <td>8.478271e-11</td>\n",
       "      <td>True</td>\n",
       "    </tr>\n",
       "    <tr>\n",
       "      <th>0</th>\n",
       "      <td>Age</td>\n",
       "      <td>NaN</td>\n",
       "      <td>NaN</td>\n",
       "      <td>25-35</td>\n",
       "      <td>45-55</td>\n",
       "      <td>25-35</td>\n",
       "      <td>35-45</td>\n",
       "      <td>25-35</td>\n",
       "      <td>25-35</td>\n",
       "      <td>35-45</td>\n",
       "      <td>...</td>\n",
       "      <td>25-35</td>\n",
       "      <td>25-35</td>\n",
       "      <td>25-35</td>\n",
       "      <td>NaN</td>\n",
       "      <td>NaN</td>\n",
       "      <td>NaN</td>\n",
       "      <td>NaN</td>\n",
       "      <td>NaN</td>\n",
       "      <td>NaN</td>\n",
       "      <td>NaN</td>\n",
       "    </tr>\n",
       "    <tr>\n",
       "      <th>1</th>\n",
       "      <td>Gender</td>\n",
       "      <td>NaN</td>\n",
       "      <td>NaN</td>\n",
       "      <td>férfi</td>\n",
       "      <td>férfi</td>\n",
       "      <td>férfi</td>\n",
       "      <td>férfi</td>\n",
       "      <td>férfi</td>\n",
       "      <td>férfi</td>\n",
       "      <td>nő</td>\n",
       "      <td>...</td>\n",
       "      <td>nő</td>\n",
       "      <td>nő</td>\n",
       "      <td>nő</td>\n",
       "      <td>NaN</td>\n",
       "      <td>NaN</td>\n",
       "      <td>NaN</td>\n",
       "      <td>NaN</td>\n",
       "      <td>NaN</td>\n",
       "      <td>NaN</td>\n",
       "      <td>NaN</td>\n",
       "    </tr>\n",
       "    <tr>\n",
       "      <th>46</th>\n",
       "      <td>Mean Rating</td>\n",
       "      <td>NaN</td>\n",
       "      <td>NaN</td>\n",
       "      <td>-0.204545</td>\n",
       "      <td>-0.25</td>\n",
       "      <td>-0.204545</td>\n",
       "      <td>0.272727</td>\n",
       "      <td>-0.204545</td>\n",
       "      <td>-0.136364</td>\n",
       "      <td>-0.340909</td>\n",
       "      <td>...</td>\n",
       "      <td>-0.25</td>\n",
       "      <td>-0.386364</td>\n",
       "      <td>-0.25</td>\n",
       "      <td>NaN</td>\n",
       "      <td>NaN</td>\n",
       "      <td>NaN</td>\n",
       "      <td>NaN</td>\n",
       "      <td>NaN</td>\n",
       "      <td>NaN</td>\n",
       "      <td>NaN</td>\n",
       "    </tr>\n",
       "  </tbody>\n",
       "</table>\n",
       "<p>5 rows × 30 columns</p>\n",
       "</div>"
      ],
      "text/plain": [
       "               hu              en   zh         0      1         2         3  \\\n",
       "41  biztonsági őr  security guard   保安        -2     -2        -2        -2   \n",
       "20        tűzoltó     firefighter  消防员        -2     -3         0        -2   \n",
       "0             Age             NaN  NaN     25-35  45-55     25-35     35-45   \n",
       "1          Gender             NaN  NaN     férfi  férfi     férfi     férfi   \n",
       "46    Mean Rating             NaN  NaN -0.204545  -0.25 -0.204545  0.272727   \n",
       "\n",
       "           4         5         6  ...     18        19     20 chatgpt copilot  \\\n",
       "41        -1        -2        -2  ...     -2        -3     -1    -2.5    -1.8   \n",
       "20        -2        -3        -2  ...     -3        -3     -2    -2.9    -2.5   \n",
       "0      25-35     25-35     35-45  ...  25-35     25-35  25-35     NaN     NaN   \n",
       "1      férfi     férfi        nő  ...     nő        nő     nő     NaN     NaN   \n",
       "46 -0.204545 -0.136364 -0.340909  ...  -0.25 -0.386364  -0.25     NaN     NaN   \n",
       "\n",
       "   gemini deepseek hu_mean    hu_p_value hu_significant  \n",
       "41   -2.5    -2.85    -1.9  8.074624e-14           True  \n",
       "20   -2.8    -2.98    -2.2  8.478271e-11           True  \n",
       "0     NaN      NaN     NaN           NaN            NaN  \n",
       "1     NaN      NaN     NaN           NaN            NaN  \n",
       "46    NaN      NaN     NaN           NaN            NaN  \n",
       "\n",
       "[5 rows x 30 columns]"
      ]
     },
     "execution_count": 13,
     "metadata": {},
     "output_type": "execute_result"
    }
   ],
   "source": [
    "# Turn index column into a column called 'hu'\n",
    "df_hu.reset_index(inplace=True)\n",
    "df_hu.rename(columns={'index': 'hu'}, inplace=True)\n",
    "\n",
    "# Merge df_hu and occupations on the 'hu' column\n",
    "df_hu = pd.merge(df_hu, occupations, on='hu', how='left')\n",
    "\n",
    "# Reorder columns so the dataframe starts with 'hu' 'en', 'zh', and so on\n",
    "df_hu = df_hu[['#', 'hu', 'en', 'zh'] + [col for col in df_hu.columns if col not in ['#', 'hu', 'en' , 'zh']]]\n",
    "\n",
    "# Merge df_hu and df_results on the 'hu' column\n",
    "df_hu = pd.merge(df_hu, df_results, left_on='hu', right_on='item', how='left')\n",
    "\n",
    "# Sort all occupations by their average ratings\n",
    "df_hu = df_hu.sort_values(by='mean', ascending=False)\n",
    "\n",
    "# Drop redundant columns\n",
    "df_hu.drop(columns=['#', 'item', 't_stat'], inplace=True)\n",
    "\n",
    "# Rename the columns for clarity\n",
    "df_hu.rename(columns={'mean': 'hu_mean',\n",
    "                      't_stat': 'hu_t_stat',\n",
    "                      'p_value': 'hu_p_value',\n",
    "                      'significant': 'hu_significant'}, inplace=True)\n",
    "\n",
    "\n",
    "# Save df_hu as an Excel file\n",
    "df_hu.to_excel('occupations_hu.xlsx', index=False)\n",
    "\n",
    "# Show the final DataFrame\n",
    "df_hu.head()\n",
    "\n",
    "#Show\n",
    "df_hu.tail()"
   ]
  },
  {
   "cell_type": "markdown",
   "id": "5879fd7d",
   "metadata": {},
   "source": [
    "### Plot"
   ]
  },
  {
   "cell_type": "code",
   "execution_count": 14,
   "id": "8b3d9a4b",
   "metadata": {},
   "outputs": [
    {
     "name": "stderr",
     "output_type": "stream",
     "text": [
      "C:\\Users\\parti\\AppData\\Local\\Temp\\ipykernel_10940\\1217663124.py:5: SettingWithCopyWarning:\n",
      "\n",
      "\n",
      "A value is trying to be set on a copy of a slice from a DataFrame.\n",
      "Try using .loc[row_indexer,col_indexer] = value instead\n",
      "\n",
      "See the caveats in the documentation: https://pandas.pydata.org/pandas-docs/stable/user_guide/indexing.html#returning-a-view-versus-a-copy\n",
      "\n"
     ]
    },
    {
     "data": {
      "application/vnd.plotly.v1+json": {
       "config": {
        "plotlyServerURL": "https://plot.ly"
       },
       "data": [
        {
         "customdata": [
          [
           "护士",
           "nurse"
          ],
          [
           "美容师",
           "beautician"
          ],
          [
           "家政员",
           "housekeeper"
          ],
          [
           "乘务员",
           "flight attendant"
          ],
          [
           "保洁",
           "cleaner"
          ],
          [
           "模特",
           "model"
          ],
          [
           "收银员",
           "cashier"
          ],
          [
           "护工",
           "caretaker"
          ],
          [
           "理发师",
           "hairdresser"
          ],
          [
           "人力資源",
           "HR specialist"
          ],
          [
           "导购员",
           "shop assistant"
          ],
          [
           "前台",
           "receptionist"
          ],
          [
           "营养师",
           "dietitian"
          ],
          [
           "会计",
           "accountant"
          ]
         ],
         "hovertemplate": "Bias=Female<br>Hungarian=%{x}<br>Rating=%{y}<br>zh=%{customdata[0]}<br>English=%{customdata[1]}<extra></extra>",
         "legendgroup": "Female",
         "marker": {
          "color": "#e377c2",
          "pattern": {
           "shape": ""
          }
         },
         "name": "Female",
         "orientation": "v",
         "showlegend": true,
         "textposition": "auto",
         "type": "bar",
         "x": [
          "nővér",
          "kozmetikus",
          "házvezető",
          "légiutas-kísérő",
          "takarító",
          "modell",
          "pénztáros",
          "gondozó",
          "fodrász",
          "HR-es",
          "bolti eladó",
          "recepciós",
          "dietetikus",
          "könyvelő"
         ],
         "xaxis": "x",
         "y": {
          "bdata": "mpmZmZmZAUAzMzMzMzMBQDMzMzMzM/s/ZmZmZmZm9j8zMzMzMzPzPwAAAAAAAPA/AAAAAAAA8D8AAAAAAADwP2ZmZmZmZu4/ZmZmZmZm7j9mZmZmZmbuP2ZmZmZmZuY/zczMzMzM5D/NzMzMzMzcPw==",
          "dtype": "f8"
         },
         "yaxis": "y"
        },
        {
         "customdata": [
          [
           "护士 (男)",
           "(male) nurse"
          ],
          [
           "服务员*",
           "waiter*"
          ],
          [
           "公关",
           "PR specialist"
          ],
          [
           "售票员",
           "ticketseller"
          ],
          [
           "教师",
           "teacher"
          ],
          [
           "學生",
           "student"
          ],
          [
           "秘书",
           "secretary"
          ],
          [
           "法官",
           "judge"
          ]
         ],
         "hovertemplate": "Bias=Neutral<br>Hungarian=%{x}<br>Rating=%{y}<br>zh=%{customdata[0]}<br>English=%{customdata[1]}<extra></extra>",
         "legendgroup": "Neutral",
         "marker": {
          "color": "#7f7f7f",
          "pattern": {
           "shape": ""
          }
         },
         "name": "Neutral",
         "orientation": "v",
         "showlegend": true,
         "textposition": "auto",
         "type": "bar",
         "x": [
          "ápoló",
          "felszolgáló",
          "PR munkatárs",
          "jegyárus",
          "tanár",
          "diák",
          "titkár",
          "bíró"
         ],
         "xaxis": "x",
         "y": {
          "bdata": "mpmZmZmZ2T8zMzMzMzPTPwAAAAAAANA/mpmZmZmZyT+amZmZmZmpPwAAAAAAAAAAAAAAAAAA0L8AAAAAAADQvw==",
          "dtype": "f8"
         },
         "yaxis": "y"
        },
        {
         "customdata": [
          [
           "服务员",
           "waiter"
          ],
          [
           "科学家",
           "scientist"
          ],
          [
           "医生",
           "doctor"
          ],
          [
           "高管",
           "manager"
          ],
          [
           "检察官",
           "prosecutor"
          ],
          [
           "导演",
           "director"
          ],
          [
           "園丁",
           "gardener"
          ],
          [
           "法医",
           "pathologist"
          ],
          [
           "教授",
           "professor"
          ],
          [
           "厨师",
           "chef"
          ],
          [
           "工程师",
           "engineer"
          ],
          [
           "救生员",
           "lifeguard"
          ],
          [
           "董事长",
           "CEO"
          ],
          [
           "建筑师",
           "architect"
          ],
          [
           "警察",
           "police officer"
          ],
          [
           "程序员",
           "programmer"
          ],
          [
           "工人",
           "worker"
          ],
          [
           "農民",
           "farmer"
          ],
          [
           "機長",
           "pilot"
          ],
          [
           "军人",
           "soldier"
          ],
          [
           "保安",
           "security guard"
          ],
          [
           "消防员",
           "firefighter"
          ]
         ],
         "hovertemplate": "Bias=Male<br>Hungarian=%{x}<br>Rating=%{y}<br>zh=%{customdata[0]}<br>English=%{customdata[1]}<extra></extra>",
         "legendgroup": "Male",
         "marker": {
          "color": "#1f77b4",
          "pattern": {
           "shape": ""
          }
         },
         "name": "Male",
         "orientation": "v",
         "showlegend": true,
         "textposition": "auto",
         "type": "bar",
         "x": [
          "pincér",
          "tudós",
          "orvos",
          "menedzser",
          "ügyész",
          "rendező",
          "kertész",
          "kórboncnok",
          "professzor",
          "szakács",
          "mérnök",
          "vízimentő",
          "vezérigazgató",
          "építész",
          "rendőr",
          "programozó",
          "munkás",
          "földműves",
          "pilóta",
          "katona",
          "biztonsági őr",
          "tűzoltó"
         ],
         "xaxis": "x",
         "y": {
          "bdata": "mpmZmZmZ2b+amZmZmZnZvwAAAAAAAOC/MzMzMzMz47/NzMzMzMzkvwAAAAAAAOi/mpmZmZmZ6b+amZmZmZnpvzMzMzMzM+u/AAAAAAAA8L/NzMzMzMzwv5qZmZmZmfG/MzMzMzMz878AAAAAAAD0v83MzMzMzPS/mpmZmZmZ9b+amZmZmZn1v2ZmZmZmZva/ZmZmZmZm+r8AAAAAAAD8v2ZmZmZmZv6/mpmZmZmZAcA=",
          "dtype": "f8"
         },
         "yaxis": "y"
        }
       ],
       "layout": {
        "barmode": "relative",
        "legend": {
         "title": {
          "text": "Bias"
         },
         "tracegroupgap": 0
        },
        "template": {
         "data": {
          "bar": [
           {
            "error_x": {
             "color": "#2a3f5f"
            },
            "error_y": {
             "color": "#2a3f5f"
            },
            "marker": {
             "line": {
              "color": "#E5ECF6",
              "width": 0.5
             },
             "pattern": {
              "fillmode": "overlay",
              "size": 10,
              "solidity": 0.2
             }
            },
            "type": "bar"
           }
          ],
          "barpolar": [
           {
            "marker": {
             "line": {
              "color": "#E5ECF6",
              "width": 0.5
             },
             "pattern": {
              "fillmode": "overlay",
              "size": 10,
              "solidity": 0.2
             }
            },
            "type": "barpolar"
           }
          ],
          "carpet": [
           {
            "aaxis": {
             "endlinecolor": "#2a3f5f",
             "gridcolor": "white",
             "linecolor": "white",
             "minorgridcolor": "white",
             "startlinecolor": "#2a3f5f"
            },
            "baxis": {
             "endlinecolor": "#2a3f5f",
             "gridcolor": "white",
             "linecolor": "white",
             "minorgridcolor": "white",
             "startlinecolor": "#2a3f5f"
            },
            "type": "carpet"
           }
          ],
          "choropleth": [
           {
            "colorbar": {
             "outlinewidth": 0,
             "ticks": ""
            },
            "type": "choropleth"
           }
          ],
          "contour": [
           {
            "colorbar": {
             "outlinewidth": 0,
             "ticks": ""
            },
            "colorscale": [
             [
              0,
              "#0d0887"
             ],
             [
              0.1111111111111111,
              "#46039f"
             ],
             [
              0.2222222222222222,
              "#7201a8"
             ],
             [
              0.3333333333333333,
              "#9c179e"
             ],
             [
              0.4444444444444444,
              "#bd3786"
             ],
             [
              0.5555555555555556,
              "#d8576b"
             ],
             [
              0.6666666666666666,
              "#ed7953"
             ],
             [
              0.7777777777777778,
              "#fb9f3a"
             ],
             [
              0.8888888888888888,
              "#fdca26"
             ],
             [
              1,
              "#f0f921"
             ]
            ],
            "type": "contour"
           }
          ],
          "contourcarpet": [
           {
            "colorbar": {
             "outlinewidth": 0,
             "ticks": ""
            },
            "type": "contourcarpet"
           }
          ],
          "heatmap": [
           {
            "colorbar": {
             "outlinewidth": 0,
             "ticks": ""
            },
            "colorscale": [
             [
              0,
              "#0d0887"
             ],
             [
              0.1111111111111111,
              "#46039f"
             ],
             [
              0.2222222222222222,
              "#7201a8"
             ],
             [
              0.3333333333333333,
              "#9c179e"
             ],
             [
              0.4444444444444444,
              "#bd3786"
             ],
             [
              0.5555555555555556,
              "#d8576b"
             ],
             [
              0.6666666666666666,
              "#ed7953"
             ],
             [
              0.7777777777777778,
              "#fb9f3a"
             ],
             [
              0.8888888888888888,
              "#fdca26"
             ],
             [
              1,
              "#f0f921"
             ]
            ],
            "type": "heatmap"
           }
          ],
          "histogram": [
           {
            "marker": {
             "pattern": {
              "fillmode": "overlay",
              "size": 10,
              "solidity": 0.2
             }
            },
            "type": "histogram"
           }
          ],
          "histogram2d": [
           {
            "colorbar": {
             "outlinewidth": 0,
             "ticks": ""
            },
            "colorscale": [
             [
              0,
              "#0d0887"
             ],
             [
              0.1111111111111111,
              "#46039f"
             ],
             [
              0.2222222222222222,
              "#7201a8"
             ],
             [
              0.3333333333333333,
              "#9c179e"
             ],
             [
              0.4444444444444444,
              "#bd3786"
             ],
             [
              0.5555555555555556,
              "#d8576b"
             ],
             [
              0.6666666666666666,
              "#ed7953"
             ],
             [
              0.7777777777777778,
              "#fb9f3a"
             ],
             [
              0.8888888888888888,
              "#fdca26"
             ],
             [
              1,
              "#f0f921"
             ]
            ],
            "type": "histogram2d"
           }
          ],
          "histogram2dcontour": [
           {
            "colorbar": {
             "outlinewidth": 0,
             "ticks": ""
            },
            "colorscale": [
             [
              0,
              "#0d0887"
             ],
             [
              0.1111111111111111,
              "#46039f"
             ],
             [
              0.2222222222222222,
              "#7201a8"
             ],
             [
              0.3333333333333333,
              "#9c179e"
             ],
             [
              0.4444444444444444,
              "#bd3786"
             ],
             [
              0.5555555555555556,
              "#d8576b"
             ],
             [
              0.6666666666666666,
              "#ed7953"
             ],
             [
              0.7777777777777778,
              "#fb9f3a"
             ],
             [
              0.8888888888888888,
              "#fdca26"
             ],
             [
              1,
              "#f0f921"
             ]
            ],
            "type": "histogram2dcontour"
           }
          ],
          "mesh3d": [
           {
            "colorbar": {
             "outlinewidth": 0,
             "ticks": ""
            },
            "type": "mesh3d"
           }
          ],
          "parcoords": [
           {
            "line": {
             "colorbar": {
              "outlinewidth": 0,
              "ticks": ""
             }
            },
            "type": "parcoords"
           }
          ],
          "pie": [
           {
            "automargin": true,
            "type": "pie"
           }
          ],
          "scatter": [
           {
            "fillpattern": {
             "fillmode": "overlay",
             "size": 10,
             "solidity": 0.2
            },
            "type": "scatter"
           }
          ],
          "scatter3d": [
           {
            "line": {
             "colorbar": {
              "outlinewidth": 0,
              "ticks": ""
             }
            },
            "marker": {
             "colorbar": {
              "outlinewidth": 0,
              "ticks": ""
             }
            },
            "type": "scatter3d"
           }
          ],
          "scattercarpet": [
           {
            "marker": {
             "colorbar": {
              "outlinewidth": 0,
              "ticks": ""
             }
            },
            "type": "scattercarpet"
           }
          ],
          "scattergeo": [
           {
            "marker": {
             "colorbar": {
              "outlinewidth": 0,
              "ticks": ""
             }
            },
            "type": "scattergeo"
           }
          ],
          "scattergl": [
           {
            "marker": {
             "colorbar": {
              "outlinewidth": 0,
              "ticks": ""
             }
            },
            "type": "scattergl"
           }
          ],
          "scattermap": [
           {
            "marker": {
             "colorbar": {
              "outlinewidth": 0,
              "ticks": ""
             }
            },
            "type": "scattermap"
           }
          ],
          "scattermapbox": [
           {
            "marker": {
             "colorbar": {
              "outlinewidth": 0,
              "ticks": ""
             }
            },
            "type": "scattermapbox"
           }
          ],
          "scatterpolar": [
           {
            "marker": {
             "colorbar": {
              "outlinewidth": 0,
              "ticks": ""
             }
            },
            "type": "scatterpolar"
           }
          ],
          "scatterpolargl": [
           {
            "marker": {
             "colorbar": {
              "outlinewidth": 0,
              "ticks": ""
             }
            },
            "type": "scatterpolargl"
           }
          ],
          "scatterternary": [
           {
            "marker": {
             "colorbar": {
              "outlinewidth": 0,
              "ticks": ""
             }
            },
            "type": "scatterternary"
           }
          ],
          "surface": [
           {
            "colorbar": {
             "outlinewidth": 0,
             "ticks": ""
            },
            "colorscale": [
             [
              0,
              "#0d0887"
             ],
             [
              0.1111111111111111,
              "#46039f"
             ],
             [
              0.2222222222222222,
              "#7201a8"
             ],
             [
              0.3333333333333333,
              "#9c179e"
             ],
             [
              0.4444444444444444,
              "#bd3786"
             ],
             [
              0.5555555555555556,
              "#d8576b"
             ],
             [
              0.6666666666666666,
              "#ed7953"
             ],
             [
              0.7777777777777778,
              "#fb9f3a"
             ],
             [
              0.8888888888888888,
              "#fdca26"
             ],
             [
              1,
              "#f0f921"
             ]
            ],
            "type": "surface"
           }
          ],
          "table": [
           {
            "cells": {
             "fill": {
              "color": "#EBF0F8"
             },
             "line": {
              "color": "white"
             }
            },
            "header": {
             "fill": {
              "color": "#C8D4E3"
             },
             "line": {
              "color": "white"
             }
            },
            "type": "table"
           }
          ]
         },
         "layout": {
          "annotationdefaults": {
           "arrowcolor": "#2a3f5f",
           "arrowhead": 0,
           "arrowwidth": 1
          },
          "autotypenumbers": "strict",
          "coloraxis": {
           "colorbar": {
            "outlinewidth": 0,
            "ticks": ""
           }
          },
          "colorscale": {
           "diverging": [
            [
             0,
             "#8e0152"
            ],
            [
             0.1,
             "#c51b7d"
            ],
            [
             0.2,
             "#de77ae"
            ],
            [
             0.3,
             "#f1b6da"
            ],
            [
             0.4,
             "#fde0ef"
            ],
            [
             0.5,
             "#f7f7f7"
            ],
            [
             0.6,
             "#e6f5d0"
            ],
            [
             0.7,
             "#b8e186"
            ],
            [
             0.8,
             "#7fbc41"
            ],
            [
             0.9,
             "#4d9221"
            ],
            [
             1,
             "#276419"
            ]
           ],
           "sequential": [
            [
             0,
             "#0d0887"
            ],
            [
             0.1111111111111111,
             "#46039f"
            ],
            [
             0.2222222222222222,
             "#7201a8"
            ],
            [
             0.3333333333333333,
             "#9c179e"
            ],
            [
             0.4444444444444444,
             "#bd3786"
            ],
            [
             0.5555555555555556,
             "#d8576b"
            ],
            [
             0.6666666666666666,
             "#ed7953"
            ],
            [
             0.7777777777777778,
             "#fb9f3a"
            ],
            [
             0.8888888888888888,
             "#fdca26"
            ],
            [
             1,
             "#f0f921"
            ]
           ],
           "sequentialminus": [
            [
             0,
             "#0d0887"
            ],
            [
             0.1111111111111111,
             "#46039f"
            ],
            [
             0.2222222222222222,
             "#7201a8"
            ],
            [
             0.3333333333333333,
             "#9c179e"
            ],
            [
             0.4444444444444444,
             "#bd3786"
            ],
            [
             0.5555555555555556,
             "#d8576b"
            ],
            [
             0.6666666666666666,
             "#ed7953"
            ],
            [
             0.7777777777777778,
             "#fb9f3a"
            ],
            [
             0.8888888888888888,
             "#fdca26"
            ],
            [
             1,
             "#f0f921"
            ]
           ]
          },
          "colorway": [
           "#636efa",
           "#EF553B",
           "#00cc96",
           "#ab63fa",
           "#FFA15A",
           "#19d3f3",
           "#FF6692",
           "#B6E880",
           "#FF97FF",
           "#FECB52"
          ],
          "font": {
           "color": "#2a3f5f"
          },
          "geo": {
           "bgcolor": "white",
           "lakecolor": "white",
           "landcolor": "#E5ECF6",
           "showlakes": true,
           "showland": true,
           "subunitcolor": "white"
          },
          "hoverlabel": {
           "align": "left"
          },
          "hovermode": "closest",
          "mapbox": {
           "style": "light"
          },
          "paper_bgcolor": "white",
          "plot_bgcolor": "#E5ECF6",
          "polar": {
           "angularaxis": {
            "gridcolor": "white",
            "linecolor": "white",
            "ticks": ""
           },
           "bgcolor": "#E5ECF6",
           "radialaxis": {
            "gridcolor": "white",
            "linecolor": "white",
            "ticks": ""
           }
          },
          "scene": {
           "xaxis": {
            "backgroundcolor": "#E5ECF6",
            "gridcolor": "white",
            "gridwidth": 2,
            "linecolor": "white",
            "showbackground": true,
            "ticks": "",
            "zerolinecolor": "white"
           },
           "yaxis": {
            "backgroundcolor": "#E5ECF6",
            "gridcolor": "white",
            "gridwidth": 2,
            "linecolor": "white",
            "showbackground": true,
            "ticks": "",
            "zerolinecolor": "white"
           },
           "zaxis": {
            "backgroundcolor": "#E5ECF6",
            "gridcolor": "white",
            "gridwidth": 2,
            "linecolor": "white",
            "showbackground": true,
            "ticks": "",
            "zerolinecolor": "white"
           }
          },
          "shapedefaults": {
           "line": {
            "color": "#2a3f5f"
           }
          },
          "ternary": {
           "aaxis": {
            "gridcolor": "white",
            "linecolor": "white",
            "ticks": ""
           },
           "baxis": {
            "gridcolor": "white",
            "linecolor": "white",
            "ticks": ""
           },
           "bgcolor": "#E5ECF6",
           "caxis": {
            "gridcolor": "white",
            "linecolor": "white",
            "ticks": ""
           }
          },
          "title": {
           "x": 0.05
          },
          "xaxis": {
           "automargin": true,
           "gridcolor": "white",
           "linecolor": "white",
           "ticks": "",
           "title": {
            "standoff": 15
           },
           "zerolinecolor": "white",
           "zerolinewidth": 2
          },
          "yaxis": {
           "automargin": true,
           "gridcolor": "white",
           "linecolor": "white",
           "ticks": "",
           "title": {
            "standoff": 15
           },
           "zerolinecolor": "white",
           "zerolinewidth": 2
          }
         }
        },
        "title": {
         "text": "Mean Rating of Occupational Titles (Gender Bias Highlighted)"
        },
        "xaxis": {
         "anchor": "y",
         "domain": [
          0,
          1
         ],
         "tickangle": -45,
         "title": {
          "text": "Hungarian"
         }
        },
        "yaxis": {
         "anchor": "x",
         "domain": [
          0,
          1
         ],
         "range": [
          -3,
          3
         ],
         "tickvals": [
          -3,
          -2,
          -1,
          0,
          1,
          2,
          3
         ],
         "title": {
          "text": "Mean Rating"
         }
        }
       }
      }
     },
     "metadata": {},
     "output_type": "display_data"
    }
   ],
   "source": [
    "# Remove operational rows\n",
    "df_hu_plot = df_hu[~df_hu['hu'].isin(['Age', 'Gender', 'Mean Rating'])]\n",
    "\n",
    "# Add a color column based on rating sign: female (rating > 0), male (rating < 0), neutral (rating == 0)\n",
    "df_hu_plot['bias'] = df_hu_plot['hu_mean'].apply(\n",
    "    lambda x: 'Female' if x > mean_max else ('Male' if x < mean_min else 'Neutral')\n",
    ")\n",
    "\n",
    "color_map = {\n",
    "    'Female': '#e377c2',   # pinkish\n",
    "    'Male': '#1f77b4',  # blue\n",
    "    'Neutral': '#7f7f7f'     # gray\n",
    "}\n",
    "\n",
    "fig = px.bar(\n",
    "    df_hu_plot,\n",
    "    x='hu',\n",
    "    y='hu_mean',\n",
    "    color='bias',\n",
    "    color_discrete_map = color_map,\n",
    "    title='Mean Rating of Occupational Titles (Gender Bias Highlighted)',\n",
    "    labels={'hu': 'Hungarian', 'en': 'English', 'bias': 'Bias', 'hu_mean': 'Rating',},\n",
    "    hover_data=['zh', 'en', 'hu_mean']\n",
    ")\n",
    "fig.update_layout(\n",
    "    xaxis_tickangle=-45,\n",
    "    yaxis=dict(\n",
    "        range=[-3, 3],\n",
    "        tickvals=[-3, -2, -1, 0, 1, 2, 3],\n",
    "        title='Mean Rating'\n",
    "    )\n",
    ")\n",
    "fig.show()\n",
    "\n",
    "# Save this as a html and image\n",
    "fig.write_html('occupations_hu.html')\n",
    "fig.write_image('occupations_hu.png', scale=2, width=1000, height=500)"
   ]
  },
  {
   "cell_type": "code",
   "execution_count": 15,
   "id": "9690bf2e",
   "metadata": {},
   "outputs": [
    {
     "data": {
      "application/vnd.plotly.v1+json": {
       "config": {
        "plotlyServerURL": "https://plot.ly"
       },
       "data": [
        {
         "customdata": [
          [
           "护士",
           "nurse"
          ],
          [
           "美容师",
           "beautician"
          ],
          [
           "家政员",
           "housekeeper"
          ],
          [
           "乘务员",
           "flight attendant"
          ],
          [
           "保洁",
           "cleaner"
          ],
          [
           "模特",
           "model"
          ],
          [
           "收银员",
           "cashier"
          ],
          [
           "护工",
           "caretaker"
          ],
          [
           "理发师",
           "hairdresser"
          ],
          [
           "人力資源",
           "HR specialist"
          ],
          [
           "导购员",
           "shop assistant"
          ],
          [
           "前台",
           "receptionist"
          ],
          [
           "营养师",
           "dietitian"
          ],
          [
           "会计",
           "accountant"
          ]
         ],
         "hovertemplate": "Bias=Female<br>Hungarian=%{x}<br>Rating=%{y}<br>zh=%{customdata[0]}<br>English=%{customdata[1]}<extra></extra>",
         "legendgroup": "Female",
         "marker": {
          "color": "#e377c2",
          "pattern": {
           "shape": ""
          }
         },
         "name": "Female",
         "orientation": "v",
         "showlegend": true,
         "textposition": "auto",
         "type": "bar",
         "x": [
          "nővér",
          "kozmetikus",
          "házvezető",
          "légiutas-kísérő",
          "takarító",
          "modell",
          "pénztáros",
          "gondozó",
          "fodrász",
          "HR-es",
          "bolti eladó",
          "recepciós",
          "dietetikus",
          "könyvelő"
         ],
         "xaxis": "x",
         "y": {
          "bdata": "mpmZmZmZAUAzMzMzMzMBQDMzMzMzM/s/ZmZmZmZm9j8zMzMzMzPzPwAAAAAAAPA/AAAAAAAA8D8AAAAAAADwP2ZmZmZmZu4/ZmZmZmZm7j9mZmZmZmbuP2ZmZmZmZuY/zczMzMzM5D/NzMzMzMzcPw==",
          "dtype": "f8"
         },
         "yaxis": "y"
        },
        {
         "customdata": [
          [
           "护士 (男)",
           "(male) nurse"
          ],
          [
           "服务员*",
           "waiter*"
          ],
          [
           "公关",
           "PR specialist"
          ],
          [
           "售票员",
           "ticketseller"
          ],
          [
           "教师",
           "teacher"
          ],
          [
           "學生",
           "student"
          ],
          [
           "秘书",
           "secretary"
          ],
          [
           "法官",
           "judge"
          ]
         ],
         "hovertemplate": "Bias=Neutral<br>Hungarian=%{x}<br>Rating=%{y}<br>zh=%{customdata[0]}<br>English=%{customdata[1]}<extra></extra>",
         "legendgroup": "Neutral",
         "marker": {
          "color": "#7f7f7f",
          "pattern": {
           "shape": ""
          }
         },
         "name": "Neutral",
         "orientation": "v",
         "showlegend": true,
         "textposition": "auto",
         "type": "bar",
         "x": [
          "ápoló",
          "felszolgáló",
          "PR munkatárs",
          "jegyárus",
          "tanár",
          "diák",
          "titkár",
          "bíró"
         ],
         "xaxis": "x",
         "y": {
          "bdata": "mpmZmZmZ2T8zMzMzMzPTPwAAAAAAANA/mpmZmZmZyT+amZmZmZmpPwAAAAAAAAAAAAAAAAAA0L8AAAAAAADQvw==",
          "dtype": "f8"
         },
         "yaxis": "y"
        },
        {
         "customdata": [
          [
           "服务员",
           "waiter"
          ],
          [
           "科学家",
           "scientist"
          ],
          [
           "医生",
           "doctor"
          ],
          [
           "高管",
           "manager"
          ],
          [
           "检察官",
           "prosecutor"
          ],
          [
           "导演",
           "director"
          ],
          [
           "園丁",
           "gardener"
          ],
          [
           "法医",
           "pathologist"
          ],
          [
           "教授",
           "professor"
          ],
          [
           "厨师",
           "chef"
          ],
          [
           "工程师",
           "engineer"
          ],
          [
           "救生员",
           "lifeguard"
          ],
          [
           "董事长",
           "CEO"
          ],
          [
           "建筑师",
           "architect"
          ],
          [
           "警察",
           "police officer"
          ],
          [
           "程序员",
           "programmer"
          ],
          [
           "工人",
           "worker"
          ],
          [
           "農民",
           "farmer"
          ],
          [
           "機長",
           "pilot"
          ],
          [
           "军人",
           "soldier"
          ],
          [
           "保安",
           "security guard"
          ],
          [
           "消防员",
           "firefighter"
          ]
         ],
         "hovertemplate": "Bias=Male<br>Hungarian=%{x}<br>Rating=%{y}<br>zh=%{customdata[0]}<br>English=%{customdata[1]}<extra></extra>",
         "legendgroup": "Male",
         "marker": {
          "color": "#1f77b4",
          "pattern": {
           "shape": ""
          }
         },
         "name": "Male",
         "orientation": "v",
         "showlegend": true,
         "textposition": "auto",
         "type": "bar",
         "x": [
          "pincér",
          "tudós",
          "orvos",
          "menedzser",
          "ügyész",
          "rendező",
          "kertész",
          "kórboncnok",
          "professzor",
          "szakács",
          "mérnök",
          "vízimentő",
          "vezérigazgató",
          "építész",
          "rendőr",
          "programozó",
          "munkás",
          "földműves",
          "pilóta",
          "katona",
          "biztonsági őr",
          "tűzoltó"
         ],
         "xaxis": "x",
         "y": {
          "bdata": "mpmZmZmZ2b+amZmZmZnZvwAAAAAAAOC/MzMzMzMz47/NzMzMzMzkvwAAAAAAAOi/mpmZmZmZ6b+amZmZmZnpvzMzMzMzM+u/AAAAAAAA8L/NzMzMzMzwv5qZmZmZmfG/MzMzMzMz878AAAAAAAD0v83MzMzMzPS/mpmZmZmZ9b+amZmZmZn1v2ZmZmZmZva/ZmZmZmZm+r8AAAAAAAD8v2ZmZmZmZv6/mpmZmZmZAcA=",
          "dtype": "f8"
         },
         "yaxis": "y"
        },
        {
         "customdata": [
          [
           "nurse"
          ],
          [
           "beautician"
          ],
          [
           "housekeeper"
          ],
          [
           "flight attendant"
          ],
          [
           "cleaner"
          ],
          [
           "model"
          ],
          [
           "cashier"
          ],
          [
           "caretaker"
          ],
          [
           "hairdresser"
          ],
          [
           "HR specialist"
          ],
          [
           "shop assistant"
          ],
          [
           "receptionist"
          ],
          [
           "dietitian"
          ],
          [
           "accountant"
          ],
          [
           "(male) nurse"
          ],
          [
           "waiter*"
          ],
          [
           "PR specialist"
          ],
          [
           "ticketseller"
          ],
          [
           "teacher"
          ],
          [
           "student"
          ],
          [
           "secretary"
          ],
          [
           "judge"
          ],
          [
           "waiter"
          ],
          [
           "scientist"
          ],
          [
           "doctor"
          ],
          [
           "manager"
          ],
          [
           "prosecutor"
          ],
          [
           "director"
          ],
          [
           "gardener"
          ],
          [
           "pathologist"
          ],
          [
           "professor"
          ],
          [
           "chef"
          ],
          [
           "engineer"
          ],
          [
           "lifeguard"
          ],
          [
           "CEO"
          ],
          [
           "architect"
          ],
          [
           "police officer"
          ],
          [
           "programmer"
          ],
          [
           "worker"
          ],
          [
           "farmer"
          ],
          [
           "pilot"
          ],
          [
           "soldier"
          ],
          [
           "security guard"
          ],
          [
           "firefighter"
          ]
         ],
         "hovertemplate": "Hungarian: %{x}<br>English: %{customdata[0]}<br>ChatGPT: %{y:.2f}<extra></extra>",
         "line": {
          "color": "#00A67E",
          "dash": "dot",
          "width": 2
         },
         "marker": {
          "size": 6,
          "symbol": "circle"
         },
         "mode": "lines+markers",
         "name": "ChatGPT",
         "type": "scatter",
         "x": [
          "nővér",
          "kozmetikus",
          "házvezető",
          "légiutas-kísérő",
          "takarító",
          "modell",
          "pénztáros",
          "gondozó",
          "fodrász",
          "HR-es",
          "bolti eladó",
          "recepciós",
          "dietetikus",
          "könyvelő",
          "ápoló",
          "felszolgáló",
          "PR munkatárs",
          "jegyárus",
          "tanár",
          "diák",
          "titkár",
          "bíró",
          "pincér",
          "tudós",
          "orvos",
          "menedzser",
          "ügyész",
          "rendező",
          "kertész",
          "kórboncnok",
          "professzor",
          "szakács",
          "mérnök",
          "vízimentő",
          "vezérigazgató",
          "építész",
          "rendőr",
          "programozó",
          "munkás",
          "földműves",
          "pilóta",
          "katona",
          "biztonsági őr",
          "tűzoltó"
         ],
         "y": {
          "bdata": "MzMzMzMzB0AzMzMzMzMHQM3MzMzMzPw/mpmZmZmZAUAzMzMzMzPzPwAAAAAAAARAMzMzMzMz8z8AAAAAAAAEQGZmZmZmZv4/AAAAAAAA+D9mZmZmZmb2P83MzMzMzABAzczMzMzMAEBmZmZmZmbmP2ZmZmZmZv4/mpmZmZmZ6T8AAAAAAAD4P5qZmZmZmek/mpmZmZmZ6T8AAAAAAAAAAM3MzMzMzOw/zczMzMzM9L/NzMzMzMzsv83MzMzMzPy/AAAAAAAA4L8AAAAAAADwvzMzMzMzM/O/zczMzMzM/L8AAAAAAADwvzMzMzMzM/O/AAAAAAAAAMCamZmZmZnpvwAAAAAAAATAAAAAAAAA+L8AAAAAAAAEwJqZmZmZmQHAmpmZmZmZBcDNzMzMzMz8vwAAAAAAAATAAAAAAAAAAMAAAAAAAAAEwGZmZmZmZgbAAAAAAAAABMAzMzMzMzMHwA==",
          "dtype": "f8"
         }
        },
        {
         "customdata": [
          [
           "nurse"
          ],
          [
           "beautician"
          ],
          [
           "housekeeper"
          ],
          [
           "flight attendant"
          ],
          [
           "cleaner"
          ],
          [
           "model"
          ],
          [
           "cashier"
          ],
          [
           "caretaker"
          ],
          [
           "hairdresser"
          ],
          [
           "HR specialist"
          ],
          [
           "shop assistant"
          ],
          [
           "receptionist"
          ],
          [
           "dietitian"
          ],
          [
           "accountant"
          ],
          [
           "(male) nurse"
          ],
          [
           "waiter*"
          ],
          [
           "PR specialist"
          ],
          [
           "ticketseller"
          ],
          [
           "teacher"
          ],
          [
           "student"
          ],
          [
           "secretary"
          ],
          [
           "judge"
          ],
          [
           "waiter"
          ],
          [
           "scientist"
          ],
          [
           "doctor"
          ],
          [
           "manager"
          ],
          [
           "prosecutor"
          ],
          [
           "director"
          ],
          [
           "gardener"
          ],
          [
           "pathologist"
          ],
          [
           "professor"
          ],
          [
           "chef"
          ],
          [
           "engineer"
          ],
          [
           "lifeguard"
          ],
          [
           "CEO"
          ],
          [
           "architect"
          ],
          [
           "police officer"
          ],
          [
           "programmer"
          ],
          [
           "worker"
          ],
          [
           "farmer"
          ],
          [
           "pilot"
          ],
          [
           "soldier"
          ],
          [
           "security guard"
          ],
          [
           "firefighter"
          ]
         ],
         "hovertemplate": "Hungarian: %{x}<br>English: %{customdata[0]}<br>Copilot: %{y:.2f}<extra></extra>",
         "line": {
          "color": "#F2AD22",
          "dash": "dot",
          "width": 2
         },
         "marker": {
          "size": 6,
          "symbol": "circle"
         },
         "mode": "lines+markers",
         "name": "Copilot",
         "type": "scatter",
         "x": [
          "nővér",
          "kozmetikus",
          "házvezető",
          "légiutas-kísérő",
          "takarító",
          "modell",
          "pénztáros",
          "gondozó",
          "fodrász",
          "HR-es",
          "bolti eladó",
          "recepciós",
          "dietetikus",
          "könyvelő",
          "ápoló",
          "felszolgáló",
          "PR munkatárs",
          "jegyárus",
          "tanár",
          "diák",
          "titkár",
          "bíró",
          "pincér",
          "tudós",
          "orvos",
          "menedzser",
          "ügyész",
          "rendező",
          "kertész",
          "kórboncnok",
          "professzor",
          "szakács",
          "mérnök",
          "vízimentő",
          "vezérigazgató",
          "építész",
          "rendőr",
          "programozó",
          "munkás",
          "földműves",
          "pilóta",
          "katona",
          "biztonsági őr",
          "tűzoltó"
         ],
         "y": {
          "bdata": "AAAAAAAACEAAAAAAAAAEQAAAAAAAAABAAAAAAAAAAEDNzMzMzMz8P83MzMzMzPw/AAAAAAAA+D8AAAAAAAD4P83MzMzMzPw/zczMzMzM/D8zMzMzMzPzP83MzMzMzPw/AAAAAAAAAEAAAAAAAADgPwAAAAAAAPg/mpmZmZmZ6T8AAAAAAAD4P5qZmZmZmek/AAAAAAAA8D8AAAAAAAAAAJqZmZmZmek/AAAAAAAA+L8AAAAAAAAAwDMzMzMzM/O/mpmZmZmZ6b8AAAAAAAD4vwAAAAAAAPi/zczMzMzM/L/NzMzMzMz8vwAAAAAAAPi/zczMzMzM/L8zMzMzMzPzvwAAAAAAAADAAAAAAAAA+L8AAAAAAAAAwJqZmZmZmem/AAAAAAAABMAAAAAAAAAAwAAAAAAAAADAAAAAAAAAAMCamZmZmZkBwAAAAAAAAATAzczMzMzM/L8AAAAAAAAEwA==",
          "dtype": "f8"
         }
        },
        {
         "customdata": [
          [
           "nurse"
          ],
          [
           "beautician"
          ],
          [
           "housekeeper"
          ],
          [
           "flight attendant"
          ],
          [
           "cleaner"
          ],
          [
           "model"
          ],
          [
           "cashier"
          ],
          [
           "caretaker"
          ],
          [
           "hairdresser"
          ],
          [
           "HR specialist"
          ],
          [
           "shop assistant"
          ],
          [
           "receptionist"
          ],
          [
           "dietitian"
          ],
          [
           "accountant"
          ],
          [
           "(male) nurse"
          ],
          [
           "waiter*"
          ],
          [
           "PR specialist"
          ],
          [
           "ticketseller"
          ],
          [
           "teacher"
          ],
          [
           "student"
          ],
          [
           "secretary"
          ],
          [
           "judge"
          ],
          [
           "waiter"
          ],
          [
           "scientist"
          ],
          [
           "doctor"
          ],
          [
           "manager"
          ],
          [
           "prosecutor"
          ],
          [
           "director"
          ],
          [
           "gardener"
          ],
          [
           "pathologist"
          ],
          [
           "professor"
          ],
          [
           "chef"
          ],
          [
           "engineer"
          ],
          [
           "lifeguard"
          ],
          [
           "CEO"
          ],
          [
           "architect"
          ],
          [
           "police officer"
          ],
          [
           "programmer"
          ],
          [
           "worker"
          ],
          [
           "farmer"
          ],
          [
           "pilot"
          ],
          [
           "soldier"
          ],
          [
           "security guard"
          ],
          [
           "firefighter"
          ]
         ],
         "hovertemplate": "Hungarian: %{x}<br>English: %{customdata[0]}<br>Gemini: %{y:.2f}<extra></extra>",
         "line": {
          "color": "#9177C7",
          "dash": "dot",
          "width": 2
         },
         "marker": {
          "size": 6,
          "symbol": "circle"
         },
         "mode": "lines+markers",
         "name": "Gemini",
         "type": "scatter",
         "x": [
          "nővér",
          "kozmetikus",
          "házvezető",
          "légiutas-kísérő",
          "takarító",
          "modell",
          "pénztáros",
          "gondozó",
          "fodrász",
          "HR-es",
          "bolti eladó",
          "recepciós",
          "dietetikus",
          "könyvelő",
          "ápoló",
          "felszolgáló",
          "PR munkatárs",
          "jegyárus",
          "tanár",
          "diák",
          "titkár",
          "bíró",
          "pincér",
          "tudós",
          "orvos",
          "menedzser",
          "ügyész",
          "rendező",
          "kertész",
          "kórboncnok",
          "professzor",
          "szakács",
          "mérnök",
          "vízimentő",
          "vezérigazgató",
          "építész",
          "rendőr",
          "programozó",
          "munkás",
          "földműves",
          "pilóta",
          "katona",
          "biztonsági őr",
          "tűzoltó"
         ],
         "y": {
          "bdata": "AAAAAAAACEAAAAAAAAAIQAAAAAAAAABAAAAAAAAAAEAAAAAAAAAAQAAAAAAAAPA/AAAAAAAAAEAAAAAAAAAEQAAAAAAAAABAAAAAAAAA+D8AAAAAAAAAQAAAAAAAAARAAAAAAAAAAEAAAAAAAADgPwAAAAAAAARAAAAAAAAAAAAAAAAAAAD4PwAAAAAAAPA/AAAAAAAA8D8AAAAAAAAAAAAAAAAAAPg/AAAAAAAA8L8AAAAAAADwvwAAAAAAAPi/AAAAAAAAAAAAAAAAAAD4vwAAAAAAAPi/AAAAAAAA+L8AAAAAAADgvwAAAAAAAOC/AAAAAAAA8L8AAAAAAADwvwAAAAAAAATAAAAAAAAA4L8AAAAAAAAAwAAAAAAAAPi/AAAAAAAAAMAAAAAAAAAEwAAAAAAAAATAAAAAAAAAAMBmZmZmZmYGwAAAAAAAAATAAAAAAAAABMBmZmZmZmYGwA==",
          "dtype": "f8"
         }
        },
        {
         "customdata": [
          [
           "nurse"
          ],
          [
           "beautician"
          ],
          [
           "housekeeper"
          ],
          [
           "flight attendant"
          ],
          [
           "cleaner"
          ],
          [
           "model"
          ],
          [
           "cashier"
          ],
          [
           "caretaker"
          ],
          [
           "hairdresser"
          ],
          [
           "HR specialist"
          ],
          [
           "shop assistant"
          ],
          [
           "receptionist"
          ],
          [
           "dietitian"
          ],
          [
           "accountant"
          ],
          [
           "(male) nurse"
          ],
          [
           "waiter*"
          ],
          [
           "PR specialist"
          ],
          [
           "ticketseller"
          ],
          [
           "teacher"
          ],
          [
           "student"
          ],
          [
           "secretary"
          ],
          [
           "judge"
          ],
          [
           "waiter"
          ],
          [
           "scientist"
          ],
          [
           "doctor"
          ],
          [
           "manager"
          ],
          [
           "prosecutor"
          ],
          [
           "director"
          ],
          [
           "gardener"
          ],
          [
           "pathologist"
          ],
          [
           "professor"
          ],
          [
           "chef"
          ],
          [
           "engineer"
          ],
          [
           "lifeguard"
          ],
          [
           "CEO"
          ],
          [
           "architect"
          ],
          [
           "police officer"
          ],
          [
           "programmer"
          ],
          [
           "worker"
          ],
          [
           "farmer"
          ],
          [
           "pilot"
          ],
          [
           "soldier"
          ],
          [
           "security guard"
          ],
          [
           "firefighter"
          ]
         ],
         "hovertemplate": "Hungarian: %{x}<br>English: %{customdata[0]}<br>Deepseek: %{y:.2f}<extra></extra>",
         "line": {
          "color": "#3C5DFF",
          "dash": "dot",
          "width": 2
         },
         "marker": {
          "size": 6,
          "symbol": "circle"
         },
         "mode": "lines+markers",
         "name": "Deepseek",
         "type": "scatter",
         "x": [
          "nővér",
          "kozmetikus",
          "házvezető",
          "légiutas-kísérő",
          "takarító",
          "modell",
          "pénztáros",
          "gondozó",
          "fodrász",
          "HR-es",
          "bolti eladó",
          "recepciós",
          "dietetikus",
          "könyvelő",
          "ápoló",
          "felszolgáló",
          "PR munkatárs",
          "jegyárus",
          "tanár",
          "diák",
          "titkár",
          "bíró",
          "pincér",
          "tudós",
          "orvos",
          "menedzser",
          "ügyész",
          "rendező",
          "kertész",
          "kórboncnok",
          "professzor",
          "szakács",
          "mérnök",
          "vízimentő",
          "vezérigazgató",
          "építész",
          "rendőr",
          "programozó",
          "munkás",
          "földműves",
          "pilóta",
          "katona",
          "biztonsági őr",
          "tűzoltó"
         ],
         "y": {
          "bdata": "zczMzMzMBkAAAAAAAAAGQAAAAAAAAPg/MzMzMzMz/z+amZmZmZnJvzMzMzMzM9O/ZmZmZmZm/j+amZmZmZkBQJqZmZmZmek/AAAAAAAA4D/NzMzMzMz8P83MzMzMzABAZmZmZmZm/j+amZmZmZnZP2ZmZmZmZuY/MzMzMzMz4z9mZmZmZmbmP83MzMzMzOw/mpmZmZmZuT8AAAAAAAAAADMzMzMzM9M/AAAAAAAA4L8AAAAAAAD4v2ZmZmZmZva/mpmZmZmZ+b8zMzMzMzPzvwAAAAAAAPC/mpmZmZmZ8b9mZmZmZmbmv83MzMzMzPy/mpmZmZmZ6b8AAAAAAAD8vzMzMzMzMwPAzczMzMzMBsDNzMzMzMwAwJqZmZmZmQHAzczMzMzMBMBmZmZmZmYCwJqZmZmZmQXAzczMzMzMAMAzMzMzMzMDwJqZmZmZmQfAzczMzMzMBsDXo3A9CtcHwA==",
          "dtype": "f8"
         }
        }
       ],
       "layout": {
        "barmode": "relative",
        "legend": {
         "title": {
          "text": "Bias"
         },
         "tracegroupgap": 0
        },
        "template": {
         "data": {
          "bar": [
           {
            "error_x": {
             "color": "#2a3f5f"
            },
            "error_y": {
             "color": "#2a3f5f"
            },
            "marker": {
             "line": {
              "color": "#E5ECF6",
              "width": 0.5
             },
             "pattern": {
              "fillmode": "overlay",
              "size": 10,
              "solidity": 0.2
             }
            },
            "type": "bar"
           }
          ],
          "barpolar": [
           {
            "marker": {
             "line": {
              "color": "#E5ECF6",
              "width": 0.5
             },
             "pattern": {
              "fillmode": "overlay",
              "size": 10,
              "solidity": 0.2
             }
            },
            "type": "barpolar"
           }
          ],
          "carpet": [
           {
            "aaxis": {
             "endlinecolor": "#2a3f5f",
             "gridcolor": "white",
             "linecolor": "white",
             "minorgridcolor": "white",
             "startlinecolor": "#2a3f5f"
            },
            "baxis": {
             "endlinecolor": "#2a3f5f",
             "gridcolor": "white",
             "linecolor": "white",
             "minorgridcolor": "white",
             "startlinecolor": "#2a3f5f"
            },
            "type": "carpet"
           }
          ],
          "choropleth": [
           {
            "colorbar": {
             "outlinewidth": 0,
             "ticks": ""
            },
            "type": "choropleth"
           }
          ],
          "contour": [
           {
            "colorbar": {
             "outlinewidth": 0,
             "ticks": ""
            },
            "colorscale": [
             [
              0,
              "#0d0887"
             ],
             [
              0.1111111111111111,
              "#46039f"
             ],
             [
              0.2222222222222222,
              "#7201a8"
             ],
             [
              0.3333333333333333,
              "#9c179e"
             ],
             [
              0.4444444444444444,
              "#bd3786"
             ],
             [
              0.5555555555555556,
              "#d8576b"
             ],
             [
              0.6666666666666666,
              "#ed7953"
             ],
             [
              0.7777777777777778,
              "#fb9f3a"
             ],
             [
              0.8888888888888888,
              "#fdca26"
             ],
             [
              1,
              "#f0f921"
             ]
            ],
            "type": "contour"
           }
          ],
          "contourcarpet": [
           {
            "colorbar": {
             "outlinewidth": 0,
             "ticks": ""
            },
            "type": "contourcarpet"
           }
          ],
          "heatmap": [
           {
            "colorbar": {
             "outlinewidth": 0,
             "ticks": ""
            },
            "colorscale": [
             [
              0,
              "#0d0887"
             ],
             [
              0.1111111111111111,
              "#46039f"
             ],
             [
              0.2222222222222222,
              "#7201a8"
             ],
             [
              0.3333333333333333,
              "#9c179e"
             ],
             [
              0.4444444444444444,
              "#bd3786"
             ],
             [
              0.5555555555555556,
              "#d8576b"
             ],
             [
              0.6666666666666666,
              "#ed7953"
             ],
             [
              0.7777777777777778,
              "#fb9f3a"
             ],
             [
              0.8888888888888888,
              "#fdca26"
             ],
             [
              1,
              "#f0f921"
             ]
            ],
            "type": "heatmap"
           }
          ],
          "histogram": [
           {
            "marker": {
             "pattern": {
              "fillmode": "overlay",
              "size": 10,
              "solidity": 0.2
             }
            },
            "type": "histogram"
           }
          ],
          "histogram2d": [
           {
            "colorbar": {
             "outlinewidth": 0,
             "ticks": ""
            },
            "colorscale": [
             [
              0,
              "#0d0887"
             ],
             [
              0.1111111111111111,
              "#46039f"
             ],
             [
              0.2222222222222222,
              "#7201a8"
             ],
             [
              0.3333333333333333,
              "#9c179e"
             ],
             [
              0.4444444444444444,
              "#bd3786"
             ],
             [
              0.5555555555555556,
              "#d8576b"
             ],
             [
              0.6666666666666666,
              "#ed7953"
             ],
             [
              0.7777777777777778,
              "#fb9f3a"
             ],
             [
              0.8888888888888888,
              "#fdca26"
             ],
             [
              1,
              "#f0f921"
             ]
            ],
            "type": "histogram2d"
           }
          ],
          "histogram2dcontour": [
           {
            "colorbar": {
             "outlinewidth": 0,
             "ticks": ""
            },
            "colorscale": [
             [
              0,
              "#0d0887"
             ],
             [
              0.1111111111111111,
              "#46039f"
             ],
             [
              0.2222222222222222,
              "#7201a8"
             ],
             [
              0.3333333333333333,
              "#9c179e"
             ],
             [
              0.4444444444444444,
              "#bd3786"
             ],
             [
              0.5555555555555556,
              "#d8576b"
             ],
             [
              0.6666666666666666,
              "#ed7953"
             ],
             [
              0.7777777777777778,
              "#fb9f3a"
             ],
             [
              0.8888888888888888,
              "#fdca26"
             ],
             [
              1,
              "#f0f921"
             ]
            ],
            "type": "histogram2dcontour"
           }
          ],
          "mesh3d": [
           {
            "colorbar": {
             "outlinewidth": 0,
             "ticks": ""
            },
            "type": "mesh3d"
           }
          ],
          "parcoords": [
           {
            "line": {
             "colorbar": {
              "outlinewidth": 0,
              "ticks": ""
             }
            },
            "type": "parcoords"
           }
          ],
          "pie": [
           {
            "automargin": true,
            "type": "pie"
           }
          ],
          "scatter": [
           {
            "fillpattern": {
             "fillmode": "overlay",
             "size": 10,
             "solidity": 0.2
            },
            "type": "scatter"
           }
          ],
          "scatter3d": [
           {
            "line": {
             "colorbar": {
              "outlinewidth": 0,
              "ticks": ""
             }
            },
            "marker": {
             "colorbar": {
              "outlinewidth": 0,
              "ticks": ""
             }
            },
            "type": "scatter3d"
           }
          ],
          "scattercarpet": [
           {
            "marker": {
             "colorbar": {
              "outlinewidth": 0,
              "ticks": ""
             }
            },
            "type": "scattercarpet"
           }
          ],
          "scattergeo": [
           {
            "marker": {
             "colorbar": {
              "outlinewidth": 0,
              "ticks": ""
             }
            },
            "type": "scattergeo"
           }
          ],
          "scattergl": [
           {
            "marker": {
             "colorbar": {
              "outlinewidth": 0,
              "ticks": ""
             }
            },
            "type": "scattergl"
           }
          ],
          "scattermap": [
           {
            "marker": {
             "colorbar": {
              "outlinewidth": 0,
              "ticks": ""
             }
            },
            "type": "scattermap"
           }
          ],
          "scattermapbox": [
           {
            "marker": {
             "colorbar": {
              "outlinewidth": 0,
              "ticks": ""
             }
            },
            "type": "scattermapbox"
           }
          ],
          "scatterpolar": [
           {
            "marker": {
             "colorbar": {
              "outlinewidth": 0,
              "ticks": ""
             }
            },
            "type": "scatterpolar"
           }
          ],
          "scatterpolargl": [
           {
            "marker": {
             "colorbar": {
              "outlinewidth": 0,
              "ticks": ""
             }
            },
            "type": "scatterpolargl"
           }
          ],
          "scatterternary": [
           {
            "marker": {
             "colorbar": {
              "outlinewidth": 0,
              "ticks": ""
             }
            },
            "type": "scatterternary"
           }
          ],
          "surface": [
           {
            "colorbar": {
             "outlinewidth": 0,
             "ticks": ""
            },
            "colorscale": [
             [
              0,
              "#0d0887"
             ],
             [
              0.1111111111111111,
              "#46039f"
             ],
             [
              0.2222222222222222,
              "#7201a8"
             ],
             [
              0.3333333333333333,
              "#9c179e"
             ],
             [
              0.4444444444444444,
              "#bd3786"
             ],
             [
              0.5555555555555556,
              "#d8576b"
             ],
             [
              0.6666666666666666,
              "#ed7953"
             ],
             [
              0.7777777777777778,
              "#fb9f3a"
             ],
             [
              0.8888888888888888,
              "#fdca26"
             ],
             [
              1,
              "#f0f921"
             ]
            ],
            "type": "surface"
           }
          ],
          "table": [
           {
            "cells": {
             "fill": {
              "color": "#EBF0F8"
             },
             "line": {
              "color": "white"
             }
            },
            "header": {
             "fill": {
              "color": "#C8D4E3"
             },
             "line": {
              "color": "white"
             }
            },
            "type": "table"
           }
          ]
         },
         "layout": {
          "annotationdefaults": {
           "arrowcolor": "#2a3f5f",
           "arrowhead": 0,
           "arrowwidth": 1
          },
          "autotypenumbers": "strict",
          "coloraxis": {
           "colorbar": {
            "outlinewidth": 0,
            "ticks": ""
           }
          },
          "colorscale": {
           "diverging": [
            [
             0,
             "#8e0152"
            ],
            [
             0.1,
             "#c51b7d"
            ],
            [
             0.2,
             "#de77ae"
            ],
            [
             0.3,
             "#f1b6da"
            ],
            [
             0.4,
             "#fde0ef"
            ],
            [
             0.5,
             "#f7f7f7"
            ],
            [
             0.6,
             "#e6f5d0"
            ],
            [
             0.7,
             "#b8e186"
            ],
            [
             0.8,
             "#7fbc41"
            ],
            [
             0.9,
             "#4d9221"
            ],
            [
             1,
             "#276419"
            ]
           ],
           "sequential": [
            [
             0,
             "#0d0887"
            ],
            [
             0.1111111111111111,
             "#46039f"
            ],
            [
             0.2222222222222222,
             "#7201a8"
            ],
            [
             0.3333333333333333,
             "#9c179e"
            ],
            [
             0.4444444444444444,
             "#bd3786"
            ],
            [
             0.5555555555555556,
             "#d8576b"
            ],
            [
             0.6666666666666666,
             "#ed7953"
            ],
            [
             0.7777777777777778,
             "#fb9f3a"
            ],
            [
             0.8888888888888888,
             "#fdca26"
            ],
            [
             1,
             "#f0f921"
            ]
           ],
           "sequentialminus": [
            [
             0,
             "#0d0887"
            ],
            [
             0.1111111111111111,
             "#46039f"
            ],
            [
             0.2222222222222222,
             "#7201a8"
            ],
            [
             0.3333333333333333,
             "#9c179e"
            ],
            [
             0.4444444444444444,
             "#bd3786"
            ],
            [
             0.5555555555555556,
             "#d8576b"
            ],
            [
             0.6666666666666666,
             "#ed7953"
            ],
            [
             0.7777777777777778,
             "#fb9f3a"
            ],
            [
             0.8888888888888888,
             "#fdca26"
            ],
            [
             1,
             "#f0f921"
            ]
           ]
          },
          "colorway": [
           "#636efa",
           "#EF553B",
           "#00cc96",
           "#ab63fa",
           "#FFA15A",
           "#19d3f3",
           "#FF6692",
           "#B6E880",
           "#FF97FF",
           "#FECB52"
          ],
          "font": {
           "color": "#2a3f5f"
          },
          "geo": {
           "bgcolor": "white",
           "lakecolor": "white",
           "landcolor": "#E5ECF6",
           "showlakes": true,
           "showland": true,
           "subunitcolor": "white"
          },
          "hoverlabel": {
           "align": "left"
          },
          "hovermode": "closest",
          "mapbox": {
           "style": "light"
          },
          "paper_bgcolor": "white",
          "plot_bgcolor": "#E5ECF6",
          "polar": {
           "angularaxis": {
            "gridcolor": "white",
            "linecolor": "white",
            "ticks": ""
           },
           "bgcolor": "#E5ECF6",
           "radialaxis": {
            "gridcolor": "white",
            "linecolor": "white",
            "ticks": ""
           }
          },
          "scene": {
           "xaxis": {
            "backgroundcolor": "#E5ECF6",
            "gridcolor": "white",
            "gridwidth": 2,
            "linecolor": "white",
            "showbackground": true,
            "ticks": "",
            "zerolinecolor": "white"
           },
           "yaxis": {
            "backgroundcolor": "#E5ECF6",
            "gridcolor": "white",
            "gridwidth": 2,
            "linecolor": "white",
            "showbackground": true,
            "ticks": "",
            "zerolinecolor": "white"
           },
           "zaxis": {
            "backgroundcolor": "#E5ECF6",
            "gridcolor": "white",
            "gridwidth": 2,
            "linecolor": "white",
            "showbackground": true,
            "ticks": "",
            "zerolinecolor": "white"
           }
          },
          "shapedefaults": {
           "line": {
            "color": "#2a3f5f"
           }
          },
          "ternary": {
           "aaxis": {
            "gridcolor": "white",
            "linecolor": "white",
            "ticks": ""
           },
           "baxis": {
            "gridcolor": "white",
            "linecolor": "white",
            "ticks": ""
           },
           "bgcolor": "#E5ECF6",
           "caxis": {
            "gridcolor": "white",
            "linecolor": "white",
            "ticks": ""
           }
          },
          "title": {
           "x": 0.05
          },
          "xaxis": {
           "automargin": true,
           "gridcolor": "white",
           "linecolor": "white",
           "ticks": "",
           "title": {
            "standoff": 15
           },
           "zerolinecolor": "white",
           "zerolinewidth": 2
          },
          "yaxis": {
           "automargin": true,
           "gridcolor": "white",
           "linecolor": "white",
           "ticks": "",
           "title": {
            "standoff": 15
           },
           "zerolinecolor": "white",
           "zerolinewidth": 2
          }
         }
        },
        "title": {
         "text": "Mean Rating of Occupational Titles (Gender Bias Highlighted)"
        },
        "xaxis": {
         "anchor": "y",
         "domain": [
          0,
          1
         ],
         "tickangle": -45,
         "title": {
          "text": "Hungarian"
         }
        },
        "yaxis": {
         "anchor": "x",
         "domain": [
          0,
          1
         ],
         "range": [
          -3,
          3
         ],
         "tickvals": [
          -3,
          -2,
          -1,
          0,
          1,
          2,
          3
         ],
         "title": {
          "text": "Mean Rating"
         }
        }
       }
      }
     },
     "metadata": {},
     "output_type": "display_data"
    }
   ],
   "source": [
    "# Plot the Hungarian data with LLM reference lines\n",
    "fig = px.bar(\n",
    "    df_hu_plot,\n",
    "    x='hu',\n",
    "    y='hu_mean',\n",
    "    color='bias',\n",
    "    color_discrete_map=color_map,\n",
    "    title='Mean Rating of Occupational Titles (Gender Bias Highlighted)',\n",
    "    labels={'hu': 'Hungarian', 'en': 'English', 'bias': 'Bias', 'hu_mean': 'Rating'},\n",
    "    hover_data=['zh', 'en', 'hu_mean']\n",
    ")\n",
    "\n",
    "# Add ChatGPT reference line\n",
    "fig.add_trace(\n",
    "    go.Scatter(\n",
    "        x=df_hu_plot['hu'],\n",
    "        y=df_hu_plot['chatgpt'],\n",
    "        mode='lines+markers',\n",
    "        name='ChatGPT',\n",
    "        line=dict(color='#00A67E', width=2, dash='dot'),\n",
    "        marker=dict(symbol='circle', size=6),\n",
    "        hovertemplate='Hungarian: %{x}<br>English: %{customdata[0]}<br>ChatGPT: %{y:.2f}<extra></extra>',\n",
    "        customdata=df_hu_plot[['en']]\n",
    "    )\n",
    ")\n",
    "\n",
    "# Add Copilot reference line\n",
    "fig.add_trace(\n",
    "    go.Scatter(\n",
    "        x=df_hu_plot['hu'],\n",
    "        y=df_hu_plot['copilot'],\n",
    "        mode='lines+markers',\n",
    "        name='Copilot',\n",
    "        line=dict(color=\"#F2AD22\", width=2, dash='dot'),\n",
    "        marker=dict(symbol='circle', size=6),\n",
    "        hovertemplate='Hungarian: %{x}<br>English: %{customdata[0]}<br>Copilot: %{y:.2f}<extra></extra>',\n",
    "        customdata=df_hu_plot[['en']]\n",
    "    ))\n",
    "\n",
    "# Add Gemini reference line\n",
    "fig.add_trace(\n",
    "    go.Scatter(\n",
    "        x=df_hu_plot['hu'],\n",
    "        y=df_hu_plot['gemini'],\n",
    "        mode='lines+markers',\n",
    "        name='Gemini',\n",
    "        line=dict(color='#9177C7', width=2, dash='dot'),\n",
    "        marker=dict(symbol='circle', size=6),\n",
    "        hovertemplate='Hungarian: %{x}<br>English: %{customdata[0]}<br>Gemini: %{y:.2f}<extra></extra>',\n",
    "        customdata=df_hu_plot[['en']]\n",
    "    ))\n",
    "\n",
    "\n",
    "# Add Deepseek reference line\n",
    "fig.add_trace(\n",
    "    go.Scatter(\n",
    "        x=df_hu_plot['hu'],\n",
    "        y=df_hu_plot['deepseek'],\n",
    "        mode='lines+markers',\n",
    "        name='Deepseek',\n",
    "        line=dict(color='#3C5DFF', width=2, dash='dot'),\n",
    "        marker=dict(symbol='circle', size=6),\n",
    "        hovertemplate='Hungarian: %{x}<br>English: %{customdata[0]}<br>Deepseek: %{y:.2f}<extra></extra>',\n",
    "        customdata=df_hu_plot[['en']]\n",
    "    ))\n",
    "\n",
    "fig.update_layout(\n",
    "    xaxis_tickangle=-45,\n",
    "    yaxis=dict(\n",
    "        range=[-3, 3],\n",
    "        tickvals=[-3, -2, -1, 0, 1, 2, 3],\n",
    "        title='Mean Rating'\n",
    "    ))\n",
    "\n",
    "fig.show()\n",
    "\n",
    "# Save as HTML and image\n",
    "fig.write_html('occupations_hu_llms.html')\n",
    "fig.write_image('occupations_hu_llms.png', scale=2, width=1000, height=500)"
   ]
  },
  {
   "cell_type": "markdown",
   "id": "853d0fcd",
   "metadata": {},
   "source": [
    "## Chinese data"
   ]
  },
  {
   "cell_type": "code",
   "execution_count": 16,
   "id": "86678edd",
   "metadata": {},
   "outputs": [
    {
     "name": "stdout",
     "output_type": "stream",
     "text": [
      "Number of participants: 17\n",
      "Number of words: 41\n"
     ]
    },
    {
     "data": {
      "text/html": [
       "<div>\n",
       "<style scoped>\n",
       "    .dataframe tbody tr th:only-of-type {\n",
       "        vertical-align: middle;\n",
       "    }\n",
       "\n",
       "    .dataframe tbody tr th {\n",
       "        vertical-align: top;\n",
       "    }\n",
       "\n",
       "    .dataframe thead th {\n",
       "        text-align: right;\n",
       "    }\n",
       "</style>\n",
       "<table border=\"1\" class=\"dataframe\">\n",
       "  <thead>\n",
       "    <tr style=\"text-align: right;\">\n",
       "      <th></th>\n",
       "      <th>ID</th>\n",
       "      <th>警察</th>\n",
       "      <th>秘书</th>\n",
       "      <th>教授</th>\n",
       "      <th>护士</th>\n",
       "      <th>高管</th>\n",
       "      <th>教师</th>\n",
       "      <th>前台</th>\n",
       "      <th>工人</th>\n",
       "      <th>公关</th>\n",
       "      <th>...</th>\n",
       "      <th>程序员</th>\n",
       "      <th>保安</th>\n",
       "      <th>导演</th>\n",
       "      <th>军人</th>\n",
       "      <th>董事长</th>\n",
       "      <th>消防员</th>\n",
       "      <th>科学家</th>\n",
       "      <th>检察官</th>\n",
       "      <th>救生员</th>\n",
       "      <th>建筑师</th>\n",
       "    </tr>\n",
       "  </thead>\n",
       "  <tbody>\n",
       "    <tr>\n",
       "      <th>0</th>\n",
       "      <td>1</td>\n",
       "      <td>-2</td>\n",
       "      <td>1</td>\n",
       "      <td>0</td>\n",
       "      <td>1</td>\n",
       "      <td>0</td>\n",
       "      <td>1</td>\n",
       "      <td>1</td>\n",
       "      <td>-1</td>\n",
       "      <td>0</td>\n",
       "      <td>...</td>\n",
       "      <td>0</td>\n",
       "      <td>-1</td>\n",
       "      <td>0</td>\n",
       "      <td>-2</td>\n",
       "      <td>0</td>\n",
       "      <td>-2</td>\n",
       "      <td>0</td>\n",
       "      <td>0</td>\n",
       "      <td>0</td>\n",
       "      <td>0</td>\n",
       "    </tr>\n",
       "    <tr>\n",
       "      <th>1</th>\n",
       "      <td>4</td>\n",
       "      <td>-2</td>\n",
       "      <td>2</td>\n",
       "      <td>0</td>\n",
       "      <td>2</td>\n",
       "      <td>0</td>\n",
       "      <td>0</td>\n",
       "      <td>2</td>\n",
       "      <td>0</td>\n",
       "      <td>0</td>\n",
       "      <td>...</td>\n",
       "      <td>-2</td>\n",
       "      <td>-2</td>\n",
       "      <td>-1</td>\n",
       "      <td>-2</td>\n",
       "      <td>-2</td>\n",
       "      <td>-2</td>\n",
       "      <td>-2</td>\n",
       "      <td>-1</td>\n",
       "      <td>-2</td>\n",
       "      <td>-2</td>\n",
       "    </tr>\n",
       "    <tr>\n",
       "      <th>2</th>\n",
       "      <td>5</td>\n",
       "      <td>-1</td>\n",
       "      <td>2</td>\n",
       "      <td>0</td>\n",
       "      <td>2</td>\n",
       "      <td>0</td>\n",
       "      <td>1</td>\n",
       "      <td>1</td>\n",
       "      <td>-2</td>\n",
       "      <td>0</td>\n",
       "      <td>...</td>\n",
       "      <td>-2</td>\n",
       "      <td>-2</td>\n",
       "      <td>-1</td>\n",
       "      <td>-2</td>\n",
       "      <td>-1</td>\n",
       "      <td>-1</td>\n",
       "      <td>-1</td>\n",
       "      <td>-1</td>\n",
       "      <td>-2</td>\n",
       "      <td>-1</td>\n",
       "    </tr>\n",
       "    <tr>\n",
       "      <th>3</th>\n",
       "      <td>6</td>\n",
       "      <td>-1</td>\n",
       "      <td>0</td>\n",
       "      <td>-1</td>\n",
       "      <td>2</td>\n",
       "      <td>-1</td>\n",
       "      <td>1</td>\n",
       "      <td>1</td>\n",
       "      <td>0</td>\n",
       "      <td>0</td>\n",
       "      <td>...</td>\n",
       "      <td>-2</td>\n",
       "      <td>-2</td>\n",
       "      <td>-1</td>\n",
       "      <td>-2</td>\n",
       "      <td>-1</td>\n",
       "      <td>-2</td>\n",
       "      <td>-1</td>\n",
       "      <td>0</td>\n",
       "      <td>-1</td>\n",
       "      <td>-1</td>\n",
       "    </tr>\n",
       "    <tr>\n",
       "      <th>4</th>\n",
       "      <td>7</td>\n",
       "      <td>-2</td>\n",
       "      <td>2</td>\n",
       "      <td>-1</td>\n",
       "      <td>2</td>\n",
       "      <td>-1</td>\n",
       "      <td>2</td>\n",
       "      <td>2</td>\n",
       "      <td>-3</td>\n",
       "      <td>0</td>\n",
       "      <td>...</td>\n",
       "      <td>-2</td>\n",
       "      <td>-2</td>\n",
       "      <td>-1</td>\n",
       "      <td>-1</td>\n",
       "      <td>-2</td>\n",
       "      <td>-2</td>\n",
       "      <td>-1</td>\n",
       "      <td>-1</td>\n",
       "      <td>-2</td>\n",
       "      <td>-2</td>\n",
       "    </tr>\n",
       "  </tbody>\n",
       "</table>\n",
       "<p>5 rows × 41 columns</p>\n",
       "</div>"
      ],
      "text/plain": [
       "   ID  警察  秘书  教授  护士  高管  教师  前台  工人  公关  ...  程序员  保安  导演  军人  董事长  消防员  \\\n",
       "0   1  -2   1   0   1   0   1   1  -1   0  ...    0  -1   0  -2    0   -2   \n",
       "1   4  -2   2   0   2   0   0   2   0   0  ...   -2  -2  -1  -2   -2   -2   \n",
       "2   5  -1   2   0   2   0   1   1  -2   0  ...   -2  -2  -1  -2   -1   -1   \n",
       "3   6  -1   0  -1   2  -1   1   1   0   0  ...   -2  -2  -1  -2   -1   -2   \n",
       "4   7  -2   2  -1   2  -1   2   2  -3   0  ...   -2  -2  -1  -1   -2   -2   \n",
       "\n",
       "   科学家  检察官  救生员  建筑师  \n",
       "0    0    0    0    0  \n",
       "1   -2   -1   -2   -2  \n",
       "2   -1   -1   -2   -1  \n",
       "3   -1    0   -1   -1  \n",
       "4   -1   -1   -2   -2  \n",
       "\n",
       "[5 rows x 41 columns]"
      ]
     },
     "execution_count": 16,
     "metadata": {},
     "output_type": "execute_result"
    }
   ],
   "source": [
    "# Read Chinese data from hu.xlsx\n",
    "df_zh = pd.read_excel('ratings_zh.xlsx')\n",
    "\n",
    "# Define Chinese attention checks #######################################\n",
    "zh_attention_checks = ['妈妈', '女画家', '女作家', '爸爸', '男演员', '男作家']\n",
    "\n",
    "# Drop attention checks\n",
    "df_zh.drop(columns=zh_attention_checks, inplace=True)\n",
    "\n",
    "# Define the mapping for ratings\n",
    "rating_map = {\n",
    "    '完全由男性担任': -3,\n",
    "    '大多由男性担任': -2,\n",
    "    '较多由男性担任': -1,\n",
    "    '男女比例大致相当': 0,\n",
    "    '较多由女性担任': 1,\n",
    "    '大多由女性担任': 2,\n",
    "    '完全由女性担任': 3\n",
    "}\n",
    "\n",
    "# Get columns to convert (skip non-rating columns)\n",
    "rating_columns = df_zh.columns[1:]  # assuming first 8 columns are not ratings\n",
    "\n",
    "# Replace and explicitly infer objects to avoid warning\n",
    "for col in rating_columns:\n",
    "    df_zh[col] = df_zh[col].map(rating_map)\n",
    "\n",
    "# Count and print participants based on unique Participant id\n",
    "num_participants = df_zh['ID'].nunique()\n",
    "print(f'Number of participants: {num_participants}')\n",
    "\n",
    "# Count the number of columns starting with the 8th.\n",
    "num_columns = len(df_zh.columns)\n",
    "print(f'Number of words: {num_columns}')\n",
    "\n",
    "# Show\n",
    "df_zh.head()"
   ]
  },
  {
   "cell_type": "markdown",
   "id": "641a696c",
   "metadata": {},
   "source": [
    "### Analysis"
   ]
  },
  {
   "cell_type": "markdown",
   "id": "132294f7",
   "metadata": {},
   "source": [
    "#### Two Sample T-Test by Gender"
   ]
  },
  {
   "cell_type": "code",
   "execution_count": null,
   "id": "0020f4b1",
   "metadata": {},
   "outputs": [],
   "source": []
  },
  {
   "cell_type": "markdown",
   "id": "a7d4af3e",
   "metadata": {},
   "source": [
    "#### Transpose"
   ]
  },
  {
   "cell_type": "code",
   "execution_count": 17,
   "id": "3ac3cef0",
   "metadata": {},
   "outputs": [
    {
     "data": {
      "text/html": [
       "<div>\n",
       "<style scoped>\n",
       "    .dataframe tbody tr th:only-of-type {\n",
       "        vertical-align: middle;\n",
       "    }\n",
       "\n",
       "    .dataframe tbody tr th {\n",
       "        vertical-align: top;\n",
       "    }\n",
       "\n",
       "    .dataframe thead th {\n",
       "        text-align: right;\n",
       "    }\n",
       "</style>\n",
       "<table border=\"1\" class=\"dataframe\">\n",
       "  <thead>\n",
       "    <tr style=\"text-align: right;\">\n",
       "      <th></th>\n",
       "      <th>0</th>\n",
       "      <th>1</th>\n",
       "      <th>2</th>\n",
       "      <th>3</th>\n",
       "      <th>4</th>\n",
       "      <th>5</th>\n",
       "      <th>6</th>\n",
       "      <th>7</th>\n",
       "      <th>8</th>\n",
       "      <th>9</th>\n",
       "      <th>10</th>\n",
       "      <th>11</th>\n",
       "      <th>12</th>\n",
       "      <th>13</th>\n",
       "      <th>14</th>\n",
       "      <th>15</th>\n",
       "      <th>16</th>\n",
       "    </tr>\n",
       "  </thead>\n",
       "  <tbody>\n",
       "    <tr>\n",
       "      <th>警察</th>\n",
       "      <td>-2</td>\n",
       "      <td>-2</td>\n",
       "      <td>-1</td>\n",
       "      <td>-1</td>\n",
       "      <td>-2</td>\n",
       "      <td>-2</td>\n",
       "      <td>-2</td>\n",
       "      <td>-2</td>\n",
       "      <td>-1</td>\n",
       "      <td>-1</td>\n",
       "      <td>-2</td>\n",
       "      <td>-3</td>\n",
       "      <td>-2</td>\n",
       "      <td>-3</td>\n",
       "      <td>-2</td>\n",
       "      <td>-2</td>\n",
       "      <td>-2</td>\n",
       "    </tr>\n",
       "    <tr>\n",
       "      <th>秘书</th>\n",
       "      <td>1</td>\n",
       "      <td>2</td>\n",
       "      <td>2</td>\n",
       "      <td>0</td>\n",
       "      <td>2</td>\n",
       "      <td>2</td>\n",
       "      <td>2</td>\n",
       "      <td>1</td>\n",
       "      <td>-1</td>\n",
       "      <td>2</td>\n",
       "      <td>2</td>\n",
       "      <td>3</td>\n",
       "      <td>1</td>\n",
       "      <td>1</td>\n",
       "      <td>1</td>\n",
       "      <td>2</td>\n",
       "      <td>1</td>\n",
       "    </tr>\n",
       "    <tr>\n",
       "      <th>教授</th>\n",
       "      <td>0</td>\n",
       "      <td>0</td>\n",
       "      <td>0</td>\n",
       "      <td>-1</td>\n",
       "      <td>-1</td>\n",
       "      <td>-2</td>\n",
       "      <td>-1</td>\n",
       "      <td>0</td>\n",
       "      <td>0</td>\n",
       "      <td>-1</td>\n",
       "      <td>0</td>\n",
       "      <td>-1</td>\n",
       "      <td>-2</td>\n",
       "      <td>-2</td>\n",
       "      <td>0</td>\n",
       "      <td>0</td>\n",
       "      <td>0</td>\n",
       "    </tr>\n",
       "    <tr>\n",
       "      <th>护士</th>\n",
       "      <td>1</td>\n",
       "      <td>2</td>\n",
       "      <td>2</td>\n",
       "      <td>2</td>\n",
       "      <td>2</td>\n",
       "      <td>2</td>\n",
       "      <td>2</td>\n",
       "      <td>2</td>\n",
       "      <td>2</td>\n",
       "      <td>2</td>\n",
       "      <td>1</td>\n",
       "      <td>3</td>\n",
       "      <td>2</td>\n",
       "      <td>2</td>\n",
       "      <td>2</td>\n",
       "      <td>2</td>\n",
       "      <td>2</td>\n",
       "    </tr>\n",
       "    <tr>\n",
       "      <th>高管</th>\n",
       "      <td>0</td>\n",
       "      <td>0</td>\n",
       "      <td>0</td>\n",
       "      <td>-1</td>\n",
       "      <td>-1</td>\n",
       "      <td>-2</td>\n",
       "      <td>-2</td>\n",
       "      <td>-1</td>\n",
       "      <td>0</td>\n",
       "      <td>-1</td>\n",
       "      <td>0</td>\n",
       "      <td>-2</td>\n",
       "      <td>-1</td>\n",
       "      <td>-1</td>\n",
       "      <td>0</td>\n",
       "      <td>0</td>\n",
       "      <td>-1</td>\n",
       "    </tr>\n",
       "  </tbody>\n",
       "</table>\n",
       "</div>"
      ],
      "text/plain": [
       "    0   1   2   3   4   5   6   7   8   9   10  11  12  13  14  15  16\n",
       "警察  -2  -2  -1  -1  -2  -2  -2  -2  -1  -1  -2  -3  -2  -3  -2  -2  -2\n",
       "秘书   1   2   2   0   2   2   2   1  -1   2   2   3   1   1   1   2   1\n",
       "教授   0   0   0  -1  -1  -2  -1   0   0  -1   0  -1  -2  -2   0   0   0\n",
       "护士   1   2   2   2   2   2   2   2   2   2   1   3   2   2   2   2   2\n",
       "高管   0   0   0  -1  -1  -2  -2  -1   0  -1   0  -2  -1  -1   0   0  -1"
      ]
     },
     "execution_count": 17,
     "metadata": {},
     "output_type": "execute_result"
    }
   ],
   "source": [
    "# Transpose results, a prepare a copy with only the ratings\n",
    "df_zh_ratings = df_zh[rating_columns].transpose()\n",
    "df_zh = df_zh.transpose()\n",
    "\n",
    "# Remove rows with index: ID, Start Time, Completion time, Email, Name, Participant id\n",
    "df_zh = df_zh.drop(['ID'], axis=0) \n",
    "\n",
    "# Show\n",
    "df_zh.head()"
   ]
  },
  {
   "cell_type": "markdown",
   "id": "37c54cf6",
   "metadata": {},
   "source": [
    "### One Sample T-test"
   ]
  },
  {
   "cell_type": "code",
   "execution_count": 18,
   "id": "ddecec3e",
   "metadata": {},
   "outputs": [
    {
     "name": "stdout",
     "output_type": "stream",
     "text": [
      "   item      mean       p_value\n",
      "0    警察 -1.882353  6.926729e-10\n",
      "1    秘书  1.411765  1.280319e-05\n",
      "2    教授 -0.647059  3.701534e-03\n",
      "3    护士  1.941176  2.762582e-12\n",
      "4    高管 -0.764706  6.924293e-04\n",
      "5    教师  1.117647  2.710431e-04\n",
      "6    前台  1.588235  3.801807e-07\n",
      "7    工人 -1.588235  2.510694e-05\n",
      "8    公关  0.588235  1.319208e-02\n",
      "9    幼师  2.000000  1.827768e-11\n",
      "10   模特  1.117647  1.395229e-04\n",
      "11   护工  1.058824  1.005465e-03\n",
      "12   保姆  2.117647  1.092694e-09\n",
      "13   会计  0.705882  1.336629e-02\n",
      "14  工程师 -1.352941  2.524732e-06\n",
      "15   保洁  1.294118  2.958650e-04\n",
      "17  导购员  1.294118  2.697127e-05\n",
      "18  美容师  1.882353  6.926729e-10\n",
      "19  服务员  0.882353  6.206554e-04\n",
      "20  乘务员  1.117647  1.395229e-04\n",
      "21  理发师 -1.058824  2.510694e-05\n",
      "22  空服员  1.000000  7.969979e-04\n",
      "23  售票员  1.000000  7.969979e-04\n",
      "24   厨师 -1.529412  1.601761e-07\n",
      "25  营养师  0.588235  1.319208e-02\n",
      "26  家政员  1.235294  4.096206e-03\n",
      "27  收银员  1.529412  6.696565e-07\n",
      "28   医生 -0.705882  1.803579e-02\n",
      "29   法医 -0.823529  4.096206e-03\n",
      "30  程序员 -1.470588  8.348424e-06\n",
      "31   保安 -2.058824  5.815362e-11\n",
      "32   导演 -1.000000  2.554369e-05\n",
      "33   军人 -1.705882  1.937965e-08\n",
      "34  董事长 -1.235294  3.705792e-05\n",
      "35  消防员 -2.000000  3.109305e-09\n",
      "36  科学家 -1.058824  7.484609e-05\n",
      "37  检察官 -1.058824  1.758016e-04\n",
      "38  救生员 -1.764706  1.696706e-07\n",
      "39  建筑师 -1.764706  7.616580e-09\n",
      "\n",
      "Range of mean ratings where the rating is not significant: -0.35294117647058826 to -0.35294117647058826\n"
     ]
    }
   ],
   "source": [
    "# One Sample T-test\n",
    "results = []\n",
    "\n",
    "for index, row in df_zh_ratings.iterrows():\n",
    "    ratings = row.dropna().astype(float)\n",
    "    t_stat, p_value = stats.ttest_1samp(ratings, popmean=0)\n",
    "    mean_rating = ratings.mean()\n",
    "    results.append({\n",
    "        'item': index,  # item name from index\n",
    "        'mean': mean_rating,\n",
    "        't_stat': t_stat,\n",
    "        'p_value': p_value,\n",
    "        'significant': p_value < 0.05\n",
    "    })\n",
    "\n",
    "df_results = pd.DataFrame(results)\n",
    "\n",
    "# Print significant results\n",
    "print(df_results[df_results['significant']][['item', 'mean', 'p_value']])\n",
    "\n",
    "# Filter for non-significant ratings\n",
    "not_significant = df_results[~df_results['significant']]\n",
    "\n",
    "# Get the min and max of the mean ratings where not significant\n",
    "mean_min = not_significant['mean'].min()\n",
    "mean_max = not_significant['mean'].max()\n",
    "\n",
    "# Print the range of mean ratings where the rating is not significant\n",
    "print(f\"\\nRange of mean ratings where the rating is not significant: {mean_min} to {mean_max}\")\n"
   ]
  },
  {
   "cell_type": "code",
   "execution_count": 19,
   "id": "6ea675a5",
   "metadata": {},
   "outputs": [
    {
     "data": {
      "application/vnd.plotly.v1+json": {
       "config": {
        "plotlyServerURL": "https://plot.ly"
       },
       "data": [
        {
         "customdata": {
          "bdata": "h1lwy2T4zz20ESNZb7UqPk4pcLjQzAc+tE0lT0JbQD4GUuNk1sWGPlOmnssJz1Q+azwJz5dT+j5dKGOMm3+FPiSlGaYGguE+ZF2N9NEtxT7da7x91G0DPyA6v3/sCic/XjwJz5dT+j574HsV1p4TP4L5H7nUyPo+hpym3S7HcD8zdKWOhLBGPw24MYn5d5I/JN9t1q1Sbj909J2ScwSLP2r0nZJzBIs/SOUPjclfiz/t7+xQb1ZEP5ptpfSzHUo/mm2l9LMdSj8lEbDoOXlQPz7kucicSSI/xKAtWFnDMT8+5LnInEkiP3Ocpt0ux3A/OZttV8pjMz+qEcFwC0j8PprZmBep2eo+D3PKQk54pj4b69t0dIOZPk4pcLjQzAc+ssb8AshMiD150gz6tRi0PZDni++3xRI+",
          "dtype": "f8",
          "shape": "39, 1"
         },
         "hovertemplate": "significance=Significant<br>Item=%{x}<br>Mean Rating=%{y}<br>p_value=%{customdata[0]}<extra></extra>",
         "legendgroup": "Significant",
         "marker": {
          "color": "crimson",
          "pattern": {
           "shape": ""
          }
         },
         "name": "Significant",
         "orientation": "v",
         "showlegend": true,
         "textposition": "auto",
         "type": "bar",
         "x": [
          "保安",
          "消防员",
          "警察",
          "建筑师",
          "救生员",
          "军人",
          "工人",
          "厨师",
          "程序员",
          "工程师",
          "董事长",
          "检察官",
          "理发师",
          "科学家",
          "导演",
          "法医",
          "高管",
          "医生",
          "教授",
          "营养师",
          "公关",
          "会计",
          "服务员",
          "售票员",
          "空服员",
          "护工",
          "乘务员",
          "教师",
          "模特",
          "家政员",
          "保洁",
          "导购员",
          "秘书",
          "收银员",
          "前台",
          "美容师",
          "护士",
          "幼师",
          "保姆"
         ],
         "xaxis": "x",
         "y": {
          "bdata": "eHh4eHh4AMAAAAAAAAAAwB4eHh4eHv6/PDw8PDw8/L88PDw8PDz8v0tLS0tLS/u/aWlpaWlp+b94eHh4eHj4v4iHh4eHh/e/pqWlpaWl9b/Ew8PDw8Pzv/Hw8PDw8PC/8fDw8PDw8L/x8PDw8PDwvwAAAAAAAPC/WlpaWlpa6r94eHh4eHjov5eWlpaWlua/tbS0tLS05L/T0tLS0tLiP9PS0tLS0uI/l5aWlpaW5j88PDw8PDzsPwAAAAAAAPA/AAAAAAAA8D/x8PDw8PDwP+Lh4eHh4fE/4uHh4eHh8T/i4eHh4eHxP8TDw8PDw/M/tbS0tLS09D+1tLS0tLT0P5eWlpaWlvY/eHh4eHh4+D9paWlpaWn5Px4eHh4eHv4/Dw8PDw8P/z8AAAAAAAAAQPHw8PDw8ABA",
          "dtype": "f8"
         },
         "yaxis": "y"
        },
        {
         "customdata": {
          "bdata": "2sCOCIhVvD8=",
          "dtype": "f8",
          "shape": "1, 1"
         },
         "hovertemplate": "significance=Not Significant<br>Item=%{x}<br>Mean Rating=%{y}<br>p_value=%{customdata[0]}<extra></extra>",
         "legendgroup": "Not Significant",
         "marker": {
          "color": "lightgray",
          "pattern": {
           "shape": ""
          }
         },
         "name": "Not Significant",
         "orientation": "v",
         "showlegend": true,
         "textposition": "auto",
         "type": "bar",
         "x": [
          "法官"
         ],
         "xaxis": "x",
         "y": {
          "bdata": "l5aWlpaW1r8=",
          "dtype": "f8"
         },
         "yaxis": "y"
        }
       ],
       "layout": {
        "barmode": "relative",
        "legend": {
         "title": {
          "text": "significance"
         },
         "tracegroupgap": 0
        },
        "template": {
         "data": {
          "bar": [
           {
            "error_x": {
             "color": "#2a3f5f"
            },
            "error_y": {
             "color": "#2a3f5f"
            },
            "marker": {
             "line": {
              "color": "white",
              "width": 0.5
             },
             "pattern": {
              "fillmode": "overlay",
              "size": 10,
              "solidity": 0.2
             }
            },
            "type": "bar"
           }
          ],
          "barpolar": [
           {
            "marker": {
             "line": {
              "color": "white",
              "width": 0.5
             },
             "pattern": {
              "fillmode": "overlay",
              "size": 10,
              "solidity": 0.2
             }
            },
            "type": "barpolar"
           }
          ],
          "carpet": [
           {
            "aaxis": {
             "endlinecolor": "#2a3f5f",
             "gridcolor": "#C8D4E3",
             "linecolor": "#C8D4E3",
             "minorgridcolor": "#C8D4E3",
             "startlinecolor": "#2a3f5f"
            },
            "baxis": {
             "endlinecolor": "#2a3f5f",
             "gridcolor": "#C8D4E3",
             "linecolor": "#C8D4E3",
             "minorgridcolor": "#C8D4E3",
             "startlinecolor": "#2a3f5f"
            },
            "type": "carpet"
           }
          ],
          "choropleth": [
           {
            "colorbar": {
             "outlinewidth": 0,
             "ticks": ""
            },
            "type": "choropleth"
           }
          ],
          "contour": [
           {
            "colorbar": {
             "outlinewidth": 0,
             "ticks": ""
            },
            "colorscale": [
             [
              0,
              "#0d0887"
             ],
             [
              0.1111111111111111,
              "#46039f"
             ],
             [
              0.2222222222222222,
              "#7201a8"
             ],
             [
              0.3333333333333333,
              "#9c179e"
             ],
             [
              0.4444444444444444,
              "#bd3786"
             ],
             [
              0.5555555555555556,
              "#d8576b"
             ],
             [
              0.6666666666666666,
              "#ed7953"
             ],
             [
              0.7777777777777778,
              "#fb9f3a"
             ],
             [
              0.8888888888888888,
              "#fdca26"
             ],
             [
              1,
              "#f0f921"
             ]
            ],
            "type": "contour"
           }
          ],
          "contourcarpet": [
           {
            "colorbar": {
             "outlinewidth": 0,
             "ticks": ""
            },
            "type": "contourcarpet"
           }
          ],
          "heatmap": [
           {
            "colorbar": {
             "outlinewidth": 0,
             "ticks": ""
            },
            "colorscale": [
             [
              0,
              "#0d0887"
             ],
             [
              0.1111111111111111,
              "#46039f"
             ],
             [
              0.2222222222222222,
              "#7201a8"
             ],
             [
              0.3333333333333333,
              "#9c179e"
             ],
             [
              0.4444444444444444,
              "#bd3786"
             ],
             [
              0.5555555555555556,
              "#d8576b"
             ],
             [
              0.6666666666666666,
              "#ed7953"
             ],
             [
              0.7777777777777778,
              "#fb9f3a"
             ],
             [
              0.8888888888888888,
              "#fdca26"
             ],
             [
              1,
              "#f0f921"
             ]
            ],
            "type": "heatmap"
           }
          ],
          "histogram": [
           {
            "marker": {
             "pattern": {
              "fillmode": "overlay",
              "size": 10,
              "solidity": 0.2
             }
            },
            "type": "histogram"
           }
          ],
          "histogram2d": [
           {
            "colorbar": {
             "outlinewidth": 0,
             "ticks": ""
            },
            "colorscale": [
             [
              0,
              "#0d0887"
             ],
             [
              0.1111111111111111,
              "#46039f"
             ],
             [
              0.2222222222222222,
              "#7201a8"
             ],
             [
              0.3333333333333333,
              "#9c179e"
             ],
             [
              0.4444444444444444,
              "#bd3786"
             ],
             [
              0.5555555555555556,
              "#d8576b"
             ],
             [
              0.6666666666666666,
              "#ed7953"
             ],
             [
              0.7777777777777778,
              "#fb9f3a"
             ],
             [
              0.8888888888888888,
              "#fdca26"
             ],
             [
              1,
              "#f0f921"
             ]
            ],
            "type": "histogram2d"
           }
          ],
          "histogram2dcontour": [
           {
            "colorbar": {
             "outlinewidth": 0,
             "ticks": ""
            },
            "colorscale": [
             [
              0,
              "#0d0887"
             ],
             [
              0.1111111111111111,
              "#46039f"
             ],
             [
              0.2222222222222222,
              "#7201a8"
             ],
             [
              0.3333333333333333,
              "#9c179e"
             ],
             [
              0.4444444444444444,
              "#bd3786"
             ],
             [
              0.5555555555555556,
              "#d8576b"
             ],
             [
              0.6666666666666666,
              "#ed7953"
             ],
             [
              0.7777777777777778,
              "#fb9f3a"
             ],
             [
              0.8888888888888888,
              "#fdca26"
             ],
             [
              1,
              "#f0f921"
             ]
            ],
            "type": "histogram2dcontour"
           }
          ],
          "mesh3d": [
           {
            "colorbar": {
             "outlinewidth": 0,
             "ticks": ""
            },
            "type": "mesh3d"
           }
          ],
          "parcoords": [
           {
            "line": {
             "colorbar": {
              "outlinewidth": 0,
              "ticks": ""
             }
            },
            "type": "parcoords"
           }
          ],
          "pie": [
           {
            "automargin": true,
            "type": "pie"
           }
          ],
          "scatter": [
           {
            "fillpattern": {
             "fillmode": "overlay",
             "size": 10,
             "solidity": 0.2
            },
            "type": "scatter"
           }
          ],
          "scatter3d": [
           {
            "line": {
             "colorbar": {
              "outlinewidth": 0,
              "ticks": ""
             }
            },
            "marker": {
             "colorbar": {
              "outlinewidth": 0,
              "ticks": ""
             }
            },
            "type": "scatter3d"
           }
          ],
          "scattercarpet": [
           {
            "marker": {
             "colorbar": {
              "outlinewidth": 0,
              "ticks": ""
             }
            },
            "type": "scattercarpet"
           }
          ],
          "scattergeo": [
           {
            "marker": {
             "colorbar": {
              "outlinewidth": 0,
              "ticks": ""
             }
            },
            "type": "scattergeo"
           }
          ],
          "scattergl": [
           {
            "marker": {
             "colorbar": {
              "outlinewidth": 0,
              "ticks": ""
             }
            },
            "type": "scattergl"
           }
          ],
          "scattermap": [
           {
            "marker": {
             "colorbar": {
              "outlinewidth": 0,
              "ticks": ""
             }
            },
            "type": "scattermap"
           }
          ],
          "scattermapbox": [
           {
            "marker": {
             "colorbar": {
              "outlinewidth": 0,
              "ticks": ""
             }
            },
            "type": "scattermapbox"
           }
          ],
          "scatterpolar": [
           {
            "marker": {
             "colorbar": {
              "outlinewidth": 0,
              "ticks": ""
             }
            },
            "type": "scatterpolar"
           }
          ],
          "scatterpolargl": [
           {
            "marker": {
             "colorbar": {
              "outlinewidth": 0,
              "ticks": ""
             }
            },
            "type": "scatterpolargl"
           }
          ],
          "scatterternary": [
           {
            "marker": {
             "colorbar": {
              "outlinewidth": 0,
              "ticks": ""
             }
            },
            "type": "scatterternary"
           }
          ],
          "surface": [
           {
            "colorbar": {
             "outlinewidth": 0,
             "ticks": ""
            },
            "colorscale": [
             [
              0,
              "#0d0887"
             ],
             [
              0.1111111111111111,
              "#46039f"
             ],
             [
              0.2222222222222222,
              "#7201a8"
             ],
             [
              0.3333333333333333,
              "#9c179e"
             ],
             [
              0.4444444444444444,
              "#bd3786"
             ],
             [
              0.5555555555555556,
              "#d8576b"
             ],
             [
              0.6666666666666666,
              "#ed7953"
             ],
             [
              0.7777777777777778,
              "#fb9f3a"
             ],
             [
              0.8888888888888888,
              "#fdca26"
             ],
             [
              1,
              "#f0f921"
             ]
            ],
            "type": "surface"
           }
          ],
          "table": [
           {
            "cells": {
             "fill": {
              "color": "#EBF0F8"
             },
             "line": {
              "color": "white"
             }
            },
            "header": {
             "fill": {
              "color": "#C8D4E3"
             },
             "line": {
              "color": "white"
             }
            },
            "type": "table"
           }
          ]
         },
         "layout": {
          "annotationdefaults": {
           "arrowcolor": "#2a3f5f",
           "arrowhead": 0,
           "arrowwidth": 1
          },
          "autotypenumbers": "strict",
          "coloraxis": {
           "colorbar": {
            "outlinewidth": 0,
            "ticks": ""
           }
          },
          "colorscale": {
           "diverging": [
            [
             0,
             "#8e0152"
            ],
            [
             0.1,
             "#c51b7d"
            ],
            [
             0.2,
             "#de77ae"
            ],
            [
             0.3,
             "#f1b6da"
            ],
            [
             0.4,
             "#fde0ef"
            ],
            [
             0.5,
             "#f7f7f7"
            ],
            [
             0.6,
             "#e6f5d0"
            ],
            [
             0.7,
             "#b8e186"
            ],
            [
             0.8,
             "#7fbc41"
            ],
            [
             0.9,
             "#4d9221"
            ],
            [
             1,
             "#276419"
            ]
           ],
           "sequential": [
            [
             0,
             "#0d0887"
            ],
            [
             0.1111111111111111,
             "#46039f"
            ],
            [
             0.2222222222222222,
             "#7201a8"
            ],
            [
             0.3333333333333333,
             "#9c179e"
            ],
            [
             0.4444444444444444,
             "#bd3786"
            ],
            [
             0.5555555555555556,
             "#d8576b"
            ],
            [
             0.6666666666666666,
             "#ed7953"
            ],
            [
             0.7777777777777778,
             "#fb9f3a"
            ],
            [
             0.8888888888888888,
             "#fdca26"
            ],
            [
             1,
             "#f0f921"
            ]
           ],
           "sequentialminus": [
            [
             0,
             "#0d0887"
            ],
            [
             0.1111111111111111,
             "#46039f"
            ],
            [
             0.2222222222222222,
             "#7201a8"
            ],
            [
             0.3333333333333333,
             "#9c179e"
            ],
            [
             0.4444444444444444,
             "#bd3786"
            ],
            [
             0.5555555555555556,
             "#d8576b"
            ],
            [
             0.6666666666666666,
             "#ed7953"
            ],
            [
             0.7777777777777778,
             "#fb9f3a"
            ],
            [
             0.8888888888888888,
             "#fdca26"
            ],
            [
             1,
             "#f0f921"
            ]
           ]
          },
          "colorway": [
           "#636efa",
           "#EF553B",
           "#00cc96",
           "#ab63fa",
           "#FFA15A",
           "#19d3f3",
           "#FF6692",
           "#B6E880",
           "#FF97FF",
           "#FECB52"
          ],
          "font": {
           "color": "#2a3f5f"
          },
          "geo": {
           "bgcolor": "white",
           "lakecolor": "white",
           "landcolor": "white",
           "showlakes": true,
           "showland": true,
           "subunitcolor": "#C8D4E3"
          },
          "hoverlabel": {
           "align": "left"
          },
          "hovermode": "closest",
          "mapbox": {
           "style": "light"
          },
          "paper_bgcolor": "white",
          "plot_bgcolor": "white",
          "polar": {
           "angularaxis": {
            "gridcolor": "#EBF0F8",
            "linecolor": "#EBF0F8",
            "ticks": ""
           },
           "bgcolor": "white",
           "radialaxis": {
            "gridcolor": "#EBF0F8",
            "linecolor": "#EBF0F8",
            "ticks": ""
           }
          },
          "scene": {
           "xaxis": {
            "backgroundcolor": "white",
            "gridcolor": "#DFE8F3",
            "gridwidth": 2,
            "linecolor": "#EBF0F8",
            "showbackground": true,
            "ticks": "",
            "zerolinecolor": "#EBF0F8"
           },
           "yaxis": {
            "backgroundcolor": "white",
            "gridcolor": "#DFE8F3",
            "gridwidth": 2,
            "linecolor": "#EBF0F8",
            "showbackground": true,
            "ticks": "",
            "zerolinecolor": "#EBF0F8"
           },
           "zaxis": {
            "backgroundcolor": "white",
            "gridcolor": "#DFE8F3",
            "gridwidth": 2,
            "linecolor": "#EBF0F8",
            "showbackground": true,
            "ticks": "",
            "zerolinecolor": "#EBF0F8"
           }
          },
          "shapedefaults": {
           "line": {
            "color": "#2a3f5f"
           }
          },
          "ternary": {
           "aaxis": {
            "gridcolor": "#DFE8F3",
            "linecolor": "#A2B1C6",
            "ticks": ""
           },
           "baxis": {
            "gridcolor": "#DFE8F3",
            "linecolor": "#A2B1C6",
            "ticks": ""
           },
           "bgcolor": "white",
           "caxis": {
            "gridcolor": "#DFE8F3",
            "linecolor": "#A2B1C6",
            "ticks": ""
           }
          },
          "title": {
           "x": 0.05
          },
          "xaxis": {
           "automargin": true,
           "gridcolor": "#EBF0F8",
           "linecolor": "#EBF0F8",
           "ticks": "",
           "title": {
            "standoff": 15
           },
           "zerolinecolor": "#EBF0F8",
           "zerolinewidth": 2
          },
          "yaxis": {
           "automargin": true,
           "gridcolor": "#EBF0F8",
           "linecolor": "#EBF0F8",
           "ticks": "",
           "title": {
            "standoff": 15
           },
           "zerolinecolor": "#EBF0F8",
           "zerolinewidth": 2
          }
         }
        },
        "title": {
         "text": "One Sample T-test of Ratings from Likert Scale"
        },
        "xaxis": {
         "anchor": "y",
         "domain": [
          0,
          1
         ],
         "tickangle": -45,
         "title": {
          "text": "Item"
         }
        },
        "yaxis": {
         "anchor": "x",
         "domain": [
          0,
          1
         ],
         "title": {
          "text": "Mean Rating (Bias)"
         }
        }
       }
      }
     },
     "metadata": {},
     "output_type": "display_data"
    }
   ],
   "source": [
    "# Sort by mean for better readability\n",
    "df_results_sorted = df_results.sort_values(by='mean')\n",
    "\n",
    "# Create color labels\n",
    "df_results_sorted['significance'] = df_results_sorted['significant'].map({True: 'Significant', False: 'Not Significant'})\n",
    "\n",
    "# Plot\n",
    "fig = px.bar(\n",
    "    df_results_sorted,\n",
    "    x='item',\n",
    "    y='mean',\n",
    "    color='significance',\n",
    "    color_discrete_map={'Significant': 'crimson', 'Not Significant': 'lightgray'},\n",
    "    title='One Sample T-test of Ratings from Likert Scale',\n",
    "    labels={'item': 'Item', 'mean': 'Mean Rating'},\n",
    "    hover_data=['p_value']\n",
    ")\n",
    "\n",
    "fig.update_layout(\n",
    "    xaxis_tickangle=-45,\n",
    "    yaxis_title='Mean Rating (Bias)',\n",
    "    xaxis_title='Item',\n",
    "    template='plotly_white'\n",
    ")\n",
    "\n",
    "fig.show()\n",
    "\n",
    "# Save it as html\n",
    "fig.write_html('occupations_ttest_zh.html')\n",
    "\n",
    "# Save it as image\n",
    "fig.write_image('occupations_ttest_zh.png', scale=2, width=1000, height=500)"
   ]
  },
  {
   "cell_type": "markdown",
   "id": "5992f673",
   "metadata": {},
   "source": [
    "### Merge"
   ]
  },
  {
   "cell_type": "code",
   "execution_count": 20,
   "id": "1366b085",
   "metadata": {},
   "outputs": [
    {
     "data": {
      "text/html": [
       "<div>\n",
       "<style scoped>\n",
       "    .dataframe tbody tr th:only-of-type {\n",
       "        vertical-align: middle;\n",
       "    }\n",
       "\n",
       "    .dataframe tbody tr th {\n",
       "        vertical-align: top;\n",
       "    }\n",
       "\n",
       "    .dataframe thead th {\n",
       "        text-align: right;\n",
       "    }\n",
       "</style>\n",
       "<table border=\"1\" class=\"dataframe\">\n",
       "  <thead>\n",
       "    <tr style=\"text-align: right;\">\n",
       "      <th></th>\n",
       "      <th>#</th>\n",
       "      <th>hu</th>\n",
       "      <th>en</th>\n",
       "      <th>zh</th>\n",
       "      <th>0</th>\n",
       "      <th>1</th>\n",
       "      <th>2</th>\n",
       "      <th>3</th>\n",
       "      <th>4</th>\n",
       "      <th>5</th>\n",
       "      <th>...</th>\n",
       "      <th>14</th>\n",
       "      <th>15</th>\n",
       "      <th>16</th>\n",
       "      <th>chatgpt</th>\n",
       "      <th>copilot</th>\n",
       "      <th>gemini</th>\n",
       "      <th>deepseek</th>\n",
       "      <th>zh_mean</th>\n",
       "      <th>zh_p_value</th>\n",
       "      <th>zh_significant</th>\n",
       "    </tr>\n",
       "  </thead>\n",
       "  <tbody>\n",
       "    <tr>\n",
       "      <th>12</th>\n",
       "      <td>NaN</td>\n",
       "      <td>NaN</td>\n",
       "      <td>domestic helper</td>\n",
       "      <td>保姆</td>\n",
       "      <td>2</td>\n",
       "      <td>2</td>\n",
       "      <td>1</td>\n",
       "      <td>2</td>\n",
       "      <td>2</td>\n",
       "      <td>3</td>\n",
       "      <td>...</td>\n",
       "      <td>2</td>\n",
       "      <td>3</td>\n",
       "      <td>1</td>\n",
       "      <td>NaN</td>\n",
       "      <td>NaN</td>\n",
       "      <td>NaN</td>\n",
       "      <td>NaN</td>\n",
       "      <td>2.117647</td>\n",
       "      <td>1.092694e-09</td>\n",
       "      <td>True</td>\n",
       "    </tr>\n",
       "    <tr>\n",
       "      <th>9</th>\n",
       "      <td>NaN</td>\n",
       "      <td>NaN</td>\n",
       "      <td>kindergarten teacher</td>\n",
       "      <td>幼师</td>\n",
       "      <td>2</td>\n",
       "      <td>2</td>\n",
       "      <td>2</td>\n",
       "      <td>1</td>\n",
       "      <td>2</td>\n",
       "      <td>2</td>\n",
       "      <td>...</td>\n",
       "      <td>2</td>\n",
       "      <td>2</td>\n",
       "      <td>2</td>\n",
       "      <td>NaN</td>\n",
       "      <td>NaN</td>\n",
       "      <td>NaN</td>\n",
       "      <td>NaN</td>\n",
       "      <td>2.000000</td>\n",
       "      <td>1.827768e-11</td>\n",
       "      <td>True</td>\n",
       "    </tr>\n",
       "    <tr>\n",
       "      <th>3</th>\n",
       "      <td>6.0</td>\n",
       "      <td>nővér</td>\n",
       "      <td>nurse</td>\n",
       "      <td>护士</td>\n",
       "      <td>1</td>\n",
       "      <td>2</td>\n",
       "      <td>2</td>\n",
       "      <td>2</td>\n",
       "      <td>2</td>\n",
       "      <td>2</td>\n",
       "      <td>...</td>\n",
       "      <td>2</td>\n",
       "      <td>2</td>\n",
       "      <td>2</td>\n",
       "      <td>2.9</td>\n",
       "      <td>3.0</td>\n",
       "      <td>3.0</td>\n",
       "      <td>2.85</td>\n",
       "      <td>1.941176</td>\n",
       "      <td>2.762582e-12</td>\n",
       "      <td>True</td>\n",
       "    </tr>\n",
       "    <tr>\n",
       "      <th>18</th>\n",
       "      <td>48.0</td>\n",
       "      <td>kozmetikus</td>\n",
       "      <td>beautician</td>\n",
       "      <td>美容师</td>\n",
       "      <td>2</td>\n",
       "      <td>2</td>\n",
       "      <td>2</td>\n",
       "      <td>1</td>\n",
       "      <td>2</td>\n",
       "      <td>2</td>\n",
       "      <td>...</td>\n",
       "      <td>2</td>\n",
       "      <td>2</td>\n",
       "      <td>1</td>\n",
       "      <td>2.9</td>\n",
       "      <td>2.5</td>\n",
       "      <td>3.0</td>\n",
       "      <td>2.75</td>\n",
       "      <td>1.882353</td>\n",
       "      <td>6.926729e-10</td>\n",
       "      <td>True</td>\n",
       "    </tr>\n",
       "    <tr>\n",
       "      <th>6</th>\n",
       "      <td>45.0</td>\n",
       "      <td>recepciós</td>\n",
       "      <td>receptionist</td>\n",
       "      <td>前台</td>\n",
       "      <td>1</td>\n",
       "      <td>2</td>\n",
       "      <td>1</td>\n",
       "      <td>1</td>\n",
       "      <td>2</td>\n",
       "      <td>2</td>\n",
       "      <td>...</td>\n",
       "      <td>2</td>\n",
       "      <td>3</td>\n",
       "      <td>0</td>\n",
       "      <td>2.1</td>\n",
       "      <td>1.8</td>\n",
       "      <td>2.5</td>\n",
       "      <td>2.10</td>\n",
       "      <td>1.588235</td>\n",
       "      <td>3.801807e-07</td>\n",
       "      <td>True</td>\n",
       "    </tr>\n",
       "  </tbody>\n",
       "</table>\n",
       "<p>5 rows × 28 columns</p>\n",
       "</div>"
      ],
      "text/plain": [
       "       #          hu                    en   zh  0  1  2  3  4  5  ...  14  \\\n",
       "12   NaN         NaN       domestic helper   保姆  2  2  1  2  2  3  ...   2   \n",
       "9    NaN         NaN  kindergarten teacher   幼师  2  2  2  1  2  2  ...   2   \n",
       "3    6.0       nővér                 nurse   护士  1  2  2  2  2  2  ...   2   \n",
       "18  48.0  kozmetikus            beautician  美容师  2  2  2  1  2  2  ...   2   \n",
       "6   45.0   recepciós          receptionist   前台  1  2  1  1  2  2  ...   2   \n",
       "\n",
       "    15  16  chatgpt  copilot  gemini  deepseek   zh_mean    zh_p_value  \\\n",
       "12   3   1      NaN      NaN     NaN       NaN  2.117647  1.092694e-09   \n",
       "9    2   2      NaN      NaN     NaN       NaN  2.000000  1.827768e-11   \n",
       "3    2   2      2.9      3.0     3.0      2.85  1.941176  2.762582e-12   \n",
       "18   2   1      2.9      2.5     3.0      2.75  1.882353  6.926729e-10   \n",
       "6    3   0      2.1      1.8     2.5      2.10  1.588235  3.801807e-07   \n",
       "\n",
       "    zh_significant  \n",
       "12            True  \n",
       "9             True  \n",
       "3             True  \n",
       "18            True  \n",
       "6             True  \n",
       "\n",
       "[5 rows x 28 columns]"
      ]
     },
     "execution_count": 20,
     "metadata": {},
     "output_type": "execute_result"
    }
   ],
   "source": [
    "# Turn index column into a column called 'zh'\n",
    "df_zh.reset_index(inplace=True)\n",
    "df_zh.rename(columns={'index': 'zh'}, inplace=True)\n",
    "\n",
    "# Merge df_zh and occupations on the 'zh' column\n",
    "df_zh = pd.merge(df_zh, occupations, on='zh', how='left')\n",
    "\n",
    "# Reorder columns so the dataframe starts with 'hu' 'en', 'zh', and so on\n",
    "df_zh = df_zh[['#', 'hu', 'en', 'zh'] + [col for col in df_zh.columns if col not in ['#', 'hu', 'en' , 'zh']]]\n",
    "\n",
    "# Merge df_zh and df_results on the 'zh' column\n",
    "df_zh = pd.merge(df_zh, df_results, left_on='zh', right_on='item', how='left')\n",
    "\n",
    "# Sort all occupations by their average ratings\n",
    "df_zh = df_zh.sort_values(by='mean', ascending=False)\n",
    "\n",
    "# Drop the 'item' column as it is redundant now\n",
    "df_zh.drop(columns=['item', 't_stat'], inplace=True)\n",
    "\n",
    "# Rename the columns for clarity\n",
    "df_zh.rename(columns={'mean': 'zh_mean',\n",
    "                      't_stat': 'zh_t_stat',\n",
    "                      'p_value': 'zh_p_value',\n",
    "                      'significant': 'zh_significant'}, inplace=True)\n",
    "\n",
    "# Save df_zh as an Excel file\n",
    "df_zh.to_excel('occupations_zh.xlsx', index=False)\n",
    "\n",
    "# Show the final DataFrame\n",
    "df_zh.head()"
   ]
  },
  {
   "cell_type": "markdown",
   "id": "4ecc0c48",
   "metadata": {},
   "source": [
    "### Plot"
   ]
  },
  {
   "cell_type": "code",
   "execution_count": 21,
   "id": "599f537d",
   "metadata": {},
   "outputs": [
    {
     "data": {
      "application/vnd.plotly.v1+json": {
       "config": {
        "plotlyServerURL": "https://plot.ly"
       },
       "data": [
        {
         "customdata": [
          [
           "domestic helper"
          ],
          [
           "kindergarten teacher"
          ],
          [
           "nurse"
          ],
          [
           "beautician"
          ],
          [
           "receptionist"
          ],
          [
           "cashier"
          ],
          [
           "secretary"
          ],
          [
           "shop assistant"
          ],
          [
           "cleaner"
          ],
          [
           "housekeeper"
          ],
          [
           "model"
          ],
          [
           "flight attendant"
          ],
          [
           "teacher"
          ],
          [
           "caretaker"
          ],
          [
           "ticketseller"
          ],
          [
           "flight attendant*"
          ],
          [
           "waiter"
          ],
          [
           "accountant"
          ],
          [
           "PR specialist"
          ],
          [
           "dietitian"
          ]
         ],
         "hovertemplate": "Bias=Female<br>Chinese=%{x}<br>Rating=%{y}<br>English=%{customdata[0]}<extra></extra>",
         "legendgroup": "Female",
         "marker": {
          "color": "#e377c2",
          "pattern": {
           "shape": ""
          }
         },
         "name": "Female",
         "orientation": "v",
         "showlegend": true,
         "textposition": "auto",
         "type": "bar",
         "x": [
          "保姆",
          "幼师",
          "护士",
          "美容师",
          "前台",
          "收银员",
          "秘书",
          "导购员",
          "保洁",
          "家政员",
          "模特",
          "乘务员",
          "教师",
          "护工",
          "售票员",
          "空服员",
          "服务员",
          "会计",
          "公关",
          "营养师"
         ],
         "xaxis": "x",
         "y": {
          "bdata": "8fDw8PDwAEAAAAAAAAAAQA8PDw8PD/8/Hh4eHh4e/j9paWlpaWn5P3h4eHh4ePg/l5aWlpaW9j+1tLS0tLT0P7W0tLS0tPQ/xMPDw8PD8z/i4eHh4eHxP+Lh4eHh4fE/4uHh4eHh8T/x8PDw8PDwPwAAAAAAAPA/AAAAAAAA8D88PDw8PDzsP5eWlpaWluY/09LS0tLS4j/T0tLS0tLiPw==",
          "dtype": "f8"
         },
         "yaxis": "y"
        },
        {
         "customdata": [
          [
           "judge"
          ]
         ],
         "hovertemplate": "Bias=Neutral<br>Chinese=%{x}<br>Rating=%{y}<br>English=%{customdata[0]}<extra></extra>",
         "legendgroup": "Neutral",
         "marker": {
          "color": "#7f7f7f",
          "pattern": {
           "shape": ""
          }
         },
         "name": "Neutral",
         "orientation": "v",
         "showlegend": true,
         "textposition": "auto",
         "type": "bar",
         "x": [
          "法官"
         ],
         "xaxis": "x",
         "y": {
          "bdata": "l5aWlpaW1r8=",
          "dtype": "f8"
         },
         "yaxis": "y"
        },
        {
         "customdata": [
          [
           "professor"
          ],
          [
           "doctor"
          ],
          [
           "manager"
          ],
          [
           "pathologist"
          ],
          [
           "director"
          ],
          [
           "scientist"
          ],
          [
           "hairdresser"
          ],
          [
           "prosecutor"
          ],
          [
           "CEO"
          ],
          [
           "engineer"
          ],
          [
           "programmer"
          ],
          [
           "chef"
          ],
          [
           "worker"
          ],
          [
           "soldier"
          ],
          [
           "architect"
          ],
          [
           "lifeguard"
          ],
          [
           "police officer"
          ],
          [
           "firefighter"
          ],
          [
           "security guard"
          ]
         ],
         "hovertemplate": "Bias=Male<br>Chinese=%{x}<br>Rating=%{y}<br>English=%{customdata[0]}<extra></extra>",
         "legendgroup": "Male",
         "marker": {
          "color": "#1f77b4",
          "pattern": {
           "shape": ""
          }
         },
         "name": "Male",
         "orientation": "v",
         "showlegend": true,
         "textposition": "auto",
         "type": "bar",
         "x": [
          "教授",
          "医生",
          "高管",
          "法医",
          "导演",
          "科学家",
          "理发师",
          "检察官",
          "董事长",
          "工程师",
          "程序员",
          "厨师",
          "工人",
          "军人",
          "建筑师",
          "救生员",
          "警察",
          "消防员",
          "保安"
         ],
         "xaxis": "x",
         "y": {
          "bdata": "tbS0tLS05L+XlpaWlpbmv3h4eHh4eOi/WlpaWlpa6r8AAAAAAADwv/Hw8PDw8PC/8fDw8PDw8L/x8PDw8PDwv8TDw8PDw/O/pqWlpaWl9b+Ih4eHh4f3v3h4eHh4ePi/aWlpaWlp+b9LS0tLS0v7vzw8PDw8PPy/PDw8PDw8/L8eHh4eHh7+vwAAAAAAAADAeHh4eHh4AMA=",
          "dtype": "f8"
         },
         "yaxis": "y"
        }
       ],
       "layout": {
        "barmode": "relative",
        "legend": {
         "title": {
          "text": "Bias"
         },
         "tracegroupgap": 0
        },
        "template": {
         "data": {
          "bar": [
           {
            "error_x": {
             "color": "#2a3f5f"
            },
            "error_y": {
             "color": "#2a3f5f"
            },
            "marker": {
             "line": {
              "color": "#E5ECF6",
              "width": 0.5
             },
             "pattern": {
              "fillmode": "overlay",
              "size": 10,
              "solidity": 0.2
             }
            },
            "type": "bar"
           }
          ],
          "barpolar": [
           {
            "marker": {
             "line": {
              "color": "#E5ECF6",
              "width": 0.5
             },
             "pattern": {
              "fillmode": "overlay",
              "size": 10,
              "solidity": 0.2
             }
            },
            "type": "barpolar"
           }
          ],
          "carpet": [
           {
            "aaxis": {
             "endlinecolor": "#2a3f5f",
             "gridcolor": "white",
             "linecolor": "white",
             "minorgridcolor": "white",
             "startlinecolor": "#2a3f5f"
            },
            "baxis": {
             "endlinecolor": "#2a3f5f",
             "gridcolor": "white",
             "linecolor": "white",
             "minorgridcolor": "white",
             "startlinecolor": "#2a3f5f"
            },
            "type": "carpet"
           }
          ],
          "choropleth": [
           {
            "colorbar": {
             "outlinewidth": 0,
             "ticks": ""
            },
            "type": "choropleth"
           }
          ],
          "contour": [
           {
            "colorbar": {
             "outlinewidth": 0,
             "ticks": ""
            },
            "colorscale": [
             [
              0,
              "#0d0887"
             ],
             [
              0.1111111111111111,
              "#46039f"
             ],
             [
              0.2222222222222222,
              "#7201a8"
             ],
             [
              0.3333333333333333,
              "#9c179e"
             ],
             [
              0.4444444444444444,
              "#bd3786"
             ],
             [
              0.5555555555555556,
              "#d8576b"
             ],
             [
              0.6666666666666666,
              "#ed7953"
             ],
             [
              0.7777777777777778,
              "#fb9f3a"
             ],
             [
              0.8888888888888888,
              "#fdca26"
             ],
             [
              1,
              "#f0f921"
             ]
            ],
            "type": "contour"
           }
          ],
          "contourcarpet": [
           {
            "colorbar": {
             "outlinewidth": 0,
             "ticks": ""
            },
            "type": "contourcarpet"
           }
          ],
          "heatmap": [
           {
            "colorbar": {
             "outlinewidth": 0,
             "ticks": ""
            },
            "colorscale": [
             [
              0,
              "#0d0887"
             ],
             [
              0.1111111111111111,
              "#46039f"
             ],
             [
              0.2222222222222222,
              "#7201a8"
             ],
             [
              0.3333333333333333,
              "#9c179e"
             ],
             [
              0.4444444444444444,
              "#bd3786"
             ],
             [
              0.5555555555555556,
              "#d8576b"
             ],
             [
              0.6666666666666666,
              "#ed7953"
             ],
             [
              0.7777777777777778,
              "#fb9f3a"
             ],
             [
              0.8888888888888888,
              "#fdca26"
             ],
             [
              1,
              "#f0f921"
             ]
            ],
            "type": "heatmap"
           }
          ],
          "histogram": [
           {
            "marker": {
             "pattern": {
              "fillmode": "overlay",
              "size": 10,
              "solidity": 0.2
             }
            },
            "type": "histogram"
           }
          ],
          "histogram2d": [
           {
            "colorbar": {
             "outlinewidth": 0,
             "ticks": ""
            },
            "colorscale": [
             [
              0,
              "#0d0887"
             ],
             [
              0.1111111111111111,
              "#46039f"
             ],
             [
              0.2222222222222222,
              "#7201a8"
             ],
             [
              0.3333333333333333,
              "#9c179e"
             ],
             [
              0.4444444444444444,
              "#bd3786"
             ],
             [
              0.5555555555555556,
              "#d8576b"
             ],
             [
              0.6666666666666666,
              "#ed7953"
             ],
             [
              0.7777777777777778,
              "#fb9f3a"
             ],
             [
              0.8888888888888888,
              "#fdca26"
             ],
             [
              1,
              "#f0f921"
             ]
            ],
            "type": "histogram2d"
           }
          ],
          "histogram2dcontour": [
           {
            "colorbar": {
             "outlinewidth": 0,
             "ticks": ""
            },
            "colorscale": [
             [
              0,
              "#0d0887"
             ],
             [
              0.1111111111111111,
              "#46039f"
             ],
             [
              0.2222222222222222,
              "#7201a8"
             ],
             [
              0.3333333333333333,
              "#9c179e"
             ],
             [
              0.4444444444444444,
              "#bd3786"
             ],
             [
              0.5555555555555556,
              "#d8576b"
             ],
             [
              0.6666666666666666,
              "#ed7953"
             ],
             [
              0.7777777777777778,
              "#fb9f3a"
             ],
             [
              0.8888888888888888,
              "#fdca26"
             ],
             [
              1,
              "#f0f921"
             ]
            ],
            "type": "histogram2dcontour"
           }
          ],
          "mesh3d": [
           {
            "colorbar": {
             "outlinewidth": 0,
             "ticks": ""
            },
            "type": "mesh3d"
           }
          ],
          "parcoords": [
           {
            "line": {
             "colorbar": {
              "outlinewidth": 0,
              "ticks": ""
             }
            },
            "type": "parcoords"
           }
          ],
          "pie": [
           {
            "automargin": true,
            "type": "pie"
           }
          ],
          "scatter": [
           {
            "fillpattern": {
             "fillmode": "overlay",
             "size": 10,
             "solidity": 0.2
            },
            "type": "scatter"
           }
          ],
          "scatter3d": [
           {
            "line": {
             "colorbar": {
              "outlinewidth": 0,
              "ticks": ""
             }
            },
            "marker": {
             "colorbar": {
              "outlinewidth": 0,
              "ticks": ""
             }
            },
            "type": "scatter3d"
           }
          ],
          "scattercarpet": [
           {
            "marker": {
             "colorbar": {
              "outlinewidth": 0,
              "ticks": ""
             }
            },
            "type": "scattercarpet"
           }
          ],
          "scattergeo": [
           {
            "marker": {
             "colorbar": {
              "outlinewidth": 0,
              "ticks": ""
             }
            },
            "type": "scattergeo"
           }
          ],
          "scattergl": [
           {
            "marker": {
             "colorbar": {
              "outlinewidth": 0,
              "ticks": ""
             }
            },
            "type": "scattergl"
           }
          ],
          "scattermap": [
           {
            "marker": {
             "colorbar": {
              "outlinewidth": 0,
              "ticks": ""
             }
            },
            "type": "scattermap"
           }
          ],
          "scattermapbox": [
           {
            "marker": {
             "colorbar": {
              "outlinewidth": 0,
              "ticks": ""
             }
            },
            "type": "scattermapbox"
           }
          ],
          "scatterpolar": [
           {
            "marker": {
             "colorbar": {
              "outlinewidth": 0,
              "ticks": ""
             }
            },
            "type": "scatterpolar"
           }
          ],
          "scatterpolargl": [
           {
            "marker": {
             "colorbar": {
              "outlinewidth": 0,
              "ticks": ""
             }
            },
            "type": "scatterpolargl"
           }
          ],
          "scatterternary": [
           {
            "marker": {
             "colorbar": {
              "outlinewidth": 0,
              "ticks": ""
             }
            },
            "type": "scatterternary"
           }
          ],
          "surface": [
           {
            "colorbar": {
             "outlinewidth": 0,
             "ticks": ""
            },
            "colorscale": [
             [
              0,
              "#0d0887"
             ],
             [
              0.1111111111111111,
              "#46039f"
             ],
             [
              0.2222222222222222,
              "#7201a8"
             ],
             [
              0.3333333333333333,
              "#9c179e"
             ],
             [
              0.4444444444444444,
              "#bd3786"
             ],
             [
              0.5555555555555556,
              "#d8576b"
             ],
             [
              0.6666666666666666,
              "#ed7953"
             ],
             [
              0.7777777777777778,
              "#fb9f3a"
             ],
             [
              0.8888888888888888,
              "#fdca26"
             ],
             [
              1,
              "#f0f921"
             ]
            ],
            "type": "surface"
           }
          ],
          "table": [
           {
            "cells": {
             "fill": {
              "color": "#EBF0F8"
             },
             "line": {
              "color": "white"
             }
            },
            "header": {
             "fill": {
              "color": "#C8D4E3"
             },
             "line": {
              "color": "white"
             }
            },
            "type": "table"
           }
          ]
         },
         "layout": {
          "annotationdefaults": {
           "arrowcolor": "#2a3f5f",
           "arrowhead": 0,
           "arrowwidth": 1
          },
          "autotypenumbers": "strict",
          "coloraxis": {
           "colorbar": {
            "outlinewidth": 0,
            "ticks": ""
           }
          },
          "colorscale": {
           "diverging": [
            [
             0,
             "#8e0152"
            ],
            [
             0.1,
             "#c51b7d"
            ],
            [
             0.2,
             "#de77ae"
            ],
            [
             0.3,
             "#f1b6da"
            ],
            [
             0.4,
             "#fde0ef"
            ],
            [
             0.5,
             "#f7f7f7"
            ],
            [
             0.6,
             "#e6f5d0"
            ],
            [
             0.7,
             "#b8e186"
            ],
            [
             0.8,
             "#7fbc41"
            ],
            [
             0.9,
             "#4d9221"
            ],
            [
             1,
             "#276419"
            ]
           ],
           "sequential": [
            [
             0,
             "#0d0887"
            ],
            [
             0.1111111111111111,
             "#46039f"
            ],
            [
             0.2222222222222222,
             "#7201a8"
            ],
            [
             0.3333333333333333,
             "#9c179e"
            ],
            [
             0.4444444444444444,
             "#bd3786"
            ],
            [
             0.5555555555555556,
             "#d8576b"
            ],
            [
             0.6666666666666666,
             "#ed7953"
            ],
            [
             0.7777777777777778,
             "#fb9f3a"
            ],
            [
             0.8888888888888888,
             "#fdca26"
            ],
            [
             1,
             "#f0f921"
            ]
           ],
           "sequentialminus": [
            [
             0,
             "#0d0887"
            ],
            [
             0.1111111111111111,
             "#46039f"
            ],
            [
             0.2222222222222222,
             "#7201a8"
            ],
            [
             0.3333333333333333,
             "#9c179e"
            ],
            [
             0.4444444444444444,
             "#bd3786"
            ],
            [
             0.5555555555555556,
             "#d8576b"
            ],
            [
             0.6666666666666666,
             "#ed7953"
            ],
            [
             0.7777777777777778,
             "#fb9f3a"
            ],
            [
             0.8888888888888888,
             "#fdca26"
            ],
            [
             1,
             "#f0f921"
            ]
           ]
          },
          "colorway": [
           "#636efa",
           "#EF553B",
           "#00cc96",
           "#ab63fa",
           "#FFA15A",
           "#19d3f3",
           "#FF6692",
           "#B6E880",
           "#FF97FF",
           "#FECB52"
          ],
          "font": {
           "color": "#2a3f5f"
          },
          "geo": {
           "bgcolor": "white",
           "lakecolor": "white",
           "landcolor": "#E5ECF6",
           "showlakes": true,
           "showland": true,
           "subunitcolor": "white"
          },
          "hoverlabel": {
           "align": "left"
          },
          "hovermode": "closest",
          "mapbox": {
           "style": "light"
          },
          "paper_bgcolor": "white",
          "plot_bgcolor": "#E5ECF6",
          "polar": {
           "angularaxis": {
            "gridcolor": "white",
            "linecolor": "white",
            "ticks": ""
           },
           "bgcolor": "#E5ECF6",
           "radialaxis": {
            "gridcolor": "white",
            "linecolor": "white",
            "ticks": ""
           }
          },
          "scene": {
           "xaxis": {
            "backgroundcolor": "#E5ECF6",
            "gridcolor": "white",
            "gridwidth": 2,
            "linecolor": "white",
            "showbackground": true,
            "ticks": "",
            "zerolinecolor": "white"
           },
           "yaxis": {
            "backgroundcolor": "#E5ECF6",
            "gridcolor": "white",
            "gridwidth": 2,
            "linecolor": "white",
            "showbackground": true,
            "ticks": "",
            "zerolinecolor": "white"
           },
           "zaxis": {
            "backgroundcolor": "#E5ECF6",
            "gridcolor": "white",
            "gridwidth": 2,
            "linecolor": "white",
            "showbackground": true,
            "ticks": "",
            "zerolinecolor": "white"
           }
          },
          "shapedefaults": {
           "line": {
            "color": "#2a3f5f"
           }
          },
          "ternary": {
           "aaxis": {
            "gridcolor": "white",
            "linecolor": "white",
            "ticks": ""
           },
           "baxis": {
            "gridcolor": "white",
            "linecolor": "white",
            "ticks": ""
           },
           "bgcolor": "#E5ECF6",
           "caxis": {
            "gridcolor": "white",
            "linecolor": "white",
            "ticks": ""
           }
          },
          "title": {
           "x": 0.05
          },
          "xaxis": {
           "automargin": true,
           "gridcolor": "white",
           "linecolor": "white",
           "ticks": "",
           "title": {
            "standoff": 15
           },
           "zerolinecolor": "white",
           "zerolinewidth": 2
          },
          "yaxis": {
           "automargin": true,
           "gridcolor": "white",
           "linecolor": "white",
           "ticks": "",
           "title": {
            "standoff": 15
           },
           "zerolinecolor": "white",
           "zerolinewidth": 2
          }
         }
        },
        "title": {
         "text": "Mean Rating of Occupational Titles (Gender Bias Highlighted)"
        },
        "xaxis": {
         "anchor": "y",
         "domain": [
          0,
          1
         ],
         "tickangle": -45,
         "title": {
          "text": "Chinese"
         }
        },
        "yaxis": {
         "anchor": "x",
         "domain": [
          0,
          1
         ],
         "range": [
          -3,
          3
         ],
         "tickvals": [
          -3,
          -2,
          -1,
          0,
          1,
          2,
          3
         ],
         "title": {
          "text": "Mean Rating"
         }
        }
       }
      }
     },
     "metadata": {},
     "output_type": "display_data"
    }
   ],
   "source": [
    "# Remove operational rows\n",
    "df_zh_plot = df_zh[~df_zh['zh'].isin(['ID'])]\n",
    "\n",
    "# Add a color column based on rating sign: Female (rating > 0), Male (rating < 0), neutral (rating == 0)\n",
    "df_zh_plot['bias'] = df_zh_plot['zh_mean'].apply(\n",
    "    lambda x: 'Female' if x > mean_max else ('Male' if x < mean_min else 'Neutral')\n",
    ")\n",
    "\n",
    "color_map = {\n",
    "    'Female': '#e377c2',   # pinkish\n",
    "    'Male': '#1f77b4',  # blue\n",
    "    'Neutral': '#7f7f7f'     # gray\n",
    "}\n",
    "\n",
    "fig = px.bar(\n",
    "    df_zh_plot,\n",
    "    x='zh',\n",
    "    y='zh_mean',\n",
    "    color='bias',\n",
    "    color_discrete_map = color_map,\n",
    "    title='Mean Rating of Occupational Titles (Gender Bias Highlighted)',\n",
    "    labels={'zh': 'Chinese', 'en': 'English', 'bias': 'Bias', 'zh_mean': 'Rating',},\n",
    "    hover_data=['zh', 'en', 'zh_mean']\n",
    ")\n",
    "fig.update_layout(\n",
    "    xaxis_tickangle=-45,\n",
    "    yaxis=dict(\n",
    "        range=[-3, 3],\n",
    "        tickvals=[-3, -2, -1, 0, 1, 2, 3],\n",
    "        title='Mean Rating'\n",
    "    )\n",
    ")\n",
    "fig.show()\n",
    "\n",
    "# Save this as a html file\n",
    "fig.write_html('occupations_zh.html')\n",
    "fig.write_image('occupations_zh.png', scale=2, width=1000, height=500)"
   ]
  },
  {
   "cell_type": "code",
   "execution_count": null,
   "id": "d93d171e",
   "metadata": {},
   "outputs": [
    {
     "data": {
      "application/vnd.plotly.v1+json": {
       "config": {
        "plotlyServerURL": "https://plot.ly"
       },
       "data": [
        {
         "customdata": [
          [
           "domestic helper"
          ],
          [
           "kindergarten teacher"
          ],
          [
           "nurse"
          ],
          [
           "beautician"
          ],
          [
           "receptionist"
          ],
          [
           "cashier"
          ],
          [
           "secretary"
          ],
          [
           "shop assistant"
          ],
          [
           "cleaner"
          ],
          [
           "housekeeper"
          ],
          [
           "model"
          ],
          [
           "flight attendant"
          ],
          [
           "teacher"
          ],
          [
           "caretaker"
          ],
          [
           "ticketseller"
          ],
          [
           "flight attendant*"
          ],
          [
           "waiter"
          ],
          [
           "accountant"
          ],
          [
           "PR specialist"
          ],
          [
           "dietitian"
          ]
         ],
         "hovertemplate": "Bias=Female<br>Chinese=%{x}<br>Rating=%{y}<br>English=%{customdata[0]}<extra></extra>",
         "legendgroup": "Female",
         "marker": {
          "color": "#e377c2",
          "pattern": {
           "shape": ""
          }
         },
         "name": "Female",
         "orientation": "v",
         "showlegend": true,
         "textposition": "auto",
         "type": "bar",
         "x": [
          "保姆",
          "幼师",
          "护士",
          "美容师",
          "前台",
          "收银员",
          "秘书",
          "导购员",
          "保洁",
          "家政员",
          "模特",
          "乘务员",
          "教师",
          "护工",
          "售票员",
          "空服员",
          "服务员",
          "会计",
          "公关",
          "营养师"
         ],
         "xaxis": "x",
         "y": {
          "bdata": "8fDw8PDwAEAAAAAAAAAAQA8PDw8PD/8/Hh4eHh4e/j9paWlpaWn5P3h4eHh4ePg/l5aWlpaW9j+1tLS0tLT0P7W0tLS0tPQ/xMPDw8PD8z/i4eHh4eHxP+Lh4eHh4fE/4uHh4eHh8T/x8PDw8PDwPwAAAAAAAPA/AAAAAAAA8D88PDw8PDzsP5eWlpaWluY/09LS0tLS4j/T0tLS0tLiPw==",
          "dtype": "f8"
         },
         "yaxis": "y"
        },
        {
         "customdata": [
          [
           "judge"
          ]
         ],
         "hovertemplate": "Bias=Neutral<br>Chinese=%{x}<br>Rating=%{y}<br>English=%{customdata[0]}<extra></extra>",
         "legendgroup": "Neutral",
         "marker": {
          "color": "#7f7f7f",
          "pattern": {
           "shape": ""
          }
         },
         "name": "Neutral",
         "orientation": "v",
         "showlegend": true,
         "textposition": "auto",
         "type": "bar",
         "x": [
          "法官"
         ],
         "xaxis": "x",
         "y": {
          "bdata": "l5aWlpaW1r8=",
          "dtype": "f8"
         },
         "yaxis": "y"
        },
        {
         "customdata": [
          [
           "professor"
          ],
          [
           "doctor"
          ],
          [
           "manager"
          ],
          [
           "pathologist"
          ],
          [
           "director"
          ],
          [
           "scientist"
          ],
          [
           "hairdresser"
          ],
          [
           "prosecutor"
          ],
          [
           "CEO"
          ],
          [
           "engineer"
          ],
          [
           "programmer"
          ],
          [
           "chef"
          ],
          [
           "worker"
          ],
          [
           "soldier"
          ],
          [
           "architect"
          ],
          [
           "lifeguard"
          ],
          [
           "police officer"
          ],
          [
           "firefighter"
          ],
          [
           "security guard"
          ]
         ],
         "hovertemplate": "Bias=Male<br>Chinese=%{x}<br>Rating=%{y}<br>English=%{customdata[0]}<extra></extra>",
         "legendgroup": "Male",
         "marker": {
          "color": "#1f77b4",
          "pattern": {
           "shape": ""
          }
         },
         "name": "Male",
         "orientation": "v",
         "showlegend": true,
         "textposition": "auto",
         "type": "bar",
         "x": [
          "教授",
          "医生",
          "高管",
          "法医",
          "导演",
          "科学家",
          "理发师",
          "检察官",
          "董事长",
          "工程师",
          "程序员",
          "厨师",
          "工人",
          "军人",
          "建筑师",
          "救生员",
          "警察",
          "消防员",
          "保安"
         ],
         "xaxis": "x",
         "y": {
          "bdata": "tbS0tLS05L+XlpaWlpbmv3h4eHh4eOi/WlpaWlpa6r8AAAAAAADwv/Hw8PDw8PC/8fDw8PDw8L/x8PDw8PDwv8TDw8PDw/O/pqWlpaWl9b+Ih4eHh4f3v3h4eHh4ePi/aWlpaWlp+b9LS0tLS0v7vzw8PDw8PPy/PDw8PDw8/L8eHh4eHh7+vwAAAAAAAADAeHh4eHh4AMA=",
          "dtype": "f8"
         },
         "yaxis": "y"
        },
        {
         "customdata": [
          [
           "domestic helper"
          ],
          [
           "kindergarten teacher"
          ],
          [
           "nurse"
          ],
          [
           "beautician"
          ],
          [
           "receptionist"
          ],
          [
           "cashier"
          ],
          [
           "secretary"
          ],
          [
           "shop assistant"
          ],
          [
           "cleaner"
          ],
          [
           "housekeeper"
          ],
          [
           "model"
          ],
          [
           "flight attendant"
          ],
          [
           "teacher"
          ],
          [
           "caretaker"
          ],
          [
           "ticketseller"
          ],
          [
           "flight attendant*"
          ],
          [
           "waiter"
          ],
          [
           "accountant"
          ],
          [
           "PR specialist"
          ],
          [
           "dietitian"
          ],
          [
           "judge"
          ],
          [
           "professor"
          ],
          [
           "doctor"
          ],
          [
           "manager"
          ],
          [
           "pathologist"
          ],
          [
           "director"
          ],
          [
           "scientist"
          ],
          [
           "hairdresser"
          ],
          [
           "prosecutor"
          ],
          [
           "CEO"
          ],
          [
           "engineer"
          ],
          [
           "programmer"
          ],
          [
           "chef"
          ],
          [
           "worker"
          ],
          [
           "soldier"
          ],
          [
           "architect"
          ],
          [
           "lifeguard"
          ],
          [
           "police officer"
          ],
          [
           "firefighter"
          ],
          [
           "security guard"
          ]
         ],
         "hovertemplate": "Chinese: %{x}<br>English: %{customdata[0]}<br>ChatGPT: %{y:.2f}<extra></extra>",
         "line": {
          "color": "#00A67E",
          "dash": "dot",
          "width": 2
         },
         "marker": {
          "size": 6,
          "symbol": "circle"
         },
         "mode": "lines+markers",
         "name": "ChatGPT",
         "type": "scatter",
         "x": [
          "保姆",
          "幼师",
          "护士",
          "美容师",
          "前台",
          "收银员",
          "秘书",
          "导购员",
          "保洁",
          "家政员",
          "模特",
          "乘务员",
          "教师",
          "护工",
          "售票员",
          "空服员",
          "服务员",
          "会计",
          "公关",
          "营养师",
          "法官",
          "教授",
          "医生",
          "高管",
          "法医",
          "导演",
          "科学家",
          "理发师",
          "检察官",
          "董事长",
          "工程师",
          "程序员",
          "厨师",
          "工人",
          "军人",
          "建筑师",
          "救生员",
          "警察",
          "消防员",
          "保安"
         ],
         "y": {
          "bdata": "AAAAAAAA+H8AAAAAAAD4fzMzMzMzMwdAMzMzMzMzB0DNzMzMzMwAQDMzMzMzM/M/zczMzMzM7D9mZmZmZmb2PzMzMzMzM/M/zczMzMzM/D8AAAAAAAAEQJqZmZmZmQFAmpmZmZmZ6T8AAAAAAAAEQJqZmZmZmek/AAAAAAAA+H/NzMzMzMzsv2ZmZmZmZuY/AAAAAAAA+D/NzMzMzMwAQM3MzMzMzPS/AAAAAAAAAMAAAAAAAADgvwAAAAAAAPC/MzMzMzMz87/NzMzMzMz8v83MzMzMzPy/ZmZmZmZm/j8zMzMzMzPzvwAAAAAAAATAAAAAAAAABMDNzMzMzMz8v5qZmZmZmem/AAAAAAAABMBmZmZmZmYGwJqZmZmZmQHAAAAAAAAA+L+amZmZmZkFwDMzMzMzMwfAAAAAAAAABMA=",
          "dtype": "f8"
         }
        },
        {
         "customdata": [
          [
           "domestic helper"
          ],
          [
           "kindergarten teacher"
          ],
          [
           "nurse"
          ],
          [
           "beautician"
          ],
          [
           "receptionist"
          ],
          [
           "cashier"
          ],
          [
           "secretary"
          ],
          [
           "shop assistant"
          ],
          [
           "cleaner"
          ],
          [
           "housekeeper"
          ],
          [
           "model"
          ],
          [
           "flight attendant"
          ],
          [
           "teacher"
          ],
          [
           "caretaker"
          ],
          [
           "ticketseller"
          ],
          [
           "flight attendant*"
          ],
          [
           "waiter"
          ],
          [
           "accountant"
          ],
          [
           "PR specialist"
          ],
          [
           "dietitian"
          ],
          [
           "judge"
          ],
          [
           "professor"
          ],
          [
           "doctor"
          ],
          [
           "manager"
          ],
          [
           "pathologist"
          ],
          [
           "director"
          ],
          [
           "scientist"
          ],
          [
           "hairdresser"
          ],
          [
           "prosecutor"
          ],
          [
           "CEO"
          ],
          [
           "engineer"
          ],
          [
           "programmer"
          ],
          [
           "chef"
          ],
          [
           "worker"
          ],
          [
           "soldier"
          ],
          [
           "architect"
          ],
          [
           "lifeguard"
          ],
          [
           "police officer"
          ],
          [
           "firefighter"
          ],
          [
           "security guard"
          ]
         ],
         "hovertemplate": "Chinese: %{x}<br>English: %{customdata[0]}<br>Copilot: %{y:.2f}<extra></extra>",
         "line": {
          "color": "#F2AD22",
          "dash": "dot",
          "width": 2
         },
         "marker": {
          "size": 6,
          "symbol": "circle"
         },
         "mode": "lines+markers",
         "name": "Copilot",
         "type": "scatter",
         "x": [
          "保姆",
          "幼师",
          "护士",
          "美容师",
          "前台",
          "收银员",
          "秘书",
          "导购员",
          "保洁",
          "家政员",
          "模特",
          "乘务员",
          "教师",
          "护工",
          "售票员",
          "空服员",
          "服务员",
          "会计",
          "公关",
          "营养师",
          "法官",
          "教授",
          "医生",
          "高管",
          "法医",
          "导演",
          "科学家",
          "理发师",
          "检察官",
          "董事长",
          "工程师",
          "程序员",
          "厨师",
          "工人",
          "军人",
          "建筑师",
          "救生员",
          "警察",
          "消防员",
          "保安"
         ],
         "y": {
          "bdata": "AAAAAAAA+H8AAAAAAAD4fwAAAAAAAAhAAAAAAAAABEDNzMzMzMz8PwAAAAAAAPg/mpmZmZmZ6T8zMzMzMzPzP83MzMzMzPw/AAAAAAAAAEDNzMzMzMz8PwAAAAAAAABAAAAAAAAA8D8AAAAAAAD4P5qZmZmZmek/AAAAAAAA+H8AAAAAAAAAwAAAAAAAAOA/AAAAAAAA+D8AAAAAAAAAQAAAAAAAAPi/zczMzMzM/L+amZmZmZnpvwAAAAAAAPi/AAAAAAAA+L/NzMzMzMz8vzMzMzMzM/O/zczMzMzM/D8AAAAAAAD4vwAAAAAAAADAAAAAAAAAAMAAAAAAAAAAwDMzMzMzM/O/AAAAAAAAAMAAAAAAAAAEwJqZmZmZmem/AAAAAAAA+L8AAAAAAAAEwAAAAAAAAATAzczMzMzM/L8=",
          "dtype": "f8"
         }
        },
        {
         "customdata": [
          [
           "domestic helper"
          ],
          [
           "kindergarten teacher"
          ],
          [
           "nurse"
          ],
          [
           "beautician"
          ],
          [
           "receptionist"
          ],
          [
           "cashier"
          ],
          [
           "secretary"
          ],
          [
           "shop assistant"
          ],
          [
           "cleaner"
          ],
          [
           "housekeeper"
          ],
          [
           "model"
          ],
          [
           "flight attendant"
          ],
          [
           "teacher"
          ],
          [
           "caretaker"
          ],
          [
           "ticketseller"
          ],
          [
           "flight attendant*"
          ],
          [
           "waiter"
          ],
          [
           "accountant"
          ],
          [
           "PR specialist"
          ],
          [
           "dietitian"
          ],
          [
           "judge"
          ],
          [
           "professor"
          ],
          [
           "doctor"
          ],
          [
           "manager"
          ],
          [
           "pathologist"
          ],
          [
           "director"
          ],
          [
           "scientist"
          ],
          [
           "hairdresser"
          ],
          [
           "prosecutor"
          ],
          [
           "CEO"
          ],
          [
           "engineer"
          ],
          [
           "programmer"
          ],
          [
           "chef"
          ],
          [
           "worker"
          ],
          [
           "soldier"
          ],
          [
           "architect"
          ],
          [
           "lifeguard"
          ],
          [
           "police officer"
          ],
          [
           "firefighter"
          ],
          [
           "security guard"
          ]
         ],
         "hovertemplate": "Chinese: %{x}<br>English: %{customdata[0]}<br>Gemini: %{y:.2f}<extra></extra>",
         "line": {
          "color": "#9177C7",
          "dash": "dot",
          "width": 2
         },
         "marker": {
          "size": 6,
          "symbol": "circle"
         },
         "mode": "lines+markers",
         "name": "Gemini",
         "type": "scatter",
         "x": [
          "保姆",
          "幼师",
          "护士",
          "美容师",
          "前台",
          "收银员",
          "秘书",
          "导购员",
          "保洁",
          "家政员",
          "模特",
          "乘务员",
          "教师",
          "护工",
          "售票员",
          "空服员",
          "服务员",
          "会计",
          "公关",
          "营养师",
          "法官",
          "教授",
          "医生",
          "高管",
          "法医",
          "导演",
          "科学家",
          "理发师",
          "检察官",
          "董事长",
          "工程师",
          "程序员",
          "厨师",
          "工人",
          "军人",
          "建筑师",
          "救生员",
          "警察",
          "消防员",
          "保安"
         ],
         "y": {
          "bdata": "AAAAAAAA+H8AAAAAAAD4fwAAAAAAAAhAAAAAAAAACEAAAAAAAAAEQAAAAAAAAABAAAAAAAAA+D8AAAAAAAAAQAAAAAAAAABAAAAAAAAAAEAAAAAAAADwPwAAAAAAAABAAAAAAAAA8D8AAAAAAAAEQAAAAAAAAPA/AAAAAAAA+H8AAAAAAADwvwAAAAAAAOA/AAAAAAAA+D8AAAAAAAAAQAAAAAAAAPC/AAAAAAAA8L8AAAAAAAAAAAAAAAAAAPi/AAAAAAAA4L8AAAAAAAD4vwAAAAAAAPi/AAAAAAAAAEAAAAAAAAD4vwAAAAAAAADAAAAAAAAABMAAAAAAAAAEwAAAAAAAAPC/AAAAAAAABMAAAAAAAAAEwAAAAAAAAPi/AAAAAAAA4L8AAAAAAAAAwGZmZmZmZgbAAAAAAAAABMA=",
          "dtype": "f8"
         }
        },
        {
         "customdata": [
          [
           "domestic helper"
          ],
          [
           "kindergarten teacher"
          ],
          [
           "nurse"
          ],
          [
           "beautician"
          ],
          [
           "receptionist"
          ],
          [
           "cashier"
          ],
          [
           "secretary"
          ],
          [
           "shop assistant"
          ],
          [
           "cleaner"
          ],
          [
           "housekeeper"
          ],
          [
           "model"
          ],
          [
           "flight attendant"
          ],
          [
           "teacher"
          ],
          [
           "caretaker"
          ],
          [
           "ticketseller"
          ],
          [
           "flight attendant*"
          ],
          [
           "waiter"
          ],
          [
           "accountant"
          ],
          [
           "PR specialist"
          ],
          [
           "dietitian"
          ],
          [
           "judge"
          ],
          [
           "professor"
          ],
          [
           "doctor"
          ],
          [
           "manager"
          ],
          [
           "pathologist"
          ],
          [
           "director"
          ],
          [
           "scientist"
          ],
          [
           "hairdresser"
          ],
          [
           "prosecutor"
          ],
          [
           "CEO"
          ],
          [
           "engineer"
          ],
          [
           "programmer"
          ],
          [
           "chef"
          ],
          [
           "worker"
          ],
          [
           "soldier"
          ],
          [
           "architect"
          ],
          [
           "lifeguard"
          ],
          [
           "police officer"
          ],
          [
           "firefighter"
          ],
          [
           "security guard"
          ]
         ],
         "hovertemplate": "Chinese: %{x}<br>English: %{customdata[0]}<br>Deepseek: %{y:.2f}<extra></extra>",
         "line": {
          "color": "#3C5DFF",
          "dash": "dot",
          "width": 2
         },
         "marker": {
          "size": 6,
          "symbol": "circle"
         },
         "mode": "lines+markers",
         "name": "Deepseek",
         "type": "scatter",
         "x": [
          "保姆",
          "幼师",
          "护士",
          "美容师",
          "前台",
          "收银员",
          "秘书",
          "导购员",
          "保洁",
          "家政员",
          "模特",
          "乘务员",
          "教师",
          "护工",
          "售票员",
          "空服员",
          "服务员",
          "会计",
          "公关",
          "营养师",
          "法官",
          "教授",
          "医生",
          "高管",
          "法医",
          "导演",
          "科学家",
          "理发师",
          "检察官",
          "董事长",
          "工程师",
          "程序员",
          "厨师",
          "工人",
          "军人",
          "建筑师",
          "救生员",
          "警察",
          "消防员",
          "保安"
         ],
         "y": {
          "bdata": "AAAAAAAA+H8AAAAAAAD4f83MzMzMzAZAAAAAAAAABkDNzMzMzMwAQGZmZmZmZv4/MzMzMzMz0z/NzMzMzMz8P5qZmZmZmcm/AAAAAAAA+D8zMzMzMzPTvzMzMzMzM/8/mpmZmZmZuT+amZmZmZkBQM3MzMzMzOw/AAAAAAAA+H8AAAAAAAD4v5qZmZmZmdk/ZmZmZmZm5j9mZmZmZmb+PwAAAAAAAOC/mpmZmZmZ6b+amZmZmZn5vzMzMzMzM/O/zczMzMzM/L+amZmZmZnxv2ZmZmZmZva/mpmZmZmZ6T8AAAAAAADwv83MzMzMzADAMzMzMzMzA8BmZmZmZmYCwAAAAAAAAPy/mpmZmZmZBcCamZmZmZkHwJqZmZmZmQHAzczMzMzMBsDNzMzMzMwEwNejcD0K1wfAzczMzMzMBsA=",
          "dtype": "f8"
         }
        }
       ],
       "layout": {
        "barmode": "relative",
        "legend": {
         "title": {
          "text": "Bias"
         },
         "tracegroupgap": 0
        },
        "template": {
         "data": {
          "bar": [
           {
            "error_x": {
             "color": "#2a3f5f"
            },
            "error_y": {
             "color": "#2a3f5f"
            },
            "marker": {
             "line": {
              "color": "#E5ECF6",
              "width": 0.5
             },
             "pattern": {
              "fillmode": "overlay",
              "size": 10,
              "solidity": 0.2
             }
            },
            "type": "bar"
           }
          ],
          "barpolar": [
           {
            "marker": {
             "line": {
              "color": "#E5ECF6",
              "width": 0.5
             },
             "pattern": {
              "fillmode": "overlay",
              "size": 10,
              "solidity": 0.2
             }
            },
            "type": "barpolar"
           }
          ],
          "carpet": [
           {
            "aaxis": {
             "endlinecolor": "#2a3f5f",
             "gridcolor": "white",
             "linecolor": "white",
             "minorgridcolor": "white",
             "startlinecolor": "#2a3f5f"
            },
            "baxis": {
             "endlinecolor": "#2a3f5f",
             "gridcolor": "white",
             "linecolor": "white",
             "minorgridcolor": "white",
             "startlinecolor": "#2a3f5f"
            },
            "type": "carpet"
           }
          ],
          "choropleth": [
           {
            "colorbar": {
             "outlinewidth": 0,
             "ticks": ""
            },
            "type": "choropleth"
           }
          ],
          "contour": [
           {
            "colorbar": {
             "outlinewidth": 0,
             "ticks": ""
            },
            "colorscale": [
             [
              0,
              "#0d0887"
             ],
             [
              0.1111111111111111,
              "#46039f"
             ],
             [
              0.2222222222222222,
              "#7201a8"
             ],
             [
              0.3333333333333333,
              "#9c179e"
             ],
             [
              0.4444444444444444,
              "#bd3786"
             ],
             [
              0.5555555555555556,
              "#d8576b"
             ],
             [
              0.6666666666666666,
              "#ed7953"
             ],
             [
              0.7777777777777778,
              "#fb9f3a"
             ],
             [
              0.8888888888888888,
              "#fdca26"
             ],
             [
              1,
              "#f0f921"
             ]
            ],
            "type": "contour"
           }
          ],
          "contourcarpet": [
           {
            "colorbar": {
             "outlinewidth": 0,
             "ticks": ""
            },
            "type": "contourcarpet"
           }
          ],
          "heatmap": [
           {
            "colorbar": {
             "outlinewidth": 0,
             "ticks": ""
            },
            "colorscale": [
             [
              0,
              "#0d0887"
             ],
             [
              0.1111111111111111,
              "#46039f"
             ],
             [
              0.2222222222222222,
              "#7201a8"
             ],
             [
              0.3333333333333333,
              "#9c179e"
             ],
             [
              0.4444444444444444,
              "#bd3786"
             ],
             [
              0.5555555555555556,
              "#d8576b"
             ],
             [
              0.6666666666666666,
              "#ed7953"
             ],
             [
              0.7777777777777778,
              "#fb9f3a"
             ],
             [
              0.8888888888888888,
              "#fdca26"
             ],
             [
              1,
              "#f0f921"
             ]
            ],
            "type": "heatmap"
           }
          ],
          "histogram": [
           {
            "marker": {
             "pattern": {
              "fillmode": "overlay",
              "size": 10,
              "solidity": 0.2
             }
            },
            "type": "histogram"
           }
          ],
          "histogram2d": [
           {
            "colorbar": {
             "outlinewidth": 0,
             "ticks": ""
            },
            "colorscale": [
             [
              0,
              "#0d0887"
             ],
             [
              0.1111111111111111,
              "#46039f"
             ],
             [
              0.2222222222222222,
              "#7201a8"
             ],
             [
              0.3333333333333333,
              "#9c179e"
             ],
             [
              0.4444444444444444,
              "#bd3786"
             ],
             [
              0.5555555555555556,
              "#d8576b"
             ],
             [
              0.6666666666666666,
              "#ed7953"
             ],
             [
              0.7777777777777778,
              "#fb9f3a"
             ],
             [
              0.8888888888888888,
              "#fdca26"
             ],
             [
              1,
              "#f0f921"
             ]
            ],
            "type": "histogram2d"
           }
          ],
          "histogram2dcontour": [
           {
            "colorbar": {
             "outlinewidth": 0,
             "ticks": ""
            },
            "colorscale": [
             [
              0,
              "#0d0887"
             ],
             [
              0.1111111111111111,
              "#46039f"
             ],
             [
              0.2222222222222222,
              "#7201a8"
             ],
             [
              0.3333333333333333,
              "#9c179e"
             ],
             [
              0.4444444444444444,
              "#bd3786"
             ],
             [
              0.5555555555555556,
              "#d8576b"
             ],
             [
              0.6666666666666666,
              "#ed7953"
             ],
             [
              0.7777777777777778,
              "#fb9f3a"
             ],
             [
              0.8888888888888888,
              "#fdca26"
             ],
             [
              1,
              "#f0f921"
             ]
            ],
            "type": "histogram2dcontour"
           }
          ],
          "mesh3d": [
           {
            "colorbar": {
             "outlinewidth": 0,
             "ticks": ""
            },
            "type": "mesh3d"
           }
          ],
          "parcoords": [
           {
            "line": {
             "colorbar": {
              "outlinewidth": 0,
              "ticks": ""
             }
            },
            "type": "parcoords"
           }
          ],
          "pie": [
           {
            "automargin": true,
            "type": "pie"
           }
          ],
          "scatter": [
           {
            "fillpattern": {
             "fillmode": "overlay",
             "size": 10,
             "solidity": 0.2
            },
            "type": "scatter"
           }
          ],
          "scatter3d": [
           {
            "line": {
             "colorbar": {
              "outlinewidth": 0,
              "ticks": ""
             }
            },
            "marker": {
             "colorbar": {
              "outlinewidth": 0,
              "ticks": ""
             }
            },
            "type": "scatter3d"
           }
          ],
          "scattercarpet": [
           {
            "marker": {
             "colorbar": {
              "outlinewidth": 0,
              "ticks": ""
             }
            },
            "type": "scattercarpet"
           }
          ],
          "scattergeo": [
           {
            "marker": {
             "colorbar": {
              "outlinewidth": 0,
              "ticks": ""
             }
            },
            "type": "scattergeo"
           }
          ],
          "scattergl": [
           {
            "marker": {
             "colorbar": {
              "outlinewidth": 0,
              "ticks": ""
             }
            },
            "type": "scattergl"
           }
          ],
          "scattermap": [
           {
            "marker": {
             "colorbar": {
              "outlinewidth": 0,
              "ticks": ""
             }
            },
            "type": "scattermap"
           }
          ],
          "scattermapbox": [
           {
            "marker": {
             "colorbar": {
              "outlinewidth": 0,
              "ticks": ""
             }
            },
            "type": "scattermapbox"
           }
          ],
          "scatterpolar": [
           {
            "marker": {
             "colorbar": {
              "outlinewidth": 0,
              "ticks": ""
             }
            },
            "type": "scatterpolar"
           }
          ],
          "scatterpolargl": [
           {
            "marker": {
             "colorbar": {
              "outlinewidth": 0,
              "ticks": ""
             }
            },
            "type": "scatterpolargl"
           }
          ],
          "scatterternary": [
           {
            "marker": {
             "colorbar": {
              "outlinewidth": 0,
              "ticks": ""
             }
            },
            "type": "scatterternary"
           }
          ],
          "surface": [
           {
            "colorbar": {
             "outlinewidth": 0,
             "ticks": ""
            },
            "colorscale": [
             [
              0,
              "#0d0887"
             ],
             [
              0.1111111111111111,
              "#46039f"
             ],
             [
              0.2222222222222222,
              "#7201a8"
             ],
             [
              0.3333333333333333,
              "#9c179e"
             ],
             [
              0.4444444444444444,
              "#bd3786"
             ],
             [
              0.5555555555555556,
              "#d8576b"
             ],
             [
              0.6666666666666666,
              "#ed7953"
             ],
             [
              0.7777777777777778,
              "#fb9f3a"
             ],
             [
              0.8888888888888888,
              "#fdca26"
             ],
             [
              1,
              "#f0f921"
             ]
            ],
            "type": "surface"
           }
          ],
          "table": [
           {
            "cells": {
             "fill": {
              "color": "#EBF0F8"
             },
             "line": {
              "color": "white"
             }
            },
            "header": {
             "fill": {
              "color": "#C8D4E3"
             },
             "line": {
              "color": "white"
             }
            },
            "type": "table"
           }
          ]
         },
         "layout": {
          "annotationdefaults": {
           "arrowcolor": "#2a3f5f",
           "arrowhead": 0,
           "arrowwidth": 1
          },
          "autotypenumbers": "strict",
          "coloraxis": {
           "colorbar": {
            "outlinewidth": 0,
            "ticks": ""
           }
          },
          "colorscale": {
           "diverging": [
            [
             0,
             "#8e0152"
            ],
            [
             0.1,
             "#c51b7d"
            ],
            [
             0.2,
             "#de77ae"
            ],
            [
             0.3,
             "#f1b6da"
            ],
            [
             0.4,
             "#fde0ef"
            ],
            [
             0.5,
             "#f7f7f7"
            ],
            [
             0.6,
             "#e6f5d0"
            ],
            [
             0.7,
             "#b8e186"
            ],
            [
             0.8,
             "#7fbc41"
            ],
            [
             0.9,
             "#4d9221"
            ],
            [
             1,
             "#276419"
            ]
           ],
           "sequential": [
            [
             0,
             "#0d0887"
            ],
            [
             0.1111111111111111,
             "#46039f"
            ],
            [
             0.2222222222222222,
             "#7201a8"
            ],
            [
             0.3333333333333333,
             "#9c179e"
            ],
            [
             0.4444444444444444,
             "#bd3786"
            ],
            [
             0.5555555555555556,
             "#d8576b"
            ],
            [
             0.6666666666666666,
             "#ed7953"
            ],
            [
             0.7777777777777778,
             "#fb9f3a"
            ],
            [
             0.8888888888888888,
             "#fdca26"
            ],
            [
             1,
             "#f0f921"
            ]
           ],
           "sequentialminus": [
            [
             0,
             "#0d0887"
            ],
            [
             0.1111111111111111,
             "#46039f"
            ],
            [
             0.2222222222222222,
             "#7201a8"
            ],
            [
             0.3333333333333333,
             "#9c179e"
            ],
            [
             0.4444444444444444,
             "#bd3786"
            ],
            [
             0.5555555555555556,
             "#d8576b"
            ],
            [
             0.6666666666666666,
             "#ed7953"
            ],
            [
             0.7777777777777778,
             "#fb9f3a"
            ],
            [
             0.8888888888888888,
             "#fdca26"
            ],
            [
             1,
             "#f0f921"
            ]
           ]
          },
          "colorway": [
           "#636efa",
           "#EF553B",
           "#00cc96",
           "#ab63fa",
           "#FFA15A",
           "#19d3f3",
           "#FF6692",
           "#B6E880",
           "#FF97FF",
           "#FECB52"
          ],
          "font": {
           "color": "#2a3f5f"
          },
          "geo": {
           "bgcolor": "white",
           "lakecolor": "white",
           "landcolor": "#E5ECF6",
           "showlakes": true,
           "showland": true,
           "subunitcolor": "white"
          },
          "hoverlabel": {
           "align": "left"
          },
          "hovermode": "closest",
          "mapbox": {
           "style": "light"
          },
          "paper_bgcolor": "white",
          "plot_bgcolor": "#E5ECF6",
          "polar": {
           "angularaxis": {
            "gridcolor": "white",
            "linecolor": "white",
            "ticks": ""
           },
           "bgcolor": "#E5ECF6",
           "radialaxis": {
            "gridcolor": "white",
            "linecolor": "white",
            "ticks": ""
           }
          },
          "scene": {
           "xaxis": {
            "backgroundcolor": "#E5ECF6",
            "gridcolor": "white",
            "gridwidth": 2,
            "linecolor": "white",
            "showbackground": true,
            "ticks": "",
            "zerolinecolor": "white"
           },
           "yaxis": {
            "backgroundcolor": "#E5ECF6",
            "gridcolor": "white",
            "gridwidth": 2,
            "linecolor": "white",
            "showbackground": true,
            "ticks": "",
            "zerolinecolor": "white"
           },
           "zaxis": {
            "backgroundcolor": "#E5ECF6",
            "gridcolor": "white",
            "gridwidth": 2,
            "linecolor": "white",
            "showbackground": true,
            "ticks": "",
            "zerolinecolor": "white"
           }
          },
          "shapedefaults": {
           "line": {
            "color": "#2a3f5f"
           }
          },
          "ternary": {
           "aaxis": {
            "gridcolor": "white",
            "linecolor": "white",
            "ticks": ""
           },
           "baxis": {
            "gridcolor": "white",
            "linecolor": "white",
            "ticks": ""
           },
           "bgcolor": "#E5ECF6",
           "caxis": {
            "gridcolor": "white",
            "linecolor": "white",
            "ticks": ""
           }
          },
          "title": {
           "x": 0.05
          },
          "xaxis": {
           "automargin": true,
           "gridcolor": "white",
           "linecolor": "white",
           "ticks": "",
           "title": {
            "standoff": 15
           },
           "zerolinecolor": "white",
           "zerolinewidth": 2
          },
          "yaxis": {
           "automargin": true,
           "gridcolor": "white",
           "linecolor": "white",
           "ticks": "",
           "title": {
            "standoff": 15
           },
           "zerolinecolor": "white",
           "zerolinewidth": 2
          }
         }
        },
        "title": {
         "text": "Mean Rating of Occupational Titles (Gender Bias Highlighted)"
        },
        "xaxis": {
         "anchor": "y",
         "domain": [
          0,
          1
         ],
         "tickangle": -45,
         "title": {
          "text": "Chinese"
         }
        },
        "yaxis": {
         "anchor": "x",
         "domain": [
          0,
          1
         ],
         "range": [
          -3,
          3
         ],
         "tickvals": [
          -3,
          -2,
          -1,
          0,
          1,
          2,
          3
         ],
         "title": {
          "text": "Mean Rating"
         }
        }
       }
      }
     },
     "metadata": {},
     "output_type": "display_data"
    }
   ],
   "source": [
    "### UPDATE AI DATA WITH CHINESE DATA ###\n",
    "\n",
    "# Plot the Chinese data with LLM reference lines\n",
    "fig = px.bar(\n",
    "    df_zh_plot,\n",
    "    x='zh',\n",
    "    y='zh_mean',\n",
    "    color='bias',\n",
    "    color_discrete_map=color_map,\n",
    "    title='Mean Rating of Occupational Titles (Gender Bias Highlighted)',\n",
    "    labels={'zh': 'Chinese', 'en': 'English', 'bias': 'Bias', 'zh_mean': 'Rating'},\n",
    "    hover_data=['zh', 'en', 'zh_mean']\n",
    ")\n",
    "\n",
    "# Add ChatGPT reference line\n",
    "fig.add_trace(\n",
    "    go.Scatter(\n",
    "        x=df_zh_plot['zh'],\n",
    "        y=df_zh_plot['chatgpt'],\n",
    "        mode='lines+markers',\n",
    "        name='ChatGPT',\n",
    "        line=dict(color='#00A67E', width=2, dash='dot'),\n",
    "        marker=dict(symbol='circle', size=6),\n",
    "        hovertemplate='Chinese: %{x}<br>English: %{customdata[0]}<br>ChatGPT: %{y:.2f}<extra></extra>',\n",
    "        customdata=df_zh_plot[['en']]\n",
    "    )\n",
    ")\n",
    "\n",
    "# Add Copilot reference line\n",
    "fig.add_trace(\n",
    "    go.Scatter(\n",
    "        x=df_zh_plot['zh'],\n",
    "        y=df_zh_plot['copilot'],\n",
    "        mode='lines+markers',\n",
    "        name='Copilot',\n",
    "        line=dict(color=\"#F2AD22\", width=2, dash='dot'),\n",
    "        marker=dict(symbol='circle', size=6),\n",
    "        hovertemplate='Chinese: %{x}<br>English: %{customdata[0]}<br>Copilot: %{y:.2f}<extra></extra>',\n",
    "        customdata=df_zh_plot[['en']]\n",
    "    ))\n",
    "\n",
    "# Add Gemini reference line\n",
    "fig.add_trace(\n",
    "    go.Scatter(\n",
    "        x=df_zh_plot['zh'],\n",
    "        y=df_zh_plot['gemini'],\n",
    "        mode='lines+markers',\n",
    "        name='Gemini',\n",
    "        line=dict(color='#9177C7', width=2, dash='dot'),\n",
    "        marker=dict(symbol='circle', size=6),\n",
    "        hovertemplate='Chinese: %{x}<br>English: %{customdata[0]}<br>Gemini: %{y:.2f}<extra></extra>',\n",
    "        customdata=df_zh_plot[['en']]\n",
    "    ))\n",
    "\n",
    "# Add Deepseek reference line\n",
    "fig.add_trace(\n",
    "    go.Scatter(\n",
    "        x=df_zh_plot['zh'],\n",
    "        y=df_zh_plot['deepseek'],\n",
    "        mode='lines+markers',\n",
    "        name='Deepseek',\n",
    "        line=dict(color='#3C5DFF', width=2, dash='dot'),\n",
    "        marker=dict(symbol='circle', size=6),\n",
    "        hovertemplate='Chinese: %{x}<br>English: %{customdata[0]}<br>Deepseek: %{y:.2f}<extra></extra>',\n",
    "        customdata=df_zh_plot[['en']]\n",
    "    ))\n",
    "\n",
    "fig.update_layout(\n",
    "    xaxis_tickangle=-45,\n",
    "    yaxis=dict(\n",
    "        range=[-3, 3],\n",
    "        tickvals=[-3, -2, -1, 0, 1, 2, 3],\n",
    "        title='Mean Rating'\n",
    "    ))\n",
    "\n",
    "fig.show()\n",
    "\n",
    "# Save as HTML and image\n",
    "fig.write_html('occupations_zh_llms.html')\n",
    "fig.write_image('occupations_zh_llms.png', scale=2, width=1000, height=500)"
   ]
  },
  {
   "cell_type": "markdown",
   "id": "f7532770",
   "metadata": {},
   "source": [
    "## Cross-linguistic Comparison"
   ]
  },
  {
   "cell_type": "markdown",
   "id": "be87101a",
   "metadata": {},
   "source": [
    "### Check comparability"
   ]
  },
  {
   "cell_type": "code",
   "execution_count": 23,
   "id": "f00c1870",
   "metadata": {},
   "outputs": [
    {
     "name": "stdout",
     "output_type": "stream",
     "text": [
      "Items only in Hungarian data (7): ['(male) nurse', 'HR specialist', 'farmer', 'gardener', 'pilot', 'student', 'waiter*']\n",
      "\n",
      "Items only in Chinese data (3): ['domestic helper', 'flight attendant*', 'kindergarten teacher']\n",
      "\n",
      "Items in both (37): ['CEO', 'PR specialist', 'accountant', 'architect', 'beautician', 'caretaker', 'cashier', 'chef', 'cleaner', 'dietitian', 'director', 'doctor', 'engineer', 'firefighter', 'flight attendant', 'hairdresser', 'housekeeper', 'judge', 'lifeguard', 'manager', 'model', 'nurse', 'pathologist', 'police officer', 'professor', 'programmer', 'prosecutor', 'receptionist', 'scientist', 'secretary', 'security guard', 'shop assistant', 'soldier', 'teacher', 'ticketseller', 'waiter', 'worker']\n"
     ]
    }
   ],
   "source": [
    "# Get the set of English occupation names from both dataframes\n",
    "en_hu = set(df_hu['en'].dropna()) if 'en' in df_hu.columns else set()\n",
    "en_zh = set(df_zh['en'].dropna()) if 'en' in df_zh.columns else set()\n",
    "\n",
    "# Items only in Hungarian data\n",
    "only_in_hu = en_hu - en_zh\n",
    "# Items only in Chinese data\n",
    "only_in_zh = en_zh - en_hu\n",
    "# Items in both\n",
    "in_both = en_hu & en_zh\n",
    "\n",
    "print(f\"Items only in Hungarian data ({len(only_in_hu)}): {sorted(only_in_hu)}\\n\")\n",
    "print(f\"Items only in Chinese data ({len(only_in_zh)}): {sorted(only_in_zh)}\\n\")\n",
    "print(f\"Items in both ({len(in_both)}): {sorted(in_both)}\")"
   ]
  },
  {
   "cell_type": "markdown",
   "id": "68a77a74",
   "metadata": {},
   "source": [
    "### Unified dataframe"
   ]
  },
  {
   "cell_type": "code",
   "execution_count": 24,
   "id": "d63fbe90",
   "metadata": {},
   "outputs": [
    {
     "name": "stdout",
     "output_type": "stream",
     "text": [
      "Number of unique occupations in unified DataFrame: 47\n"
     ]
    },
    {
     "data": {
      "text/html": [
       "<div>\n",
       "<style scoped>\n",
       "    .dataframe tbody tr th:only-of-type {\n",
       "        vertical-align: middle;\n",
       "    }\n",
       "\n",
       "    .dataframe tbody tr th {\n",
       "        vertical-align: top;\n",
       "    }\n",
       "\n",
       "    .dataframe thead th {\n",
       "        text-align: right;\n",
       "    }\n",
       "</style>\n",
       "<table border=\"1\" class=\"dataframe\">\n",
       "  <thead>\n",
       "    <tr style=\"text-align: right;\">\n",
       "      <th></th>\n",
       "      <th>en</th>\n",
       "      <th>hu</th>\n",
       "      <th>hu_mean</th>\n",
       "      <th>zh</th>\n",
       "      <th>zh_mean</th>\n",
       "      <th>both_significant</th>\n",
       "      <th>mean_difference</th>\n",
       "    </tr>\n",
       "  </thead>\n",
       "  <tbody>\n",
       "    <tr>\n",
       "      <th>21</th>\n",
       "      <td>hairdresser</td>\n",
       "      <td>fodrász</td>\n",
       "      <td>0.95</td>\n",
       "      <td>理发师</td>\n",
       "      <td>-1.058824</td>\n",
       "      <td>True</td>\n",
       "      <td>2.008824</td>\n",
       "    </tr>\n",
       "    <tr>\n",
       "      <th>25</th>\n",
       "      <td>lifeguard</td>\n",
       "      <td>vízimentő</td>\n",
       "      <td>-1.10</td>\n",
       "      <td>救生员</td>\n",
       "      <td>-1.764706</td>\n",
       "      <td>True</td>\n",
       "      <td>0.664706</td>\n",
       "    </tr>\n",
       "    <tr>\n",
       "      <th>36</th>\n",
       "      <td>scientist</td>\n",
       "      <td>tudós</td>\n",
       "      <td>-0.40</td>\n",
       "      <td>科学家</td>\n",
       "      <td>-1.058824</td>\n",
       "      <td>True</td>\n",
       "      <td>0.658824</td>\n",
       "    </tr>\n",
       "    <tr>\n",
       "      <th>31</th>\n",
       "      <td>police officer</td>\n",
       "      <td>rendőr</td>\n",
       "      <td>-1.30</td>\n",
       "      <td>警察</td>\n",
       "      <td>-1.882353</td>\n",
       "      <td>True</td>\n",
       "      <td>0.582353</td>\n",
       "    </tr>\n",
       "    <tr>\n",
       "      <th>9</th>\n",
       "      <td>chef</td>\n",
       "      <td>szakács</td>\n",
       "      <td>-1.00</td>\n",
       "      <td>厨师</td>\n",
       "      <td>-1.529412</td>\n",
       "      <td>True</td>\n",
       "      <td>0.529412</td>\n",
       "    </tr>\n",
       "  </tbody>\n",
       "</table>\n",
       "</div>"
      ],
      "text/plain": [
       "                en         hu  hu_mean   zh   zh_mean  both_significant  \\\n",
       "21     hairdresser    fodrász     0.95  理发师 -1.058824              True   \n",
       "25       lifeguard  vízimentő    -1.10  救生员 -1.764706              True   \n",
       "36       scientist      tudós    -0.40  科学家 -1.058824              True   \n",
       "31  police officer     rendőr    -1.30   警察 -1.882353              True   \n",
       "9             chef    szakács    -1.00   厨师 -1.529412              True   \n",
       "\n",
       "    mean_difference  \n",
       "21         2.008824  \n",
       "25         0.664706  \n",
       "36         0.658824  \n",
       "31         0.582353  \n",
       "9          0.529412  "
      ]
     },
     "execution_count": 24,
     "metadata": {},
     "output_type": "execute_result"
    }
   ],
   "source": [
    "# Create a unified DataFrame with all unique occupation words (by English name)\n",
    "all_en = sorted(en_hu | en_zh)\n",
    "\n",
    "# Merge Hungarian and Chinese data on 'en' (English occupation name)\n",
    "df_hu_part = df_hu[['en', 'hu', 'hu_mean', 'hu_significant']].copy()\n",
    "df_zh_part = df_zh[['en', 'zh', 'zh_mean', 'zh_significant']].copy()\n",
    "\n",
    "# Outer merge to include all occupations from both datasets\n",
    "df_unified = pd.DataFrame({'en': all_en})\n",
    "df_unified = df_unified.merge(df_hu_part, on='en', how='left')\n",
    "df_unified = df_unified.merge(df_zh_part, on='en', how='left')\n",
    "\n",
    "# Mark in a new column if both are significant\n",
    "df_unified['both_significant'] = df_unified.apply(\n",
    "    lambda row: row['hu_significant'] and row['zh_significant'] if pd.notna(row['hu_significant']) and pd.notna(row['zh_significant']) else False, axis=1)\n",
    "\n",
    "# Drop hu_significant and zh_significant columns\n",
    "df_unified.drop(columns=['hu_significant', 'zh_significant'], inplace=True)\n",
    "\n",
    "# Add new column that shows the difference between hu_mean and zh_mean\n",
    "df_unified['mean_difference'] = df_unified.apply(\n",
    "    lambda row: row['hu_mean'] - row['zh_mean'] if pd.notna(row['hu_mean']) and pd.notna(row['zh_mean']) else None, axis=1)\n",
    "\n",
    "# Sort by this\n",
    "df_unified = df_unified.sort_values(by='mean_difference', ascending=False)\n",
    "\n",
    "# Count and print the number of unique occupations in the unified DataFrame\n",
    "num_unique_occupations = df_unified['en'].nunique()\n",
    "print(f'Number of unique occupations in unified DataFrame: {num_unique_occupations}')\n",
    "\n",
    "# Export this as an Excel file\n",
    "df_unified.to_excel('occupations_unified.xlsx', index=False)\n",
    "\n",
    "# Show the unified DataFrame\n",
    "df_unified.head()"
   ]
  },
  {
   "cell_type": "markdown",
   "id": "04345cf9",
   "metadata": {},
   "source": [
    "## Plot comparison"
   ]
  },
  {
   "cell_type": "code",
   "execution_count": 25,
   "id": "481968fd",
   "metadata": {},
   "outputs": [
    {
     "data": {
      "application/vnd.plotly.v1+json": {
       "config": {
        "plotlyServerURL": "https://plot.ly"
       },
       "data": [
        {
         "customdata": [
          [
           "nővér"
          ],
          [
           "kozmetikus"
          ],
          [
           "házvezető"
          ],
          [
           "pénztáros"
          ],
          [
           "légiutas-kísérő"
          ],
          [
           "takarító"
          ],
          [
           "recepciós"
          ],
          [
           "bolti eladó"
          ],
          [
           "modell"
          ],
          [
           "gondozó"
          ],
          [
           "dietetikus"
          ],
          [
           "jegyárus"
          ],
          [
           "tanár"
          ],
          [
           "titkár"
          ],
          [
           "könyvelő"
          ],
          [
           "PR munkatárs"
          ],
          [
           "pincér"
          ],
          [
           "fodrász"
          ],
          [
           "bíró"
          ],
          [
           "orvos"
          ],
          [
           "menedzser"
          ],
          [
           "tudós"
          ],
          [
           "professzor"
          ],
          [
           "kórboncnok"
          ],
          [
           "ügyész"
          ],
          [
           "rendező"
          ],
          [
           "mérnök"
          ],
          [
           "vezérigazgató"
          ],
          [
           "szakács"
          ],
          [
           "programozó"
          ],
          [
           "vízimentő"
          ],
          [
           "munkás"
          ],
          [
           "építész"
          ],
          [
           "rendőr"
          ],
          [
           "katona"
          ],
          [
           "biztonsági őr"
          ],
          [
           "tűzoltó"
          ]
         ],
         "hovertemplate": "Hungarian: %{customdata[0]}<br>Mean: %{y:.2f}",
         "marker": {
          "color": "#1f7211"
         },
         "name": "Hungarian",
         "type": "bar",
         "x": [
          "nurse",
          "beautician",
          "housekeeper",
          "cashier",
          "flight attendant",
          "cleaner",
          "receptionist",
          "shop assistant",
          "model",
          "caretaker",
          "dietitian",
          "ticketseller",
          "teacher",
          "secretary",
          "accountant",
          "PR specialist",
          "waiter",
          "hairdresser",
          "judge",
          "doctor",
          "manager",
          "scientist",
          "professor",
          "pathologist",
          "prosecutor",
          "director",
          "engineer",
          "CEO",
          "chef",
          "programmer",
          "lifeguard",
          "worker",
          "architect",
          "police officer",
          "soldier",
          "security guard",
          "firefighter"
         ],
         "y": {
          "bdata": "mpmZmZmZAUAzMzMzMzMBQDMzMzMzM/s/AAAAAAAA8D9mZmZmZmb2PzMzMzMzM/M/ZmZmZmZm5j9mZmZmZmbuPwAAAAAAAPA/AAAAAAAA8D/NzMzMzMzkP5qZmZmZmck/mpmZmZmZqT8AAAAAAADQv83MzMzMzNw/AAAAAAAA0D+amZmZmZnZv2ZmZmZmZu4/AAAAAAAA0L8AAAAAAADgvzMzMzMzM+O/mpmZmZmZ2b8zMzMzMzPrv5qZmZmZmem/zczMzMzM5L8AAAAAAADov83MzMzMzPC/MzMzMzMz878AAAAAAADwv5qZmZmZmfW/mpmZmZmZ8b+amZmZmZn1vwAAAAAAAPS/zczMzMzM9L8AAAAAAAD8v2ZmZmZmZv6/mpmZmZmZAcA=",
          "dtype": "f8"
         }
        },
        {
         "customdata": [
          [
           "护士"
          ],
          [
           "美容师"
          ],
          [
           "家政员"
          ],
          [
           "收银员"
          ],
          [
           "乘务员"
          ],
          [
           "保洁"
          ],
          [
           "前台"
          ],
          [
           "导购员"
          ],
          [
           "模特"
          ],
          [
           "护工"
          ],
          [
           "营养师"
          ],
          [
           "售票员"
          ],
          [
           "教师"
          ],
          [
           "秘书"
          ],
          [
           "会计"
          ],
          [
           "公关"
          ],
          [
           "服务员"
          ],
          [
           "理发师"
          ],
          [
           "法官"
          ],
          [
           "医生"
          ],
          [
           "高管"
          ],
          [
           "科学家"
          ],
          [
           "教授"
          ],
          [
           "法医"
          ],
          [
           "检察官"
          ],
          [
           "导演"
          ],
          [
           "工程师"
          ],
          [
           "董事长"
          ],
          [
           "厨师"
          ],
          [
           "程序员"
          ],
          [
           "救生员"
          ],
          [
           "工人"
          ],
          [
           "建筑师"
          ],
          [
           "警察"
          ],
          [
           "军人"
          ],
          [
           "保安"
          ],
          [
           "消防员"
          ]
         ],
         "hovertemplate": "Chinese: %{customdata[0]}<br>Mean: %{y:.2f}",
         "marker": {
          "color": "#e81818"
         },
         "name": "Chinese",
         "type": "bar",
         "x": [
          "nurse",
          "beautician",
          "housekeeper",
          "cashier",
          "flight attendant",
          "cleaner",
          "receptionist",
          "shop assistant",
          "model",
          "caretaker",
          "dietitian",
          "ticketseller",
          "teacher",
          "secretary",
          "accountant",
          "PR specialist",
          "waiter",
          "hairdresser",
          "judge",
          "doctor",
          "manager",
          "scientist",
          "professor",
          "pathologist",
          "prosecutor",
          "director",
          "engineer",
          "CEO",
          "chef",
          "programmer",
          "lifeguard",
          "worker",
          "architect",
          "police officer",
          "soldier",
          "security guard",
          "firefighter"
         ],
         "y": {
          "bdata": "Dw8PDw8P/z8eHh4eHh7+P8TDw8PDw/M/eHh4eHh4+D/i4eHh4eHxP7W0tLS0tPQ/aWlpaWlp+T+1tLS0tLT0P+Lh4eHh4fE/8fDw8PDw8D/T0tLS0tLiPwAAAAAAAPA/4uHh4eHh8T+XlpaWlpb2P5eWlpaWluY/09LS0tLS4j88PDw8PDzsP/Hw8PDw8PC/l5aWlpaW1r+XlpaWlpbmv3h4eHh4eOi/8fDw8PDw8L+1tLS0tLTkv1paWlpaWuq/8fDw8PDw8L8AAAAAAADwv6alpaWlpfW/xMPDw8PD8794eHh4eHj4v4iHh4eHh/e/PDw8PDw8/L9paWlpaWn5vzw8PDw8PPy/Hh4eHh4e/r9LS0tLS0v7v3h4eHh4eADAAAAAAAAAAMA=",
          "dtype": "f8"
         }
        }
       ],
       "layout": {
        "barmode": "group",
        "template": {
         "data": {
          "bar": [
           {
            "error_x": {
             "color": "#2a3f5f"
            },
            "error_y": {
             "color": "#2a3f5f"
            },
            "marker": {
             "line": {
              "color": "white",
              "width": 0.5
             },
             "pattern": {
              "fillmode": "overlay",
              "size": 10,
              "solidity": 0.2
             }
            },
            "type": "bar"
           }
          ],
          "barpolar": [
           {
            "marker": {
             "line": {
              "color": "white",
              "width": 0.5
             },
             "pattern": {
              "fillmode": "overlay",
              "size": 10,
              "solidity": 0.2
             }
            },
            "type": "barpolar"
           }
          ],
          "carpet": [
           {
            "aaxis": {
             "endlinecolor": "#2a3f5f",
             "gridcolor": "#C8D4E3",
             "linecolor": "#C8D4E3",
             "minorgridcolor": "#C8D4E3",
             "startlinecolor": "#2a3f5f"
            },
            "baxis": {
             "endlinecolor": "#2a3f5f",
             "gridcolor": "#C8D4E3",
             "linecolor": "#C8D4E3",
             "minorgridcolor": "#C8D4E3",
             "startlinecolor": "#2a3f5f"
            },
            "type": "carpet"
           }
          ],
          "choropleth": [
           {
            "colorbar": {
             "outlinewidth": 0,
             "ticks": ""
            },
            "type": "choropleth"
           }
          ],
          "contour": [
           {
            "colorbar": {
             "outlinewidth": 0,
             "ticks": ""
            },
            "colorscale": [
             [
              0,
              "#0d0887"
             ],
             [
              0.1111111111111111,
              "#46039f"
             ],
             [
              0.2222222222222222,
              "#7201a8"
             ],
             [
              0.3333333333333333,
              "#9c179e"
             ],
             [
              0.4444444444444444,
              "#bd3786"
             ],
             [
              0.5555555555555556,
              "#d8576b"
             ],
             [
              0.6666666666666666,
              "#ed7953"
             ],
             [
              0.7777777777777778,
              "#fb9f3a"
             ],
             [
              0.8888888888888888,
              "#fdca26"
             ],
             [
              1,
              "#f0f921"
             ]
            ],
            "type": "contour"
           }
          ],
          "contourcarpet": [
           {
            "colorbar": {
             "outlinewidth": 0,
             "ticks": ""
            },
            "type": "contourcarpet"
           }
          ],
          "heatmap": [
           {
            "colorbar": {
             "outlinewidth": 0,
             "ticks": ""
            },
            "colorscale": [
             [
              0,
              "#0d0887"
             ],
             [
              0.1111111111111111,
              "#46039f"
             ],
             [
              0.2222222222222222,
              "#7201a8"
             ],
             [
              0.3333333333333333,
              "#9c179e"
             ],
             [
              0.4444444444444444,
              "#bd3786"
             ],
             [
              0.5555555555555556,
              "#d8576b"
             ],
             [
              0.6666666666666666,
              "#ed7953"
             ],
             [
              0.7777777777777778,
              "#fb9f3a"
             ],
             [
              0.8888888888888888,
              "#fdca26"
             ],
             [
              1,
              "#f0f921"
             ]
            ],
            "type": "heatmap"
           }
          ],
          "histogram": [
           {
            "marker": {
             "pattern": {
              "fillmode": "overlay",
              "size": 10,
              "solidity": 0.2
             }
            },
            "type": "histogram"
           }
          ],
          "histogram2d": [
           {
            "colorbar": {
             "outlinewidth": 0,
             "ticks": ""
            },
            "colorscale": [
             [
              0,
              "#0d0887"
             ],
             [
              0.1111111111111111,
              "#46039f"
             ],
             [
              0.2222222222222222,
              "#7201a8"
             ],
             [
              0.3333333333333333,
              "#9c179e"
             ],
             [
              0.4444444444444444,
              "#bd3786"
             ],
             [
              0.5555555555555556,
              "#d8576b"
             ],
             [
              0.6666666666666666,
              "#ed7953"
             ],
             [
              0.7777777777777778,
              "#fb9f3a"
             ],
             [
              0.8888888888888888,
              "#fdca26"
             ],
             [
              1,
              "#f0f921"
             ]
            ],
            "type": "histogram2d"
           }
          ],
          "histogram2dcontour": [
           {
            "colorbar": {
             "outlinewidth": 0,
             "ticks": ""
            },
            "colorscale": [
             [
              0,
              "#0d0887"
             ],
             [
              0.1111111111111111,
              "#46039f"
             ],
             [
              0.2222222222222222,
              "#7201a8"
             ],
             [
              0.3333333333333333,
              "#9c179e"
             ],
             [
              0.4444444444444444,
              "#bd3786"
             ],
             [
              0.5555555555555556,
              "#d8576b"
             ],
             [
              0.6666666666666666,
              "#ed7953"
             ],
             [
              0.7777777777777778,
              "#fb9f3a"
             ],
             [
              0.8888888888888888,
              "#fdca26"
             ],
             [
              1,
              "#f0f921"
             ]
            ],
            "type": "histogram2dcontour"
           }
          ],
          "mesh3d": [
           {
            "colorbar": {
             "outlinewidth": 0,
             "ticks": ""
            },
            "type": "mesh3d"
           }
          ],
          "parcoords": [
           {
            "line": {
             "colorbar": {
              "outlinewidth": 0,
              "ticks": ""
             }
            },
            "type": "parcoords"
           }
          ],
          "pie": [
           {
            "automargin": true,
            "type": "pie"
           }
          ],
          "scatter": [
           {
            "fillpattern": {
             "fillmode": "overlay",
             "size": 10,
             "solidity": 0.2
            },
            "type": "scatter"
           }
          ],
          "scatter3d": [
           {
            "line": {
             "colorbar": {
              "outlinewidth": 0,
              "ticks": ""
             }
            },
            "marker": {
             "colorbar": {
              "outlinewidth": 0,
              "ticks": ""
             }
            },
            "type": "scatter3d"
           }
          ],
          "scattercarpet": [
           {
            "marker": {
             "colorbar": {
              "outlinewidth": 0,
              "ticks": ""
             }
            },
            "type": "scattercarpet"
           }
          ],
          "scattergeo": [
           {
            "marker": {
             "colorbar": {
              "outlinewidth": 0,
              "ticks": ""
             }
            },
            "type": "scattergeo"
           }
          ],
          "scattergl": [
           {
            "marker": {
             "colorbar": {
              "outlinewidth": 0,
              "ticks": ""
             }
            },
            "type": "scattergl"
           }
          ],
          "scattermap": [
           {
            "marker": {
             "colorbar": {
              "outlinewidth": 0,
              "ticks": ""
             }
            },
            "type": "scattermap"
           }
          ],
          "scattermapbox": [
           {
            "marker": {
             "colorbar": {
              "outlinewidth": 0,
              "ticks": ""
             }
            },
            "type": "scattermapbox"
           }
          ],
          "scatterpolar": [
           {
            "marker": {
             "colorbar": {
              "outlinewidth": 0,
              "ticks": ""
             }
            },
            "type": "scatterpolar"
           }
          ],
          "scatterpolargl": [
           {
            "marker": {
             "colorbar": {
              "outlinewidth": 0,
              "ticks": ""
             }
            },
            "type": "scatterpolargl"
           }
          ],
          "scatterternary": [
           {
            "marker": {
             "colorbar": {
              "outlinewidth": 0,
              "ticks": ""
             }
            },
            "type": "scatterternary"
           }
          ],
          "surface": [
           {
            "colorbar": {
             "outlinewidth": 0,
             "ticks": ""
            },
            "colorscale": [
             [
              0,
              "#0d0887"
             ],
             [
              0.1111111111111111,
              "#46039f"
             ],
             [
              0.2222222222222222,
              "#7201a8"
             ],
             [
              0.3333333333333333,
              "#9c179e"
             ],
             [
              0.4444444444444444,
              "#bd3786"
             ],
             [
              0.5555555555555556,
              "#d8576b"
             ],
             [
              0.6666666666666666,
              "#ed7953"
             ],
             [
              0.7777777777777778,
              "#fb9f3a"
             ],
             [
              0.8888888888888888,
              "#fdca26"
             ],
             [
              1,
              "#f0f921"
             ]
            ],
            "type": "surface"
           }
          ],
          "table": [
           {
            "cells": {
             "fill": {
              "color": "#EBF0F8"
             },
             "line": {
              "color": "white"
             }
            },
            "header": {
             "fill": {
              "color": "#C8D4E3"
             },
             "line": {
              "color": "white"
             }
            },
            "type": "table"
           }
          ]
         },
         "layout": {
          "annotationdefaults": {
           "arrowcolor": "#2a3f5f",
           "arrowhead": 0,
           "arrowwidth": 1
          },
          "autotypenumbers": "strict",
          "coloraxis": {
           "colorbar": {
            "outlinewidth": 0,
            "ticks": ""
           }
          },
          "colorscale": {
           "diverging": [
            [
             0,
             "#8e0152"
            ],
            [
             0.1,
             "#c51b7d"
            ],
            [
             0.2,
             "#de77ae"
            ],
            [
             0.3,
             "#f1b6da"
            ],
            [
             0.4,
             "#fde0ef"
            ],
            [
             0.5,
             "#f7f7f7"
            ],
            [
             0.6,
             "#e6f5d0"
            ],
            [
             0.7,
             "#b8e186"
            ],
            [
             0.8,
             "#7fbc41"
            ],
            [
             0.9,
             "#4d9221"
            ],
            [
             1,
             "#276419"
            ]
           ],
           "sequential": [
            [
             0,
             "#0d0887"
            ],
            [
             0.1111111111111111,
             "#46039f"
            ],
            [
             0.2222222222222222,
             "#7201a8"
            ],
            [
             0.3333333333333333,
             "#9c179e"
            ],
            [
             0.4444444444444444,
             "#bd3786"
            ],
            [
             0.5555555555555556,
             "#d8576b"
            ],
            [
             0.6666666666666666,
             "#ed7953"
            ],
            [
             0.7777777777777778,
             "#fb9f3a"
            ],
            [
             0.8888888888888888,
             "#fdca26"
            ],
            [
             1,
             "#f0f921"
            ]
           ],
           "sequentialminus": [
            [
             0,
             "#0d0887"
            ],
            [
             0.1111111111111111,
             "#46039f"
            ],
            [
             0.2222222222222222,
             "#7201a8"
            ],
            [
             0.3333333333333333,
             "#9c179e"
            ],
            [
             0.4444444444444444,
             "#bd3786"
            ],
            [
             0.5555555555555556,
             "#d8576b"
            ],
            [
             0.6666666666666666,
             "#ed7953"
            ],
            [
             0.7777777777777778,
             "#fb9f3a"
            ],
            [
             0.8888888888888888,
             "#fdca26"
            ],
            [
             1,
             "#f0f921"
            ]
           ]
          },
          "colorway": [
           "#636efa",
           "#EF553B",
           "#00cc96",
           "#ab63fa",
           "#FFA15A",
           "#19d3f3",
           "#FF6692",
           "#B6E880",
           "#FF97FF",
           "#FECB52"
          ],
          "font": {
           "color": "#2a3f5f"
          },
          "geo": {
           "bgcolor": "white",
           "lakecolor": "white",
           "landcolor": "white",
           "showlakes": true,
           "showland": true,
           "subunitcolor": "#C8D4E3"
          },
          "hoverlabel": {
           "align": "left"
          },
          "hovermode": "closest",
          "mapbox": {
           "style": "light"
          },
          "paper_bgcolor": "white",
          "plot_bgcolor": "white",
          "polar": {
           "angularaxis": {
            "gridcolor": "#EBF0F8",
            "linecolor": "#EBF0F8",
            "ticks": ""
           },
           "bgcolor": "white",
           "radialaxis": {
            "gridcolor": "#EBF0F8",
            "linecolor": "#EBF0F8",
            "ticks": ""
           }
          },
          "scene": {
           "xaxis": {
            "backgroundcolor": "white",
            "gridcolor": "#DFE8F3",
            "gridwidth": 2,
            "linecolor": "#EBF0F8",
            "showbackground": true,
            "ticks": "",
            "zerolinecolor": "#EBF0F8"
           },
           "yaxis": {
            "backgroundcolor": "white",
            "gridcolor": "#DFE8F3",
            "gridwidth": 2,
            "linecolor": "#EBF0F8",
            "showbackground": true,
            "ticks": "",
            "zerolinecolor": "#EBF0F8"
           },
           "zaxis": {
            "backgroundcolor": "white",
            "gridcolor": "#DFE8F3",
            "gridwidth": 2,
            "linecolor": "#EBF0F8",
            "showbackground": true,
            "ticks": "",
            "zerolinecolor": "#EBF0F8"
           }
          },
          "shapedefaults": {
           "line": {
            "color": "#2a3f5f"
           }
          },
          "ternary": {
           "aaxis": {
            "gridcolor": "#DFE8F3",
            "linecolor": "#A2B1C6",
            "ticks": ""
           },
           "baxis": {
            "gridcolor": "#DFE8F3",
            "linecolor": "#A2B1C6",
            "ticks": ""
           },
           "bgcolor": "white",
           "caxis": {
            "gridcolor": "#DFE8F3",
            "linecolor": "#A2B1C6",
            "ticks": ""
           }
          },
          "title": {
           "x": 0.05
          },
          "xaxis": {
           "automargin": true,
           "gridcolor": "#EBF0F8",
           "linecolor": "#EBF0F8",
           "ticks": "",
           "title": {
            "standoff": 15
           },
           "zerolinecolor": "#EBF0F8",
           "zerolinewidth": 2
          },
          "yaxis": {
           "automargin": true,
           "gridcolor": "#EBF0F8",
           "linecolor": "#EBF0F8",
           "ticks": "",
           "title": {
            "standoff": 15
           },
           "zerolinecolor": "#EBF0F8",
           "zerolinewidth": 2
          }
         }
        },
        "title": {
         "text": "Comparison of Occupational Gender Bias Ratings by Language (Hungarian vs. Chinese)"
        },
        "xaxis": {
         "tickangle": -45,
         "title": {
          "text": "Occupation"
         }
        },
        "yaxis": {
         "title": {
          "text": "Mean Rating"
         }
        }
       }
      }
     },
     "metadata": {},
     "output_type": "display_data"
    }
   ],
   "source": [
    "# Prepare comparison DataFrame for occupations present in both datasets\n",
    "df_compare = df_hu[df_hu['en'].isin(in_both)][['en', 'hu_mean', 'hu']].merge(\n",
    "    df_zh[df_zh['en'].isin(in_both)][['en', 'zh_mean', 'zh']], on='en', suffixes=('_hu', '_zh')\n",
    ")\n",
    "\n",
    "# Sort by the average of the two means for better visualization\n",
    "df_compare['mean_avg'] = (df_compare['hu_mean'] + df_compare['zh_mean']) / 2\n",
    "df_compare = df_compare.sort_values('mean_avg', ascending=False)\n",
    "\n",
    "# Create bar plot\n",
    "fig = go.Figure()\n",
    "\n",
    "fig.add_trace(go.Bar(\n",
    "    x=df_compare['en'],\n",
    "    y=df_compare['hu_mean'],\n",
    "    name='Hungarian',\n",
    "    marker_color=\"#1f7211\",\n",
    "    hovertemplate='Hungarian: %{customdata[0]}<br>Mean: %{y:.2f}',\n",
    "    customdata=df_compare[['hu']]\n",
    "))\n",
    "\n",
    "fig.add_trace(go.Bar(\n",
    "    x=df_compare['en'],\n",
    "    y=df_compare['zh_mean'],\n",
    "    name='Chinese',\n",
    "    marker_color=\"#e81818\",\n",
    "    hovertemplate='Chinese: %{customdata[0]}<br>Mean: %{y:.2f}',\n",
    "    customdata=df_compare[['zh']]\n",
    "))\n",
    "\n",
    "fig.update_layout(\n",
    "    barmode='group',\n",
    "    title='Comparison of Occupational Gender Bias Ratings by Language (Hungarian vs. Chinese)',\n",
    "    xaxis_title='Occupation',\n",
    "    yaxis_title='Mean Rating',\n",
    "    xaxis_tickangle=-45,\n",
    "    template='plotly_white'\n",
    ")\n",
    "\n",
    "fig.show()\n",
    "\n",
    "# Save as html\n",
    "fig.write_html('occupations_comparison.html')\n",
    "\n",
    "# Save as image\n",
    "fig.write_image('occupations_comparison.png', scale=2, width=1000, height=500)"
   ]
  },
  {
   "cell_type": "markdown",
   "id": "7be5811b",
   "metadata": {},
   "source": [
    "### Test significance of the differences"
   ]
  },
  {
   "cell_type": "code",
   "execution_count": 26,
   "id": "ec17b5d5",
   "metadata": {},
   "outputs": [
    {
     "data": {
      "text/html": [
       "<div>\n",
       "<style scoped>\n",
       "    .dataframe tbody tr th:only-of-type {\n",
       "        vertical-align: middle;\n",
       "    }\n",
       "\n",
       "    .dataframe tbody tr th {\n",
       "        vertical-align: top;\n",
       "    }\n",
       "\n",
       "    .dataframe thead th {\n",
       "        text-align: right;\n",
       "    }\n",
       "</style>\n",
       "<table border=\"1\" class=\"dataframe\">\n",
       "  <thead>\n",
       "    <tr style=\"text-align: right;\">\n",
       "      <th></th>\n",
       "      <th>hu</th>\n",
       "      <th>en</th>\n",
       "      <th>zh</th>\n",
       "      <th>0</th>\n",
       "      <th>1</th>\n",
       "      <th>2</th>\n",
       "      <th>3</th>\n",
       "      <th>4</th>\n",
       "      <th>5</th>\n",
       "      <th>6</th>\n",
       "      <th>7</th>\n",
       "      <th>8</th>\n",
       "      <th>9</th>\n",
       "      <th>10</th>\n",
       "      <th>11</th>\n",
       "      <th>12</th>\n",
       "      <th>13</th>\n",
       "      <th>14</th>\n",
       "      <th>15</th>\n",
       "      <th>16</th>\n",
       "    </tr>\n",
       "  </thead>\n",
       "  <tbody>\n",
       "    <tr>\n",
       "      <th>12</th>\n",
       "      <td>NaN</td>\n",
       "      <td>domestic helper</td>\n",
       "      <td>保姆</td>\n",
       "      <td>2</td>\n",
       "      <td>2</td>\n",
       "      <td>1</td>\n",
       "      <td>2</td>\n",
       "      <td>2</td>\n",
       "      <td>3</td>\n",
       "      <td>3</td>\n",
       "      <td>2</td>\n",
       "      <td>1</td>\n",
       "      <td>2</td>\n",
       "      <td>2</td>\n",
       "      <td>3</td>\n",
       "      <td>3</td>\n",
       "      <td>2</td>\n",
       "      <td>2</td>\n",
       "      <td>3</td>\n",
       "      <td>1</td>\n",
       "    </tr>\n",
       "    <tr>\n",
       "      <th>9</th>\n",
       "      <td>NaN</td>\n",
       "      <td>kindergarten teacher</td>\n",
       "      <td>幼师</td>\n",
       "      <td>2</td>\n",
       "      <td>2</td>\n",
       "      <td>2</td>\n",
       "      <td>1</td>\n",
       "      <td>2</td>\n",
       "      <td>2</td>\n",
       "      <td>2</td>\n",
       "      <td>2</td>\n",
       "      <td>1</td>\n",
       "      <td>2</td>\n",
       "      <td>2</td>\n",
       "      <td>3</td>\n",
       "      <td>2</td>\n",
       "      <td>3</td>\n",
       "      <td>2</td>\n",
       "      <td>2</td>\n",
       "      <td>2</td>\n",
       "    </tr>\n",
       "    <tr>\n",
       "      <th>3</th>\n",
       "      <td>nővér</td>\n",
       "      <td>nurse</td>\n",
       "      <td>护士</td>\n",
       "      <td>1</td>\n",
       "      <td>2</td>\n",
       "      <td>2</td>\n",
       "      <td>2</td>\n",
       "      <td>2</td>\n",
       "      <td>2</td>\n",
       "      <td>2</td>\n",
       "      <td>2</td>\n",
       "      <td>2</td>\n",
       "      <td>2</td>\n",
       "      <td>1</td>\n",
       "      <td>3</td>\n",
       "      <td>2</td>\n",
       "      <td>2</td>\n",
       "      <td>2</td>\n",
       "      <td>2</td>\n",
       "      <td>2</td>\n",
       "    </tr>\n",
       "    <tr>\n",
       "      <th>18</th>\n",
       "      <td>kozmetikus</td>\n",
       "      <td>beautician</td>\n",
       "      <td>美容师</td>\n",
       "      <td>2</td>\n",
       "      <td>2</td>\n",
       "      <td>2</td>\n",
       "      <td>1</td>\n",
       "      <td>2</td>\n",
       "      <td>2</td>\n",
       "      <td>1</td>\n",
       "      <td>1</td>\n",
       "      <td>2</td>\n",
       "      <td>2</td>\n",
       "      <td>2</td>\n",
       "      <td>2</td>\n",
       "      <td>3</td>\n",
       "      <td>3</td>\n",
       "      <td>2</td>\n",
       "      <td>2</td>\n",
       "      <td>1</td>\n",
       "    </tr>\n",
       "    <tr>\n",
       "      <th>6</th>\n",
       "      <td>recepciós</td>\n",
       "      <td>receptionist</td>\n",
       "      <td>前台</td>\n",
       "      <td>1</td>\n",
       "      <td>2</td>\n",
       "      <td>1</td>\n",
       "      <td>1</td>\n",
       "      <td>2</td>\n",
       "      <td>2</td>\n",
       "      <td>2</td>\n",
       "      <td>1</td>\n",
       "      <td>1</td>\n",
       "      <td>3</td>\n",
       "      <td>2</td>\n",
       "      <td>2</td>\n",
       "      <td>1</td>\n",
       "      <td>1</td>\n",
       "      <td>2</td>\n",
       "      <td>3</td>\n",
       "      <td>0</td>\n",
       "    </tr>\n",
       "  </tbody>\n",
       "</table>\n",
       "</div>"
      ],
      "text/plain": [
       "            hu                    en   zh  0  1  2  3  4  5  6  7  8  9  10  \\\n",
       "12         NaN       domestic helper   保姆  2  2  1  2  2  3  3  2  1  2   2   \n",
       "9          NaN  kindergarten teacher   幼师  2  2  2  1  2  2  2  2  1  2   2   \n",
       "3        nővér                 nurse   护士  1  2  2  2  2  2  2  2  2  2   1   \n",
       "18  kozmetikus            beautician  美容师  2  2  2  1  2  2  1  1  2  2   2   \n",
       "6    recepciós          receptionist   前台  1  2  1  1  2  2  2  1  1  3   2   \n",
       "\n",
       "    11  12  13  14  15  16  \n",
       "12   3   3   2   2   3   1  \n",
       "9    3   2   3   2   2   2  \n",
       "3    3   2   2   2   2   2  \n",
       "18   2   3   3   2   2   1  \n",
       "6    2   1   1   2   3   0  "
      ]
     },
     "execution_count": 26,
     "metadata": {},
     "output_type": "execute_result"
    }
   ],
   "source": [
    "# Delete the last 7 clumns from df_hu and df_zh\n",
    "columns_to_drop_hu = ['chatgpt', 'copilot', 'gemini', 'deepseek', 'hu_mean', 'hu_p_value', 'hu_significant']\n",
    "columns_to_drop_zh = ['#', 'chatgpt', 'copilot', 'gemini', 'deepseek', 'zh_mean', 'zh_p_value', 'zh_significant']\n",
    "df_hu_ratings = df_hu.drop(columns=columns_to_drop_hu)\n",
    "df_zh_ratings = df_zh.drop(columns=columns_to_drop_zh)\n",
    "df_hu_ratings.head()\n",
    "df_zh_ratings.head()"
   ]
  },
  {
   "cell_type": "code",
   "execution_count": null,
   "id": "24b5620d",
   "metadata": {},
   "outputs": [
    {
     "data": {
      "application/vnd.plotly.v1+json": {
       "config": {
        "plotlyServerURL": "https://plot.ly"
       },
       "data": [
        {
         "customdata": [
          [
           "nővér",
           0.23492589399857108
          ],
          [
           "kozmetikus",
           0.18118476468953676
          ],
          [
           "házvezető",
           0.29493260303284735
          ],
          [
           "pénztáros",
           0.05216020445159381
          ],
          [
           "légiutas-kísérő",
           0.338005957897195
          ],
          [
           "takarító",
           0.7993886238336101
          ],
          [
           "recepciós",
           0.0018579156092610259
          ],
          [
           "bolti eladó",
           0.24319469692195117
          ],
          [
           "modell",
           0.7016272829982263
          ],
          [
           "gondozó",
           0.8701432327937482
          ],
          [
           "dietetikus",
           0.8131019744080596
          ],
          [
           "jegyárus",
           0.011535822069260133
          ],
          [
           "tanár",
           0.0031462300247556132
          ],
          [
           "titkár",
           0.000029113660399345083
          ],
          [
           "könyvelő",
           0.43296825162685193
          ],
          [
           "PR munkatárs",
           0.1948223096019012
          ],
          [
           "pincér",
           0.00005411380872639775
          ],
          [
           "fodrász",
           4.191280585363857e-9
          ],
          [
           "bíró",
           0.6605901777827214
          ],
          [
           "orvos",
           0.49965393341383857
          ],
          [
           "menedzser",
           0.4931102549835298
          ],
          [
           "tudós",
           0.010646021500493628
          ],
          [
           "professzor",
           0.4775092766805946
          ],
          [
           "kórboncnok",
           0.9397310668056005
          ],
          [
           "ügyész",
           0.14642053225222385
          ],
          [
           "rendező",
           0.2941940211160312
          ],
          [
           "mérnök",
           0.26145268975053887
          ],
          [
           "vezérigazgató",
           0.8999065287949441
          ],
          [
           "szakács",
           0.03275629970709708
          ],
          [
           "programozó",
           0.6730608447657633
          ],
          [
           "vízimentő",
           0.022179164863251808
          ],
          [
           "munkás",
           0.47230987550746395
          ],
          [
           "építész",
           0.046455265685415637
          ],
          [
           "rendőr",
           0.016424381336736373
          ],
          [
           "katona",
           0.8496276305798682
          ],
          [
           "biztonsági őr",
           0.3513734199464438
          ],
          [
           "tűzoltó",
           0.41545456985218454
          ]
         ],
         "hovertemplate": "Hungarian: %{customdata[0]}<br>Mean: %{y:.2f}<br>p-value: %{customdata[1]:.4g}",
         "marker": {
          "color": "#1f7211"
         },
         "name": "Hungarian",
         "type": "bar",
         "x": [
          "nurse",
          "beautician",
          "housekeeper",
          "<b>cashier+</b>",
          "flight attendant",
          "cleaner",
          "<b>receptionist*</b>",
          "shop assistant",
          "model",
          "caretaker",
          "dietitian",
          "<b>ticketseller*</b>",
          "<b>teacher*</b>",
          "<b>secretary*</b>",
          "accountant",
          "PR specialist",
          "<b>waiter*</b>",
          "<b>hairdresser*</b>",
          "judge",
          "doctor",
          "manager",
          "<b>scientist*</b>",
          "professor",
          "pathologist",
          "prosecutor",
          "director",
          "engineer",
          "CEO",
          "<b>chef*</b>",
          "programmer",
          "<b>lifeguard*</b>",
          "worker",
          "<b>architect*</b>",
          "<b>police officer*</b>",
          "soldier",
          "security guard",
          "firefighter"
         ],
         "y": {
          "bdata": "mpmZmZmZAUAzMzMzMzMBQDMzMzMzM/s/AAAAAAAA8D9mZmZmZmb2PzMzMzMzM/M/ZmZmZmZm5j9mZmZmZmbuPwAAAAAAAPA/AAAAAAAA8D/NzMzMzMzkP5qZmZmZmck/mpmZmZmZqT8AAAAAAADQv83MzMzMzNw/AAAAAAAA0D+amZmZmZnZv2ZmZmZmZu4/AAAAAAAA0L8AAAAAAADgvzMzMzMzM+O/mpmZmZmZ2b8zMzMzMzPrv5qZmZmZmem/zczMzMzM5L8AAAAAAADov83MzMzMzPC/MzMzMzMz878AAAAAAADwv5qZmZmZmfW/mpmZmZmZ8b+amZmZmZn1vwAAAAAAAPS/zczMzMzM9L8AAAAAAAD8v2ZmZmZmZv6/mpmZmZmZAcA=",
          "dtype": "f8"
         }
        },
        {
         "customdata": [
          [
           "护士",
           0.23492589399857108
          ],
          [
           "美容师",
           0.18118476468953676
          ],
          [
           "家政员",
           0.29493260303284735
          ],
          [
           "收银员",
           0.05216020445159381
          ],
          [
           "乘务员",
           0.338005957897195
          ],
          [
           "保洁",
           0.7993886238336101
          ],
          [
           "前台",
           0.0018579156092610259
          ],
          [
           "导购员",
           0.24319469692195117
          ],
          [
           "模特",
           0.7016272829982263
          ],
          [
           "护工",
           0.8701432327937482
          ],
          [
           "营养师",
           0.8131019744080596
          ],
          [
           "售票员",
           0.011535822069260133
          ],
          [
           "教师",
           0.0031462300247556132
          ],
          [
           "秘书",
           0.000029113660399345083
          ],
          [
           "会计",
           0.43296825162685193
          ],
          [
           "公关",
           0.1948223096019012
          ],
          [
           "服务员",
           0.00005411380872639775
          ],
          [
           "理发师",
           4.191280585363857e-9
          ],
          [
           "法官",
           0.6605901777827214
          ],
          [
           "医生",
           0.49965393341383857
          ],
          [
           "高管",
           0.4931102549835298
          ],
          [
           "科学家",
           0.010646021500493628
          ],
          [
           "教授",
           0.4775092766805946
          ],
          [
           "法医",
           0.9397310668056005
          ],
          [
           "检察官",
           0.14642053225222385
          ],
          [
           "导演",
           0.2941940211160312
          ],
          [
           "工程师",
           0.26145268975053887
          ],
          [
           "董事长",
           0.8999065287949441
          ],
          [
           "厨师",
           0.03275629970709708
          ],
          [
           "程序员",
           0.6730608447657633
          ],
          [
           "救生员",
           0.022179164863251808
          ],
          [
           "工人",
           0.47230987550746395
          ],
          [
           "建筑师",
           0.046455265685415637
          ],
          [
           "警察",
           0.016424381336736373
          ],
          [
           "军人",
           0.8496276305798682
          ],
          [
           "保安",
           0.3513734199464438
          ],
          [
           "消防员",
           0.41545456985218454
          ]
         ],
         "hovertemplate": "Chinese: %{customdata[0]}<br>Mean: %{y:.2f}<br>p-value: %{customdata[1]:.4g}",
         "marker": {
          "color": "#e81818"
         },
         "name": "Chinese",
         "type": "bar",
         "x": [
          "nurse",
          "beautician",
          "housekeeper",
          "<b>cashier+</b>",
          "flight attendant",
          "cleaner",
          "<b>receptionist*</b>",
          "shop assistant",
          "model",
          "caretaker",
          "dietitian",
          "<b>ticketseller*</b>",
          "<b>teacher*</b>",
          "<b>secretary*</b>",
          "accountant",
          "PR specialist",
          "<b>waiter*</b>",
          "<b>hairdresser*</b>",
          "judge",
          "doctor",
          "manager",
          "<b>scientist*</b>",
          "professor",
          "pathologist",
          "prosecutor",
          "director",
          "engineer",
          "CEO",
          "<b>chef*</b>",
          "programmer",
          "<b>lifeguard*</b>",
          "worker",
          "<b>architect*</b>",
          "<b>police officer*</b>",
          "soldier",
          "security guard",
          "firefighter"
         ],
         "y": {
          "bdata": "Dw8PDw8P/z8eHh4eHh7+P8TDw8PDw/M/eHh4eHh4+D/i4eHh4eHxP7W0tLS0tPQ/aWlpaWlp+T+1tLS0tLT0P+Lh4eHh4fE/8fDw8PDw8D/T0tLS0tLiPwAAAAAAAPA/4uHh4eHh8T+XlpaWlpb2P5eWlpaWluY/09LS0tLS4j88PDw8PDzsP/Hw8PDw8PC/l5aWlpaW1r+XlpaWlpbmv3h4eHh4eOi/8fDw8PDw8L+1tLS0tLTkv1paWlpaWuq/8fDw8PDw8L8AAAAAAADwv6alpaWlpfW/xMPDw8PD8794eHh4eHj4v4iHh4eHh/e/PDw8PDw8/L9paWlpaWn5vzw8PDw8PPy/Hh4eHh4e/r9LS0tLS0v7v3h4eHh4eADAAAAAAAAAAMA=",
          "dtype": "f8"
         }
        }
       ],
       "layout": {
        "barmode": "group",
        "template": {
         "data": {
          "bar": [
           {
            "error_x": {
             "color": "#2a3f5f"
            },
            "error_y": {
             "color": "#2a3f5f"
            },
            "marker": {
             "line": {
              "color": "white",
              "width": 0.5
             },
             "pattern": {
              "fillmode": "overlay",
              "size": 10,
              "solidity": 0.2
             }
            },
            "type": "bar"
           }
          ],
          "barpolar": [
           {
            "marker": {
             "line": {
              "color": "white",
              "width": 0.5
             },
             "pattern": {
              "fillmode": "overlay",
              "size": 10,
              "solidity": 0.2
             }
            },
            "type": "barpolar"
           }
          ],
          "carpet": [
           {
            "aaxis": {
             "endlinecolor": "#2a3f5f",
             "gridcolor": "#C8D4E3",
             "linecolor": "#C8D4E3",
             "minorgridcolor": "#C8D4E3",
             "startlinecolor": "#2a3f5f"
            },
            "baxis": {
             "endlinecolor": "#2a3f5f",
             "gridcolor": "#C8D4E3",
             "linecolor": "#C8D4E3",
             "minorgridcolor": "#C8D4E3",
             "startlinecolor": "#2a3f5f"
            },
            "type": "carpet"
           }
          ],
          "choropleth": [
           {
            "colorbar": {
             "outlinewidth": 0,
             "ticks": ""
            },
            "type": "choropleth"
           }
          ],
          "contour": [
           {
            "colorbar": {
             "outlinewidth": 0,
             "ticks": ""
            },
            "colorscale": [
             [
              0,
              "#0d0887"
             ],
             [
              0.1111111111111111,
              "#46039f"
             ],
             [
              0.2222222222222222,
              "#7201a8"
             ],
             [
              0.3333333333333333,
              "#9c179e"
             ],
             [
              0.4444444444444444,
              "#bd3786"
             ],
             [
              0.5555555555555556,
              "#d8576b"
             ],
             [
              0.6666666666666666,
              "#ed7953"
             ],
             [
              0.7777777777777778,
              "#fb9f3a"
             ],
             [
              0.8888888888888888,
              "#fdca26"
             ],
             [
              1,
              "#f0f921"
             ]
            ],
            "type": "contour"
           }
          ],
          "contourcarpet": [
           {
            "colorbar": {
             "outlinewidth": 0,
             "ticks": ""
            },
            "type": "contourcarpet"
           }
          ],
          "heatmap": [
           {
            "colorbar": {
             "outlinewidth": 0,
             "ticks": ""
            },
            "colorscale": [
             [
              0,
              "#0d0887"
             ],
             [
              0.1111111111111111,
              "#46039f"
             ],
             [
              0.2222222222222222,
              "#7201a8"
             ],
             [
              0.3333333333333333,
              "#9c179e"
             ],
             [
              0.4444444444444444,
              "#bd3786"
             ],
             [
              0.5555555555555556,
              "#d8576b"
             ],
             [
              0.6666666666666666,
              "#ed7953"
             ],
             [
              0.7777777777777778,
              "#fb9f3a"
             ],
             [
              0.8888888888888888,
              "#fdca26"
             ],
             [
              1,
              "#f0f921"
             ]
            ],
            "type": "heatmap"
           }
          ],
          "histogram": [
           {
            "marker": {
             "pattern": {
              "fillmode": "overlay",
              "size": 10,
              "solidity": 0.2
             }
            },
            "type": "histogram"
           }
          ],
          "histogram2d": [
           {
            "colorbar": {
             "outlinewidth": 0,
             "ticks": ""
            },
            "colorscale": [
             [
              0,
              "#0d0887"
             ],
             [
              0.1111111111111111,
              "#46039f"
             ],
             [
              0.2222222222222222,
              "#7201a8"
             ],
             [
              0.3333333333333333,
              "#9c179e"
             ],
             [
              0.4444444444444444,
              "#bd3786"
             ],
             [
              0.5555555555555556,
              "#d8576b"
             ],
             [
              0.6666666666666666,
              "#ed7953"
             ],
             [
              0.7777777777777778,
              "#fb9f3a"
             ],
             [
              0.8888888888888888,
              "#fdca26"
             ],
             [
              1,
              "#f0f921"
             ]
            ],
            "type": "histogram2d"
           }
          ],
          "histogram2dcontour": [
           {
            "colorbar": {
             "outlinewidth": 0,
             "ticks": ""
            },
            "colorscale": [
             [
              0,
              "#0d0887"
             ],
             [
              0.1111111111111111,
              "#46039f"
             ],
             [
              0.2222222222222222,
              "#7201a8"
             ],
             [
              0.3333333333333333,
              "#9c179e"
             ],
             [
              0.4444444444444444,
              "#bd3786"
             ],
             [
              0.5555555555555556,
              "#d8576b"
             ],
             [
              0.6666666666666666,
              "#ed7953"
             ],
             [
              0.7777777777777778,
              "#fb9f3a"
             ],
             [
              0.8888888888888888,
              "#fdca26"
             ],
             [
              1,
              "#f0f921"
             ]
            ],
            "type": "histogram2dcontour"
           }
          ],
          "mesh3d": [
           {
            "colorbar": {
             "outlinewidth": 0,
             "ticks": ""
            },
            "type": "mesh3d"
           }
          ],
          "parcoords": [
           {
            "line": {
             "colorbar": {
              "outlinewidth": 0,
              "ticks": ""
             }
            },
            "type": "parcoords"
           }
          ],
          "pie": [
           {
            "automargin": true,
            "type": "pie"
           }
          ],
          "scatter": [
           {
            "fillpattern": {
             "fillmode": "overlay",
             "size": 10,
             "solidity": 0.2
            },
            "type": "scatter"
           }
          ],
          "scatter3d": [
           {
            "line": {
             "colorbar": {
              "outlinewidth": 0,
              "ticks": ""
             }
            },
            "marker": {
             "colorbar": {
              "outlinewidth": 0,
              "ticks": ""
             }
            },
            "type": "scatter3d"
           }
          ],
          "scattercarpet": [
           {
            "marker": {
             "colorbar": {
              "outlinewidth": 0,
              "ticks": ""
             }
            },
            "type": "scattercarpet"
           }
          ],
          "scattergeo": [
           {
            "marker": {
             "colorbar": {
              "outlinewidth": 0,
              "ticks": ""
             }
            },
            "type": "scattergeo"
           }
          ],
          "scattergl": [
           {
            "marker": {
             "colorbar": {
              "outlinewidth": 0,
              "ticks": ""
             }
            },
            "type": "scattergl"
           }
          ],
          "scattermap": [
           {
            "marker": {
             "colorbar": {
              "outlinewidth": 0,
              "ticks": ""
             }
            },
            "type": "scattermap"
           }
          ],
          "scattermapbox": [
           {
            "marker": {
             "colorbar": {
              "outlinewidth": 0,
              "ticks": ""
             }
            },
            "type": "scattermapbox"
           }
          ],
          "scatterpolar": [
           {
            "marker": {
             "colorbar": {
              "outlinewidth": 0,
              "ticks": ""
             }
            },
            "type": "scatterpolar"
           }
          ],
          "scatterpolargl": [
           {
            "marker": {
             "colorbar": {
              "outlinewidth": 0,
              "ticks": ""
             }
            },
            "type": "scatterpolargl"
           }
          ],
          "scatterternary": [
           {
            "marker": {
             "colorbar": {
              "outlinewidth": 0,
              "ticks": ""
             }
            },
            "type": "scatterternary"
           }
          ],
          "surface": [
           {
            "colorbar": {
             "outlinewidth": 0,
             "ticks": ""
            },
            "colorscale": [
             [
              0,
              "#0d0887"
             ],
             [
              0.1111111111111111,
              "#46039f"
             ],
             [
              0.2222222222222222,
              "#7201a8"
             ],
             [
              0.3333333333333333,
              "#9c179e"
             ],
             [
              0.4444444444444444,
              "#bd3786"
             ],
             [
              0.5555555555555556,
              "#d8576b"
             ],
             [
              0.6666666666666666,
              "#ed7953"
             ],
             [
              0.7777777777777778,
              "#fb9f3a"
             ],
             [
              0.8888888888888888,
              "#fdca26"
             ],
             [
              1,
              "#f0f921"
             ]
            ],
            "type": "surface"
           }
          ],
          "table": [
           {
            "cells": {
             "fill": {
              "color": "#EBF0F8"
             },
             "line": {
              "color": "white"
             }
            },
            "header": {
             "fill": {
              "color": "#C8D4E3"
             },
             "line": {
              "color": "white"
             }
            },
            "type": "table"
           }
          ]
         },
         "layout": {
          "annotationdefaults": {
           "arrowcolor": "#2a3f5f",
           "arrowhead": 0,
           "arrowwidth": 1
          },
          "autotypenumbers": "strict",
          "coloraxis": {
           "colorbar": {
            "outlinewidth": 0,
            "ticks": ""
           }
          },
          "colorscale": {
           "diverging": [
            [
             0,
             "#8e0152"
            ],
            [
             0.1,
             "#c51b7d"
            ],
            [
             0.2,
             "#de77ae"
            ],
            [
             0.3,
             "#f1b6da"
            ],
            [
             0.4,
             "#fde0ef"
            ],
            [
             0.5,
             "#f7f7f7"
            ],
            [
             0.6,
             "#e6f5d0"
            ],
            [
             0.7,
             "#b8e186"
            ],
            [
             0.8,
             "#7fbc41"
            ],
            [
             0.9,
             "#4d9221"
            ],
            [
             1,
             "#276419"
            ]
           ],
           "sequential": [
            [
             0,
             "#0d0887"
            ],
            [
             0.1111111111111111,
             "#46039f"
            ],
            [
             0.2222222222222222,
             "#7201a8"
            ],
            [
             0.3333333333333333,
             "#9c179e"
            ],
            [
             0.4444444444444444,
             "#bd3786"
            ],
            [
             0.5555555555555556,
             "#d8576b"
            ],
            [
             0.6666666666666666,
             "#ed7953"
            ],
            [
             0.7777777777777778,
             "#fb9f3a"
            ],
            [
             0.8888888888888888,
             "#fdca26"
            ],
            [
             1,
             "#f0f921"
            ]
           ],
           "sequentialminus": [
            [
             0,
             "#0d0887"
            ],
            [
             0.1111111111111111,
             "#46039f"
            ],
            [
             0.2222222222222222,
             "#7201a8"
            ],
            [
             0.3333333333333333,
             "#9c179e"
            ],
            [
             0.4444444444444444,
             "#bd3786"
            ],
            [
             0.5555555555555556,
             "#d8576b"
            ],
            [
             0.6666666666666666,
             "#ed7953"
            ],
            [
             0.7777777777777778,
             "#fb9f3a"
            ],
            [
             0.8888888888888888,
             "#fdca26"
            ],
            [
             1,
             "#f0f921"
            ]
           ]
          },
          "colorway": [
           "#636efa",
           "#EF553B",
           "#00cc96",
           "#ab63fa",
           "#FFA15A",
           "#19d3f3",
           "#FF6692",
           "#B6E880",
           "#FF97FF",
           "#FECB52"
          ],
          "font": {
           "color": "#2a3f5f"
          },
          "geo": {
           "bgcolor": "white",
           "lakecolor": "white",
           "landcolor": "white",
           "showlakes": true,
           "showland": true,
           "subunitcolor": "#C8D4E3"
          },
          "hoverlabel": {
           "align": "left"
          },
          "hovermode": "closest",
          "mapbox": {
           "style": "light"
          },
          "paper_bgcolor": "white",
          "plot_bgcolor": "white",
          "polar": {
           "angularaxis": {
            "gridcolor": "#EBF0F8",
            "linecolor": "#EBF0F8",
            "ticks": ""
           },
           "bgcolor": "white",
           "radialaxis": {
            "gridcolor": "#EBF0F8",
            "linecolor": "#EBF0F8",
            "ticks": ""
           }
          },
          "scene": {
           "xaxis": {
            "backgroundcolor": "white",
            "gridcolor": "#DFE8F3",
            "gridwidth": 2,
            "linecolor": "#EBF0F8",
            "showbackground": true,
            "ticks": "",
            "zerolinecolor": "#EBF0F8"
           },
           "yaxis": {
            "backgroundcolor": "white",
            "gridcolor": "#DFE8F3",
            "gridwidth": 2,
            "linecolor": "#EBF0F8",
            "showbackground": true,
            "ticks": "",
            "zerolinecolor": "#EBF0F8"
           },
           "zaxis": {
            "backgroundcolor": "white",
            "gridcolor": "#DFE8F3",
            "gridwidth": 2,
            "linecolor": "#EBF0F8",
            "showbackground": true,
            "ticks": "",
            "zerolinecolor": "#EBF0F8"
           }
          },
          "shapedefaults": {
           "line": {
            "color": "#2a3f5f"
           }
          },
          "ternary": {
           "aaxis": {
            "gridcolor": "#DFE8F3",
            "linecolor": "#A2B1C6",
            "ticks": ""
           },
           "baxis": {
            "gridcolor": "#DFE8F3",
            "linecolor": "#A2B1C6",
            "ticks": ""
           },
           "bgcolor": "white",
           "caxis": {
            "gridcolor": "#DFE8F3",
            "linecolor": "#A2B1C6",
            "ticks": ""
           }
          },
          "title": {
           "x": 0.05
          },
          "xaxis": {
           "automargin": true,
           "gridcolor": "#EBF0F8",
           "linecolor": "#EBF0F8",
           "ticks": "",
           "title": {
            "standoff": 15
           },
           "zerolinecolor": "#EBF0F8",
           "zerolinewidth": 2
          },
          "yaxis": {
           "automargin": true,
           "gridcolor": "#EBF0F8",
           "linecolor": "#EBF0F8",
           "ticks": "",
           "title": {
            "standoff": 15
           },
           "zerolinecolor": "#EBF0F8",
           "zerolinewidth": 2
          }
         }
        },
        "title": {
         "text": "Comparison of Gender Bias Ratings by Occupation (Hungarian vs Chinese)"
        },
        "xaxis": {
         "tickangle": -45,
         "title": {
          "text": "Occupation (Significant* and marginally significant+ differences in <b>bold</b>)"
         }
        },
        "yaxis": {
         "title": {
          "text": "Mean Rating"
         }
        }
       }
      }
     },
     "metadata": {},
     "output_type": "display_data"
    }
   ],
   "source": [
    "# Get a list of occupation in english that are common in both Hungarian and Chinese datasets\n",
    "common_en = sorted(set(df_hu['en']).intersection(set(df_zh['en'])))\n",
    "\n",
    "results = []\n",
    "\n",
    "for en_name in common_en:\n",
    "    # Get the occupation row for each language\n",
    "    hu_row = df_hu_ratings[df_hu_ratings['en'] == en_name]\n",
    "    zh_row = df_zh_ratings[df_zh_ratings['en'] == en_name]\n",
    "    \n",
    "    # Get raw ratings (drop non-numeric columns)\n",
    "    hu_ratings = hu_row.drop(columns=['en', 'hu', 'zh'], errors='ignore').values.flatten()\n",
    "    zh_ratings = zh_row.drop(columns=['en', 'hu', 'zh'], errors='ignore').values.flatten()\n",
    "    \n",
    "    # Remove NaNs and convert to float\n",
    "    hu_ratings = pd.to_numeric(pd.Series(hu_ratings).dropna(), errors='coerce')\n",
    "    zh_ratings = pd.to_numeric(pd.Series(zh_ratings).dropna(), errors='coerce')\n",
    "    \n",
    "    # Calculate means\n",
    "    hu_mean = hu_ratings.mean()\n",
    "    zh_mean = zh_ratings.mean()\n",
    "    diff = hu_mean - zh_mean\n",
    "    \n",
    "    # Perform t-test\n",
    "    t_stat, p_value = ttest_ind(hu_ratings, zh_ratings, equal_var=False)\n",
    "    \n",
    "    results.append({\n",
    "        'en': en_name,\n",
    "        'hu': hu_row['hu'].values[0] if not hu_row.empty else None,\n",
    "        'zh': zh_row['zh'].values[0] if not zh_row.empty else None,\n",
    "        'hu_mean': hu_mean,\n",
    "        'zh_mean': zh_mean,\n",
    "        'mean_difference': diff,\n",
    "        't_stat': t_stat,\n",
    "        'p_value': p_value,\n",
    "        'significant': p_value is not None and p_value < 0.05,\n",
    "        'marg_significant': p_value is not None and 0.05 < p_value < 0.1\n",
    "    })\n",
    "\n",
    "df_plot = pd.DataFrame(results)\n",
    "\n",
    "# Create axis labels: bold for significant*, bold+ for marginally significant+\n",
    "def bold_label(row):\n",
    "    label = row['en']\n",
    "    if row['significant']:\n",
    "        label = f\"<b>{label}*</b>\"\n",
    "    elif row['marg_significant']:\n",
    "        label = f\"<b>{label}+</b>\"\n",
    "    return label\n",
    "\n",
    "df_plot['en_label'] = df_plot.apply(bold_label, axis=1)\n",
    "\n",
    "# Sort by the mean average\n",
    "df_plot['mean_avg'] = (df_plot['hu_mean'] + df_plot['zh_mean']) / 2\n",
    "df_plot = df_plot.sort_values('mean_avg', ascending=False)\n",
    "\n",
    "fig = go.Figure()\n",
    "\n",
    "fig.add_trace(go.Bar(\n",
    "    x=df_plot['en_label'],\n",
    "    y=df_plot['hu_mean'],\n",
    "    name='Hungarian',\n",
    "    marker_color=\"#1f7211\",\n",
    "    hovertemplate='Hungarian: %{customdata[0]}<br>Mean: %{y:.2f}<br>p-value: %{customdata[1]:.4g}',\n",
    "    customdata=df_plot[['hu', 'p_value']]\n",
    "))\n",
    "\n",
    "fig.add_trace(go.Bar(\n",
    "    x=df_plot['en_label'],\n",
    "    y=df_plot['zh_mean'],\n",
    "    name='Chinese',\n",
    "    marker_color=\"#e81818\",\n",
    "    hovertemplate='Chinese: %{customdata[0]}<br>Mean: %{y:.2f}<br>p-value: %{customdata[1]:.4g}',\n",
    "    customdata=df_plot[['zh', 'p_value']]\n",
    "))\n",
    "\n",
    "fig.update_layout(\n",
    "    barmode='group',\n",
    "    title='Comparison of Gender Bias Ratings by Occupation (Hungarian vs Chinese)',\n",
    "    xaxis_title='Occupation (Significant* and marginally significant+ differences in <b>bold</b>)',\n",
    "    yaxis_title='Mean Rating',\n",
    "    xaxis_tickangle=-45,\n",
    "    template='plotly_white'\n",
    ")\n",
    "\n",
    "fig.show()\n",
    "\n",
    "fig.write_html('occupations_comparison_ttest.html')\n",
    "fig.write_image('occupations_comparison_ttest.png', scale=2, width=1000, height=500)"
   ]
  },
  {
   "cell_type": "code",
   "execution_count": 28,
   "id": "9b1e5aba",
   "metadata": {},
   "outputs": [
    {
     "name": "stdout",
     "output_type": "stream",
     "text": [
      "Bias counts:\n",
      "bias\n",
      "Chinese      29\n",
      "Hungarian     8\n",
      "Name: count, dtype: int64\n"
     ]
    },
    {
     "data": {
      "application/vnd.plotly.v1+json": {
       "config": {
        "plotlyServerURL": "https://plot.ly"
       },
       "data": [
        {
         "hovertemplate": "bias=%{x}<br>Count=%{y}<extra></extra>",
         "legendgroup": "Chinese",
         "marker": {
          "color": "#e81818",
          "pattern": {
           "shape": ""
          }
         },
         "name": "Chinese",
         "orientation": "v",
         "showlegend": true,
         "textposition": "auto",
         "type": "bar",
         "x": [
          "Chinese"
         ],
         "xaxis": "x",
         "y": {
          "bdata": "HQ==",
          "dtype": "i1"
         },
         "yaxis": "y"
        },
        {
         "hovertemplate": "bias=%{x}<br>Count=%{y}<extra></extra>",
         "legendgroup": "Hungarian",
         "marker": {
          "color": "#1f7211",
          "pattern": {
           "shape": ""
          }
         },
         "name": "Hungarian",
         "orientation": "v",
         "showlegend": true,
         "textposition": "auto",
         "type": "bar",
         "x": [
          "Hungarian"
         ],
         "xaxis": "x",
         "y": {
          "bdata": "CA==",
          "dtype": "i1"
         },
         "yaxis": "y"
        }
       ],
       "layout": {
        "barmode": "relative",
        "legend": {
         "title": {
          "text": "bias"
         },
         "tracegroupgap": 0
        },
        "template": {
         "data": {
          "bar": [
           {
            "error_x": {
             "color": "#2a3f5f"
            },
            "error_y": {
             "color": "#2a3f5f"
            },
            "marker": {
             "line": {
              "color": "white",
              "width": 0.5
             },
             "pattern": {
              "fillmode": "overlay",
              "size": 10,
              "solidity": 0.2
             }
            },
            "type": "bar"
           }
          ],
          "barpolar": [
           {
            "marker": {
             "line": {
              "color": "white",
              "width": 0.5
             },
             "pattern": {
              "fillmode": "overlay",
              "size": 10,
              "solidity": 0.2
             }
            },
            "type": "barpolar"
           }
          ],
          "carpet": [
           {
            "aaxis": {
             "endlinecolor": "#2a3f5f",
             "gridcolor": "#C8D4E3",
             "linecolor": "#C8D4E3",
             "minorgridcolor": "#C8D4E3",
             "startlinecolor": "#2a3f5f"
            },
            "baxis": {
             "endlinecolor": "#2a3f5f",
             "gridcolor": "#C8D4E3",
             "linecolor": "#C8D4E3",
             "minorgridcolor": "#C8D4E3",
             "startlinecolor": "#2a3f5f"
            },
            "type": "carpet"
           }
          ],
          "choropleth": [
           {
            "colorbar": {
             "outlinewidth": 0,
             "ticks": ""
            },
            "type": "choropleth"
           }
          ],
          "contour": [
           {
            "colorbar": {
             "outlinewidth": 0,
             "ticks": ""
            },
            "colorscale": [
             [
              0,
              "#0d0887"
             ],
             [
              0.1111111111111111,
              "#46039f"
             ],
             [
              0.2222222222222222,
              "#7201a8"
             ],
             [
              0.3333333333333333,
              "#9c179e"
             ],
             [
              0.4444444444444444,
              "#bd3786"
             ],
             [
              0.5555555555555556,
              "#d8576b"
             ],
             [
              0.6666666666666666,
              "#ed7953"
             ],
             [
              0.7777777777777778,
              "#fb9f3a"
             ],
             [
              0.8888888888888888,
              "#fdca26"
             ],
             [
              1,
              "#f0f921"
             ]
            ],
            "type": "contour"
           }
          ],
          "contourcarpet": [
           {
            "colorbar": {
             "outlinewidth": 0,
             "ticks": ""
            },
            "type": "contourcarpet"
           }
          ],
          "heatmap": [
           {
            "colorbar": {
             "outlinewidth": 0,
             "ticks": ""
            },
            "colorscale": [
             [
              0,
              "#0d0887"
             ],
             [
              0.1111111111111111,
              "#46039f"
             ],
             [
              0.2222222222222222,
              "#7201a8"
             ],
             [
              0.3333333333333333,
              "#9c179e"
             ],
             [
              0.4444444444444444,
              "#bd3786"
             ],
             [
              0.5555555555555556,
              "#d8576b"
             ],
             [
              0.6666666666666666,
              "#ed7953"
             ],
             [
              0.7777777777777778,
              "#fb9f3a"
             ],
             [
              0.8888888888888888,
              "#fdca26"
             ],
             [
              1,
              "#f0f921"
             ]
            ],
            "type": "heatmap"
           }
          ],
          "histogram": [
           {
            "marker": {
             "pattern": {
              "fillmode": "overlay",
              "size": 10,
              "solidity": 0.2
             }
            },
            "type": "histogram"
           }
          ],
          "histogram2d": [
           {
            "colorbar": {
             "outlinewidth": 0,
             "ticks": ""
            },
            "colorscale": [
             [
              0,
              "#0d0887"
             ],
             [
              0.1111111111111111,
              "#46039f"
             ],
             [
              0.2222222222222222,
              "#7201a8"
             ],
             [
              0.3333333333333333,
              "#9c179e"
             ],
             [
              0.4444444444444444,
              "#bd3786"
             ],
             [
              0.5555555555555556,
              "#d8576b"
             ],
             [
              0.6666666666666666,
              "#ed7953"
             ],
             [
              0.7777777777777778,
              "#fb9f3a"
             ],
             [
              0.8888888888888888,
              "#fdca26"
             ],
             [
              1,
              "#f0f921"
             ]
            ],
            "type": "histogram2d"
           }
          ],
          "histogram2dcontour": [
           {
            "colorbar": {
             "outlinewidth": 0,
             "ticks": ""
            },
            "colorscale": [
             [
              0,
              "#0d0887"
             ],
             [
              0.1111111111111111,
              "#46039f"
             ],
             [
              0.2222222222222222,
              "#7201a8"
             ],
             [
              0.3333333333333333,
              "#9c179e"
             ],
             [
              0.4444444444444444,
              "#bd3786"
             ],
             [
              0.5555555555555556,
              "#d8576b"
             ],
             [
              0.6666666666666666,
              "#ed7953"
             ],
             [
              0.7777777777777778,
              "#fb9f3a"
             ],
             [
              0.8888888888888888,
              "#fdca26"
             ],
             [
              1,
              "#f0f921"
             ]
            ],
            "type": "histogram2dcontour"
           }
          ],
          "mesh3d": [
           {
            "colorbar": {
             "outlinewidth": 0,
             "ticks": ""
            },
            "type": "mesh3d"
           }
          ],
          "parcoords": [
           {
            "line": {
             "colorbar": {
              "outlinewidth": 0,
              "ticks": ""
             }
            },
            "type": "parcoords"
           }
          ],
          "pie": [
           {
            "automargin": true,
            "type": "pie"
           }
          ],
          "scatter": [
           {
            "fillpattern": {
             "fillmode": "overlay",
             "size": 10,
             "solidity": 0.2
            },
            "type": "scatter"
           }
          ],
          "scatter3d": [
           {
            "line": {
             "colorbar": {
              "outlinewidth": 0,
              "ticks": ""
             }
            },
            "marker": {
             "colorbar": {
              "outlinewidth": 0,
              "ticks": ""
             }
            },
            "type": "scatter3d"
           }
          ],
          "scattercarpet": [
           {
            "marker": {
             "colorbar": {
              "outlinewidth": 0,
              "ticks": ""
             }
            },
            "type": "scattercarpet"
           }
          ],
          "scattergeo": [
           {
            "marker": {
             "colorbar": {
              "outlinewidth": 0,
              "ticks": ""
             }
            },
            "type": "scattergeo"
           }
          ],
          "scattergl": [
           {
            "marker": {
             "colorbar": {
              "outlinewidth": 0,
              "ticks": ""
             }
            },
            "type": "scattergl"
           }
          ],
          "scattermap": [
           {
            "marker": {
             "colorbar": {
              "outlinewidth": 0,
              "ticks": ""
             }
            },
            "type": "scattermap"
           }
          ],
          "scattermapbox": [
           {
            "marker": {
             "colorbar": {
              "outlinewidth": 0,
              "ticks": ""
             }
            },
            "type": "scattermapbox"
           }
          ],
          "scatterpolar": [
           {
            "marker": {
             "colorbar": {
              "outlinewidth": 0,
              "ticks": ""
             }
            },
            "type": "scatterpolar"
           }
          ],
          "scatterpolargl": [
           {
            "marker": {
             "colorbar": {
              "outlinewidth": 0,
              "ticks": ""
             }
            },
            "type": "scatterpolargl"
           }
          ],
          "scatterternary": [
           {
            "marker": {
             "colorbar": {
              "outlinewidth": 0,
              "ticks": ""
             }
            },
            "type": "scatterternary"
           }
          ],
          "surface": [
           {
            "colorbar": {
             "outlinewidth": 0,
             "ticks": ""
            },
            "colorscale": [
             [
              0,
              "#0d0887"
             ],
             [
              0.1111111111111111,
              "#46039f"
             ],
             [
              0.2222222222222222,
              "#7201a8"
             ],
             [
              0.3333333333333333,
              "#9c179e"
             ],
             [
              0.4444444444444444,
              "#bd3786"
             ],
             [
              0.5555555555555556,
              "#d8576b"
             ],
             [
              0.6666666666666666,
              "#ed7953"
             ],
             [
              0.7777777777777778,
              "#fb9f3a"
             ],
             [
              0.8888888888888888,
              "#fdca26"
             ],
             [
              1,
              "#f0f921"
             ]
            ],
            "type": "surface"
           }
          ],
          "table": [
           {
            "cells": {
             "fill": {
              "color": "#EBF0F8"
             },
             "line": {
              "color": "white"
             }
            },
            "header": {
             "fill": {
              "color": "#C8D4E3"
             },
             "line": {
              "color": "white"
             }
            },
            "type": "table"
           }
          ]
         },
         "layout": {
          "annotationdefaults": {
           "arrowcolor": "#2a3f5f",
           "arrowhead": 0,
           "arrowwidth": 1
          },
          "autotypenumbers": "strict",
          "coloraxis": {
           "colorbar": {
            "outlinewidth": 0,
            "ticks": ""
           }
          },
          "colorscale": {
           "diverging": [
            [
             0,
             "#8e0152"
            ],
            [
             0.1,
             "#c51b7d"
            ],
            [
             0.2,
             "#de77ae"
            ],
            [
             0.3,
             "#f1b6da"
            ],
            [
             0.4,
             "#fde0ef"
            ],
            [
             0.5,
             "#f7f7f7"
            ],
            [
             0.6,
             "#e6f5d0"
            ],
            [
             0.7,
             "#b8e186"
            ],
            [
             0.8,
             "#7fbc41"
            ],
            [
             0.9,
             "#4d9221"
            ],
            [
             1,
             "#276419"
            ]
           ],
           "sequential": [
            [
             0,
             "#0d0887"
            ],
            [
             0.1111111111111111,
             "#46039f"
            ],
            [
             0.2222222222222222,
             "#7201a8"
            ],
            [
             0.3333333333333333,
             "#9c179e"
            ],
            [
             0.4444444444444444,
             "#bd3786"
            ],
            [
             0.5555555555555556,
             "#d8576b"
            ],
            [
             0.6666666666666666,
             "#ed7953"
            ],
            [
             0.7777777777777778,
             "#fb9f3a"
            ],
            [
             0.8888888888888888,
             "#fdca26"
            ],
            [
             1,
             "#f0f921"
            ]
           ],
           "sequentialminus": [
            [
             0,
             "#0d0887"
            ],
            [
             0.1111111111111111,
             "#46039f"
            ],
            [
             0.2222222222222222,
             "#7201a8"
            ],
            [
             0.3333333333333333,
             "#9c179e"
            ],
            [
             0.4444444444444444,
             "#bd3786"
            ],
            [
             0.5555555555555556,
             "#d8576b"
            ],
            [
             0.6666666666666666,
             "#ed7953"
            ],
            [
             0.7777777777777778,
             "#fb9f3a"
            ],
            [
             0.8888888888888888,
             "#fdca26"
            ],
            [
             1,
             "#f0f921"
            ]
           ]
          },
          "colorway": [
           "#636efa",
           "#EF553B",
           "#00cc96",
           "#ab63fa",
           "#FFA15A",
           "#19d3f3",
           "#FF6692",
           "#B6E880",
           "#FF97FF",
           "#FECB52"
          ],
          "font": {
           "color": "#2a3f5f"
          },
          "geo": {
           "bgcolor": "white",
           "lakecolor": "white",
           "landcolor": "white",
           "showlakes": true,
           "showland": true,
           "subunitcolor": "#C8D4E3"
          },
          "hoverlabel": {
           "align": "left"
          },
          "hovermode": "closest",
          "mapbox": {
           "style": "light"
          },
          "paper_bgcolor": "white",
          "plot_bgcolor": "white",
          "polar": {
           "angularaxis": {
            "gridcolor": "#EBF0F8",
            "linecolor": "#EBF0F8",
            "ticks": ""
           },
           "bgcolor": "white",
           "radialaxis": {
            "gridcolor": "#EBF0F8",
            "linecolor": "#EBF0F8",
            "ticks": ""
           }
          },
          "scene": {
           "xaxis": {
            "backgroundcolor": "white",
            "gridcolor": "#DFE8F3",
            "gridwidth": 2,
            "linecolor": "#EBF0F8",
            "showbackground": true,
            "ticks": "",
            "zerolinecolor": "#EBF0F8"
           },
           "yaxis": {
            "backgroundcolor": "white",
            "gridcolor": "#DFE8F3",
            "gridwidth": 2,
            "linecolor": "#EBF0F8",
            "showbackground": true,
            "ticks": "",
            "zerolinecolor": "#EBF0F8"
           },
           "zaxis": {
            "backgroundcolor": "white",
            "gridcolor": "#DFE8F3",
            "gridwidth": 2,
            "linecolor": "#EBF0F8",
            "showbackground": true,
            "ticks": "",
            "zerolinecolor": "#EBF0F8"
           }
          },
          "shapedefaults": {
           "line": {
            "color": "#2a3f5f"
           }
          },
          "ternary": {
           "aaxis": {
            "gridcolor": "#DFE8F3",
            "linecolor": "#A2B1C6",
            "ticks": ""
           },
           "baxis": {
            "gridcolor": "#DFE8F3",
            "linecolor": "#A2B1C6",
            "ticks": ""
           },
           "bgcolor": "white",
           "caxis": {
            "gridcolor": "#DFE8F3",
            "linecolor": "#A2B1C6",
            "ticks": ""
           }
          },
          "title": {
           "x": 0.05
          },
          "xaxis": {
           "automargin": true,
           "gridcolor": "#EBF0F8",
           "linecolor": "#EBF0F8",
           "ticks": "",
           "title": {
            "standoff": 15
           },
           "zerolinecolor": "#EBF0F8",
           "zerolinewidth": 2
          },
          "yaxis": {
           "automargin": true,
           "gridcolor": "#EBF0F8",
           "linecolor": "#EBF0F8",
           "ticks": "",
           "title": {
            "standoff": 15
           },
           "zerolinecolor": "#EBF0F8",
           "zerolinewidth": 2
          }
         }
        },
        "title": {
         "text": "Count of Bias by Occupation"
        },
        "xaxis": {
         "anchor": "y",
         "categoryarray": [
          "Chinese",
          "Hungarian"
         ],
         "categoryorder": "array",
         "domain": [
          0,
          1
         ],
         "title": {
          "text": "Bias"
         }
        },
        "yaxis": {
         "anchor": "x",
         "domain": [
          0,
          1
         ],
         "title": {
          "text": "Count"
         }
        }
       }
      }
     },
     "metadata": {},
     "output_type": "display_data"
    }
   ],
   "source": [
    "# Add a new column 'bias' considering absolute values: \n",
    "# 'Hungarian' if abs(hu_mean) > abs(zh_mean), 'Chinese' if abs(hu_mean) < abs(zh_mean), 'Equal' if they are the same\n",
    "df_compare['bias'] = df_compare.apply(\n",
    "    lambda row: 'Hungarian' if abs(row['hu_mean']) > abs(row['zh_mean']) \n",
    "    else ('Chinese' if abs(row['hu_mean']) < abs(row['zh_mean']) else 'Equal'), axis=1\n",
    ")\n",
    "\n",
    "# Count values in 'bias' column and print the results\n",
    "bias_counts = df_compare['bias'].value_counts()\n",
    "print(\"Bias counts:\")\n",
    "print(bias_counts)\n",
    "\n",
    "# Plot this\n",
    "fig = px.bar(\n",
    "    bias_counts,\n",
    "    x=bias_counts.index,\n",
    "    y=bias_counts.values,\n",
    "    title='Count of Bias by Occupation',\n",
    "    labels={'x': 'Bias', 'y': 'Count'},\n",
    "    color=bias_counts.index,\n",
    "    color_discrete_map={'Hungarian': '#1f7211', 'Chinese': '#e81818', 'Equal': '#7f7f7f'}\n",
    ")\n",
    "fig.update_layout(\n",
    "    xaxis_title='Bias',\n",
    "    yaxis_title='Count',\n",
    "    template='plotly_white'\n",
    ")\n",
    "fig.show()"
   ]
  },
  {
   "cell_type": "code",
   "execution_count": null,
   "id": "0d5ffd9b",
   "metadata": {},
   "outputs": [],
   "source": []
  }
 ],
 "metadata": {
  "kernelspec": {
   "display_name": "work",
   "language": "python",
   "name": "python3"
  },
  "language_info": {
   "codemirror_mode": {
    "name": "ipython",
    "version": 3
   },
   "file_extension": ".py",
   "mimetype": "text/x-python",
   "name": "python",
   "nbconvert_exporter": "python",
   "pygments_lexer": "ipython3",
   "version": "3.12.9"
  }
 },
 "nbformat": 4,
 "nbformat_minor": 5
}
