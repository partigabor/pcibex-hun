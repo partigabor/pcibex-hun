{
 "cells": [
  {
   "cell_type": "markdown",
   "id": "7ea94fad",
   "metadata": {},
   "source": [
    "# Results extracting and processing script for PCIbex experiments"
   ]
  },
  {
   "cell_type": "markdown",
   "id": "c9f5a0f8",
   "metadata": {},
   "source": [
    "# Setup"
   ]
  },
  {
   "cell_type": "code",
   "execution_count": 1,
   "id": "b9e790c7",
   "metadata": {},
   "outputs": [],
   "source": [
    "import pandas as pd\n",
    "import pandas as pd\n",
    "import requests\n",
    "from io import StringIO"
   ]
  },
  {
   "cell_type": "markdown",
   "id": "acdd64ac",
   "metadata": {},
   "source": [
    "## Get eyetracking data\n",
    "\n",
    "Get eyetracking data by first locating the one of the first EyeTracker File element in the results file (EyeTracker,tracker,Filename,) that starts with 'httpsfarmpcibexnetr' for each participant, and save the value for each participant. It should look like this: \"httpsfarmpcibexnetrDigcCS/1c84b535-363e-c9bf-2b97-42764bc0d263\" save it as et_filename.\n",
    "\n",
    "Create a link by appending it to 'https://mondo1.dreamhosters.com/script.php?experiment='\n"
   ]
  },
  {
   "cell_type": "code",
   "execution_count": null,
   "id": "cf7f0c21",
   "metadata": {},
   "outputs": [
    {
     "data": {
      "application/vnd.microsoft.datawrangler.viewer.v0+json": {
       "columns": [
        {
         "name": "index",
         "rawType": "int64",
         "type": "integer"
        },
        {
         "name": "trial",
         "rawType": "int64",
         "type": "integer"
        },
        {
         "name": "_right_canvas_practice",
         "rawType": "float64",
         "type": "float"
        },
        {
         "name": "_left_canvas_practice",
         "rawType": "float64",
         "type": "float"
        },
        {
         "name": "times",
         "rawType": "int64",
         "type": "integer"
        },
        {
         "name": "_right_canvas",
         "rawType": "float64",
         "type": "float"
        },
        {
         "name": "_left_canvas",
         "rawType": "float64",
         "type": "float"
        },
        {
         "name": "Unnamed: 6",
         "rawType": "float64",
         "type": "float"
        }
       ],
       "ref": "312805c1-61b8-45a9-9f34-9585c5a812a2",
       "rows": [
        [
         "0",
         "9",
         "0.0",
         "1.0",
         "0",
         null,
         null,
         null
        ],
        [
         "1",
         "9",
         "1.0",
         "0.0",
         "29",
         null,
         null,
         null
        ],
        [
         "2",
         "9",
         "0.0",
         "1.0",
         "67",
         null,
         null,
         null
        ],
        [
         "3",
         "9",
         "1.0",
         "0.0",
         "112",
         null,
         null,
         null
        ],
        [
         "4",
         "9",
         "0.0",
         "1.0",
         "152",
         null,
         null,
         null
        ],
        [
         "5",
         "9",
         "0.0",
         "1.0",
         "190",
         null,
         null,
         null
        ],
        [
         "6",
         "9",
         "0.0",
         "0.0",
         "231",
         null,
         null,
         null
        ],
        [
         "7",
         "9",
         "0.0",
         "0.0",
         "273",
         null,
         null,
         null
        ],
        [
         "8",
         "9",
         "0.0",
         "0.0",
         "317",
         null,
         null,
         null
        ],
        [
         "9",
         "9",
         "0.0",
         "1.0",
         "361",
         null,
         null,
         null
        ],
        [
         "10",
         "9",
         "0.0",
         "1.0",
         "407",
         null,
         null,
         null
        ],
        [
         "11",
         "9",
         "0.0",
         "1.0",
         "451",
         null,
         null,
         null
        ],
        [
         "12",
         "9",
         "0.0",
         "0.0",
         "494",
         null,
         null,
         null
        ],
        [
         "13",
         "9",
         "0.0",
         "1.0",
         "537",
         null,
         null,
         null
        ],
        [
         "14",
         "9",
         "0.0",
         "0.0",
         "579",
         null,
         null,
         null
        ],
        [
         "15",
         "9",
         "0.0",
         "0.0",
         "624",
         null,
         null,
         null
        ],
        [
         "16",
         "9",
         "1.0",
         "0.0",
         "664",
         null,
         null,
         null
        ],
        [
         "17",
         "9",
         "0.0",
         "0.0",
         "708",
         null,
         null,
         null
        ],
        [
         "18",
         "9",
         "0.0",
         "0.0",
         "752",
         null,
         null,
         null
        ],
        [
         "19",
         "9",
         "0.0",
         "0.0",
         "793",
         null,
         null,
         null
        ],
        [
         "20",
         "9",
         "0.0",
         "0.0",
         "834",
         null,
         null,
         null
        ],
        [
         "21",
         "9",
         "1.0",
         "0.0",
         "874",
         null,
         null,
         null
        ],
        [
         "22",
         "9",
         "1.0",
         "0.0",
         "918",
         null,
         null,
         null
        ],
        [
         "23",
         "9",
         "1.0",
         "0.0",
         "960",
         null,
         null,
         null
        ],
        [
         "24",
         "9",
         "1.0",
         "0.0",
         "1001",
         null,
         null,
         null
        ],
        [
         "25",
         "9",
         "1.0",
         "0.0",
         "1044",
         null,
         null,
         null
        ],
        [
         "26",
         "9",
         "1.0",
         "0.0",
         "1087",
         null,
         null,
         null
        ],
        [
         "27",
         "9",
         "0.0",
         "0.0",
         "1128",
         null,
         null,
         null
        ],
        [
         "28",
         "9",
         "0.0",
         "0.0",
         "1173",
         null,
         null,
         null
        ],
        [
         "29",
         "9",
         "1.0",
         "0.0",
         "1218",
         null,
         null,
         null
        ],
        [
         "30",
         "9",
         "1.0",
         "0.0",
         "1264",
         null,
         null,
         null
        ],
        [
         "31",
         "9",
         "0.0",
         "0.0",
         "1308",
         null,
         null,
         null
        ],
        [
         "32",
         "9",
         "0.0",
         "0.0",
         "1357",
         null,
         null,
         null
        ],
        [
         "33",
         "9",
         "1.0",
         "0.0",
         "1397",
         null,
         null,
         null
        ],
        [
         "34",
         "9",
         "1.0",
         "0.0",
         "1438",
         null,
         null,
         null
        ],
        [
         "35",
         "9",
         "0.0",
         "0.0",
         "1488",
         null,
         null,
         null
        ],
        [
         "36",
         "9",
         "1.0",
         "0.0",
         "1532",
         null,
         null,
         null
        ],
        [
         "37",
         "9",
         "1.0",
         "0.0",
         "1576",
         null,
         null,
         null
        ],
        [
         "38",
         "9",
         "1.0",
         "0.0",
         "1617",
         null,
         null,
         null
        ],
        [
         "39",
         "9",
         "0.0",
         "0.0",
         "1666",
         null,
         null,
         null
        ],
        [
         "40",
         "9",
         "1.0",
         "0.0",
         "1706",
         null,
         null,
         null
        ],
        [
         "41",
         "9",
         "1.0",
         "0.0",
         "1748",
         null,
         null,
         null
        ],
        [
         "42",
         "9",
         "1.0",
         "0.0",
         "1794",
         null,
         null,
         null
        ],
        [
         "43",
         "9",
         "0.0",
         "1.0",
         "1837",
         null,
         null,
         null
        ],
        [
         "44",
         "9",
         "1.0",
         "0.0",
         "1879",
         null,
         null,
         null
        ],
        [
         "45",
         "9",
         "0.0",
         "0.0",
         "1919",
         null,
         null,
         null
        ],
        [
         "46",
         "9",
         "0.0",
         "1.0",
         "1965",
         null,
         null,
         null
        ],
        [
         "47",
         "9",
         "1.0",
         "0.0",
         "2012",
         null,
         null,
         null
        ],
        [
         "48",
         "9",
         "1.0",
         "0.0",
         "2051",
         null,
         null,
         null
        ],
        [
         "49",
         "9",
         "0.0",
         "0.0",
         "2095",
         null,
         null,
         null
        ]
       ],
       "shape": {
        "columns": 7,
        "rows": 4010
       }
      },
      "text/html": [
       "<div>\n",
       "<style scoped>\n",
       "    .dataframe tbody tr th:only-of-type {\n",
       "        vertical-align: middle;\n",
       "    }\n",
       "\n",
       "    .dataframe tbody tr th {\n",
       "        vertical-align: top;\n",
       "    }\n",
       "\n",
       "    .dataframe thead th {\n",
       "        text-align: right;\n",
       "    }\n",
       "</style>\n",
       "<table border=\"1\" class=\"dataframe\">\n",
       "  <thead>\n",
       "    <tr style=\"text-align: right;\">\n",
       "      <th></th>\n",
       "      <th>trial</th>\n",
       "      <th>_right_canvas_practice</th>\n",
       "      <th>_left_canvas_practice</th>\n",
       "      <th>times</th>\n",
       "      <th>_right_canvas</th>\n",
       "      <th>_left_canvas</th>\n",
       "      <th>Unnamed: 6</th>\n",
       "    </tr>\n",
       "  </thead>\n",
       "  <tbody>\n",
       "    <tr>\n",
       "      <th>0</th>\n",
       "      <td>9</td>\n",
       "      <td>0.0</td>\n",
       "      <td>1.0</td>\n",
       "      <td>0</td>\n",
       "      <td>NaN</td>\n",
       "      <td>NaN</td>\n",
       "      <td>NaN</td>\n",
       "    </tr>\n",
       "    <tr>\n",
       "      <th>1</th>\n",
       "      <td>9</td>\n",
       "      <td>1.0</td>\n",
       "      <td>0.0</td>\n",
       "      <td>29</td>\n",
       "      <td>NaN</td>\n",
       "      <td>NaN</td>\n",
       "      <td>NaN</td>\n",
       "    </tr>\n",
       "    <tr>\n",
       "      <th>2</th>\n",
       "      <td>9</td>\n",
       "      <td>0.0</td>\n",
       "      <td>1.0</td>\n",
       "      <td>67</td>\n",
       "      <td>NaN</td>\n",
       "      <td>NaN</td>\n",
       "      <td>NaN</td>\n",
       "    </tr>\n",
       "    <tr>\n",
       "      <th>3</th>\n",
       "      <td>9</td>\n",
       "      <td>1.0</td>\n",
       "      <td>0.0</td>\n",
       "      <td>112</td>\n",
       "      <td>NaN</td>\n",
       "      <td>NaN</td>\n",
       "      <td>NaN</td>\n",
       "    </tr>\n",
       "    <tr>\n",
       "      <th>4</th>\n",
       "      <td>9</td>\n",
       "      <td>0.0</td>\n",
       "      <td>1.0</td>\n",
       "      <td>152</td>\n",
       "      <td>NaN</td>\n",
       "      <td>NaN</td>\n",
       "      <td>NaN</td>\n",
       "    </tr>\n",
       "    <tr>\n",
       "      <th>...</th>\n",
       "      <td>...</td>\n",
       "      <td>...</td>\n",
       "      <td>...</td>\n",
       "      <td>...</td>\n",
       "      <td>...</td>\n",
       "      <td>...</td>\n",
       "      <td>...</td>\n",
       "    </tr>\n",
       "    <tr>\n",
       "      <th>4005</th>\n",
       "      <td>15</td>\n",
       "      <td>NaN</td>\n",
       "      <td>NaN</td>\n",
       "      <td>2097</td>\n",
       "      <td>0.0</td>\n",
       "      <td>1.0</td>\n",
       "      <td>NaN</td>\n",
       "    </tr>\n",
       "    <tr>\n",
       "      <th>4006</th>\n",
       "      <td>15</td>\n",
       "      <td>NaN</td>\n",
       "      <td>NaN</td>\n",
       "      <td>2139</td>\n",
       "      <td>0.0</td>\n",
       "      <td>1.0</td>\n",
       "      <td>NaN</td>\n",
       "    </tr>\n",
       "    <tr>\n",
       "      <th>4007</th>\n",
       "      <td>15</td>\n",
       "      <td>NaN</td>\n",
       "      <td>NaN</td>\n",
       "      <td>2179</td>\n",
       "      <td>0.0</td>\n",
       "      <td>1.0</td>\n",
       "      <td>NaN</td>\n",
       "    </tr>\n",
       "    <tr>\n",
       "      <th>4008</th>\n",
       "      <td>15</td>\n",
       "      <td>NaN</td>\n",
       "      <td>NaN</td>\n",
       "      <td>2227</td>\n",
       "      <td>0.0</td>\n",
       "      <td>1.0</td>\n",
       "      <td>NaN</td>\n",
       "    </tr>\n",
       "    <tr>\n",
       "      <th>4009</th>\n",
       "      <td>15</td>\n",
       "      <td>NaN</td>\n",
       "      <td>NaN</td>\n",
       "      <td>2272</td>\n",
       "      <td>0.0</td>\n",
       "      <td>1.0</td>\n",
       "      <td>NaN</td>\n",
       "    </tr>\n",
       "  </tbody>\n",
       "</table>\n",
       "<p>4010 rows × 7 columns</p>\n",
       "</div>"
      ],
      "text/plain": [
       "      trial  _right_canvas_practice  _left_canvas_practice  times  \\\n",
       "0         9                     0.0                    1.0      0   \n",
       "1         9                     1.0                    0.0     29   \n",
       "2         9                     0.0                    1.0     67   \n",
       "3         9                     1.0                    0.0    112   \n",
       "4         9                     0.0                    1.0    152   \n",
       "...     ...                     ...                    ...    ...   \n",
       "4005     15                     NaN                    NaN   2097   \n",
       "4006     15                     NaN                    NaN   2139   \n",
       "4007     15                     NaN                    NaN   2179   \n",
       "4008     15                     NaN                    NaN   2227   \n",
       "4009     15                     NaN                    NaN   2272   \n",
       "\n",
       "      _right_canvas  _left_canvas  Unnamed: 6  \n",
       "0               NaN           NaN         NaN  \n",
       "1               NaN           NaN         NaN  \n",
       "2               NaN           NaN         NaN  \n",
       "3               NaN           NaN         NaN  \n",
       "4               NaN           NaN         NaN  \n",
       "...             ...           ...         ...  \n",
       "4005            0.0           1.0         NaN  \n",
       "4006            0.0           1.0         NaN  \n",
       "4007            0.0           1.0         NaN  \n",
       "4008            0.0           1.0         NaN  \n",
       "4009            0.0           1.0         NaN  \n",
       "\n",
       "[4010 rows x 7 columns]"
      ]
     },
     "execution_count": 3,
     "metadata": {},
     "output_type": "execute_result"
    }
   ],
   "source": [
    "# Example \n",
    "eturl = \"https://mondo1.dreamhosters.com/script.php?experiment=\"\n",
    "et_filename = \"httpsfarmpcibexnetrDigcCS/1c84b535-363e-c9bf-2b97-42764bc0d263\"\n",
    "\n",
    "et_file = eturl + et_filename\n",
    "et_file\n",
    "\n",
    "r = requests.get(et_file, timeout=15)\n",
    "r.raise_for_status()\n",
    "df_et = pd.read_csv(StringIO(r.text))\n",
    "df_et\n",
    "\n",
    "# Save as csv with he participant's name"
   ]
  },
  {
   "cell_type": "code",
   "execution_count": null,
   "id": "7785a682",
   "metadata": {},
   "outputs": [],
   "source": []
  }
 ],
 "metadata": {
  "kernelspec": {
   "display_name": "work",
   "language": "python",
   "name": "python3"
  },
  "language_info": {
   "codemirror_mode": {
    "name": "ipython",
    "version": 3
   },
   "file_extension": ".py",
   "mimetype": "text/x-python",
   "name": "python",
   "nbconvert_exporter": "python",
   "pygments_lexer": "ipython3",
   "version": "3.12.9"
  }
 },
 "nbformat": 4,
 "nbformat_minor": 5
}
