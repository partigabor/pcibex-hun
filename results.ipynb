{
 "cells": [
  {
   "cell_type": "markdown",
   "id": "c9bc37c5",
   "metadata": {},
   "source": [
    "# Parse PCIbex results\n",
    "\n",
    "This notebook parses the messy results file `results_dev.csv` and produces an event-level DataFrame with:\n",
    "\n",
    "- participant_id, group, label (block), no, item, condition, cb, left, right\n",
    "- Self-paced reading region events (r1..r7) with per-region RTs, including mean and std per participant, item, condition, region question RTs and choice selection (side + RT)\n",
    "- Eye-tracker events"
   ]
  },
  {
   "cell_type": "code",
   "execution_count": 336,
   "id": "fc351a48",
   "metadata": {},
   "outputs": [
    {
     "name": "stdout",
     "output_type": "stream",
     "text": [
      "Will parse: c:\\Users\\parti\\Projects\\pcibex-hun\\results_dev.csv\n"
     ]
    }
   ],
   "source": [
    "# Imports and paths\n",
    "import re\n",
    "from pathlib import Path\n",
    "import pandas as pd\n",
    "import numpy as np\n",
    "\n",
    "ROOT = Path(r\"c:\\\\Users\\\\parti\\\\Projects\\\\pcibex-hun\")\n",
    "RAW_FILE = ROOT / \"results_dev.csv\"\n",
    "\n",
    "pd.set_option(\"display.max_rows\", 200)\n",
    "pd.set_option(\"display.max_columns\", 50)\n",
    "\n",
    "print(\"Will parse:\", RAW_FILE)"
   ]
  },
  {
   "cell_type": "code",
   "execution_count": 337,
   "id": "954902c7",
   "metadata": {},
   "outputs": [
    {
     "name": "stdout",
     "output_type": "stream",
     "text": [
      "Comment lines: 48 | Data rows: 111\n"
     ]
    },
    {
     "data": {
      "text/plain": [
       "['1758538209,307ffaaf2defd7df9a4f72f267526c6d,PennController,0,0,welcome,NULL,PennController,0,_Trial_,Start,1758538019972,prolific_id,NULL',\n",
       " '1758538209,307ffaaf2defd7df9a4f72f267526c6d,PennController,0,0,welcome,NULL,PennController,0,_Header_,Start,1758538019972,prolific_id,NULL',\n",
       " '1758538209,307ffaaf2defd7df9a4f72f267526c6d,PennController,0,0,welcome,NULL,PennController,0,_Header_,End,1758538019972,prolific_id,NULL']"
      ]
     },
     "execution_count": 337,
     "metadata": {},
     "output_type": "execute_result"
    }
   ],
   "source": [
    "# Read file, split comments vs data\n",
    "raw_lines = RAW_FILE.read_text(encoding=\"utf-8\").splitlines()\n",
    "\n",
    "header_comments = []\n",
    "rows = []\n",
    "for line in raw_lines:\n",
    "    if line.startswith(\"#\"):\n",
    "        header_comments.append(line)\n",
    "    elif line.strip():\n",
    "        rows.append(line)\n",
    "\n",
    "print(f\"Comment lines: {len(header_comments)} | Data rows: {len(rows)}\")\n",
    "rows[:3]"
   ]
  },
  {
   "cell_type": "markdown",
   "id": "9dfa29c0",
   "metadata": {},
   "source": [
    "## Events"
   ]
  },
  {
   "cell_type": "code",
   "execution_count": 338,
   "id": "7fcc7a7a",
   "metadata": {},
   "outputs": [
    {
     "name": "stdout",
     "output_type": "stream",
     "text": [
      "Using trial fields: ['participant_id', 'group', 'no', 'item', 'exp', 'condition', 'cb', 'left', 'right', 'target']\n"
     ]
    },
    {
     "data": {
      "application/vnd.microsoft.datawrangler.viewer.v0+json": {
       "columns": [
        {
         "name": "index",
         "rawType": "int64",
         "type": "integer"
        },
        {
         "name": "MD5",
         "rawType": "object",
         "type": "string"
        },
        {
         "name": "trial",
         "rawType": "int64",
         "type": "integer"
        },
        {
         "name": "label",
         "rawType": "object",
         "type": "string"
        },
        {
         "name": "PennElementType",
         "rawType": "object",
         "type": "string"
        },
        {
         "name": "PennElementName",
         "rawType": "object",
         "type": "string"
        },
        {
         "name": "Parameter",
         "rawType": "object",
         "type": "string"
        },
        {
         "name": "Value",
         "rawType": "object",
         "type": "string"
        },
        {
         "name": "participant_id",
         "rawType": "object",
         "type": "string"
        },
        {
         "name": "group",
         "rawType": "object",
         "type": "string"
        },
        {
         "name": "no",
         "rawType": "Int64",
         "type": "integer"
        },
        {
         "name": "item",
         "rawType": "Int64",
         "type": "integer"
        },
        {
         "name": "exp",
         "rawType": "object",
         "type": "string"
        },
        {
         "name": "condition",
         "rawType": "object",
         "type": "string"
        },
        {
         "name": "cb",
         "rawType": "object",
         "type": "string"
        },
        {
         "name": "left",
         "rawType": "object",
         "type": "string"
        },
        {
         "name": "right",
         "rawType": "object",
         "type": "string"
        },
        {
         "name": "target",
         "rawType": "object",
         "type": "string"
        },
        {
         "name": "results_time",
         "rawType": "datetime64[ns, UTC]",
         "type": "unknown"
        },
        {
         "name": "event_time",
         "rawType": "datetime64[ns, UTC]",
         "type": "unknown"
        },
        {
         "name": "elapsed_ms",
         "rawType": "float64",
         "type": "float"
        }
       ],
       "ref": "61e271f8-126d-4ac2-bb71-caf2e9918cff",
       "rows": [
        [
         "28",
         "307ffaaf2defd7df9a4f72f267526c6d",
         "6",
         "practice",
         "EyeTracker",
         "tracker",
         "calibration",
         "64",
         "Maris444",
         "c",
         "990",
         "900",
         "",
         "practice",
         "n",
         "A",
         "B",
         "A",
         "2025-09-22 10:50:09+00:00",
         "2025-09-22 10:48:06.741000+00:00",
         "5022.0"
        ],
        [
         "29",
         "307ffaaf2defd7df9a4f72f267526c6d",
         "6",
         "practice",
         "EyeTracker",
         "tracker",
         "Filename",
         "httpsfarmpcibexnetrDigcCS/05d1b997-cbb5-be10-8fab-dbbb0639c0b9",
         "Maris444",
         "c",
         "990",
         "900",
         "",
         "practice",
         "n",
         "A",
         "B",
         "A",
         "2025-09-22 10:50:09+00:00",
         "2025-09-22 10:48:17.294000+00:00",
         "10553.0"
        ],
        [
         "30",
         "307ffaaf2defd7df9a4f72f267526c6d",
         "6",
         "practice",
         "Canvas",
         "right_canvas",
         "Print",
         "NA",
         "Maris444",
         "c",
         "990",
         "900",
         "",
         "practice",
         "n",
         "A",
         "B",
         "A",
         "2025-09-22 10:50:09+00:00",
         "2025-09-22 10:48:15.105000+00:00",
         "-2189.0"
        ],
        [
         "31",
         "307ffaaf2defd7df9a4f72f267526c6d",
         "6",
         "practice",
         "Key",
         "r0",
         "PressedKey",
         "",
         "Maris444",
         "c",
         "990",
         "900",
         "",
         "practice",
         "n",
         "A",
         "B",
         "A",
         "2025-09-22 10:50:09+00:00",
         "2025-09-22 10:48:10.310000+00:00",
         "-4795.0"
        ],
        [
         "32",
         "307ffaaf2defd7df9a4f72f267526c6d",
         "6",
         "practice",
         "Key",
         "r1",
         "PressedKey",
         "",
         "Maris444",
         "c",
         "990",
         "900",
         "",
         "practice",
         "n",
         "A",
         "B",
         "A",
         "2025-09-22 10:50:09+00:00",
         "2025-09-22 10:48:10.581000+00:00",
         "271.0"
        ],
        [
         "33",
         "307ffaaf2defd7df9a4f72f267526c6d",
         "6",
         "practice",
         "Key",
         "r2",
         "PressedKey",
         "",
         "Maris444",
         "c",
         "990",
         "900",
         "",
         "practice",
         "n",
         "A",
         "B",
         "A",
         "2025-09-22 10:50:09+00:00",
         "2025-09-22 10:48:10.809000+00:00",
         "228.0"
        ],
        [
         "34",
         "307ffaaf2defd7df9a4f72f267526c6d",
         "6",
         "practice",
         "Key",
         "r3",
         "PressedKey",
         "",
         "Maris444",
         "c",
         "990",
         "900",
         "",
         "practice",
         "n",
         "A",
         "B",
         "A",
         "2025-09-22 10:50:09+00:00",
         "2025-09-22 10:48:11.044000+00:00",
         "235.0"
        ],
        [
         "35",
         "307ffaaf2defd7df9a4f72f267526c6d",
         "6",
         "practice",
         "Key",
         "r4",
         "PressedKey",
         "",
         "Maris444",
         "c",
         "990",
         "900",
         "",
         "practice",
         "n",
         "A",
         "B",
         "A",
         "2025-09-22 10:50:09+00:00",
         "2025-09-22 10:48:11.291000+00:00",
         "247.0"
        ],
        [
         "36",
         "307ffaaf2defd7df9a4f72f267526c6d",
         "6",
         "practice",
         "Key",
         "r5",
         "PressedKey",
         "",
         "Maris444",
         "c",
         "990",
         "900",
         "",
         "practice",
         "n",
         "A",
         "B",
         "A",
         "2025-09-22 10:50:09+00:00",
         "2025-09-22 10:48:11.542000+00:00",
         "251.0"
        ],
        [
         "37",
         "307ffaaf2defd7df9a4f72f267526c6d",
         "6",
         "practice",
         "Key",
         "r6",
         "PressedKey",
         "",
         "Maris444",
         "c",
         "990",
         "900",
         "",
         "practice",
         "n",
         "A",
         "B",
         "A",
         "2025-09-22 10:50:09+00:00",
         "2025-09-22 10:48:11.804000+00:00",
         "262.0"
        ],
        [
         "38",
         "307ffaaf2defd7df9a4f72f267526c6d",
         "6",
         "practice",
         "Key",
         "r7",
         "PressedKey",
         "",
         "Maris444",
         "c",
         "990",
         "900",
         "",
         "practice",
         "n",
         "A",
         "B",
         "A",
         "2025-09-22 10:50:09+00:00",
         "2025-09-22 10:48:12.095000+00:00",
         "291.0"
        ],
        [
         "39",
         "307ffaaf2defd7df9a4f72f267526c6d",
         "6",
         "practice",
         "Selector",
         "choice_selector",
         "Selection",
         "left_canvas",
         "Maris444",
         "c",
         "990",
         "900",
         "",
         "practice",
         "n",
         "A",
         "B",
         "A",
         "2025-09-22 10:50:09+00:00",
         "2025-09-22 10:48:17.289000+00:00",
         "5194.0"
        ],
        [
         "44",
         "307ffaaf2defd7df9a4f72f267526c6d",
         "7",
         "practice",
         "EyeTracker",
         "tracker",
         "calibration",
         "73",
         "Maris444",
         "c",
         "991",
         "901",
         "",
         "practice",
         "y",
         "D",
         "C",
         "C",
         "2025-09-22 10:50:09+00:00",
         "2025-09-22 10:48:22.313000+00:00",
         "5017.0"
        ],
        [
         "45",
         "307ffaaf2defd7df9a4f72f267526c6d",
         "7",
         "practice",
         "EyeTracker",
         "tracker",
         "Filename",
         "httpsfarmpcibexnetrDigcCS/05d1b997-cbb5-be10-8fab-dbbb0639c0b9",
         "Maris444",
         "c",
         "991",
         "901",
         "",
         "practice",
         "y",
         "D",
         "C",
         "C",
         "2025-09-22 10:50:09+00:00",
         "2025-09-22 10:48:34.021000+00:00",
         "11708.0"
        ],
        [
         "46",
         "307ffaaf2defd7df9a4f72f267526c6d",
         "7",
         "practice",
         "Canvas",
         "right_canvas",
         "Print",
         "NA",
         "Maris444",
         "c",
         "991",
         "901",
         "",
         "practice",
         "y",
         "D",
         "C",
         "C",
         "2025-09-22 10:50:09+00:00",
         "2025-09-22 10:48:31.069000+00:00",
         "-2952.0"
        ],
        [
         "47",
         "307ffaaf2defd7df9a4f72f267526c6d",
         "7",
         "practice",
         "Key",
         "r0",
         "PressedKey",
         "",
         "Maris444",
         "c",
         "991",
         "901",
         "",
         "practice",
         "y",
         "D",
         "C",
         "C",
         "2025-09-22 10:50:09+00:00",
         "2025-09-22 10:48:26.128000+00:00",
         "-4941.0"
        ],
        [
         "48",
         "307ffaaf2defd7df9a4f72f267526c6d",
         "7",
         "practice",
         "Key",
         "r1",
         "PressedKey",
         "",
         "Maris444",
         "c",
         "991",
         "901",
         "",
         "practice",
         "y",
         "D",
         "C",
         "C",
         "2025-09-22 10:50:09+00:00",
         "2025-09-22 10:48:26.406000+00:00",
         "278.0"
        ],
        [
         "49",
         "307ffaaf2defd7df9a4f72f267526c6d",
         "7",
         "practice",
         "Key",
         "r2",
         "PressedKey",
         "",
         "Maris444",
         "c",
         "991",
         "901",
         "",
         "practice",
         "y",
         "D",
         "C",
         "C",
         "2025-09-22 10:50:09+00:00",
         "2025-09-22 10:48:26.625000+00:00",
         "219.0"
        ],
        [
         "50",
         "307ffaaf2defd7df9a4f72f267526c6d",
         "7",
         "practice",
         "Key",
         "r3",
         "PressedKey",
         "",
         "Maris444",
         "c",
         "991",
         "901",
         "",
         "practice",
         "y",
         "D",
         "C",
         "C",
         "2025-09-22 10:50:09+00:00",
         "2025-09-22 10:48:26.837000+00:00",
         "212.0"
        ],
        [
         "51",
         "307ffaaf2defd7df9a4f72f267526c6d",
         "7",
         "practice",
         "Key",
         "r4",
         "PressedKey",
         "",
         "Maris444",
         "c",
         "991",
         "901",
         "",
         "practice",
         "y",
         "D",
         "C",
         "C",
         "2025-09-22 10:50:09+00:00",
         "2025-09-22 10:48:27.125000+00:00",
         "288.0"
        ],
        [
         "52",
         "307ffaaf2defd7df9a4f72f267526c6d",
         "7",
         "practice",
         "Key",
         "r5",
         "PressedKey",
         "",
         "Maris444",
         "c",
         "991",
         "901",
         "",
         "practice",
         "y",
         "D",
         "C",
         "C",
         "2025-09-22 10:50:09+00:00",
         "2025-09-22 10:48:27.371000+00:00",
         "246.0"
        ],
        [
         "53",
         "307ffaaf2defd7df9a4f72f267526c6d",
         "7",
         "practice",
         "Key",
         "r6",
         "PressedKey",
         "",
         "Maris444",
         "c",
         "991",
         "901",
         "",
         "practice",
         "y",
         "D",
         "C",
         "C",
         "2025-09-22 10:50:09+00:00",
         "2025-09-22 10:48:27.674000+00:00",
         "303.0"
        ],
        [
         "54",
         "307ffaaf2defd7df9a4f72f267526c6d",
         "7",
         "practice",
         "Key",
         "r7",
         "PressedKey",
         "",
         "Maris444",
         "c",
         "991",
         "901",
         "",
         "practice",
         "y",
         "D",
         "C",
         "C",
         "2025-09-22 10:50:09+00:00",
         "2025-09-22 10:48:28.053000+00:00",
         "379.0"
        ],
        [
         "55",
         "307ffaaf2defd7df9a4f72f267526c6d",
         "7",
         "practice",
         "Selector",
         "choice_selector",
         "Selection",
         "right_canvas",
         "Maris444",
         "c",
         "991",
         "901",
         "",
         "practice",
         "y",
         "D",
         "C",
         "C",
         "2025-09-22 10:50:09+00:00",
         "2025-09-22 10:48:34.020000+00:00",
         "5967.0"
        ],
        [
         "60",
         "307ffaaf2defd7df9a4f72f267526c6d",
         "8",
         "practice",
         "EyeTracker",
         "tracker",
         "calibration",
         "75",
         "Maris444",
         "c",
         "992",
         "902",
         "",
         "practice",
         "n",
         "E",
         "F",
         "E",
         "2025-09-22 10:50:09+00:00",
         "2025-09-22 10:48:39.045000+00:00",
         "5022.0"
        ],
        [
         "61",
         "307ffaaf2defd7df9a4f72f267526c6d",
         "8",
         "practice",
         "EyeTracker",
         "tracker",
         "Filename",
         "httpsfarmpcibexnetrDigcCS/05d1b997-cbb5-be10-8fab-dbbb0639c0b9",
         "Maris444",
         "c",
         "992",
         "902",
         "",
         "practice",
         "n",
         "E",
         "F",
         "E",
         "2025-09-22 10:50:09+00:00",
         "2025-09-22 10:49:00.041000+00:00",
         "20996.0"
        ],
        [
         "62",
         "307ffaaf2defd7df9a4f72f267526c6d",
         "8",
         "practice",
         "Canvas",
         "right_canvas",
         "Print",
         "NA",
         "Maris444",
         "c",
         "992",
         "902",
         "",
         "practice",
         "n",
         "E",
         "F",
         "E",
         "2025-09-22 10:50:09+00:00",
         "2025-09-22 10:48:55.847000+00:00",
         "-4194.0"
        ],
        [
         "63",
         "307ffaaf2defd7df9a4f72f267526c6d",
         "8",
         "practice",
         "Key",
         "r0",
         "PressedKey",
         "",
         "Maris444",
         "c",
         "992",
         "902",
         "",
         "practice",
         "n",
         "E",
         "F",
         "E",
         "2025-09-22 10:50:09+00:00",
         "2025-09-22 10:48:45.630000+00:00",
         "-10217.0"
        ],
        [
         "64",
         "307ffaaf2defd7df9a4f72f267526c6d",
         "8",
         "practice",
         "Key",
         "r1",
         "PressedKey",
         "",
         "Maris444",
         "c",
         "992",
         "902",
         "",
         "practice",
         "n",
         "E",
         "F",
         "E",
         "2025-09-22 10:50:09+00:00",
         "2025-09-22 10:48:46.508000+00:00",
         "878.0"
        ],
        [
         "65",
         "307ffaaf2defd7df9a4f72f267526c6d",
         "8",
         "practice",
         "Key",
         "r2",
         "PressedKey",
         "",
         "Maris444",
         "c",
         "992",
         "902",
         "",
         "practice",
         "n",
         "E",
         "F",
         "E",
         "2025-09-22 10:50:09+00:00",
         "2025-09-22 10:48:46.895000+00:00",
         "387.0"
        ],
        [
         "66",
         "307ffaaf2defd7df9a4f72f267526c6d",
         "8",
         "practice",
         "Key",
         "r3",
         "PressedKey",
         "",
         "Maris444",
         "c",
         "992",
         "902",
         "",
         "practice",
         "n",
         "E",
         "F",
         "E",
         "2025-09-22 10:50:09+00:00",
         "2025-09-22 10:48:47.150000+00:00",
         "255.0"
        ],
        [
         "67",
         "307ffaaf2defd7df9a4f72f267526c6d",
         "8",
         "practice",
         "Key",
         "r4",
         "PressedKey",
         "",
         "Maris444",
         "c",
         "992",
         "902",
         "",
         "practice",
         "n",
         "E",
         "F",
         "E",
         "2025-09-22 10:50:09+00:00",
         "2025-09-22 10:48:47.498000+00:00",
         "348.0"
        ],
        [
         "68",
         "307ffaaf2defd7df9a4f72f267526c6d",
         "8",
         "practice",
         "Key",
         "r5",
         "PressedKey",
         "",
         "Maris444",
         "c",
         "992",
         "902",
         "",
         "practice",
         "n",
         "E",
         "F",
         "E",
         "2025-09-22 10:50:09+00:00",
         "2025-09-22 10:48:48.084000+00:00",
         "586.0"
        ],
        [
         "69",
         "307ffaaf2defd7df9a4f72f267526c6d",
         "8",
         "practice",
         "Key",
         "r6",
         "PressedKey",
         "",
         "Maris444",
         "c",
         "992",
         "902",
         "",
         "practice",
         "n",
         "E",
         "F",
         "E",
         "2025-09-22 10:50:09+00:00",
         "2025-09-22 10:48:48.414000+00:00",
         "330.0"
        ],
        [
         "70",
         "307ffaaf2defd7df9a4f72f267526c6d",
         "8",
         "practice",
         "Key",
         "r7",
         "PressedKey",
         "",
         "Maris444",
         "c",
         "992",
         "902",
         "",
         "practice",
         "n",
         "E",
         "F",
         "E",
         "2025-09-22 10:50:09+00:00",
         "2025-09-22 10:48:48.759000+00:00",
         "345.0"
        ],
        [
         "71",
         "307ffaaf2defd7df9a4f72f267526c6d",
         "8",
         "practice",
         "Key",
         "question",
         "PressedKey",
         "",
         "Maris444",
         "c",
         "992",
         "902",
         "",
         "practice",
         "n",
         "E",
         "F",
         "E",
         "2025-09-22 10:50:09+00:00",
         "2025-09-22 10:48:52.833000+00:00",
         "4074.0"
        ],
        [
         "72",
         "307ffaaf2defd7df9a4f72f267526c6d",
         "8",
         "practice",
         "Selector",
         "choice_selector",
         "Selection",
         "right_canvas",
         "Maris444",
         "c",
         "992",
         "902",
         "",
         "practice",
         "n",
         "E",
         "F",
         "E",
         "2025-09-22 10:50:09+00:00",
         "2025-09-22 10:49:00.038000+00:00",
         "7205.0"
        ],
        [
         "81",
         "307ffaaf2defd7df9a4f72f267526c6d",
         "10",
         "experiment",
         "EyeTracker",
         "tracker",
         "calibration",
         "78",
         "Maris444",
         "c",
         "34",
         "12",
         "1",
         "exclusive",
         "y",
         "12b",
         "12a",
         "12a",
         "2025-09-22 10:50:09+00:00",
         "2025-09-22 10:49:05.758000+00:00",
         "4021.0"
        ],
        [
         "82",
         "307ffaaf2defd7df9a4f72f267526c6d",
         "10",
         "experiment",
         "EyeTracker",
         "tracker",
         "Filename",
         "httpsfarmpcibexnetrDigcCS/05d1b997-cbb5-be10-8fab-dbbb0639c0b9",
         "Maris444",
         "c",
         "34",
         "12",
         "1",
         "exclusive",
         "y",
         "12b",
         "12a",
         "12a",
         "2025-09-22 10:50:09+00:00",
         "2025-09-22 10:49:16.570000+00:00",
         "10812.0"
        ],
        [
         "83",
         "307ffaaf2defd7df9a4f72f267526c6d",
         "10",
         "experiment",
         "Canvas",
         "right_canvas",
         "Print",
         "NA",
         "Maris444",
         "c",
         "34",
         "12",
         "1",
         "exclusive",
         "y",
         "12b",
         "12a",
         "12a",
         "2025-09-22 10:50:09+00:00",
         "2025-09-22 10:49:15.722000+00:00",
         "-848.0"
        ],
        [
         "84",
         "307ffaaf2defd7df9a4f72f267526c6d",
         "10",
         "experiment",
         "Key",
         "r0",
         "PressedKey",
         "",
         "Maris444",
         "c",
         "34",
         "12",
         "1",
         "exclusive",
         "y",
         "12b",
         "12a",
         "12a",
         "2025-09-22 10:50:09+00:00",
         "2025-09-22 10:49:11.016000+00:00",
         "-4706.0"
        ],
        [
         "85",
         "307ffaaf2defd7df9a4f72f267526c6d",
         "10",
         "experiment",
         "Key",
         "r1",
         "PressedKey",
         "",
         "Maris444",
         "c",
         "34",
         "12",
         "1",
         "exclusive",
         "y",
         "12b",
         "12a",
         "12a",
         "2025-09-22 10:50:09+00:00",
         "2025-09-22 10:49:11.282000+00:00",
         "266.0"
        ],
        [
         "86",
         "307ffaaf2defd7df9a4f72f267526c6d",
         "10",
         "experiment",
         "Key",
         "r2",
         "PressedKey",
         "",
         "Maris444",
         "c",
         "34",
         "12",
         "1",
         "exclusive",
         "y",
         "12b",
         "12a",
         "12a",
         "2025-09-22 10:50:09+00:00",
         "2025-09-22 10:49:11.517000+00:00",
         "235.0"
        ],
        [
         "87",
         "307ffaaf2defd7df9a4f72f267526c6d",
         "10",
         "experiment",
         "Key",
         "r3",
         "PressedKey",
         "",
         "Maris444",
         "c",
         "34",
         "12",
         "1",
         "exclusive",
         "y",
         "12b",
         "12a",
         "12a",
         "2025-09-22 10:50:09+00:00",
         "2025-09-22 10:49:11.756000+00:00",
         "239.0"
        ],
        [
         "88",
         "307ffaaf2defd7df9a4f72f267526c6d",
         "10",
         "experiment",
         "Key",
         "r4",
         "PressedKey",
         "",
         "Maris444",
         "c",
         "34",
         "12",
         "1",
         "exclusive",
         "y",
         "12b",
         "12a",
         "12a",
         "2025-09-22 10:50:09+00:00",
         "2025-09-22 10:49:11.990000+00:00",
         "234.0"
        ],
        [
         "89",
         "307ffaaf2defd7df9a4f72f267526c6d",
         "10",
         "experiment",
         "Key",
         "r5",
         "PressedKey",
         "",
         "Maris444",
         "c",
         "34",
         "12",
         "1",
         "exclusive",
         "y",
         "12b",
         "12a",
         "12a",
         "2025-09-22 10:50:09+00:00",
         "2025-09-22 10:49:12.222000+00:00",
         "232.0"
        ],
        [
         "90",
         "307ffaaf2defd7df9a4f72f267526c6d",
         "10",
         "experiment",
         "Key",
         "r6",
         "PressedKey",
         "",
         "Maris444",
         "c",
         "34",
         "12",
         "1",
         "exclusive",
         "y",
         "12b",
         "12a",
         "12a",
         "2025-09-22 10:50:09+00:00",
         "2025-09-22 10:49:12.442000+00:00",
         "220.0"
        ],
        [
         "91",
         "307ffaaf2defd7df9a4f72f267526c6d",
         "10",
         "experiment",
         "Key",
         "r7",
         "PressedKey",
         "",
         "Maris444",
         "c",
         "34",
         "12",
         "1",
         "exclusive",
         "y",
         "12b",
         "12a",
         "12a",
         "2025-09-22 10:50:09+00:00",
         "2025-09-22 10:49:12.716000+00:00",
         "274.0"
        ],
        [
         "92",
         "307ffaaf2defd7df9a4f72f267526c6d",
         "10",
         "experiment",
         "Selector",
         "choice_selector",
         "Selection",
         "right_canvas",
         "Maris444",
         "c",
         "34",
         "12",
         "1",
         "exclusive",
         "y",
         "12b",
         "12a",
         "12a",
         "2025-09-22 10:50:09+00:00",
         "2025-09-22 10:49:16.570000+00:00",
         "3854.0"
        ],
        [
         "97",
         "307ffaaf2defd7df9a4f72f267526c6d",
         "11",
         "experiment",
         "EyeTracker",
         "tracker",
         "calibration",
         "57",
         "Maris444",
         "c",
         "66",
         "21",
         "2",
         "other-directed-x",
         "y",
         "tűzoltó",
         "orvos",
         "orvos",
         "2025-09-22 10:50:09+00:00",
         "2025-09-22 10:49:20.593000+00:00",
         "4021.0"
        ]
       ],
       "shape": {
        "columns": 20,
        "rows": 62
       }
      },
      "text/html": [
       "<div>\n",
       "<style scoped>\n",
       "    .dataframe tbody tr th:only-of-type {\n",
       "        vertical-align: middle;\n",
       "    }\n",
       "\n",
       "    .dataframe tbody tr th {\n",
       "        vertical-align: top;\n",
       "    }\n",
       "\n",
       "    .dataframe thead th {\n",
       "        text-align: right;\n",
       "    }\n",
       "</style>\n",
       "<table border=\"1\" class=\"dataframe\">\n",
       "  <thead>\n",
       "    <tr style=\"text-align: right;\">\n",
       "      <th></th>\n",
       "      <th>MD5</th>\n",
       "      <th>trial</th>\n",
       "      <th>label</th>\n",
       "      <th>PennElementType</th>\n",
       "      <th>PennElementName</th>\n",
       "      <th>Parameter</th>\n",
       "      <th>Value</th>\n",
       "      <th>participant_id</th>\n",
       "      <th>group</th>\n",
       "      <th>no</th>\n",
       "      <th>item</th>\n",
       "      <th>exp</th>\n",
       "      <th>condition</th>\n",
       "      <th>cb</th>\n",
       "      <th>left</th>\n",
       "      <th>right</th>\n",
       "      <th>target</th>\n",
       "      <th>results_time</th>\n",
       "      <th>event_time</th>\n",
       "      <th>elapsed_ms</th>\n",
       "    </tr>\n",
       "  </thead>\n",
       "  <tbody>\n",
       "    <tr>\n",
       "      <th>28</th>\n",
       "      <td>307ffaaf2defd7df9a4f72f267526c6d</td>\n",
       "      <td>6</td>\n",
       "      <td>practice</td>\n",
       "      <td>EyeTracker</td>\n",
       "      <td>tracker</td>\n",
       "      <td>calibration</td>\n",
       "      <td>64</td>\n",
       "      <td>Maris444</td>\n",
       "      <td>c</td>\n",
       "      <td>990</td>\n",
       "      <td>900</td>\n",
       "      <td></td>\n",
       "      <td>practice</td>\n",
       "      <td>n</td>\n",
       "      <td>A</td>\n",
       "      <td>B</td>\n",
       "      <td>A</td>\n",
       "      <td>2025-09-22 10:50:09+00:00</td>\n",
       "      <td>2025-09-22 10:48:06.741000+00:00</td>\n",
       "      <td>5022.0</td>\n",
       "    </tr>\n",
       "    <tr>\n",
       "      <th>29</th>\n",
       "      <td>307ffaaf2defd7df9a4f72f267526c6d</td>\n",
       "      <td>6</td>\n",
       "      <td>practice</td>\n",
       "      <td>EyeTracker</td>\n",
       "      <td>tracker</td>\n",
       "      <td>Filename</td>\n",
       "      <td>httpsfarmpcibexnetrDigcCS/05d1b997-cbb5-be10-8...</td>\n",
       "      <td>Maris444</td>\n",
       "      <td>c</td>\n",
       "      <td>990</td>\n",
       "      <td>900</td>\n",
       "      <td></td>\n",
       "      <td>practice</td>\n",
       "      <td>n</td>\n",
       "      <td>A</td>\n",
       "      <td>B</td>\n",
       "      <td>A</td>\n",
       "      <td>2025-09-22 10:50:09+00:00</td>\n",
       "      <td>2025-09-22 10:48:17.294000+00:00</td>\n",
       "      <td>10553.0</td>\n",
       "    </tr>\n",
       "    <tr>\n",
       "      <th>30</th>\n",
       "      <td>307ffaaf2defd7df9a4f72f267526c6d</td>\n",
       "      <td>6</td>\n",
       "      <td>practice</td>\n",
       "      <td>Canvas</td>\n",
       "      <td>right_canvas</td>\n",
       "      <td>Print</td>\n",
       "      <td>NA</td>\n",
       "      <td>Maris444</td>\n",
       "      <td>c</td>\n",
       "      <td>990</td>\n",
       "      <td>900</td>\n",
       "      <td></td>\n",
       "      <td>practice</td>\n",
       "      <td>n</td>\n",
       "      <td>A</td>\n",
       "      <td>B</td>\n",
       "      <td>A</td>\n",
       "      <td>2025-09-22 10:50:09+00:00</td>\n",
       "      <td>2025-09-22 10:48:15.105000+00:00</td>\n",
       "      <td>-2189.0</td>\n",
       "    </tr>\n",
       "    <tr>\n",
       "      <th>31</th>\n",
       "      <td>307ffaaf2defd7df9a4f72f267526c6d</td>\n",
       "      <td>6</td>\n",
       "      <td>practice</td>\n",
       "      <td>Key</td>\n",
       "      <td>r0</td>\n",
       "      <td>PressedKey</td>\n",
       "      <td></td>\n",
       "      <td>Maris444</td>\n",
       "      <td>c</td>\n",
       "      <td>990</td>\n",
       "      <td>900</td>\n",
       "      <td></td>\n",
       "      <td>practice</td>\n",
       "      <td>n</td>\n",
       "      <td>A</td>\n",
       "      <td>B</td>\n",
       "      <td>A</td>\n",
       "      <td>2025-09-22 10:50:09+00:00</td>\n",
       "      <td>2025-09-22 10:48:10.310000+00:00</td>\n",
       "      <td>-4795.0</td>\n",
       "    </tr>\n",
       "    <tr>\n",
       "      <th>32</th>\n",
       "      <td>307ffaaf2defd7df9a4f72f267526c6d</td>\n",
       "      <td>6</td>\n",
       "      <td>practice</td>\n",
       "      <td>Key</td>\n",
       "      <td>r1</td>\n",
       "      <td>PressedKey</td>\n",
       "      <td></td>\n",
       "      <td>Maris444</td>\n",
       "      <td>c</td>\n",
       "      <td>990</td>\n",
       "      <td>900</td>\n",
       "      <td></td>\n",
       "      <td>practice</td>\n",
       "      <td>n</td>\n",
       "      <td>A</td>\n",
       "      <td>B</td>\n",
       "      <td>A</td>\n",
       "      <td>2025-09-22 10:50:09+00:00</td>\n",
       "      <td>2025-09-22 10:48:10.581000+00:00</td>\n",
       "      <td>271.0</td>\n",
       "    </tr>\n",
       "    <tr>\n",
       "      <th>33</th>\n",
       "      <td>307ffaaf2defd7df9a4f72f267526c6d</td>\n",
       "      <td>6</td>\n",
       "      <td>practice</td>\n",
       "      <td>Key</td>\n",
       "      <td>r2</td>\n",
       "      <td>PressedKey</td>\n",
       "      <td></td>\n",
       "      <td>Maris444</td>\n",
       "      <td>c</td>\n",
       "      <td>990</td>\n",
       "      <td>900</td>\n",
       "      <td></td>\n",
       "      <td>practice</td>\n",
       "      <td>n</td>\n",
       "      <td>A</td>\n",
       "      <td>B</td>\n",
       "      <td>A</td>\n",
       "      <td>2025-09-22 10:50:09+00:00</td>\n",
       "      <td>2025-09-22 10:48:10.809000+00:00</td>\n",
       "      <td>228.0</td>\n",
       "    </tr>\n",
       "    <tr>\n",
       "      <th>34</th>\n",
       "      <td>307ffaaf2defd7df9a4f72f267526c6d</td>\n",
       "      <td>6</td>\n",
       "      <td>practice</td>\n",
       "      <td>Key</td>\n",
       "      <td>r3</td>\n",
       "      <td>PressedKey</td>\n",
       "      <td></td>\n",
       "      <td>Maris444</td>\n",
       "      <td>c</td>\n",
       "      <td>990</td>\n",
       "      <td>900</td>\n",
       "      <td></td>\n",
       "      <td>practice</td>\n",
       "      <td>n</td>\n",
       "      <td>A</td>\n",
       "      <td>B</td>\n",
       "      <td>A</td>\n",
       "      <td>2025-09-22 10:50:09+00:00</td>\n",
       "      <td>2025-09-22 10:48:11.044000+00:00</td>\n",
       "      <td>235.0</td>\n",
       "    </tr>\n",
       "    <tr>\n",
       "      <th>35</th>\n",
       "      <td>307ffaaf2defd7df9a4f72f267526c6d</td>\n",
       "      <td>6</td>\n",
       "      <td>practice</td>\n",
       "      <td>Key</td>\n",
       "      <td>r4</td>\n",
       "      <td>PressedKey</td>\n",
       "      <td></td>\n",
       "      <td>Maris444</td>\n",
       "      <td>c</td>\n",
       "      <td>990</td>\n",
       "      <td>900</td>\n",
       "      <td></td>\n",
       "      <td>practice</td>\n",
       "      <td>n</td>\n",
       "      <td>A</td>\n",
       "      <td>B</td>\n",
       "      <td>A</td>\n",
       "      <td>2025-09-22 10:50:09+00:00</td>\n",
       "      <td>2025-09-22 10:48:11.291000+00:00</td>\n",
       "      <td>247.0</td>\n",
       "    </tr>\n",
       "    <tr>\n",
       "      <th>36</th>\n",
       "      <td>307ffaaf2defd7df9a4f72f267526c6d</td>\n",
       "      <td>6</td>\n",
       "      <td>practice</td>\n",
       "      <td>Key</td>\n",
       "      <td>r5</td>\n",
       "      <td>PressedKey</td>\n",
       "      <td></td>\n",
       "      <td>Maris444</td>\n",
       "      <td>c</td>\n",
       "      <td>990</td>\n",
       "      <td>900</td>\n",
       "      <td></td>\n",
       "      <td>practice</td>\n",
       "      <td>n</td>\n",
       "      <td>A</td>\n",
       "      <td>B</td>\n",
       "      <td>A</td>\n",
       "      <td>2025-09-22 10:50:09+00:00</td>\n",
       "      <td>2025-09-22 10:48:11.542000+00:00</td>\n",
       "      <td>251.0</td>\n",
       "    </tr>\n",
       "    <tr>\n",
       "      <th>37</th>\n",
       "      <td>307ffaaf2defd7df9a4f72f267526c6d</td>\n",
       "      <td>6</td>\n",
       "      <td>practice</td>\n",
       "      <td>Key</td>\n",
       "      <td>r6</td>\n",
       "      <td>PressedKey</td>\n",
       "      <td></td>\n",
       "      <td>Maris444</td>\n",
       "      <td>c</td>\n",
       "      <td>990</td>\n",
       "      <td>900</td>\n",
       "      <td></td>\n",
       "      <td>practice</td>\n",
       "      <td>n</td>\n",
       "      <td>A</td>\n",
       "      <td>B</td>\n",
       "      <td>A</td>\n",
       "      <td>2025-09-22 10:50:09+00:00</td>\n",
       "      <td>2025-09-22 10:48:11.804000+00:00</td>\n",
       "      <td>262.0</td>\n",
       "    </tr>\n",
       "    <tr>\n",
       "      <th>38</th>\n",
       "      <td>307ffaaf2defd7df9a4f72f267526c6d</td>\n",
       "      <td>6</td>\n",
       "      <td>practice</td>\n",
       "      <td>Key</td>\n",
       "      <td>r7</td>\n",
       "      <td>PressedKey</td>\n",
       "      <td></td>\n",
       "      <td>Maris444</td>\n",
       "      <td>c</td>\n",
       "      <td>990</td>\n",
       "      <td>900</td>\n",
       "      <td></td>\n",
       "      <td>practice</td>\n",
       "      <td>n</td>\n",
       "      <td>A</td>\n",
       "      <td>B</td>\n",
       "      <td>A</td>\n",
       "      <td>2025-09-22 10:50:09+00:00</td>\n",
       "      <td>2025-09-22 10:48:12.095000+00:00</td>\n",
       "      <td>291.0</td>\n",
       "    </tr>\n",
       "    <tr>\n",
       "      <th>39</th>\n",
       "      <td>307ffaaf2defd7df9a4f72f267526c6d</td>\n",
       "      <td>6</td>\n",
       "      <td>practice</td>\n",
       "      <td>Selector</td>\n",
       "      <td>choice_selector</td>\n",
       "      <td>Selection</td>\n",
       "      <td>left_canvas</td>\n",
       "      <td>Maris444</td>\n",
       "      <td>c</td>\n",
       "      <td>990</td>\n",
       "      <td>900</td>\n",
       "      <td></td>\n",
       "      <td>practice</td>\n",
       "      <td>n</td>\n",
       "      <td>A</td>\n",
       "      <td>B</td>\n",
       "      <td>A</td>\n",
       "      <td>2025-09-22 10:50:09+00:00</td>\n",
       "      <td>2025-09-22 10:48:17.289000+00:00</td>\n",
       "      <td>5194.0</td>\n",
       "    </tr>\n",
       "    <tr>\n",
       "      <th>44</th>\n",
       "      <td>307ffaaf2defd7df9a4f72f267526c6d</td>\n",
       "      <td>7</td>\n",
       "      <td>practice</td>\n",
       "      <td>EyeTracker</td>\n",
       "      <td>tracker</td>\n",
       "      <td>calibration</td>\n",
       "      <td>73</td>\n",
       "      <td>Maris444</td>\n",
       "      <td>c</td>\n",
       "      <td>991</td>\n",
       "      <td>901</td>\n",
       "      <td></td>\n",
       "      <td>practice</td>\n",
       "      <td>y</td>\n",
       "      <td>D</td>\n",
       "      <td>C</td>\n",
       "      <td>C</td>\n",
       "      <td>2025-09-22 10:50:09+00:00</td>\n",
       "      <td>2025-09-22 10:48:22.313000+00:00</td>\n",
       "      <td>5017.0</td>\n",
       "    </tr>\n",
       "    <tr>\n",
       "      <th>45</th>\n",
       "      <td>307ffaaf2defd7df9a4f72f267526c6d</td>\n",
       "      <td>7</td>\n",
       "      <td>practice</td>\n",
       "      <td>EyeTracker</td>\n",
       "      <td>tracker</td>\n",
       "      <td>Filename</td>\n",
       "      <td>httpsfarmpcibexnetrDigcCS/05d1b997-cbb5-be10-8...</td>\n",
       "      <td>Maris444</td>\n",
       "      <td>c</td>\n",
       "      <td>991</td>\n",
       "      <td>901</td>\n",
       "      <td></td>\n",
       "      <td>practice</td>\n",
       "      <td>y</td>\n",
       "      <td>D</td>\n",
       "      <td>C</td>\n",
       "      <td>C</td>\n",
       "      <td>2025-09-22 10:50:09+00:00</td>\n",
       "      <td>2025-09-22 10:48:34.021000+00:00</td>\n",
       "      <td>11708.0</td>\n",
       "    </tr>\n",
       "    <tr>\n",
       "      <th>46</th>\n",
       "      <td>307ffaaf2defd7df9a4f72f267526c6d</td>\n",
       "      <td>7</td>\n",
       "      <td>practice</td>\n",
       "      <td>Canvas</td>\n",
       "      <td>right_canvas</td>\n",
       "      <td>Print</td>\n",
       "      <td>NA</td>\n",
       "      <td>Maris444</td>\n",
       "      <td>c</td>\n",
       "      <td>991</td>\n",
       "      <td>901</td>\n",
       "      <td></td>\n",
       "      <td>practice</td>\n",
       "      <td>y</td>\n",
       "      <td>D</td>\n",
       "      <td>C</td>\n",
       "      <td>C</td>\n",
       "      <td>2025-09-22 10:50:09+00:00</td>\n",
       "      <td>2025-09-22 10:48:31.069000+00:00</td>\n",
       "      <td>-2952.0</td>\n",
       "    </tr>\n",
       "    <tr>\n",
       "      <th>47</th>\n",
       "      <td>307ffaaf2defd7df9a4f72f267526c6d</td>\n",
       "      <td>7</td>\n",
       "      <td>practice</td>\n",
       "      <td>Key</td>\n",
       "      <td>r0</td>\n",
       "      <td>PressedKey</td>\n",
       "      <td></td>\n",
       "      <td>Maris444</td>\n",
       "      <td>c</td>\n",
       "      <td>991</td>\n",
       "      <td>901</td>\n",
       "      <td></td>\n",
       "      <td>practice</td>\n",
       "      <td>y</td>\n",
       "      <td>D</td>\n",
       "      <td>C</td>\n",
       "      <td>C</td>\n",
       "      <td>2025-09-22 10:50:09+00:00</td>\n",
       "      <td>2025-09-22 10:48:26.128000+00:00</td>\n",
       "      <td>-4941.0</td>\n",
       "    </tr>\n",
       "    <tr>\n",
       "      <th>48</th>\n",
       "      <td>307ffaaf2defd7df9a4f72f267526c6d</td>\n",
       "      <td>7</td>\n",
       "      <td>practice</td>\n",
       "      <td>Key</td>\n",
       "      <td>r1</td>\n",
       "      <td>PressedKey</td>\n",
       "      <td></td>\n",
       "      <td>Maris444</td>\n",
       "      <td>c</td>\n",
       "      <td>991</td>\n",
       "      <td>901</td>\n",
       "      <td></td>\n",
       "      <td>practice</td>\n",
       "      <td>y</td>\n",
       "      <td>D</td>\n",
       "      <td>C</td>\n",
       "      <td>C</td>\n",
       "      <td>2025-09-22 10:50:09+00:00</td>\n",
       "      <td>2025-09-22 10:48:26.406000+00:00</td>\n",
       "      <td>278.0</td>\n",
       "    </tr>\n",
       "    <tr>\n",
       "      <th>49</th>\n",
       "      <td>307ffaaf2defd7df9a4f72f267526c6d</td>\n",
       "      <td>7</td>\n",
       "      <td>practice</td>\n",
       "      <td>Key</td>\n",
       "      <td>r2</td>\n",
       "      <td>PressedKey</td>\n",
       "      <td></td>\n",
       "      <td>Maris444</td>\n",
       "      <td>c</td>\n",
       "      <td>991</td>\n",
       "      <td>901</td>\n",
       "      <td></td>\n",
       "      <td>practice</td>\n",
       "      <td>y</td>\n",
       "      <td>D</td>\n",
       "      <td>C</td>\n",
       "      <td>C</td>\n",
       "      <td>2025-09-22 10:50:09+00:00</td>\n",
       "      <td>2025-09-22 10:48:26.625000+00:00</td>\n",
       "      <td>219.0</td>\n",
       "    </tr>\n",
       "    <tr>\n",
       "      <th>50</th>\n",
       "      <td>307ffaaf2defd7df9a4f72f267526c6d</td>\n",
       "      <td>7</td>\n",
       "      <td>practice</td>\n",
       "      <td>Key</td>\n",
       "      <td>r3</td>\n",
       "      <td>PressedKey</td>\n",
       "      <td></td>\n",
       "      <td>Maris444</td>\n",
       "      <td>c</td>\n",
       "      <td>991</td>\n",
       "      <td>901</td>\n",
       "      <td></td>\n",
       "      <td>practice</td>\n",
       "      <td>y</td>\n",
       "      <td>D</td>\n",
       "      <td>C</td>\n",
       "      <td>C</td>\n",
       "      <td>2025-09-22 10:50:09+00:00</td>\n",
       "      <td>2025-09-22 10:48:26.837000+00:00</td>\n",
       "      <td>212.0</td>\n",
       "    </tr>\n",
       "    <tr>\n",
       "      <th>51</th>\n",
       "      <td>307ffaaf2defd7df9a4f72f267526c6d</td>\n",
       "      <td>7</td>\n",
       "      <td>practice</td>\n",
       "      <td>Key</td>\n",
       "      <td>r4</td>\n",
       "      <td>PressedKey</td>\n",
       "      <td></td>\n",
       "      <td>Maris444</td>\n",
       "      <td>c</td>\n",
       "      <td>991</td>\n",
       "      <td>901</td>\n",
       "      <td></td>\n",
       "      <td>practice</td>\n",
       "      <td>y</td>\n",
       "      <td>D</td>\n",
       "      <td>C</td>\n",
       "      <td>C</td>\n",
       "      <td>2025-09-22 10:50:09+00:00</td>\n",
       "      <td>2025-09-22 10:48:27.125000+00:00</td>\n",
       "      <td>288.0</td>\n",
       "    </tr>\n",
       "    <tr>\n",
       "      <th>52</th>\n",
       "      <td>307ffaaf2defd7df9a4f72f267526c6d</td>\n",
       "      <td>7</td>\n",
       "      <td>practice</td>\n",
       "      <td>Key</td>\n",
       "      <td>r5</td>\n",
       "      <td>PressedKey</td>\n",
       "      <td></td>\n",
       "      <td>Maris444</td>\n",
       "      <td>c</td>\n",
       "      <td>991</td>\n",
       "      <td>901</td>\n",
       "      <td></td>\n",
       "      <td>practice</td>\n",
       "      <td>y</td>\n",
       "      <td>D</td>\n",
       "      <td>C</td>\n",
       "      <td>C</td>\n",
       "      <td>2025-09-22 10:50:09+00:00</td>\n",
       "      <td>2025-09-22 10:48:27.371000+00:00</td>\n",
       "      <td>246.0</td>\n",
       "    </tr>\n",
       "    <tr>\n",
       "      <th>53</th>\n",
       "      <td>307ffaaf2defd7df9a4f72f267526c6d</td>\n",
       "      <td>7</td>\n",
       "      <td>practice</td>\n",
       "      <td>Key</td>\n",
       "      <td>r6</td>\n",
       "      <td>PressedKey</td>\n",
       "      <td></td>\n",
       "      <td>Maris444</td>\n",
       "      <td>c</td>\n",
       "      <td>991</td>\n",
       "      <td>901</td>\n",
       "      <td></td>\n",
       "      <td>practice</td>\n",
       "      <td>y</td>\n",
       "      <td>D</td>\n",
       "      <td>C</td>\n",
       "      <td>C</td>\n",
       "      <td>2025-09-22 10:50:09+00:00</td>\n",
       "      <td>2025-09-22 10:48:27.674000+00:00</td>\n",
       "      <td>303.0</td>\n",
       "    </tr>\n",
       "    <tr>\n",
       "      <th>54</th>\n",
       "      <td>307ffaaf2defd7df9a4f72f267526c6d</td>\n",
       "      <td>7</td>\n",
       "      <td>practice</td>\n",
       "      <td>Key</td>\n",
       "      <td>r7</td>\n",
       "      <td>PressedKey</td>\n",
       "      <td></td>\n",
       "      <td>Maris444</td>\n",
       "      <td>c</td>\n",
       "      <td>991</td>\n",
       "      <td>901</td>\n",
       "      <td></td>\n",
       "      <td>practice</td>\n",
       "      <td>y</td>\n",
       "      <td>D</td>\n",
       "      <td>C</td>\n",
       "      <td>C</td>\n",
       "      <td>2025-09-22 10:50:09+00:00</td>\n",
       "      <td>2025-09-22 10:48:28.053000+00:00</td>\n",
       "      <td>379.0</td>\n",
       "    </tr>\n",
       "    <tr>\n",
       "      <th>55</th>\n",
       "      <td>307ffaaf2defd7df9a4f72f267526c6d</td>\n",
       "      <td>7</td>\n",
       "      <td>practice</td>\n",
       "      <td>Selector</td>\n",
       "      <td>choice_selector</td>\n",
       "      <td>Selection</td>\n",
       "      <td>right_canvas</td>\n",
       "      <td>Maris444</td>\n",
       "      <td>c</td>\n",
       "      <td>991</td>\n",
       "      <td>901</td>\n",
       "      <td></td>\n",
       "      <td>practice</td>\n",
       "      <td>y</td>\n",
       "      <td>D</td>\n",
       "      <td>C</td>\n",
       "      <td>C</td>\n",
       "      <td>2025-09-22 10:50:09+00:00</td>\n",
       "      <td>2025-09-22 10:48:34.020000+00:00</td>\n",
       "      <td>5967.0</td>\n",
       "    </tr>\n",
       "    <tr>\n",
       "      <th>60</th>\n",
       "      <td>307ffaaf2defd7df9a4f72f267526c6d</td>\n",
       "      <td>8</td>\n",
       "      <td>practice</td>\n",
       "      <td>EyeTracker</td>\n",
       "      <td>tracker</td>\n",
       "      <td>calibration</td>\n",
       "      <td>75</td>\n",
       "      <td>Maris444</td>\n",
       "      <td>c</td>\n",
       "      <td>992</td>\n",
       "      <td>902</td>\n",
       "      <td></td>\n",
       "      <td>practice</td>\n",
       "      <td>n</td>\n",
       "      <td>E</td>\n",
       "      <td>F</td>\n",
       "      <td>E</td>\n",
       "      <td>2025-09-22 10:50:09+00:00</td>\n",
       "      <td>2025-09-22 10:48:39.045000+00:00</td>\n",
       "      <td>5022.0</td>\n",
       "    </tr>\n",
       "    <tr>\n",
       "      <th>61</th>\n",
       "      <td>307ffaaf2defd7df9a4f72f267526c6d</td>\n",
       "      <td>8</td>\n",
       "      <td>practice</td>\n",
       "      <td>EyeTracker</td>\n",
       "      <td>tracker</td>\n",
       "      <td>Filename</td>\n",
       "      <td>httpsfarmpcibexnetrDigcCS/05d1b997-cbb5-be10-8...</td>\n",
       "      <td>Maris444</td>\n",
       "      <td>c</td>\n",
       "      <td>992</td>\n",
       "      <td>902</td>\n",
       "      <td></td>\n",
       "      <td>practice</td>\n",
       "      <td>n</td>\n",
       "      <td>E</td>\n",
       "      <td>F</td>\n",
       "      <td>E</td>\n",
       "      <td>2025-09-22 10:50:09+00:00</td>\n",
       "      <td>2025-09-22 10:49:00.041000+00:00</td>\n",
       "      <td>20996.0</td>\n",
       "    </tr>\n",
       "    <tr>\n",
       "      <th>62</th>\n",
       "      <td>307ffaaf2defd7df9a4f72f267526c6d</td>\n",
       "      <td>8</td>\n",
       "      <td>practice</td>\n",
       "      <td>Canvas</td>\n",
       "      <td>right_canvas</td>\n",
       "      <td>Print</td>\n",
       "      <td>NA</td>\n",
       "      <td>Maris444</td>\n",
       "      <td>c</td>\n",
       "      <td>992</td>\n",
       "      <td>902</td>\n",
       "      <td></td>\n",
       "      <td>practice</td>\n",
       "      <td>n</td>\n",
       "      <td>E</td>\n",
       "      <td>F</td>\n",
       "      <td>E</td>\n",
       "      <td>2025-09-22 10:50:09+00:00</td>\n",
       "      <td>2025-09-22 10:48:55.847000+00:00</td>\n",
       "      <td>-4194.0</td>\n",
       "    </tr>\n",
       "    <tr>\n",
       "      <th>63</th>\n",
       "      <td>307ffaaf2defd7df9a4f72f267526c6d</td>\n",
       "      <td>8</td>\n",
       "      <td>practice</td>\n",
       "      <td>Key</td>\n",
       "      <td>r0</td>\n",
       "      <td>PressedKey</td>\n",
       "      <td></td>\n",
       "      <td>Maris444</td>\n",
       "      <td>c</td>\n",
       "      <td>992</td>\n",
       "      <td>902</td>\n",
       "      <td></td>\n",
       "      <td>practice</td>\n",
       "      <td>n</td>\n",
       "      <td>E</td>\n",
       "      <td>F</td>\n",
       "      <td>E</td>\n",
       "      <td>2025-09-22 10:50:09+00:00</td>\n",
       "      <td>2025-09-22 10:48:45.630000+00:00</td>\n",
       "      <td>-10217.0</td>\n",
       "    </tr>\n",
       "    <tr>\n",
       "      <th>64</th>\n",
       "      <td>307ffaaf2defd7df9a4f72f267526c6d</td>\n",
       "      <td>8</td>\n",
       "      <td>practice</td>\n",
       "      <td>Key</td>\n",
       "      <td>r1</td>\n",
       "      <td>PressedKey</td>\n",
       "      <td></td>\n",
       "      <td>Maris444</td>\n",
       "      <td>c</td>\n",
       "      <td>992</td>\n",
       "      <td>902</td>\n",
       "      <td></td>\n",
       "      <td>practice</td>\n",
       "      <td>n</td>\n",
       "      <td>E</td>\n",
       "      <td>F</td>\n",
       "      <td>E</td>\n",
       "      <td>2025-09-22 10:50:09+00:00</td>\n",
       "      <td>2025-09-22 10:48:46.508000+00:00</td>\n",
       "      <td>878.0</td>\n",
       "    </tr>\n",
       "    <tr>\n",
       "      <th>65</th>\n",
       "      <td>307ffaaf2defd7df9a4f72f267526c6d</td>\n",
       "      <td>8</td>\n",
       "      <td>practice</td>\n",
       "      <td>Key</td>\n",
       "      <td>r2</td>\n",
       "      <td>PressedKey</td>\n",
       "      <td></td>\n",
       "      <td>Maris444</td>\n",
       "      <td>c</td>\n",
       "      <td>992</td>\n",
       "      <td>902</td>\n",
       "      <td></td>\n",
       "      <td>practice</td>\n",
       "      <td>n</td>\n",
       "      <td>E</td>\n",
       "      <td>F</td>\n",
       "      <td>E</td>\n",
       "      <td>2025-09-22 10:50:09+00:00</td>\n",
       "      <td>2025-09-22 10:48:46.895000+00:00</td>\n",
       "      <td>387.0</td>\n",
       "    </tr>\n",
       "    <tr>\n",
       "      <th>66</th>\n",
       "      <td>307ffaaf2defd7df9a4f72f267526c6d</td>\n",
       "      <td>8</td>\n",
       "      <td>practice</td>\n",
       "      <td>Key</td>\n",
       "      <td>r3</td>\n",
       "      <td>PressedKey</td>\n",
       "      <td></td>\n",
       "      <td>Maris444</td>\n",
       "      <td>c</td>\n",
       "      <td>992</td>\n",
       "      <td>902</td>\n",
       "      <td></td>\n",
       "      <td>practice</td>\n",
       "      <td>n</td>\n",
       "      <td>E</td>\n",
       "      <td>F</td>\n",
       "      <td>E</td>\n",
       "      <td>2025-09-22 10:50:09+00:00</td>\n",
       "      <td>2025-09-22 10:48:47.150000+00:00</td>\n",
       "      <td>255.0</td>\n",
       "    </tr>\n",
       "    <tr>\n",
       "      <th>67</th>\n",
       "      <td>307ffaaf2defd7df9a4f72f267526c6d</td>\n",
       "      <td>8</td>\n",
       "      <td>practice</td>\n",
       "      <td>Key</td>\n",
       "      <td>r4</td>\n",
       "      <td>PressedKey</td>\n",
       "      <td></td>\n",
       "      <td>Maris444</td>\n",
       "      <td>c</td>\n",
       "      <td>992</td>\n",
       "      <td>902</td>\n",
       "      <td></td>\n",
       "      <td>practice</td>\n",
       "      <td>n</td>\n",
       "      <td>E</td>\n",
       "      <td>F</td>\n",
       "      <td>E</td>\n",
       "      <td>2025-09-22 10:50:09+00:00</td>\n",
       "      <td>2025-09-22 10:48:47.498000+00:00</td>\n",
       "      <td>348.0</td>\n",
       "    </tr>\n",
       "    <tr>\n",
       "      <th>68</th>\n",
       "      <td>307ffaaf2defd7df9a4f72f267526c6d</td>\n",
       "      <td>8</td>\n",
       "      <td>practice</td>\n",
       "      <td>Key</td>\n",
       "      <td>r5</td>\n",
       "      <td>PressedKey</td>\n",
       "      <td></td>\n",
       "      <td>Maris444</td>\n",
       "      <td>c</td>\n",
       "      <td>992</td>\n",
       "      <td>902</td>\n",
       "      <td></td>\n",
       "      <td>practice</td>\n",
       "      <td>n</td>\n",
       "      <td>E</td>\n",
       "      <td>F</td>\n",
       "      <td>E</td>\n",
       "      <td>2025-09-22 10:50:09+00:00</td>\n",
       "      <td>2025-09-22 10:48:48.084000+00:00</td>\n",
       "      <td>586.0</td>\n",
       "    </tr>\n",
       "    <tr>\n",
       "      <th>69</th>\n",
       "      <td>307ffaaf2defd7df9a4f72f267526c6d</td>\n",
       "      <td>8</td>\n",
       "      <td>practice</td>\n",
       "      <td>Key</td>\n",
       "      <td>r6</td>\n",
       "      <td>PressedKey</td>\n",
       "      <td></td>\n",
       "      <td>Maris444</td>\n",
       "      <td>c</td>\n",
       "      <td>992</td>\n",
       "      <td>902</td>\n",
       "      <td></td>\n",
       "      <td>practice</td>\n",
       "      <td>n</td>\n",
       "      <td>E</td>\n",
       "      <td>F</td>\n",
       "      <td>E</td>\n",
       "      <td>2025-09-22 10:50:09+00:00</td>\n",
       "      <td>2025-09-22 10:48:48.414000+00:00</td>\n",
       "      <td>330.0</td>\n",
       "    </tr>\n",
       "    <tr>\n",
       "      <th>70</th>\n",
       "      <td>307ffaaf2defd7df9a4f72f267526c6d</td>\n",
       "      <td>8</td>\n",
       "      <td>practice</td>\n",
       "      <td>Key</td>\n",
       "      <td>r7</td>\n",
       "      <td>PressedKey</td>\n",
       "      <td></td>\n",
       "      <td>Maris444</td>\n",
       "      <td>c</td>\n",
       "      <td>992</td>\n",
       "      <td>902</td>\n",
       "      <td></td>\n",
       "      <td>practice</td>\n",
       "      <td>n</td>\n",
       "      <td>E</td>\n",
       "      <td>F</td>\n",
       "      <td>E</td>\n",
       "      <td>2025-09-22 10:50:09+00:00</td>\n",
       "      <td>2025-09-22 10:48:48.759000+00:00</td>\n",
       "      <td>345.0</td>\n",
       "    </tr>\n",
       "    <tr>\n",
       "      <th>71</th>\n",
       "      <td>307ffaaf2defd7df9a4f72f267526c6d</td>\n",
       "      <td>8</td>\n",
       "      <td>practice</td>\n",
       "      <td>Key</td>\n",
       "      <td>question</td>\n",
       "      <td>PressedKey</td>\n",
       "      <td></td>\n",
       "      <td>Maris444</td>\n",
       "      <td>c</td>\n",
       "      <td>992</td>\n",
       "      <td>902</td>\n",
       "      <td></td>\n",
       "      <td>practice</td>\n",
       "      <td>n</td>\n",
       "      <td>E</td>\n",
       "      <td>F</td>\n",
       "      <td>E</td>\n",
       "      <td>2025-09-22 10:50:09+00:00</td>\n",
       "      <td>2025-09-22 10:48:52.833000+00:00</td>\n",
       "      <td>4074.0</td>\n",
       "    </tr>\n",
       "    <tr>\n",
       "      <th>72</th>\n",
       "      <td>307ffaaf2defd7df9a4f72f267526c6d</td>\n",
       "      <td>8</td>\n",
       "      <td>practice</td>\n",
       "      <td>Selector</td>\n",
       "      <td>choice_selector</td>\n",
       "      <td>Selection</td>\n",
       "      <td>right_canvas</td>\n",
       "      <td>Maris444</td>\n",
       "      <td>c</td>\n",
       "      <td>992</td>\n",
       "      <td>902</td>\n",
       "      <td></td>\n",
       "      <td>practice</td>\n",
       "      <td>n</td>\n",
       "      <td>E</td>\n",
       "      <td>F</td>\n",
       "      <td>E</td>\n",
       "      <td>2025-09-22 10:50:09+00:00</td>\n",
       "      <td>2025-09-22 10:49:00.038000+00:00</td>\n",
       "      <td>7205.0</td>\n",
       "    </tr>\n",
       "    <tr>\n",
       "      <th>81</th>\n",
       "      <td>307ffaaf2defd7df9a4f72f267526c6d</td>\n",
       "      <td>10</td>\n",
       "      <td>experiment</td>\n",
       "      <td>EyeTracker</td>\n",
       "      <td>tracker</td>\n",
       "      <td>calibration</td>\n",
       "      <td>78</td>\n",
       "      <td>Maris444</td>\n",
       "      <td>c</td>\n",
       "      <td>34</td>\n",
       "      <td>12</td>\n",
       "      <td>1</td>\n",
       "      <td>exclusive</td>\n",
       "      <td>y</td>\n",
       "      <td>12b</td>\n",
       "      <td>12a</td>\n",
       "      <td>12a</td>\n",
       "      <td>2025-09-22 10:50:09+00:00</td>\n",
       "      <td>2025-09-22 10:49:05.758000+00:00</td>\n",
       "      <td>4021.0</td>\n",
       "    </tr>\n",
       "    <tr>\n",
       "      <th>82</th>\n",
       "      <td>307ffaaf2defd7df9a4f72f267526c6d</td>\n",
       "      <td>10</td>\n",
       "      <td>experiment</td>\n",
       "      <td>EyeTracker</td>\n",
       "      <td>tracker</td>\n",
       "      <td>Filename</td>\n",
       "      <td>httpsfarmpcibexnetrDigcCS/05d1b997-cbb5-be10-8...</td>\n",
       "      <td>Maris444</td>\n",
       "      <td>c</td>\n",
       "      <td>34</td>\n",
       "      <td>12</td>\n",
       "      <td>1</td>\n",
       "      <td>exclusive</td>\n",
       "      <td>y</td>\n",
       "      <td>12b</td>\n",
       "      <td>12a</td>\n",
       "      <td>12a</td>\n",
       "      <td>2025-09-22 10:50:09+00:00</td>\n",
       "      <td>2025-09-22 10:49:16.570000+00:00</td>\n",
       "      <td>10812.0</td>\n",
       "    </tr>\n",
       "    <tr>\n",
       "      <th>83</th>\n",
       "      <td>307ffaaf2defd7df9a4f72f267526c6d</td>\n",
       "      <td>10</td>\n",
       "      <td>experiment</td>\n",
       "      <td>Canvas</td>\n",
       "      <td>right_canvas</td>\n",
       "      <td>Print</td>\n",
       "      <td>NA</td>\n",
       "      <td>Maris444</td>\n",
       "      <td>c</td>\n",
       "      <td>34</td>\n",
       "      <td>12</td>\n",
       "      <td>1</td>\n",
       "      <td>exclusive</td>\n",
       "      <td>y</td>\n",
       "      <td>12b</td>\n",
       "      <td>12a</td>\n",
       "      <td>12a</td>\n",
       "      <td>2025-09-22 10:50:09+00:00</td>\n",
       "      <td>2025-09-22 10:49:15.722000+00:00</td>\n",
       "      <td>-848.0</td>\n",
       "    </tr>\n",
       "    <tr>\n",
       "      <th>84</th>\n",
       "      <td>307ffaaf2defd7df9a4f72f267526c6d</td>\n",
       "      <td>10</td>\n",
       "      <td>experiment</td>\n",
       "      <td>Key</td>\n",
       "      <td>r0</td>\n",
       "      <td>PressedKey</td>\n",
       "      <td></td>\n",
       "      <td>Maris444</td>\n",
       "      <td>c</td>\n",
       "      <td>34</td>\n",
       "      <td>12</td>\n",
       "      <td>1</td>\n",
       "      <td>exclusive</td>\n",
       "      <td>y</td>\n",
       "      <td>12b</td>\n",
       "      <td>12a</td>\n",
       "      <td>12a</td>\n",
       "      <td>2025-09-22 10:50:09+00:00</td>\n",
       "      <td>2025-09-22 10:49:11.016000+00:00</td>\n",
       "      <td>-4706.0</td>\n",
       "    </tr>\n",
       "    <tr>\n",
       "      <th>85</th>\n",
       "      <td>307ffaaf2defd7df9a4f72f267526c6d</td>\n",
       "      <td>10</td>\n",
       "      <td>experiment</td>\n",
       "      <td>Key</td>\n",
       "      <td>r1</td>\n",
       "      <td>PressedKey</td>\n",
       "      <td></td>\n",
       "      <td>Maris444</td>\n",
       "      <td>c</td>\n",
       "      <td>34</td>\n",
       "      <td>12</td>\n",
       "      <td>1</td>\n",
       "      <td>exclusive</td>\n",
       "      <td>y</td>\n",
       "      <td>12b</td>\n",
       "      <td>12a</td>\n",
       "      <td>12a</td>\n",
       "      <td>2025-09-22 10:50:09+00:00</td>\n",
       "      <td>2025-09-22 10:49:11.282000+00:00</td>\n",
       "      <td>266.0</td>\n",
       "    </tr>\n",
       "    <tr>\n",
       "      <th>86</th>\n",
       "      <td>307ffaaf2defd7df9a4f72f267526c6d</td>\n",
       "      <td>10</td>\n",
       "      <td>experiment</td>\n",
       "      <td>Key</td>\n",
       "      <td>r2</td>\n",
       "      <td>PressedKey</td>\n",
       "      <td></td>\n",
       "      <td>Maris444</td>\n",
       "      <td>c</td>\n",
       "      <td>34</td>\n",
       "      <td>12</td>\n",
       "      <td>1</td>\n",
       "      <td>exclusive</td>\n",
       "      <td>y</td>\n",
       "      <td>12b</td>\n",
       "      <td>12a</td>\n",
       "      <td>12a</td>\n",
       "      <td>2025-09-22 10:50:09+00:00</td>\n",
       "      <td>2025-09-22 10:49:11.517000+00:00</td>\n",
       "      <td>235.0</td>\n",
       "    </tr>\n",
       "    <tr>\n",
       "      <th>87</th>\n",
       "      <td>307ffaaf2defd7df9a4f72f267526c6d</td>\n",
       "      <td>10</td>\n",
       "      <td>experiment</td>\n",
       "      <td>Key</td>\n",
       "      <td>r3</td>\n",
       "      <td>PressedKey</td>\n",
       "      <td></td>\n",
       "      <td>Maris444</td>\n",
       "      <td>c</td>\n",
       "      <td>34</td>\n",
       "      <td>12</td>\n",
       "      <td>1</td>\n",
       "      <td>exclusive</td>\n",
       "      <td>y</td>\n",
       "      <td>12b</td>\n",
       "      <td>12a</td>\n",
       "      <td>12a</td>\n",
       "      <td>2025-09-22 10:50:09+00:00</td>\n",
       "      <td>2025-09-22 10:49:11.756000+00:00</td>\n",
       "      <td>239.0</td>\n",
       "    </tr>\n",
       "    <tr>\n",
       "      <th>88</th>\n",
       "      <td>307ffaaf2defd7df9a4f72f267526c6d</td>\n",
       "      <td>10</td>\n",
       "      <td>experiment</td>\n",
       "      <td>Key</td>\n",
       "      <td>r4</td>\n",
       "      <td>PressedKey</td>\n",
       "      <td></td>\n",
       "      <td>Maris444</td>\n",
       "      <td>c</td>\n",
       "      <td>34</td>\n",
       "      <td>12</td>\n",
       "      <td>1</td>\n",
       "      <td>exclusive</td>\n",
       "      <td>y</td>\n",
       "      <td>12b</td>\n",
       "      <td>12a</td>\n",
       "      <td>12a</td>\n",
       "      <td>2025-09-22 10:50:09+00:00</td>\n",
       "      <td>2025-09-22 10:49:11.990000+00:00</td>\n",
       "      <td>234.0</td>\n",
       "    </tr>\n",
       "    <tr>\n",
       "      <th>89</th>\n",
       "      <td>307ffaaf2defd7df9a4f72f267526c6d</td>\n",
       "      <td>10</td>\n",
       "      <td>experiment</td>\n",
       "      <td>Key</td>\n",
       "      <td>r5</td>\n",
       "      <td>PressedKey</td>\n",
       "      <td></td>\n",
       "      <td>Maris444</td>\n",
       "      <td>c</td>\n",
       "      <td>34</td>\n",
       "      <td>12</td>\n",
       "      <td>1</td>\n",
       "      <td>exclusive</td>\n",
       "      <td>y</td>\n",
       "      <td>12b</td>\n",
       "      <td>12a</td>\n",
       "      <td>12a</td>\n",
       "      <td>2025-09-22 10:50:09+00:00</td>\n",
       "      <td>2025-09-22 10:49:12.222000+00:00</td>\n",
       "      <td>232.0</td>\n",
       "    </tr>\n",
       "    <tr>\n",
       "      <th>90</th>\n",
       "      <td>307ffaaf2defd7df9a4f72f267526c6d</td>\n",
       "      <td>10</td>\n",
       "      <td>experiment</td>\n",
       "      <td>Key</td>\n",
       "      <td>r6</td>\n",
       "      <td>PressedKey</td>\n",
       "      <td></td>\n",
       "      <td>Maris444</td>\n",
       "      <td>c</td>\n",
       "      <td>34</td>\n",
       "      <td>12</td>\n",
       "      <td>1</td>\n",
       "      <td>exclusive</td>\n",
       "      <td>y</td>\n",
       "      <td>12b</td>\n",
       "      <td>12a</td>\n",
       "      <td>12a</td>\n",
       "      <td>2025-09-22 10:50:09+00:00</td>\n",
       "      <td>2025-09-22 10:49:12.442000+00:00</td>\n",
       "      <td>220.0</td>\n",
       "    </tr>\n",
       "    <tr>\n",
       "      <th>91</th>\n",
       "      <td>307ffaaf2defd7df9a4f72f267526c6d</td>\n",
       "      <td>10</td>\n",
       "      <td>experiment</td>\n",
       "      <td>Key</td>\n",
       "      <td>r7</td>\n",
       "      <td>PressedKey</td>\n",
       "      <td></td>\n",
       "      <td>Maris444</td>\n",
       "      <td>c</td>\n",
       "      <td>34</td>\n",
       "      <td>12</td>\n",
       "      <td>1</td>\n",
       "      <td>exclusive</td>\n",
       "      <td>y</td>\n",
       "      <td>12b</td>\n",
       "      <td>12a</td>\n",
       "      <td>12a</td>\n",
       "      <td>2025-09-22 10:50:09+00:00</td>\n",
       "      <td>2025-09-22 10:49:12.716000+00:00</td>\n",
       "      <td>274.0</td>\n",
       "    </tr>\n",
       "    <tr>\n",
       "      <th>92</th>\n",
       "      <td>307ffaaf2defd7df9a4f72f267526c6d</td>\n",
       "      <td>10</td>\n",
       "      <td>experiment</td>\n",
       "      <td>Selector</td>\n",
       "      <td>choice_selector</td>\n",
       "      <td>Selection</td>\n",
       "      <td>right_canvas</td>\n",
       "      <td>Maris444</td>\n",
       "      <td>c</td>\n",
       "      <td>34</td>\n",
       "      <td>12</td>\n",
       "      <td>1</td>\n",
       "      <td>exclusive</td>\n",
       "      <td>y</td>\n",
       "      <td>12b</td>\n",
       "      <td>12a</td>\n",
       "      <td>12a</td>\n",
       "      <td>2025-09-22 10:50:09+00:00</td>\n",
       "      <td>2025-09-22 10:49:16.570000+00:00</td>\n",
       "      <td>3854.0</td>\n",
       "    </tr>\n",
       "    <tr>\n",
       "      <th>97</th>\n",
       "      <td>307ffaaf2defd7df9a4f72f267526c6d</td>\n",
       "      <td>11</td>\n",
       "      <td>experiment</td>\n",
       "      <td>EyeTracker</td>\n",
       "      <td>tracker</td>\n",
       "      <td>calibration</td>\n",
       "      <td>57</td>\n",
       "      <td>Maris444</td>\n",
       "      <td>c</td>\n",
       "      <td>66</td>\n",
       "      <td>21</td>\n",
       "      <td>2</td>\n",
       "      <td>other-directed-x</td>\n",
       "      <td>y</td>\n",
       "      <td>tűzoltó</td>\n",
       "      <td>orvos</td>\n",
       "      <td>orvos</td>\n",
       "      <td>2025-09-22 10:50:09+00:00</td>\n",
       "      <td>2025-09-22 10:49:20.593000+00:00</td>\n",
       "      <td>4021.0</td>\n",
       "    </tr>\n",
       "    <tr>\n",
       "      <th>98</th>\n",
       "      <td>307ffaaf2defd7df9a4f72f267526c6d</td>\n",
       "      <td>11</td>\n",
       "      <td>experiment</td>\n",
       "      <td>EyeTracker</td>\n",
       "      <td>tracker</td>\n",
       "      <td>calibration</td>\n",
       "      <td>61</td>\n",
       "      <td>Maris444</td>\n",
       "      <td>c</td>\n",
       "      <td>66</td>\n",
       "      <td>21</td>\n",
       "      <td>2</td>\n",
       "      <td>other-directed-x</td>\n",
       "      <td>y</td>\n",
       "      <td>tűzoltó</td>\n",
       "      <td>orvos</td>\n",
       "      <td>orvos</td>\n",
       "      <td>2025-09-22 10:50:09+00:00</td>\n",
       "      <td>2025-09-22 10:49:57.698000+00:00</td>\n",
       "      <td>37105.0</td>\n",
       "    </tr>\n",
       "    <tr>\n",
       "      <th>99</th>\n",
       "      <td>307ffaaf2defd7df9a4f72f267526c6d</td>\n",
       "      <td>11</td>\n",
       "      <td>experiment</td>\n",
       "      <td>EyeTracker</td>\n",
       "      <td>tracker</td>\n",
       "      <td>Filename</td>\n",
       "      <td>httpsfarmpcibexnetrDigcCS/05d1b997-cbb5-be10-8...</td>\n",
       "      <td>Maris444</td>\n",
       "      <td>c</td>\n",
       "      <td>66</td>\n",
       "      <td>21</td>\n",
       "      <td>2</td>\n",
       "      <td>other-directed-x</td>\n",
       "      <td>y</td>\n",
       "      <td>tűzoltó</td>\n",
       "      <td>orvos</td>\n",
       "      <td>orvos</td>\n",
       "      <td>2025-09-22 10:50:09+00:00</td>\n",
       "      <td>2025-09-22 10:50:09.598000+00:00</td>\n",
       "      <td>11900.0</td>\n",
       "    </tr>\n",
       "    <tr>\n",
       "      <th>100</th>\n",
       "      <td>307ffaaf2defd7df9a4f72f267526c6d</td>\n",
       "      <td>11</td>\n",
       "      <td>experiment</td>\n",
       "      <td>Canvas</td>\n",
       "      <td>right_canvas</td>\n",
       "      <td>Print</td>\n",
       "      <td>NA</td>\n",
       "      <td>Maris444</td>\n",
       "      <td>c</td>\n",
       "      <td>66</td>\n",
       "      <td>21</td>\n",
       "      <td>2</td>\n",
       "      <td>other-directed-x</td>\n",
       "      <td>y</td>\n",
       "      <td>tűzoltó</td>\n",
       "      <td>orvos</td>\n",
       "      <td>orvos</td>\n",
       "      <td>2025-09-22 10:50:09+00:00</td>\n",
       "      <td>2025-09-22 10:50:08.409000+00:00</td>\n",
       "      <td>-1189.0</td>\n",
       "    </tr>\n",
       "    <tr>\n",
       "      <th>101</th>\n",
       "      <td>307ffaaf2defd7df9a4f72f267526c6d</td>\n",
       "      <td>11</td>\n",
       "      <td>experiment</td>\n",
       "      <td>Key</td>\n",
       "      <td>r0</td>\n",
       "      <td>PressedKey</td>\n",
       "      <td></td>\n",
       "      <td>Maris444</td>\n",
       "      <td>c</td>\n",
       "      <td>66</td>\n",
       "      <td>21</td>\n",
       "      <td>2</td>\n",
       "      <td>other-directed-x</td>\n",
       "      <td>y</td>\n",
       "      <td>tűzoltó</td>\n",
       "      <td>orvos</td>\n",
       "      <td>orvos</td>\n",
       "      <td>2025-09-22 10:50:09+00:00</td>\n",
       "      <td>2025-09-22 10:50:03.020000+00:00</td>\n",
       "      <td>-5389.0</td>\n",
       "    </tr>\n",
       "    <tr>\n",
       "      <th>102</th>\n",
       "      <td>307ffaaf2defd7df9a4f72f267526c6d</td>\n",
       "      <td>11</td>\n",
       "      <td>experiment</td>\n",
       "      <td>Key</td>\n",
       "      <td>r1</td>\n",
       "      <td>PressedKey</td>\n",
       "      <td></td>\n",
       "      <td>Maris444</td>\n",
       "      <td>c</td>\n",
       "      <td>66</td>\n",
       "      <td>21</td>\n",
       "      <td>2</td>\n",
       "      <td>other-directed-x</td>\n",
       "      <td>y</td>\n",
       "      <td>tűzoltó</td>\n",
       "      <td>orvos</td>\n",
       "      <td>orvos</td>\n",
       "      <td>2025-09-22 10:50:09+00:00</td>\n",
       "      <td>2025-09-22 10:50:03.533000+00:00</td>\n",
       "      <td>513.0</td>\n",
       "    </tr>\n",
       "    <tr>\n",
       "      <th>103</th>\n",
       "      <td>307ffaaf2defd7df9a4f72f267526c6d</td>\n",
       "      <td>11</td>\n",
       "      <td>experiment</td>\n",
       "      <td>Key</td>\n",
       "      <td>r2</td>\n",
       "      <td>PressedKey</td>\n",
       "      <td></td>\n",
       "      <td>Maris444</td>\n",
       "      <td>c</td>\n",
       "      <td>66</td>\n",
       "      <td>21</td>\n",
       "      <td>2</td>\n",
       "      <td>other-directed-x</td>\n",
       "      <td>y</td>\n",
       "      <td>tűzoltó</td>\n",
       "      <td>orvos</td>\n",
       "      <td>orvos</td>\n",
       "      <td>2025-09-22 10:50:09+00:00</td>\n",
       "      <td>2025-09-22 10:50:03.852000+00:00</td>\n",
       "      <td>319.0</td>\n",
       "    </tr>\n",
       "    <tr>\n",
       "      <th>104</th>\n",
       "      <td>307ffaaf2defd7df9a4f72f267526c6d</td>\n",
       "      <td>11</td>\n",
       "      <td>experiment</td>\n",
       "      <td>Key</td>\n",
       "      <td>r3</td>\n",
       "      <td>PressedKey</td>\n",
       "      <td></td>\n",
       "      <td>Maris444</td>\n",
       "      <td>c</td>\n",
       "      <td>66</td>\n",
       "      <td>21</td>\n",
       "      <td>2</td>\n",
       "      <td>other-directed-x</td>\n",
       "      <td>y</td>\n",
       "      <td>tűzoltó</td>\n",
       "      <td>orvos</td>\n",
       "      <td>orvos</td>\n",
       "      <td>2025-09-22 10:50:09+00:00</td>\n",
       "      <td>2025-09-22 10:50:04.068000+00:00</td>\n",
       "      <td>216.0</td>\n",
       "    </tr>\n",
       "    <tr>\n",
       "      <th>105</th>\n",
       "      <td>307ffaaf2defd7df9a4f72f267526c6d</td>\n",
       "      <td>11</td>\n",
       "      <td>experiment</td>\n",
       "      <td>Key</td>\n",
       "      <td>r4</td>\n",
       "      <td>PressedKey</td>\n",
       "      <td></td>\n",
       "      <td>Maris444</td>\n",
       "      <td>c</td>\n",
       "      <td>66</td>\n",
       "      <td>21</td>\n",
       "      <td>2</td>\n",
       "      <td>other-directed-x</td>\n",
       "      <td>y</td>\n",
       "      <td>tűzoltó</td>\n",
       "      <td>orvos</td>\n",
       "      <td>orvos</td>\n",
       "      <td>2025-09-22 10:50:09+00:00</td>\n",
       "      <td>2025-09-22 10:50:04.275000+00:00</td>\n",
       "      <td>207.0</td>\n",
       "    </tr>\n",
       "    <tr>\n",
       "      <th>106</th>\n",
       "      <td>307ffaaf2defd7df9a4f72f267526c6d</td>\n",
       "      <td>11</td>\n",
       "      <td>experiment</td>\n",
       "      <td>Key</td>\n",
       "      <td>r5</td>\n",
       "      <td>PressedKey</td>\n",
       "      <td></td>\n",
       "      <td>Maris444</td>\n",
       "      <td>c</td>\n",
       "      <td>66</td>\n",
       "      <td>21</td>\n",
       "      <td>2</td>\n",
       "      <td>other-directed-x</td>\n",
       "      <td>y</td>\n",
       "      <td>tűzoltó</td>\n",
       "      <td>orvos</td>\n",
       "      <td>orvos</td>\n",
       "      <td>2025-09-22 10:50:09+00:00</td>\n",
       "      <td>2025-09-22 10:50:04.479000+00:00</td>\n",
       "      <td>204.0</td>\n",
       "    </tr>\n",
       "    <tr>\n",
       "      <th>107</th>\n",
       "      <td>307ffaaf2defd7df9a4f72f267526c6d</td>\n",
       "      <td>11</td>\n",
       "      <td>experiment</td>\n",
       "      <td>Key</td>\n",
       "      <td>r7</td>\n",
       "      <td>PressedKey</td>\n",
       "      <td></td>\n",
       "      <td>Maris444</td>\n",
       "      <td>c</td>\n",
       "      <td>66</td>\n",
       "      <td>21</td>\n",
       "      <td>2</td>\n",
       "      <td>other-directed-x</td>\n",
       "      <td>y</td>\n",
       "      <td>tűzoltó</td>\n",
       "      <td>orvos</td>\n",
       "      <td>orvos</td>\n",
       "      <td>2025-09-22 10:50:09+00:00</td>\n",
       "      <td>2025-09-22 10:50:04.769000+00:00</td>\n",
       "      <td>290.0</td>\n",
       "    </tr>\n",
       "    <tr>\n",
       "      <th>108</th>\n",
       "      <td>307ffaaf2defd7df9a4f72f267526c6d</td>\n",
       "      <td>11</td>\n",
       "      <td>experiment</td>\n",
       "      <td>Key</td>\n",
       "      <td>question</td>\n",
       "      <td>PressedKey</td>\n",
       "      <td></td>\n",
       "      <td>Maris444</td>\n",
       "      <td>c</td>\n",
       "      <td>66</td>\n",
       "      <td>21</td>\n",
       "      <td>2</td>\n",
       "      <td>other-directed-x</td>\n",
       "      <td>y</td>\n",
       "      <td>tűzoltó</td>\n",
       "      <td>orvos</td>\n",
       "      <td>orvos</td>\n",
       "      <td>2025-09-22 10:50:09+00:00</td>\n",
       "      <td>2025-09-22 10:50:06.384000+00:00</td>\n",
       "      <td>1615.0</td>\n",
       "    </tr>\n",
       "    <tr>\n",
       "      <th>109</th>\n",
       "      <td>307ffaaf2defd7df9a4f72f267526c6d</td>\n",
       "      <td>11</td>\n",
       "      <td>experiment</td>\n",
       "      <td>Selector</td>\n",
       "      <td>choice_selector</td>\n",
       "      <td>Selection</td>\n",
       "      <td>right_canvas</td>\n",
       "      <td>Maris444</td>\n",
       "      <td>c</td>\n",
       "      <td>66</td>\n",
       "      <td>21</td>\n",
       "      <td>2</td>\n",
       "      <td>other-directed-x</td>\n",
       "      <td>y</td>\n",
       "      <td>tűzoltó</td>\n",
       "      <td>orvos</td>\n",
       "      <td>orvos</td>\n",
       "      <td>2025-09-22 10:50:09+00:00</td>\n",
       "      <td>2025-09-22 10:50:09.597000+00:00</td>\n",
       "      <td>3213.0</td>\n",
       "    </tr>\n",
       "  </tbody>\n",
       "</table>\n",
       "</div>"
      ],
      "text/plain": [
       "                                  MD5  trial       label PennElementType  \\\n",
       "28   307ffaaf2defd7df9a4f72f267526c6d      6    practice      EyeTracker   \n",
       "29   307ffaaf2defd7df9a4f72f267526c6d      6    practice      EyeTracker   \n",
       "30   307ffaaf2defd7df9a4f72f267526c6d      6    practice          Canvas   \n",
       "31   307ffaaf2defd7df9a4f72f267526c6d      6    practice             Key   \n",
       "32   307ffaaf2defd7df9a4f72f267526c6d      6    practice             Key   \n",
       "33   307ffaaf2defd7df9a4f72f267526c6d      6    practice             Key   \n",
       "34   307ffaaf2defd7df9a4f72f267526c6d      6    practice             Key   \n",
       "35   307ffaaf2defd7df9a4f72f267526c6d      6    practice             Key   \n",
       "36   307ffaaf2defd7df9a4f72f267526c6d      6    practice             Key   \n",
       "37   307ffaaf2defd7df9a4f72f267526c6d      6    practice             Key   \n",
       "38   307ffaaf2defd7df9a4f72f267526c6d      6    practice             Key   \n",
       "39   307ffaaf2defd7df9a4f72f267526c6d      6    practice        Selector   \n",
       "44   307ffaaf2defd7df9a4f72f267526c6d      7    practice      EyeTracker   \n",
       "45   307ffaaf2defd7df9a4f72f267526c6d      7    practice      EyeTracker   \n",
       "46   307ffaaf2defd7df9a4f72f267526c6d      7    practice          Canvas   \n",
       "47   307ffaaf2defd7df9a4f72f267526c6d      7    practice             Key   \n",
       "48   307ffaaf2defd7df9a4f72f267526c6d      7    practice             Key   \n",
       "49   307ffaaf2defd7df9a4f72f267526c6d      7    practice             Key   \n",
       "50   307ffaaf2defd7df9a4f72f267526c6d      7    practice             Key   \n",
       "51   307ffaaf2defd7df9a4f72f267526c6d      7    practice             Key   \n",
       "52   307ffaaf2defd7df9a4f72f267526c6d      7    practice             Key   \n",
       "53   307ffaaf2defd7df9a4f72f267526c6d      7    practice             Key   \n",
       "54   307ffaaf2defd7df9a4f72f267526c6d      7    practice             Key   \n",
       "55   307ffaaf2defd7df9a4f72f267526c6d      7    practice        Selector   \n",
       "60   307ffaaf2defd7df9a4f72f267526c6d      8    practice      EyeTracker   \n",
       "61   307ffaaf2defd7df9a4f72f267526c6d      8    practice      EyeTracker   \n",
       "62   307ffaaf2defd7df9a4f72f267526c6d      8    practice          Canvas   \n",
       "63   307ffaaf2defd7df9a4f72f267526c6d      8    practice             Key   \n",
       "64   307ffaaf2defd7df9a4f72f267526c6d      8    practice             Key   \n",
       "65   307ffaaf2defd7df9a4f72f267526c6d      8    practice             Key   \n",
       "66   307ffaaf2defd7df9a4f72f267526c6d      8    practice             Key   \n",
       "67   307ffaaf2defd7df9a4f72f267526c6d      8    practice             Key   \n",
       "68   307ffaaf2defd7df9a4f72f267526c6d      8    practice             Key   \n",
       "69   307ffaaf2defd7df9a4f72f267526c6d      8    practice             Key   \n",
       "70   307ffaaf2defd7df9a4f72f267526c6d      8    practice             Key   \n",
       "71   307ffaaf2defd7df9a4f72f267526c6d      8    practice             Key   \n",
       "72   307ffaaf2defd7df9a4f72f267526c6d      8    practice        Selector   \n",
       "81   307ffaaf2defd7df9a4f72f267526c6d     10  experiment      EyeTracker   \n",
       "82   307ffaaf2defd7df9a4f72f267526c6d     10  experiment      EyeTracker   \n",
       "83   307ffaaf2defd7df9a4f72f267526c6d     10  experiment          Canvas   \n",
       "84   307ffaaf2defd7df9a4f72f267526c6d     10  experiment             Key   \n",
       "85   307ffaaf2defd7df9a4f72f267526c6d     10  experiment             Key   \n",
       "86   307ffaaf2defd7df9a4f72f267526c6d     10  experiment             Key   \n",
       "87   307ffaaf2defd7df9a4f72f267526c6d     10  experiment             Key   \n",
       "88   307ffaaf2defd7df9a4f72f267526c6d     10  experiment             Key   \n",
       "89   307ffaaf2defd7df9a4f72f267526c6d     10  experiment             Key   \n",
       "90   307ffaaf2defd7df9a4f72f267526c6d     10  experiment             Key   \n",
       "91   307ffaaf2defd7df9a4f72f267526c6d     10  experiment             Key   \n",
       "92   307ffaaf2defd7df9a4f72f267526c6d     10  experiment        Selector   \n",
       "97   307ffaaf2defd7df9a4f72f267526c6d     11  experiment      EyeTracker   \n",
       "98   307ffaaf2defd7df9a4f72f267526c6d     11  experiment      EyeTracker   \n",
       "99   307ffaaf2defd7df9a4f72f267526c6d     11  experiment      EyeTracker   \n",
       "100  307ffaaf2defd7df9a4f72f267526c6d     11  experiment          Canvas   \n",
       "101  307ffaaf2defd7df9a4f72f267526c6d     11  experiment             Key   \n",
       "102  307ffaaf2defd7df9a4f72f267526c6d     11  experiment             Key   \n",
       "103  307ffaaf2defd7df9a4f72f267526c6d     11  experiment             Key   \n",
       "104  307ffaaf2defd7df9a4f72f267526c6d     11  experiment             Key   \n",
       "105  307ffaaf2defd7df9a4f72f267526c6d     11  experiment             Key   \n",
       "106  307ffaaf2defd7df9a4f72f267526c6d     11  experiment             Key   \n",
       "107  307ffaaf2defd7df9a4f72f267526c6d     11  experiment             Key   \n",
       "108  307ffaaf2defd7df9a4f72f267526c6d     11  experiment             Key   \n",
       "109  307ffaaf2defd7df9a4f72f267526c6d     11  experiment        Selector   \n",
       "\n",
       "     PennElementName    Parameter  \\\n",
       "28           tracker  calibration   \n",
       "29           tracker     Filename   \n",
       "30      right_canvas        Print   \n",
       "31                r0   PressedKey   \n",
       "32                r1   PressedKey   \n",
       "33                r2   PressedKey   \n",
       "34                r3   PressedKey   \n",
       "35                r4   PressedKey   \n",
       "36                r5   PressedKey   \n",
       "37                r6   PressedKey   \n",
       "38                r7   PressedKey   \n",
       "39   choice_selector    Selection   \n",
       "44           tracker  calibration   \n",
       "45           tracker     Filename   \n",
       "46      right_canvas        Print   \n",
       "47                r0   PressedKey   \n",
       "48                r1   PressedKey   \n",
       "49                r2   PressedKey   \n",
       "50                r3   PressedKey   \n",
       "51                r4   PressedKey   \n",
       "52                r5   PressedKey   \n",
       "53                r6   PressedKey   \n",
       "54                r7   PressedKey   \n",
       "55   choice_selector    Selection   \n",
       "60           tracker  calibration   \n",
       "61           tracker     Filename   \n",
       "62      right_canvas        Print   \n",
       "63                r0   PressedKey   \n",
       "64                r1   PressedKey   \n",
       "65                r2   PressedKey   \n",
       "66                r3   PressedKey   \n",
       "67                r4   PressedKey   \n",
       "68                r5   PressedKey   \n",
       "69                r6   PressedKey   \n",
       "70                r7   PressedKey   \n",
       "71          question   PressedKey   \n",
       "72   choice_selector    Selection   \n",
       "81           tracker  calibration   \n",
       "82           tracker     Filename   \n",
       "83      right_canvas        Print   \n",
       "84                r0   PressedKey   \n",
       "85                r1   PressedKey   \n",
       "86                r2   PressedKey   \n",
       "87                r3   PressedKey   \n",
       "88                r4   PressedKey   \n",
       "89                r5   PressedKey   \n",
       "90                r6   PressedKey   \n",
       "91                r7   PressedKey   \n",
       "92   choice_selector    Selection   \n",
       "97           tracker  calibration   \n",
       "98           tracker  calibration   \n",
       "99           tracker     Filename   \n",
       "100     right_canvas        Print   \n",
       "101               r0   PressedKey   \n",
       "102               r1   PressedKey   \n",
       "103               r2   PressedKey   \n",
       "104               r3   PressedKey   \n",
       "105               r4   PressedKey   \n",
       "106               r5   PressedKey   \n",
       "107               r7   PressedKey   \n",
       "108         question   PressedKey   \n",
       "109  choice_selector    Selection   \n",
       "\n",
       "                                                 Value participant_id group  \\\n",
       "28                                                  64       Maris444     c   \n",
       "29   httpsfarmpcibexnetrDigcCS/05d1b997-cbb5-be10-8...       Maris444     c   \n",
       "30                                                  NA       Maris444     c   \n",
       "31                                                           Maris444     c   \n",
       "32                                                           Maris444     c   \n",
       "33                                                           Maris444     c   \n",
       "34                                                           Maris444     c   \n",
       "35                                                           Maris444     c   \n",
       "36                                                           Maris444     c   \n",
       "37                                                           Maris444     c   \n",
       "38                                                           Maris444     c   \n",
       "39                                         left_canvas       Maris444     c   \n",
       "44                                                  73       Maris444     c   \n",
       "45   httpsfarmpcibexnetrDigcCS/05d1b997-cbb5-be10-8...       Maris444     c   \n",
       "46                                                  NA       Maris444     c   \n",
       "47                                                           Maris444     c   \n",
       "48                                                           Maris444     c   \n",
       "49                                                           Maris444     c   \n",
       "50                                                           Maris444     c   \n",
       "51                                                           Maris444     c   \n",
       "52                                                           Maris444     c   \n",
       "53                                                           Maris444     c   \n",
       "54                                                           Maris444     c   \n",
       "55                                        right_canvas       Maris444     c   \n",
       "60                                                  75       Maris444     c   \n",
       "61   httpsfarmpcibexnetrDigcCS/05d1b997-cbb5-be10-8...       Maris444     c   \n",
       "62                                                  NA       Maris444     c   \n",
       "63                                                           Maris444     c   \n",
       "64                                                           Maris444     c   \n",
       "65                                                           Maris444     c   \n",
       "66                                                           Maris444     c   \n",
       "67                                                           Maris444     c   \n",
       "68                                                           Maris444     c   \n",
       "69                                                           Maris444     c   \n",
       "70                                                           Maris444     c   \n",
       "71                                                           Maris444     c   \n",
       "72                                        right_canvas       Maris444     c   \n",
       "81                                                  78       Maris444     c   \n",
       "82   httpsfarmpcibexnetrDigcCS/05d1b997-cbb5-be10-8...       Maris444     c   \n",
       "83                                                  NA       Maris444     c   \n",
       "84                                                           Maris444     c   \n",
       "85                                                           Maris444     c   \n",
       "86                                                           Maris444     c   \n",
       "87                                                           Maris444     c   \n",
       "88                                                           Maris444     c   \n",
       "89                                                           Maris444     c   \n",
       "90                                                           Maris444     c   \n",
       "91                                                           Maris444     c   \n",
       "92                                        right_canvas       Maris444     c   \n",
       "97                                                  57       Maris444     c   \n",
       "98                                                  61       Maris444     c   \n",
       "99   httpsfarmpcibexnetrDigcCS/05d1b997-cbb5-be10-8...       Maris444     c   \n",
       "100                                                 NA       Maris444     c   \n",
       "101                                                          Maris444     c   \n",
       "102                                                          Maris444     c   \n",
       "103                                                          Maris444     c   \n",
       "104                                                          Maris444     c   \n",
       "105                                                          Maris444     c   \n",
       "106                                                          Maris444     c   \n",
       "107                                                          Maris444     c   \n",
       "108                                                          Maris444     c   \n",
       "109                                       right_canvas       Maris444     c   \n",
       "\n",
       "      no  item exp         condition cb     left  right target  \\\n",
       "28   990   900              practice  n        A      B      A   \n",
       "29   990   900              practice  n        A      B      A   \n",
       "30   990   900              practice  n        A      B      A   \n",
       "31   990   900              practice  n        A      B      A   \n",
       "32   990   900              practice  n        A      B      A   \n",
       "33   990   900              practice  n        A      B      A   \n",
       "34   990   900              practice  n        A      B      A   \n",
       "35   990   900              practice  n        A      B      A   \n",
       "36   990   900              practice  n        A      B      A   \n",
       "37   990   900              practice  n        A      B      A   \n",
       "38   990   900              practice  n        A      B      A   \n",
       "39   990   900              practice  n        A      B      A   \n",
       "44   991   901              practice  y        D      C      C   \n",
       "45   991   901              practice  y        D      C      C   \n",
       "46   991   901              practice  y        D      C      C   \n",
       "47   991   901              practice  y        D      C      C   \n",
       "48   991   901              practice  y        D      C      C   \n",
       "49   991   901              practice  y        D      C      C   \n",
       "50   991   901              practice  y        D      C      C   \n",
       "51   991   901              practice  y        D      C      C   \n",
       "52   991   901              practice  y        D      C      C   \n",
       "53   991   901              practice  y        D      C      C   \n",
       "54   991   901              practice  y        D      C      C   \n",
       "55   991   901              practice  y        D      C      C   \n",
       "60   992   902              practice  n        E      F      E   \n",
       "61   992   902              practice  n        E      F      E   \n",
       "62   992   902              practice  n        E      F      E   \n",
       "63   992   902              practice  n        E      F      E   \n",
       "64   992   902              practice  n        E      F      E   \n",
       "65   992   902              practice  n        E      F      E   \n",
       "66   992   902              practice  n        E      F      E   \n",
       "67   992   902              practice  n        E      F      E   \n",
       "68   992   902              practice  n        E      F      E   \n",
       "69   992   902              practice  n        E      F      E   \n",
       "70   992   902              practice  n        E      F      E   \n",
       "71   992   902              practice  n        E      F      E   \n",
       "72   992   902              practice  n        E      F      E   \n",
       "81    34    12   1         exclusive  y      12b    12a    12a   \n",
       "82    34    12   1         exclusive  y      12b    12a    12a   \n",
       "83    34    12   1         exclusive  y      12b    12a    12a   \n",
       "84    34    12   1         exclusive  y      12b    12a    12a   \n",
       "85    34    12   1         exclusive  y      12b    12a    12a   \n",
       "86    34    12   1         exclusive  y      12b    12a    12a   \n",
       "87    34    12   1         exclusive  y      12b    12a    12a   \n",
       "88    34    12   1         exclusive  y      12b    12a    12a   \n",
       "89    34    12   1         exclusive  y      12b    12a    12a   \n",
       "90    34    12   1         exclusive  y      12b    12a    12a   \n",
       "91    34    12   1         exclusive  y      12b    12a    12a   \n",
       "92    34    12   1         exclusive  y      12b    12a    12a   \n",
       "97    66    21   2  other-directed-x  y  tűzoltó  orvos  orvos   \n",
       "98    66    21   2  other-directed-x  y  tűzoltó  orvos  orvos   \n",
       "99    66    21   2  other-directed-x  y  tűzoltó  orvos  orvos   \n",
       "100   66    21   2  other-directed-x  y  tűzoltó  orvos  orvos   \n",
       "101   66    21   2  other-directed-x  y  tűzoltó  orvos  orvos   \n",
       "102   66    21   2  other-directed-x  y  tűzoltó  orvos  orvos   \n",
       "103   66    21   2  other-directed-x  y  tűzoltó  orvos  orvos   \n",
       "104   66    21   2  other-directed-x  y  tűzoltó  orvos  orvos   \n",
       "105   66    21   2  other-directed-x  y  tűzoltó  orvos  orvos   \n",
       "106   66    21   2  other-directed-x  y  tűzoltó  orvos  orvos   \n",
       "107   66    21   2  other-directed-x  y  tűzoltó  orvos  orvos   \n",
       "108   66    21   2  other-directed-x  y  tűzoltó  orvos  orvos   \n",
       "109   66    21   2  other-directed-x  y  tűzoltó  orvos  orvos   \n",
       "\n",
       "                 results_time                       event_time  elapsed_ms  \n",
       "28  2025-09-22 10:50:09+00:00 2025-09-22 10:48:06.741000+00:00      5022.0  \n",
       "29  2025-09-22 10:50:09+00:00 2025-09-22 10:48:17.294000+00:00     10553.0  \n",
       "30  2025-09-22 10:50:09+00:00 2025-09-22 10:48:15.105000+00:00     -2189.0  \n",
       "31  2025-09-22 10:50:09+00:00 2025-09-22 10:48:10.310000+00:00     -4795.0  \n",
       "32  2025-09-22 10:50:09+00:00 2025-09-22 10:48:10.581000+00:00       271.0  \n",
       "33  2025-09-22 10:50:09+00:00 2025-09-22 10:48:10.809000+00:00       228.0  \n",
       "34  2025-09-22 10:50:09+00:00 2025-09-22 10:48:11.044000+00:00       235.0  \n",
       "35  2025-09-22 10:50:09+00:00 2025-09-22 10:48:11.291000+00:00       247.0  \n",
       "36  2025-09-22 10:50:09+00:00 2025-09-22 10:48:11.542000+00:00       251.0  \n",
       "37  2025-09-22 10:50:09+00:00 2025-09-22 10:48:11.804000+00:00       262.0  \n",
       "38  2025-09-22 10:50:09+00:00 2025-09-22 10:48:12.095000+00:00       291.0  \n",
       "39  2025-09-22 10:50:09+00:00 2025-09-22 10:48:17.289000+00:00      5194.0  \n",
       "44  2025-09-22 10:50:09+00:00 2025-09-22 10:48:22.313000+00:00      5017.0  \n",
       "45  2025-09-22 10:50:09+00:00 2025-09-22 10:48:34.021000+00:00     11708.0  \n",
       "46  2025-09-22 10:50:09+00:00 2025-09-22 10:48:31.069000+00:00     -2952.0  \n",
       "47  2025-09-22 10:50:09+00:00 2025-09-22 10:48:26.128000+00:00     -4941.0  \n",
       "48  2025-09-22 10:50:09+00:00 2025-09-22 10:48:26.406000+00:00       278.0  \n",
       "49  2025-09-22 10:50:09+00:00 2025-09-22 10:48:26.625000+00:00       219.0  \n",
       "50  2025-09-22 10:50:09+00:00 2025-09-22 10:48:26.837000+00:00       212.0  \n",
       "51  2025-09-22 10:50:09+00:00 2025-09-22 10:48:27.125000+00:00       288.0  \n",
       "52  2025-09-22 10:50:09+00:00 2025-09-22 10:48:27.371000+00:00       246.0  \n",
       "53  2025-09-22 10:50:09+00:00 2025-09-22 10:48:27.674000+00:00       303.0  \n",
       "54  2025-09-22 10:50:09+00:00 2025-09-22 10:48:28.053000+00:00       379.0  \n",
       "55  2025-09-22 10:50:09+00:00 2025-09-22 10:48:34.020000+00:00      5967.0  \n",
       "60  2025-09-22 10:50:09+00:00 2025-09-22 10:48:39.045000+00:00      5022.0  \n",
       "61  2025-09-22 10:50:09+00:00 2025-09-22 10:49:00.041000+00:00     20996.0  \n",
       "62  2025-09-22 10:50:09+00:00 2025-09-22 10:48:55.847000+00:00     -4194.0  \n",
       "63  2025-09-22 10:50:09+00:00 2025-09-22 10:48:45.630000+00:00    -10217.0  \n",
       "64  2025-09-22 10:50:09+00:00 2025-09-22 10:48:46.508000+00:00       878.0  \n",
       "65  2025-09-22 10:50:09+00:00 2025-09-22 10:48:46.895000+00:00       387.0  \n",
       "66  2025-09-22 10:50:09+00:00 2025-09-22 10:48:47.150000+00:00       255.0  \n",
       "67  2025-09-22 10:50:09+00:00 2025-09-22 10:48:47.498000+00:00       348.0  \n",
       "68  2025-09-22 10:50:09+00:00 2025-09-22 10:48:48.084000+00:00       586.0  \n",
       "69  2025-09-22 10:50:09+00:00 2025-09-22 10:48:48.414000+00:00       330.0  \n",
       "70  2025-09-22 10:50:09+00:00 2025-09-22 10:48:48.759000+00:00       345.0  \n",
       "71  2025-09-22 10:50:09+00:00 2025-09-22 10:48:52.833000+00:00      4074.0  \n",
       "72  2025-09-22 10:50:09+00:00 2025-09-22 10:49:00.038000+00:00      7205.0  \n",
       "81  2025-09-22 10:50:09+00:00 2025-09-22 10:49:05.758000+00:00      4021.0  \n",
       "82  2025-09-22 10:50:09+00:00 2025-09-22 10:49:16.570000+00:00     10812.0  \n",
       "83  2025-09-22 10:50:09+00:00 2025-09-22 10:49:15.722000+00:00      -848.0  \n",
       "84  2025-09-22 10:50:09+00:00 2025-09-22 10:49:11.016000+00:00     -4706.0  \n",
       "85  2025-09-22 10:50:09+00:00 2025-09-22 10:49:11.282000+00:00       266.0  \n",
       "86  2025-09-22 10:50:09+00:00 2025-09-22 10:49:11.517000+00:00       235.0  \n",
       "87  2025-09-22 10:50:09+00:00 2025-09-22 10:49:11.756000+00:00       239.0  \n",
       "88  2025-09-22 10:50:09+00:00 2025-09-22 10:49:11.990000+00:00       234.0  \n",
       "89  2025-09-22 10:50:09+00:00 2025-09-22 10:49:12.222000+00:00       232.0  \n",
       "90  2025-09-22 10:50:09+00:00 2025-09-22 10:49:12.442000+00:00       220.0  \n",
       "91  2025-09-22 10:50:09+00:00 2025-09-22 10:49:12.716000+00:00       274.0  \n",
       "92  2025-09-22 10:50:09+00:00 2025-09-22 10:49:16.570000+00:00      3854.0  \n",
       "97  2025-09-22 10:50:09+00:00 2025-09-22 10:49:20.593000+00:00      4021.0  \n",
       "98  2025-09-22 10:50:09+00:00 2025-09-22 10:49:57.698000+00:00     37105.0  \n",
       "99  2025-09-22 10:50:09+00:00 2025-09-22 10:50:09.598000+00:00     11900.0  \n",
       "100 2025-09-22 10:50:09+00:00 2025-09-22 10:50:08.409000+00:00     -1189.0  \n",
       "101 2025-09-22 10:50:09+00:00 2025-09-22 10:50:03.020000+00:00     -5389.0  \n",
       "102 2025-09-22 10:50:09+00:00 2025-09-22 10:50:03.533000+00:00       513.0  \n",
       "103 2025-09-22 10:50:09+00:00 2025-09-22 10:50:03.852000+00:00       319.0  \n",
       "104 2025-09-22 10:50:09+00:00 2025-09-22 10:50:04.068000+00:00       216.0  \n",
       "105 2025-09-22 10:50:09+00:00 2025-09-22 10:50:04.275000+00:00       207.0  \n",
       "106 2025-09-22 10:50:09+00:00 2025-09-22 10:50:04.479000+00:00       204.0  \n",
       "107 2025-09-22 10:50:09+00:00 2025-09-22 10:50:04.769000+00:00       290.0  \n",
       "108 2025-09-22 10:50:09+00:00 2025-09-22 10:50:06.384000+00:00      1615.0  \n",
       "109 2025-09-22 10:50:09+00:00 2025-09-22 10:50:09.597000+00:00      3213.0  "
      ]
     },
     "execution_count": 338,
     "metadata": {},
     "output_type": "execute_result"
    }
   ],
   "source": [
    "# ...existing code...\n",
    "# Define the base schema described by comments just before each block\n",
    "base_cols = [\n",
    "    \"ResultsTime\", \"MD5\", \"Controller\", \"Order\", \"Inner\", \"Label\",\n",
    "    \"LatinSquare\", \"PennElementType\", \"PennElementName\", \"Parameter\",\n",
    "    \"Value\", \"EventTime\", \"prolific_id\",\n",
    "]\n",
    "\n",
    "# Do NOT create \"extraN\" columns. Instead, infer the appended (trial) column names\n",
    "# from the header comments, then map the trailing fields directly to those names.\n",
    "import re\n",
    "\n",
    "def extract_trial_fields_from_comments(comments):\n",
    "    # We expect something like a line that mentions these names.\n",
    "    allowed = [\"participant_id\", \"group\", \"no\", \"item\", \"exp\", \"condition\", \"cb\", \"left\", \"right\", \"target\"]\n",
    "    # accept common variants (participant-id, participant id, participantid, prolific_id etc.)\n",
    "    pattern = re.compile(r\"(prolific[_\\-\\s]?id|participant[_\\-\\s]?id|participantid|group|no|item|exp|condition|cb|left|right|target)\", re.I)\n",
    "\n",
    "    best_line = None\n",
    "    max_hits = 0\n",
    "    # prefer the comment line that contains the most known tokens\n",
    "    for c in comments:\n",
    "        hits = len(pattern.findall(c))\n",
    "        if hits > max_hits:\n",
    "            best_line = c\n",
    "            max_hits = hits\n",
    "\n",
    "    # if we found a useful header line, try to parse explicit comma-separated tokens after a colon\n",
    "    if best_line and max_hits >= 6:\n",
    "        text = best_line.split(\":\", 1)[-1]\n",
    "        tokens = [t.strip() for t in re.split(r\"[,\\t]+\", text) if t.strip()]\n",
    "\n",
    "        def norm(s):\n",
    "            s2 = re.sub(r\"[^A-Za-z0-9_]\", \"\", s).lower()\n",
    "            if s2 == \"participantid\":\n",
    "                s2 = \"participant_id\"\n",
    "            if s2 == \"prolificid\":\n",
    "                s2 = \"prolific_id\"\n",
    "            return s2\n",
    "\n",
    "        names = []\n",
    "        for t in tokens:\n",
    "            n = norm(t)\n",
    "            if n in allowed and n not in names:\n",
    "                names.append(n)\n",
    "\n",
    "        # fallback: if explicit tokens not present, use the order of regex matches in the line\n",
    "        if not names:\n",
    "            for m in pattern.finditer(best_line):\n",
    "                n = norm(m.group(0))\n",
    "                if n in allowed and n not in names:\n",
    "                    names.append(n)\n",
    "\n",
    "        # Preserve canonical order relative to allowed list\n",
    "        ordered = [name for name in allowed if name in names]\n",
    "        # accept extraction if we found at least participant_id + several others\n",
    "        if \"participant_id\" in ordered and len(ordered) >= 6:\n",
    "            return ordered\n",
    "\n",
    "    # Final fallback: canonical full trial ordering (updated to include exp and target)\n",
    "    return [\"participant_id\", \"group\", \"no\", \"item\", \"exp\", \"condition\", \"cb\", \"left\", \"right\", \"target\"]\n",
    "\n",
    "TRIAL_FIELDS = extract_trial_fields_from_comments(header_comments)\n",
    "print(\"Using trial fields:\", TRIAL_FIELDS)\n",
    "\n",
    "# Parse each data row into a record using base_cols + TRIAL_FIELDS depending on Label\n",
    "\n",
    "def parse_row_to_record(line: str):\n",
    "    parts = [p.strip() for p in line.split(\",\")]\n",
    "    rec = {}\n",
    "    base_vals = parts[:len(base_cols)]\n",
    "    extra_vals = parts[len(base_cols):]\n",
    "\n",
    "    for k, v in zip(base_cols, base_vals):\n",
    "        rec[k] = v\n",
    "\n",
    "    # If the extra values accidentally include a literal header token as the first element\n",
    "    # (some CSV dumps include the header name), drop it so alignment works.\n",
    "    if extra_vals and str(extra_vals[0]).lower() in {f.lower() for f in TRIAL_FIELDS + [\"prolific_id\"]}:\n",
    "        # drop single leading header-like token\n",
    "        extra_vals = extra_vals[1:]\n",
    "\n",
    "    label = rec.get(\"Label\")\n",
    "    if label in (\"practice\", \"experiment\"):\n",
    "        n = min(len(extra_vals), len(TRIAL_FIELDS))\n",
    "        for k, v in zip(TRIAL_FIELDS[:n], extra_vals[:n]):\n",
    "            rec[k] = v\n",
    "    elif label in (\"participant_data\",):\n",
    "        if extra_vals:\n",
    "            # participant_data frequently stores id in first extra token (after possible header token)\n",
    "            rec[\"participant_id\"] = extra_vals[0]\n",
    "\n",
    "    return rec\n",
    "\n",
    "records = [parse_row_to_record(l) for l in rows]\n",
    "raw_df = pd.DataFrame.from_records(records)\n",
    "\n",
    "# Cast some known numeric columns where possible\n",
    "for c in [\"ResultsTime\", \"Order\", \"Inner\", \"EventTime\", \"no\", \"item\"]:\n",
    "    if c in raw_df.columns:\n",
    "        raw_df[c] = pd.to_numeric(raw_df[c], errors=\"coerce\")\n",
    "\n",
    "# Human-readable timestamps\n",
    "raw_df[\"results_time\"] = pd.to_datetime(raw_df[\"ResultsTime\"], unit=\"s\", utc=True)\n",
    "\n",
    "# IMPORTANT: Keep EventTime both as numeric milliseconds and as a proper timestamp (UTC)\n",
    "# - EventTime_ms: numeric milliseconds for computations (diffs, means)\n",
    "# - event_time: Pandas Timestamp (UTC) for readability\n",
    "raw_df[\"event_time_ms\"] = raw_df[\"EventTime\"]\n",
    "raw_df[\"event_time\"] = pd.to_datetime(raw_df[\"event_time_ms\"], unit=\"ms\", utc=True)\n",
    "\n",
    "################################################\n",
    "\n",
    "# Helper: derive per-trial fields now that we named extras explicitly in raw_df\n",
    "# We keep a light decoder only to ensure participant_id is present and to normalize types.\n",
    "\n",
    "EXPECTED_FIELDS = [\"participant_id\", \"group\", \"no\", \"item\", \"exp\", \"condition\", \"cb\", \"left\", \"right\", \"target\"]\n",
    "\n",
    "# Make sure that item and no are integers\n",
    "for col in [\"no\", \"item\"]:\n",
    "    if col in raw_df.columns:\n",
    "        # Use pandas nullable Int64 type to keep NaNs and force integer dtype\n",
    "        raw_df[col] = pd.to_numeric(raw_df[col], errors=\"coerce\").astype('Int64')\n",
    "        \n",
    "# Ensure all expected columns exist even if missing in some rows\n",
    "for col in EXPECTED_FIELDS:\n",
    "    if col not in raw_df.columns:\n",
    "        raw_df[col] = None\n",
    "\n",
    "# Build df and forward fill participant_id/group as before\n",
    "df = raw_df.copy()\n",
    "\n",
    "# Forward-fill participant_id only within blocks of identical participant_id (no cross-over)\n",
    "# (keep as-is: do not fill across participants)\n",
    "if \"participant_id\" in df.columns:\n",
    "    # nothing to do beyond keeping column present; participant ids should appear in rows where provided\n",
    "\n",
    "    # If you need to forward-fill within contiguous blocks uncomment:\n",
    "    # df['participant_id'] = df['participant_id'].ffill()\n",
    "\n",
    "    pass\n",
    "\n",
    "# Backward-fill group only within blocks of identical participant_id (no cross-over)\n",
    "if \"group\" in df.columns and \"participant_id\" in df.columns:\n",
    "    # normalize empty/NULL then backfill per participant using transform to avoid groupby.apply deprecation\n",
    "    df[\"group\"] = df[\"group\"].replace({\"\": None, \"NULL\": None})\n",
    "    df[\"group\"] = df.groupby(\"participant_id\")[\"group\"].transform(lambda s: s.bfill())\n",
    "\n",
    "# Derive block-type flags\n",
    "# df[\"is_practice\"] = df[\"Label\"].eq(\"practice\")\n",
    "# df[\"is_experiment\"] = df[\"Label\"].eq(\"experiment\")\n",
    "\n",
    "# For convenience: also include a local-time copy if desired (commented)\n",
    "# df[\"results_timestamp_local\"] = df[\"results_timestamp\"].dt.tz_convert(\"Europe/Budapest\")\n",
    "\n",
    "# Drop Controller column\n",
    "df.drop(columns=[\"ResultsTime\", \"Controller\", \"Inner\", \"LatinSquare\", \"EventTime\", \"prolific_id\"], inplace=True)\n",
    "\n",
    "# Add simple elapsed time between events: current row EventTime_ms minus previous row EventTime_ms\n",
    "if 'elapsed_ms' in df.columns:\n",
    "    df.drop(columns=['elapsed_ms'], inplace=True)\n",
    "df['elapsed_ms'] = df['event_time_ms'].diff()\n",
    "df.drop(columns=['event_time_ms'], inplace=True)\n",
    "\n",
    "# Drop rows where the Parameter column starts and ends with '_'\n",
    "df = df[~df[\"Parameter\"].str.match(r\"^_.*_$\", na=False)]\n",
    "\n",
    "# Keep only rows where Label is practice or experiment\n",
    "df = df[df[\"Label\"].isin([\"practice\", \"experiment\"])]\n",
    "\n",
    "# In Values column rename right_canvas_practice to right_canvas\n",
    "df[\"Value\"] = df[\"Value\"].replace({\"right_canvas_practice\": \"right_canvas\"})\n",
    "df[\"Value\"] = df[\"Value\"].replace({\"left_canvas_practice\": \"left_canvas\"})\n",
    "\n",
    "# Rename Label to label and Order to order\n",
    "df.rename(columns={\"Label\": \"label\", \"Order\": \"trial\"}, inplace=True)\n",
    "df\n",
    "# ...existing code..."
   ]
  },
  {
   "cell_type": "markdown",
   "id": "0621c7a8",
   "metadata": {},
   "source": [
    "## Participants"
   ]
  },
  {
   "cell_type": "code",
   "execution_count": 339,
   "id": "e82f221b",
   "metadata": {},
   "outputs": [
    {
     "data": {
      "application/vnd.microsoft.datawrangler.viewer.v0+json": {
       "columns": [
        {
         "name": "index",
         "rawType": "int64",
         "type": "integer"
        },
        {
         "name": "participant_id",
         "rawType": "object",
         "type": "string"
        },
        {
         "name": "group",
         "rawType": "object",
         "type": "string"
        },
        {
         "name": "eyetracker_filename",
         "rawType": "object",
         "type": "string"
        },
        {
         "name": "results_time",
         "rawType": "object",
         "type": "string"
        }
       ],
       "ref": "800554f7-c497-4fc2-9f57-37aee08ab11a",
       "rows": [
        [
         "0",
         "Maris444",
         "c",
         "httpsfarmpcibexnetrDigcCS/05d1b997-cbb5-be10-8fab-dbbb0639c0b9",
         "2025-09-22 10:50:09+00:00"
        ]
       ],
       "shape": {
        "columns": 4,
        "rows": 1
       }
      },
      "text/html": [
       "<div>\n",
       "<style scoped>\n",
       "    .dataframe tbody tr th:only-of-type {\n",
       "        vertical-align: middle;\n",
       "    }\n",
       "\n",
       "    .dataframe tbody tr th {\n",
       "        vertical-align: top;\n",
       "    }\n",
       "\n",
       "    .dataframe thead th {\n",
       "        text-align: right;\n",
       "    }\n",
       "</style>\n",
       "<table border=\"1\" class=\"dataframe\">\n",
       "  <thead>\n",
       "    <tr style=\"text-align: right;\">\n",
       "      <th></th>\n",
       "      <th>participant_id</th>\n",
       "      <th>group</th>\n",
       "      <th>eyetracker_filename</th>\n",
       "      <th>results_time</th>\n",
       "    </tr>\n",
       "  </thead>\n",
       "  <tbody>\n",
       "    <tr>\n",
       "      <th>0</th>\n",
       "      <td>Maris444</td>\n",
       "      <td>c</td>\n",
       "      <td>httpsfarmpcibexnetrDigcCS/05d1b997-cbb5-be10-8...</td>\n",
       "      <td>2025-09-22 10:50:09+00:00</td>\n",
       "    </tr>\n",
       "  </tbody>\n",
       "</table>\n",
       "</div>"
      ],
      "text/plain": [
       "  participant_id group                                eyetracker_filename  \\\n",
       "0       Maris444     c  httpsfarmpcibexnetrDigcCS/05d1b997-cbb5-be10-8...   \n",
       "\n",
       "                results_time  \n",
       "0  2025-09-22 10:50:09+00:00  "
      ]
     },
     "execution_count": 339,
     "metadata": {},
     "output_type": "execute_result"
    }
   ],
   "source": [
    "def extract_participant_info(events_df, fallback_df=None):\n",
    "    # Helper: return first non-empty normalized value for a column\n",
    "    def pick_first(df_like, col):\n",
    "        if df_like is None or col not in df_like.columns:\n",
    "            return None\n",
    "        s = df_like[col].replace({\"\": None, \"NULL\": None}).dropna().astype(str)\n",
    "        return s.iloc[0] if len(s) > 0 else None\n",
    "\n",
    "    # Extract participant_id, group, results_time (prefer events_df, fallback to fallback_df)\n",
    "    pid = pick_first(events_df, \"participant_id\") or pick_first(fallback_df, \"participant_id\")\n",
    "    group = pick_first(events_df, \"group\") or pick_first(fallback_df, \"group\")\n",
    "    results_time = pick_first(events_df, \"results_time\") or pick_first(fallback_df, \"results_time\")\n",
    "\n",
    "    # Exact requirement: Value where PennElementType == 'EyeTracker' and Parameter == 'Filename'\n",
    "    def find_et_filename(df_like):\n",
    "        if df_like is None or not {\"PennElementType\", \"Parameter\", \"Value\"}.issubset(df_like.columns):\n",
    "            return None\n",
    "        pet = df_like[\"PennElementType\"].astype(str).str.lower()\n",
    "        par = df_like[\"Parameter\"].astype(str).str.lower()\n",
    "        mask = pet.eq(\"eyetracker\") & par.eq(\"filename\")\n",
    "        vals = df_like.loc[mask, \"Value\"].replace({\"\": None}).dropna().astype(str)\n",
    "        return vals.iloc[0] if len(vals) > 0 else None\n",
    "\n",
    "    et = find_et_filename(events_df) or find_et_filename(fallback_df)\n",
    "\n",
    "    return pd.DataFrame([\n",
    "        {\n",
    "            \"participant_id\": pid,\n",
    "            \"group\": group,\n",
    "            \"eyetracker_filename\": et,\n",
    "            \"results_time\": results_time,\n",
    "        }\n",
    "    ])\n",
    "\n",
    "# Build participants_df for all participants (uses raw_df as fallback to find filename)\n",
    "parts = []\n",
    "df_nonnull = df[df['participant_id'].notna()]\n",
    "for pid, g in df_nonnull.groupby('participant_id', sort=False):\n",
    "    parts.append(extract_participant_info(g, fallback_df=raw_df))\n",
    "participants_df = pd.concat(parts, ignore_index=True)\n",
    "participants_df"
   ]
  },
  {
   "cell_type": "code",
   "execution_count": 340,
   "id": "f57143a3",
   "metadata": {},
   "outputs": [
    {
     "data": {
      "application/vnd.microsoft.datawrangler.viewer.v0+json": {
       "columns": [
        {
         "name": "index",
         "rawType": "int64",
         "type": "integer"
        },
        {
         "name": "participant_id",
         "rawType": "object",
         "type": "string"
        },
        {
         "name": "group",
         "rawType": "object",
         "type": "string"
        },
        {
         "name": "eyetracker_filename",
         "rawType": "object",
         "type": "string"
        },
        {
         "name": "results_time",
         "rawType": "object",
         "type": "string"
        }
       ],
       "ref": "68530145-b03c-498c-9b69-ae966e5aabd8",
       "rows": [
        [
         "0",
         "Maris444",
         "c",
         "httpsfarmpcibexnetrDigcCS/05d1b997-cbb5-be10-8fab-dbbb0639c0b9",
         "2025-09-22 10:50:09+00:00"
        ]
       ],
       "shape": {
        "columns": 4,
        "rows": 1
       }
      },
      "text/html": [
       "<div>\n",
       "<style scoped>\n",
       "    .dataframe tbody tr th:only-of-type {\n",
       "        vertical-align: middle;\n",
       "    }\n",
       "\n",
       "    .dataframe tbody tr th {\n",
       "        vertical-align: top;\n",
       "    }\n",
       "\n",
       "    .dataframe thead th {\n",
       "        text-align: right;\n",
       "    }\n",
       "</style>\n",
       "<table border=\"1\" class=\"dataframe\">\n",
       "  <thead>\n",
       "    <tr style=\"text-align: right;\">\n",
       "      <th></th>\n",
       "      <th>participant_id</th>\n",
       "      <th>group</th>\n",
       "      <th>eyetracker_filename</th>\n",
       "      <th>results_time</th>\n",
       "    </tr>\n",
       "  </thead>\n",
       "  <tbody>\n",
       "    <tr>\n",
       "      <th>0</th>\n",
       "      <td>Maris444</td>\n",
       "      <td>c</td>\n",
       "      <td>httpsfarmpcibexnetrDigcCS/05d1b997-cbb5-be10-8...</td>\n",
       "      <td>2025-09-22 10:50:09+00:00</td>\n",
       "    </tr>\n",
       "  </tbody>\n",
       "</table>\n",
       "</div>"
      ],
      "text/plain": [
       "  participant_id group                                eyetracker_filename  \\\n",
       "0       Maris444     c  httpsfarmpcibexnetrDigcCS/05d1b997-cbb5-be10-8...   \n",
       "\n",
       "                results_time  \n",
       "0  2025-09-22 10:50:09+00:00  "
      ]
     },
     "execution_count": 340,
     "metadata": {},
     "output_type": "execute_result"
    }
   ],
   "source": [
    "# Remove certain participants\n",
    "list_of_participants_to_remove = ['Yun888', 'Test999'] ####\n",
    "participants_df = participants_df[~participants_df['participant_id'].isin(list_of_participants_to_remove)]\n",
    "df = df[~df['participant_id'].isin(list_of_participants_to_remove)]\n",
    "\n",
    "participants_df"
   ]
  },
  {
   "cell_type": "markdown",
   "id": "1c88dc44",
   "metadata": {},
   "source": [
    "## Longform events"
   ]
  },
  {
   "cell_type": "code",
   "execution_count": 341,
   "id": "0e4e7451",
   "metadata": {},
   "outputs": [
    {
     "data": {
      "application/vnd.microsoft.datawrangler.viewer.v0+json": {
       "columns": [
        {
         "name": "index",
         "rawType": "int64",
         "type": "integer"
        },
        {
         "name": "results_time",
         "rawType": "datetime64[ns, UTC]",
         "type": "unknown"
        },
        {
         "name": "participant_id",
         "rawType": "object",
         "type": "string"
        },
        {
         "name": "group",
         "rawType": "object",
         "type": "string"
        },
        {
         "name": "trial",
         "rawType": "int64",
         "type": "integer"
        },
        {
         "name": "label",
         "rawType": "object",
         "type": "string"
        },
        {
         "name": "no",
         "rawType": "Int64",
         "type": "integer"
        },
        {
         "name": "item",
         "rawType": "Int64",
         "type": "integer"
        },
        {
         "name": "exp",
         "rawType": "object",
         "type": "string"
        },
        {
         "name": "condition",
         "rawType": "object",
         "type": "string"
        },
        {
         "name": "cb",
         "rawType": "object",
         "type": "string"
        },
        {
         "name": "left",
         "rawType": "object",
         "type": "string"
        },
        {
         "name": "right",
         "rawType": "object",
         "type": "string"
        },
        {
         "name": "target",
         "rawType": "object",
         "type": "string"
        },
        {
         "name": "r1",
         "rawType": "float64",
         "type": "float"
        },
        {
         "name": "r2",
         "rawType": "float64",
         "type": "float"
        },
        {
         "name": "r3",
         "rawType": "float64",
         "type": "float"
        },
        {
         "name": "r4",
         "rawType": "float64",
         "type": "float"
        },
        {
         "name": "r5",
         "rawType": "float64",
         "type": "float"
        },
        {
         "name": "r6",
         "rawType": "float64",
         "type": "float"
        },
        {
         "name": "r7",
         "rawType": "float64",
         "type": "float"
        },
        {
         "name": "question_rt",
         "rawType": "float64",
         "type": "float"
        },
        {
         "name": "choice_rt",
         "rawType": "float64",
         "type": "float"
        },
        {
         "name": "choice",
         "rawType": "object",
         "type": "string"
        }
       ],
       "ref": "8e5a9046-a9a0-4245-be8a-6fb075720805",
       "rows": [
        [
         "0",
         "2025-09-22 10:50:09+00:00",
         "Maris444",
         "c",
         "6",
         "practice",
         "990",
         "900",
         "",
         "practice",
         "n",
         "A",
         "B",
         "A",
         "271.0",
         "228.0",
         "235.0",
         "247.0",
         "251.0",
         "262.0",
         "291.0",
         null,
         "2194.0",
         "left"
        ],
        [
         "1",
         "2025-09-22 10:50:09+00:00",
         "Maris444",
         "c",
         "7",
         "practice",
         "991",
         "901",
         "",
         "practice",
         "y",
         "D",
         "C",
         "C",
         "278.0",
         "219.0",
         "212.0",
         "288.0",
         "246.0",
         "303.0",
         "379.0",
         null,
         "2967.0",
         "right"
        ],
        [
         "2",
         "2025-09-22 10:50:09+00:00",
         "Maris444",
         "c",
         "8",
         "practice",
         "992",
         "902",
         "",
         "practice",
         "n",
         "E",
         "F",
         "E",
         "878.0",
         "387.0",
         "255.0",
         "348.0",
         "586.0",
         "330.0",
         "345.0",
         "3074.0",
         "4205.0",
         "right"
        ],
        [
         "3",
         "2025-09-22 10:50:09+00:00",
         "Maris444",
         "c",
         "10",
         "experiment",
         "34",
         "12",
         "1",
         "exclusive",
         "y",
         "12b",
         "12a",
         "12a",
         "266.0",
         "235.0",
         "239.0",
         "234.0",
         "232.0",
         "220.0",
         "274.0",
         null,
         "854.0",
         "right"
        ],
        [
         "4",
         "2025-09-22 10:50:09+00:00",
         "Maris444",
         "c",
         "11",
         "experiment",
         "66",
         "21",
         "2",
         "other-directed-x",
         "y",
         "tűzoltó",
         "orvos",
         "orvos",
         "513.0",
         "319.0",
         "216.0",
         "207.0",
         "204.0",
         null,
         "290.0",
         "615.0",
         "213.0",
         "right"
        ]
       ],
       "shape": {
        "columns": 23,
        "rows": 5
       }
      },
      "text/html": [
       "<div>\n",
       "<style scoped>\n",
       "    .dataframe tbody tr th:only-of-type {\n",
       "        vertical-align: middle;\n",
       "    }\n",
       "\n",
       "    .dataframe tbody tr th {\n",
       "        vertical-align: top;\n",
       "    }\n",
       "\n",
       "    .dataframe thead th {\n",
       "        text-align: right;\n",
       "    }\n",
       "</style>\n",
       "<table border=\"1\" class=\"dataframe\">\n",
       "  <thead>\n",
       "    <tr style=\"text-align: right;\">\n",
       "      <th>region_idx</th>\n",
       "      <th>results_time</th>\n",
       "      <th>participant_id</th>\n",
       "      <th>group</th>\n",
       "      <th>trial</th>\n",
       "      <th>label</th>\n",
       "      <th>no</th>\n",
       "      <th>item</th>\n",
       "      <th>exp</th>\n",
       "      <th>condition</th>\n",
       "      <th>cb</th>\n",
       "      <th>left</th>\n",
       "      <th>right</th>\n",
       "      <th>target</th>\n",
       "      <th>r1</th>\n",
       "      <th>r2</th>\n",
       "      <th>r3</th>\n",
       "      <th>r4</th>\n",
       "      <th>r5</th>\n",
       "      <th>r6</th>\n",
       "      <th>r7</th>\n",
       "      <th>question_rt</th>\n",
       "      <th>choice_rt</th>\n",
       "      <th>choice</th>\n",
       "    </tr>\n",
       "  </thead>\n",
       "  <tbody>\n",
       "    <tr>\n",
       "      <th>0</th>\n",
       "      <td>2025-09-22 10:50:09+00:00</td>\n",
       "      <td>Maris444</td>\n",
       "      <td>c</td>\n",
       "      <td>6</td>\n",
       "      <td>practice</td>\n",
       "      <td>990</td>\n",
       "      <td>900</td>\n",
       "      <td></td>\n",
       "      <td>practice</td>\n",
       "      <td>n</td>\n",
       "      <td>A</td>\n",
       "      <td>B</td>\n",
       "      <td>A</td>\n",
       "      <td>271.0</td>\n",
       "      <td>228.0</td>\n",
       "      <td>235.0</td>\n",
       "      <td>247.0</td>\n",
       "      <td>251.0</td>\n",
       "      <td>262.0</td>\n",
       "      <td>291.0</td>\n",
       "      <td>NaN</td>\n",
       "      <td>2194.0</td>\n",
       "      <td>left</td>\n",
       "    </tr>\n",
       "    <tr>\n",
       "      <th>1</th>\n",
       "      <td>2025-09-22 10:50:09+00:00</td>\n",
       "      <td>Maris444</td>\n",
       "      <td>c</td>\n",
       "      <td>7</td>\n",
       "      <td>practice</td>\n",
       "      <td>991</td>\n",
       "      <td>901</td>\n",
       "      <td></td>\n",
       "      <td>practice</td>\n",
       "      <td>y</td>\n",
       "      <td>D</td>\n",
       "      <td>C</td>\n",
       "      <td>C</td>\n",
       "      <td>278.0</td>\n",
       "      <td>219.0</td>\n",
       "      <td>212.0</td>\n",
       "      <td>288.0</td>\n",
       "      <td>246.0</td>\n",
       "      <td>303.0</td>\n",
       "      <td>379.0</td>\n",
       "      <td>NaN</td>\n",
       "      <td>2967.0</td>\n",
       "      <td>right</td>\n",
       "    </tr>\n",
       "    <tr>\n",
       "      <th>2</th>\n",
       "      <td>2025-09-22 10:50:09+00:00</td>\n",
       "      <td>Maris444</td>\n",
       "      <td>c</td>\n",
       "      <td>8</td>\n",
       "      <td>practice</td>\n",
       "      <td>992</td>\n",
       "      <td>902</td>\n",
       "      <td></td>\n",
       "      <td>practice</td>\n",
       "      <td>n</td>\n",
       "      <td>E</td>\n",
       "      <td>F</td>\n",
       "      <td>E</td>\n",
       "      <td>878.0</td>\n",
       "      <td>387.0</td>\n",
       "      <td>255.0</td>\n",
       "      <td>348.0</td>\n",
       "      <td>586.0</td>\n",
       "      <td>330.0</td>\n",
       "      <td>345.0</td>\n",
       "      <td>3074.0</td>\n",
       "      <td>4205.0</td>\n",
       "      <td>right</td>\n",
       "    </tr>\n",
       "    <tr>\n",
       "      <th>3</th>\n",
       "      <td>2025-09-22 10:50:09+00:00</td>\n",
       "      <td>Maris444</td>\n",
       "      <td>c</td>\n",
       "      <td>10</td>\n",
       "      <td>experiment</td>\n",
       "      <td>34</td>\n",
       "      <td>12</td>\n",
       "      <td>1</td>\n",
       "      <td>exclusive</td>\n",
       "      <td>y</td>\n",
       "      <td>12b</td>\n",
       "      <td>12a</td>\n",
       "      <td>12a</td>\n",
       "      <td>266.0</td>\n",
       "      <td>235.0</td>\n",
       "      <td>239.0</td>\n",
       "      <td>234.0</td>\n",
       "      <td>232.0</td>\n",
       "      <td>220.0</td>\n",
       "      <td>274.0</td>\n",
       "      <td>NaN</td>\n",
       "      <td>854.0</td>\n",
       "      <td>right</td>\n",
       "    </tr>\n",
       "    <tr>\n",
       "      <th>4</th>\n",
       "      <td>2025-09-22 10:50:09+00:00</td>\n",
       "      <td>Maris444</td>\n",
       "      <td>c</td>\n",
       "      <td>11</td>\n",
       "      <td>experiment</td>\n",
       "      <td>66</td>\n",
       "      <td>21</td>\n",
       "      <td>2</td>\n",
       "      <td>other-directed-x</td>\n",
       "      <td>y</td>\n",
       "      <td>tűzoltó</td>\n",
       "      <td>orvos</td>\n",
       "      <td>orvos</td>\n",
       "      <td>513.0</td>\n",
       "      <td>319.0</td>\n",
       "      <td>216.0</td>\n",
       "      <td>207.0</td>\n",
       "      <td>204.0</td>\n",
       "      <td>NaN</td>\n",
       "      <td>290.0</td>\n",
       "      <td>615.0</td>\n",
       "      <td>213.0</td>\n",
       "      <td>right</td>\n",
       "    </tr>\n",
       "  </tbody>\n",
       "</table>\n",
       "</div>"
      ],
      "text/plain": [
       "region_idx              results_time participant_id group  trial       label  \\\n",
       "0          2025-09-22 10:50:09+00:00       Maris444     c      6    practice   \n",
       "1          2025-09-22 10:50:09+00:00       Maris444     c      7    practice   \n",
       "2          2025-09-22 10:50:09+00:00       Maris444     c      8    practice   \n",
       "3          2025-09-22 10:50:09+00:00       Maris444     c     10  experiment   \n",
       "4          2025-09-22 10:50:09+00:00       Maris444     c     11  experiment   \n",
       "\n",
       "region_idx   no  item exp         condition cb     left  right target     r1  \\\n",
       "0           990   900              practice  n        A      B      A  271.0   \n",
       "1           991   901              practice  y        D      C      C  278.0   \n",
       "2           992   902              practice  n        E      F      E  878.0   \n",
       "3            34    12   1         exclusive  y      12b    12a    12a  266.0   \n",
       "4            66    21   2  other-directed-x  y  tűzoltó  orvos  orvos  513.0   \n",
       "\n",
       "region_idx     r2     r3     r4     r5     r6     r7  question_rt  choice_rt  \\\n",
       "0           228.0  235.0  247.0  251.0  262.0  291.0          NaN     2194.0   \n",
       "1           219.0  212.0  288.0  246.0  303.0  379.0          NaN     2967.0   \n",
       "2           387.0  255.0  348.0  586.0  330.0  345.0       3074.0     4205.0   \n",
       "3           235.0  239.0  234.0  232.0  220.0  274.0          NaN      854.0   \n",
       "4           319.0  216.0  207.0  204.0    NaN  290.0        615.0      213.0   \n",
       "\n",
       "region_idx choice  \n",
       "0            left  \n",
       "1           right  \n",
       "2           right  \n",
       "3           right  \n",
       "4           right  "
      ]
     },
     "execution_count": 341,
     "metadata": {},
     "output_type": "execute_result"
    }
   ],
   "source": [
    "# Filter for experiment/practice trials only\n",
    "df_trials = df[df['label'].isin(['experiment', 'practice'])].copy()\n",
    "\n",
    "# Sort for deterministic grouping\n",
    "df_trials = df_trials.sort_values(['participant_id', 'no', 'item'])\n",
    "\n",
    "# Region RTs: r1..r7\n",
    "region_names = [f\"r{i}\" for i in range(1, 8)]\n",
    "is_region = df_trials['PennElementName'].str.lower().isin(region_names) & df_trials['Parameter'].str.lower().eq('pressedkey')\n",
    "regions = df_trials[is_region].copy()\n",
    "regions['region_idx'] = regions['PennElementName'].str.extract(r'r(\\d)')[0].astype(int)\n",
    "\n",
    "# Build a full trial index to ensure all trials are present\n",
    "# NOTE: added 'exp' and 'target' to match new appended columns ordering\n",
    "trial_index_cols = ['results_time', 'participant_id', 'group', 'trial', 'label', 'no', 'item', 'exp', 'condition', 'cb', 'left', 'right', 'target']\n",
    "# Ensure trial_index_cols exist in df_trials before selecting (EXPECTED_FIELDS earlier guarantees presence)\n",
    "trial_index = df_trials.drop_duplicates(subset=[c for c in trial_index_cols if c in df_trials.columns])[[c for c in trial_index_cols if c in df_trials.columns]].sort_values([c for c in trial_index_cols if c in df_trials.columns])\n",
    "\n",
    "# Compute region RTs per trial (item) using average of elapsed_ms\n",
    "region_mean = regions.pivot_table(\n",
    "    index=[c for c in trial_index_cols if c in regions.columns],\n",
    "    columns='region_idx',\n",
    "    values='elapsed_ms',\n",
    "    aggfunc='mean',\n",
    "    fill_value=np.nan\n",
    ")\n",
    "\n",
    "# Reindex to include any trials that had no region rows\n",
    "region_mean = region_mean.reindex(trial_index.set_index([c for c in trial_index_cols if c in trial_index.columns]).index, fill_value=np.nan)\n",
    "\n",
    "# Rename numeric region columns to r1..r7\n",
    "region_mean = region_mean.rename(columns={i: f\"r{int(i)}\" for i in region_mean.columns})\n",
    "\n",
    "# Question RT: average elapsed_ms for question keypress\n",
    "is_question = df_trials['PennElementName'].str.lower().eq('question') & df_trials['Parameter'].str.lower().eq('pressedkey')\n",
    "questions = df_trials[is_question].copy()\n",
    "questions = questions.sort_values(['participant_id', 'no', 'item'])\n",
    "questions['question_rt'] = questions['elapsed_ms']\n",
    "question_rt = questions.groupby([c for c in trial_index_cols if c in questions.columns])['question_rt'].mean()\n",
    "\n",
    "# Choice RT and value: average elapsed_ms for choice selection\n",
    "is_choice = df_trials['PennElementType'].str.lower().eq('selector') & df_trials['Parameter'].str.lower().eq('selection')\n",
    "choices = df_trials[is_choice].copy()\n",
    "choices = choices.sort_values(['MD5', 'participant_id', 'no', 'item'])\n",
    "choices['choice_rt'] = choices['elapsed_ms']\n",
    "choices_value = choices.groupby([c for c in trial_index_cols if c in choices.columns])['Value'].first()\n",
    "choice_rt = choices.groupby([c for c in trial_index_cols if c in choices.columns])['choice_rt'].mean()\n",
    "\n",
    "# Assemble longform DataFrame\n",
    "longform = region_mean.copy()\n",
    "\n",
    "longform['question_rt'] = question_rt\n",
    "longform['choice_rt'] = choice_rt\n",
    "longform['choice'] = choices_value\n",
    "\n",
    "# Rename choice values from left_canvas/right_canvas to left/right\n",
    "longform['choice'] = longform['choice'].replace({\"left_canvas\": \"left\", \"right_canvas\": \"right\"})\n",
    "\n",
    "# Subtract fixed offsets (keep units consistent with elapsed_ms)\n",
    "longform['question_rt'] = longform['question_rt'] - 1000\n",
    "longform['choice_rt'] = longform['choice_rt'] - 3000\n",
    "\n",
    "# Sort by participant and trial for deterministic ordering\n",
    "# If 'trial' missing in index columns fallback to sorting by ['participant_id', 'no', 'item']\n",
    "sort_cols = ['participant_id', 'trial'] if 'trial' in longform.index.names else ['participant_id', 'no', 'item']\n",
    "longform = longform.sort_values(by=list(sort_cols), ascending=[True]*len(sort_cols))\n",
    "\n",
    "longform = longform.reset_index()\n",
    "longform"
   ]
  },
  {
   "cell_type": "code",
   "execution_count": 342,
   "id": "dc87aa8d",
   "metadata": {},
   "outputs": [
    {
     "name": "stdout",
     "output_type": "stream",
     "text": [
      "condition\n",
      "practice            3\n",
      "exclusive           1\n",
      "other-directed-x    1\n",
      "Name: count, dtype: int64\n"
     ]
    }
   ],
   "source": [
    "# Print how many items I have for each condition\n",
    "print(longform['condition'].value_counts())"
   ]
  },
  {
   "cell_type": "markdown",
   "id": "a8294309",
   "metadata": {},
   "source": [
    "## Filtering experiments"
   ]
  },
  {
   "cell_type": "code",
   "execution_count": 343,
   "id": "e2ba2c97",
   "metadata": {},
   "outputs": [],
   "source": [
    "# Assign experiments to exp1 or exp2 based on exp is 1 or 2\n",
    "exp1 = longform[longform['exp'].astype(str).eq('1')].copy()\n",
    "exp2 = longform[longform['exp'].astype(str).eq('2')].copy()"
   ]
  },
  {
   "cell_type": "markdown",
   "id": "723daa89",
   "metadata": {},
   "source": [
    "## Reading Times"
   ]
  },
  {
   "cell_type": "code",
   "execution_count": 344,
   "id": "e2be724c",
   "metadata": {},
   "outputs": [
    {
     "data": {
      "application/vnd.plotly.v1+json": {
       "config": {
        "plotlyServerURL": "https://plot.ly"
       },
       "data": [
        {
         "legendgroup": "Maris444",
         "line": {
          "color": "#636efa",
          "dash": "solid"
         },
         "marker": {
          "size": 4,
          "symbol": "circle"
         },
         "mode": "lines+markers",
         "name": "Maris444",
         "opacity": 0.7,
         "orientation": "v",
         "showlegend": true,
         "type": "scatter",
         "x": [
          "r1",
          "r2",
          "r3",
          "r4",
          "r5",
          "r6",
          "r7"
         ],
         "xaxis": "x",
         "y": {
          "bdata": "AAAAAADwcEAAAAAAAIBsQAAAAAAAYG1AAAAAAADgbkAAAAAAAGBvQAAAAAAAYHBAAAAAAAAwckA=",
          "dtype": "f8"
         },
         "yaxis": "y"
        },
        {
         "legendgroup": "Maris444",
         "line": {
          "color": "#636efa",
          "dash": "solid"
         },
         "marker": {
          "size": 4,
          "symbol": "circle"
         },
         "mode": "lines+markers",
         "name": "Maris444",
         "opacity": 0.7,
         "orientation": "v",
         "showlegend": false,
         "type": "scatter",
         "x": [
          "r1",
          "r2",
          "r3",
          "r4",
          "r5",
          "r6",
          "r7"
         ],
         "xaxis": "x",
         "y": {
          "bdata": "AAAAAABgcUAAAAAAAGBrQAAAAAAAgGpAAAAAAAAAckAAAAAAAMBuQAAAAAAA8HJAAAAAAACwd0A=",
          "dtype": "f8"
         },
         "yaxis": "y"
        },
        {
         "legendgroup": "Maris444",
         "line": {
          "color": "#636efa",
          "dash": "solid"
         },
         "marker": {
          "size": 4,
          "symbol": "circle"
         },
         "mode": "lines+markers",
         "name": "Maris444",
         "opacity": 0.7,
         "orientation": "v",
         "showlegend": false,
         "type": "scatter",
         "x": [
          "r1",
          "r2",
          "r3",
          "r4",
          "r5",
          "r6",
          "r7"
         ],
         "xaxis": "x",
         "y": {
          "bdata": "AAAAAABwi0AAAAAAADB4QAAAAAAA4G9AAAAAAADAdUAAAAAAAFCCQAAAAAAAoHRAAAAAAACQdUA=",
          "dtype": "f8"
         },
         "yaxis": "y"
        },
        {
         "legendgroup": "Maris444",
         "line": {
          "color": "#636efa",
          "dash": "solid"
         },
         "marker": {
          "size": 4,
          "symbol": "circle"
         },
         "mode": "lines+markers",
         "name": "Maris444",
         "opacity": 0.7,
         "orientation": "v",
         "showlegend": false,
         "type": "scatter",
         "x": [
          "r1",
          "r2",
          "r3",
          "r4",
          "r5",
          "r6",
          "r7"
         ],
         "xaxis": "x2",
         "y": {
          "bdata": "AAAAAACgcEAAAAAAAGBtQAAAAAAA4G1AAAAAAABAbUAAAAAAAABtQAAAAAAAgGtAAAAAAAAgcUA=",
          "dtype": "f8"
         },
         "yaxis": "y2"
        },
        {
         "legendgroup": "Maris444",
         "line": {
          "color": "#636efa",
          "dash": "solid"
         },
         "marker": {
          "size": 4,
          "symbol": "circle"
         },
         "mode": "lines+markers",
         "name": "Maris444",
         "opacity": 0.7,
         "orientation": "v",
         "showlegend": false,
         "type": "scatter",
         "x": [
          "r1",
          "r2",
          "r3",
          "r4",
          "r5",
          "r7"
         ],
         "xaxis": "x3",
         "y": {
          "bdata": "AAAAAAAIgEAAAAAAAPBzQAAAAAAAAGtAAAAAAADgaUAAAAAAAIBpQAAAAAAAIHJA",
          "dtype": "f8"
         },
         "yaxis": "y3"
        }
       ],
       "layout": {
        "annotations": [
         {
          "font": {},
          "showarrow": false,
          "text": "practice",
          "x": 0.15999999999999998,
          "xanchor": "center",
          "xref": "paper",
          "y": 1,
          "yanchor": "bottom",
          "yref": "paper"
         },
         {
          "font": {},
          "showarrow": false,
          "text": "exclusive",
          "x": 0.49999999999999994,
          "xanchor": "center",
          "xref": "paper",
          "y": 1,
          "yanchor": "bottom",
          "yref": "paper"
         },
         {
          "font": {},
          "showarrow": false,
          "text": "other-directed-x",
          "x": 0.8399999999999999,
          "xanchor": "center",
          "xref": "paper",
          "y": 1,
          "yanchor": "bottom",
          "yref": "paper"
         }
        ],
        "height": 400,
        "legend": {
         "title": {
          "text": "Participant"
         },
         "tracegroupgap": 0
        },
        "template": {
         "data": {
          "bar": [
           {
            "error_x": {
             "color": "#2a3f5f"
            },
            "error_y": {
             "color": "#2a3f5f"
            },
            "marker": {
             "line": {
              "color": "#E5ECF6",
              "width": 0.5
             },
             "pattern": {
              "fillmode": "overlay",
              "size": 10,
              "solidity": 0.2
             }
            },
            "type": "bar"
           }
          ],
          "barpolar": [
           {
            "marker": {
             "line": {
              "color": "#E5ECF6",
              "width": 0.5
             },
             "pattern": {
              "fillmode": "overlay",
              "size": 10,
              "solidity": 0.2
             }
            },
            "type": "barpolar"
           }
          ],
          "carpet": [
           {
            "aaxis": {
             "endlinecolor": "#2a3f5f",
             "gridcolor": "white",
             "linecolor": "white",
             "minorgridcolor": "white",
             "startlinecolor": "#2a3f5f"
            },
            "baxis": {
             "endlinecolor": "#2a3f5f",
             "gridcolor": "white",
             "linecolor": "white",
             "minorgridcolor": "white",
             "startlinecolor": "#2a3f5f"
            },
            "type": "carpet"
           }
          ],
          "choropleth": [
           {
            "colorbar": {
             "outlinewidth": 0,
             "ticks": ""
            },
            "type": "choropleth"
           }
          ],
          "contour": [
           {
            "colorbar": {
             "outlinewidth": 0,
             "ticks": ""
            },
            "colorscale": [
             [
              0,
              "#0d0887"
             ],
             [
              0.1111111111111111,
              "#46039f"
             ],
             [
              0.2222222222222222,
              "#7201a8"
             ],
             [
              0.3333333333333333,
              "#9c179e"
             ],
             [
              0.4444444444444444,
              "#bd3786"
             ],
             [
              0.5555555555555556,
              "#d8576b"
             ],
             [
              0.6666666666666666,
              "#ed7953"
             ],
             [
              0.7777777777777778,
              "#fb9f3a"
             ],
             [
              0.8888888888888888,
              "#fdca26"
             ],
             [
              1,
              "#f0f921"
             ]
            ],
            "type": "contour"
           }
          ],
          "contourcarpet": [
           {
            "colorbar": {
             "outlinewidth": 0,
             "ticks": ""
            },
            "type": "contourcarpet"
           }
          ],
          "heatmap": [
           {
            "colorbar": {
             "outlinewidth": 0,
             "ticks": ""
            },
            "colorscale": [
             [
              0,
              "#0d0887"
             ],
             [
              0.1111111111111111,
              "#46039f"
             ],
             [
              0.2222222222222222,
              "#7201a8"
             ],
             [
              0.3333333333333333,
              "#9c179e"
             ],
             [
              0.4444444444444444,
              "#bd3786"
             ],
             [
              0.5555555555555556,
              "#d8576b"
             ],
             [
              0.6666666666666666,
              "#ed7953"
             ],
             [
              0.7777777777777778,
              "#fb9f3a"
             ],
             [
              0.8888888888888888,
              "#fdca26"
             ],
             [
              1,
              "#f0f921"
             ]
            ],
            "type": "heatmap"
           }
          ],
          "histogram": [
           {
            "marker": {
             "pattern": {
              "fillmode": "overlay",
              "size": 10,
              "solidity": 0.2
             }
            },
            "type": "histogram"
           }
          ],
          "histogram2d": [
           {
            "colorbar": {
             "outlinewidth": 0,
             "ticks": ""
            },
            "colorscale": [
             [
              0,
              "#0d0887"
             ],
             [
              0.1111111111111111,
              "#46039f"
             ],
             [
              0.2222222222222222,
              "#7201a8"
             ],
             [
              0.3333333333333333,
              "#9c179e"
             ],
             [
              0.4444444444444444,
              "#bd3786"
             ],
             [
              0.5555555555555556,
              "#d8576b"
             ],
             [
              0.6666666666666666,
              "#ed7953"
             ],
             [
              0.7777777777777778,
              "#fb9f3a"
             ],
             [
              0.8888888888888888,
              "#fdca26"
             ],
             [
              1,
              "#f0f921"
             ]
            ],
            "type": "histogram2d"
           }
          ],
          "histogram2dcontour": [
           {
            "colorbar": {
             "outlinewidth": 0,
             "ticks": ""
            },
            "colorscale": [
             [
              0,
              "#0d0887"
             ],
             [
              0.1111111111111111,
              "#46039f"
             ],
             [
              0.2222222222222222,
              "#7201a8"
             ],
             [
              0.3333333333333333,
              "#9c179e"
             ],
             [
              0.4444444444444444,
              "#bd3786"
             ],
             [
              0.5555555555555556,
              "#d8576b"
             ],
             [
              0.6666666666666666,
              "#ed7953"
             ],
             [
              0.7777777777777778,
              "#fb9f3a"
             ],
             [
              0.8888888888888888,
              "#fdca26"
             ],
             [
              1,
              "#f0f921"
             ]
            ],
            "type": "histogram2dcontour"
           }
          ],
          "mesh3d": [
           {
            "colorbar": {
             "outlinewidth": 0,
             "ticks": ""
            },
            "type": "mesh3d"
           }
          ],
          "parcoords": [
           {
            "line": {
             "colorbar": {
              "outlinewidth": 0,
              "ticks": ""
             }
            },
            "type": "parcoords"
           }
          ],
          "pie": [
           {
            "automargin": true,
            "type": "pie"
           }
          ],
          "scatter": [
           {
            "fillpattern": {
             "fillmode": "overlay",
             "size": 10,
             "solidity": 0.2
            },
            "type": "scatter"
           }
          ],
          "scatter3d": [
           {
            "line": {
             "colorbar": {
              "outlinewidth": 0,
              "ticks": ""
             }
            },
            "marker": {
             "colorbar": {
              "outlinewidth": 0,
              "ticks": ""
             }
            },
            "type": "scatter3d"
           }
          ],
          "scattercarpet": [
           {
            "marker": {
             "colorbar": {
              "outlinewidth": 0,
              "ticks": ""
             }
            },
            "type": "scattercarpet"
           }
          ],
          "scattergeo": [
           {
            "marker": {
             "colorbar": {
              "outlinewidth": 0,
              "ticks": ""
             }
            },
            "type": "scattergeo"
           }
          ],
          "scattergl": [
           {
            "marker": {
             "colorbar": {
              "outlinewidth": 0,
              "ticks": ""
             }
            },
            "type": "scattergl"
           }
          ],
          "scattermap": [
           {
            "marker": {
             "colorbar": {
              "outlinewidth": 0,
              "ticks": ""
             }
            },
            "type": "scattermap"
           }
          ],
          "scattermapbox": [
           {
            "marker": {
             "colorbar": {
              "outlinewidth": 0,
              "ticks": ""
             }
            },
            "type": "scattermapbox"
           }
          ],
          "scatterpolar": [
           {
            "marker": {
             "colorbar": {
              "outlinewidth": 0,
              "ticks": ""
             }
            },
            "type": "scatterpolar"
           }
          ],
          "scatterpolargl": [
           {
            "marker": {
             "colorbar": {
              "outlinewidth": 0,
              "ticks": ""
             }
            },
            "type": "scatterpolargl"
           }
          ],
          "scatterternary": [
           {
            "marker": {
             "colorbar": {
              "outlinewidth": 0,
              "ticks": ""
             }
            },
            "type": "scatterternary"
           }
          ],
          "surface": [
           {
            "colorbar": {
             "outlinewidth": 0,
             "ticks": ""
            },
            "colorscale": [
             [
              0,
              "#0d0887"
             ],
             [
              0.1111111111111111,
              "#46039f"
             ],
             [
              0.2222222222222222,
              "#7201a8"
             ],
             [
              0.3333333333333333,
              "#9c179e"
             ],
             [
              0.4444444444444444,
              "#bd3786"
             ],
             [
              0.5555555555555556,
              "#d8576b"
             ],
             [
              0.6666666666666666,
              "#ed7953"
             ],
             [
              0.7777777777777778,
              "#fb9f3a"
             ],
             [
              0.8888888888888888,
              "#fdca26"
             ],
             [
              1,
              "#f0f921"
             ]
            ],
            "type": "surface"
           }
          ],
          "table": [
           {
            "cells": {
             "fill": {
              "color": "#EBF0F8"
             },
             "line": {
              "color": "white"
             }
            },
            "header": {
             "fill": {
              "color": "#C8D4E3"
             },
             "line": {
              "color": "white"
             }
            },
            "type": "table"
           }
          ]
         },
         "layout": {
          "annotationdefaults": {
           "arrowcolor": "#2a3f5f",
           "arrowhead": 0,
           "arrowwidth": 1
          },
          "autotypenumbers": "strict",
          "coloraxis": {
           "colorbar": {
            "outlinewidth": 0,
            "ticks": ""
           }
          },
          "colorscale": {
           "diverging": [
            [
             0,
             "#8e0152"
            ],
            [
             0.1,
             "#c51b7d"
            ],
            [
             0.2,
             "#de77ae"
            ],
            [
             0.3,
             "#f1b6da"
            ],
            [
             0.4,
             "#fde0ef"
            ],
            [
             0.5,
             "#f7f7f7"
            ],
            [
             0.6,
             "#e6f5d0"
            ],
            [
             0.7,
             "#b8e186"
            ],
            [
             0.8,
             "#7fbc41"
            ],
            [
             0.9,
             "#4d9221"
            ],
            [
             1,
             "#276419"
            ]
           ],
           "sequential": [
            [
             0,
             "#0d0887"
            ],
            [
             0.1111111111111111,
             "#46039f"
            ],
            [
             0.2222222222222222,
             "#7201a8"
            ],
            [
             0.3333333333333333,
             "#9c179e"
            ],
            [
             0.4444444444444444,
             "#bd3786"
            ],
            [
             0.5555555555555556,
             "#d8576b"
            ],
            [
             0.6666666666666666,
             "#ed7953"
            ],
            [
             0.7777777777777778,
             "#fb9f3a"
            ],
            [
             0.8888888888888888,
             "#fdca26"
            ],
            [
             1,
             "#f0f921"
            ]
           ],
           "sequentialminus": [
            [
             0,
             "#0d0887"
            ],
            [
             0.1111111111111111,
             "#46039f"
            ],
            [
             0.2222222222222222,
             "#7201a8"
            ],
            [
             0.3333333333333333,
             "#9c179e"
            ],
            [
             0.4444444444444444,
             "#bd3786"
            ],
            [
             0.5555555555555556,
             "#d8576b"
            ],
            [
             0.6666666666666666,
             "#ed7953"
            ],
            [
             0.7777777777777778,
             "#fb9f3a"
            ],
            [
             0.8888888888888888,
             "#fdca26"
            ],
            [
             1,
             "#f0f921"
            ]
           ]
          },
          "colorway": [
           "#636efa",
           "#EF553B",
           "#00cc96",
           "#ab63fa",
           "#FFA15A",
           "#19d3f3",
           "#FF6692",
           "#B6E880",
           "#FF97FF",
           "#FECB52"
          ],
          "font": {
           "color": "#2a3f5f"
          },
          "geo": {
           "bgcolor": "white",
           "lakecolor": "white",
           "landcolor": "#E5ECF6",
           "showlakes": true,
           "showland": true,
           "subunitcolor": "white"
          },
          "hoverlabel": {
           "align": "left"
          },
          "hovermode": "closest",
          "mapbox": {
           "style": "light"
          },
          "paper_bgcolor": "white",
          "plot_bgcolor": "#E5ECF6",
          "polar": {
           "angularaxis": {
            "gridcolor": "white",
            "linecolor": "white",
            "ticks": ""
           },
           "bgcolor": "#E5ECF6",
           "radialaxis": {
            "gridcolor": "white",
            "linecolor": "white",
            "ticks": ""
           }
          },
          "scene": {
           "xaxis": {
            "backgroundcolor": "#E5ECF6",
            "gridcolor": "white",
            "gridwidth": 2,
            "linecolor": "white",
            "showbackground": true,
            "ticks": "",
            "zerolinecolor": "white"
           },
           "yaxis": {
            "backgroundcolor": "#E5ECF6",
            "gridcolor": "white",
            "gridwidth": 2,
            "linecolor": "white",
            "showbackground": true,
            "ticks": "",
            "zerolinecolor": "white"
           },
           "zaxis": {
            "backgroundcolor": "#E5ECF6",
            "gridcolor": "white",
            "gridwidth": 2,
            "linecolor": "white",
            "showbackground": true,
            "ticks": "",
            "zerolinecolor": "white"
           }
          },
          "shapedefaults": {
           "line": {
            "color": "#2a3f5f"
           }
          },
          "ternary": {
           "aaxis": {
            "gridcolor": "white",
            "linecolor": "white",
            "ticks": ""
           },
           "baxis": {
            "gridcolor": "white",
            "linecolor": "white",
            "ticks": ""
           },
           "bgcolor": "#E5ECF6",
           "caxis": {
            "gridcolor": "white",
            "linecolor": "white",
            "ticks": ""
           }
          },
          "title": {
           "x": 0.05
          },
          "xaxis": {
           "automargin": true,
           "gridcolor": "white",
           "linecolor": "white",
           "ticks": "",
           "title": {
            "standoff": 15
           },
           "zerolinecolor": "white",
           "zerolinewidth": 2
          },
          "yaxis": {
           "automargin": true,
           "gridcolor": "white",
           "linecolor": "white",
           "ticks": "",
           "title": {
            "standoff": 15
           },
           "zerolinecolor": "white",
           "zerolinewidth": 2
          }
         }
        },
        "title": {
         "text": "Reading times per item (each item = one line), faceted by condition, colored by participant"
        },
        "xaxis": {
         "anchor": "y",
         "categoryarray": [
          "r1",
          "r2",
          "r3",
          "r4",
          "r5",
          "r6",
          "r7"
         ],
         "categoryorder": "array",
         "domain": [
          0,
          0.31999999999999995
         ],
         "title": {
          "text": "Region"
         }
        },
        "xaxis2": {
         "anchor": "y2",
         "categoryarray": [
          "r1",
          "r2",
          "r3",
          "r4",
          "r5",
          "r6",
          "r7"
         ],
         "categoryorder": "array",
         "domain": [
          0.33999999999999997,
          0.6599999999999999
         ],
         "matches": "x",
         "title": {
          "text": "Region"
         }
        },
        "xaxis3": {
         "anchor": "y3",
         "categoryarray": [
          "r1",
          "r2",
          "r3",
          "r4",
          "r5",
          "r6",
          "r7"
         ],
         "categoryorder": "array",
         "domain": [
          0.6799999999999999,
          0.9999999999999999
         ],
         "matches": "x",
         "title": {
          "text": "Region"
         }
        },
        "yaxis": {
         "anchor": "x",
         "domain": [
          0,
          1
         ],
         "title": {
          "text": "Reading time (ms)"
         }
        },
        "yaxis2": {
         "anchor": "x2",
         "domain": [
          0,
          1
         ],
         "matches": "y",
         "showticklabels": false
        },
        "yaxis3": {
         "anchor": "x3",
         "domain": [
          0,
          1
         ],
         "matches": "y",
         "showticklabels": false
        }
       }
      }
     },
     "metadata": {},
     "output_type": "display_data"
    }
   ],
   "source": [
    "# Replot: every item as an individual line, faceted by condition, color by participant\n",
    "import plotly.express as px\n",
    "\n",
    "# Rebuild melted if needed (one row per participant × item × region)\n",
    "region_cols = [c for c in longform.columns if re.match(r\"r\\d+$\", c)]\n",
    "plot_df = longform.melt(\n",
    "    id_vars=['participant_id', 'no', 'condition'],\n",
    "    value_vars=region_cols,\n",
    "    var_name='region',\n",
    "    value_name='reading_time'\n",
    ").dropna(subset=['reading_time'])\n",
    "\n",
    "# Ensure region order\n",
    "full_region_order = [f\"r{i}\" for i in range(1, 8)]\n",
    "plot_df['region'] = pd.Categorical(plot_df['region'], categories=full_region_order, ordered=True)\n",
    "\n",
    "# Create a unique line id per item (so each item is its own trace) and keep color = participant\n",
    "plot_df['pid_item'] = plot_df['participant_id'].astype(str) + ' | no ' + plot_df['no'].astype(str)\n",
    "\n",
    "fig = px.line(\n",
    "    plot_df,\n",
    "    x='region',\n",
    "    y='reading_time',\n",
    "    color='participant_id',        # color by participant\n",
    "    line_group='pid_item',         # each item -> separate connected line\n",
    "    facet_col='condition',\n",
    "    category_orders={'region': full_region_order},\n",
    "    markers=True,\n",
    "    title='Reading times per item (each item = one line), faceted by condition, colored by participant',\n",
    "    labels={'reading_time': 'Reading time (ms)', 'region': 'Region'}\n",
    ")\n",
    "\n",
    "fig.update_traces(mode='lines+markers', marker={'size':4}, opacity=0.7, hovertemplate=None)\n",
    "fig.update_layout(legend_title_text='Participant', height=400)\n",
    "fig.for_each_annotation(lambda a: a.update(text=a.text.split(\"=\")[-1]))  # simplify facet labels\n",
    "fig.show()"
   ]
  },
  {
   "cell_type": "code",
   "execution_count": 345,
   "id": "59ec59f3",
   "metadata": {},
   "outputs": [
    {
     "data": {
      "application/vnd.plotly.v1+json": {
       "config": {
        "plotlyServerURL": "https://plot.ly"
       },
       "data": [
        {
         "connectgaps": true,
         "error_y": {
          "array": {
           "bdata": "AAAAAAAA+H8AAAAAAAD4fwAAAAAAAPh/AAAAAAAA+H8AAAAAAAD4fwAAAAAAAPh/AAAAAAAA+H8=",
           "dtype": "f8"
          }
         },
         "hovertemplate": "condition=exclusive<br>Region=%{x}<br>Mean Reading Time (ms)=%{y}<extra></extra>",
         "legendgroup": "exclusive",
         "line": {
          "color": "#636efa",
          "dash": "solid",
          "width": 2
         },
         "marker": {
          "size": 6,
          "symbol": "circle"
         },
         "mode": "lines+markers",
         "name": "exclusive",
         "opacity": 0.85,
         "orientation": "v",
         "showlegend": true,
         "type": "scatter",
         "x": [
          "r1",
          "r2",
          "r3",
          "r4",
          "r5",
          "r6",
          "r7"
         ],
         "xaxis": "x",
         "y": {
          "bdata": "AAAAAACgcEAAAAAAAGBtQAAAAAAA4G1AAAAAAABAbUAAAAAAAABtQAAAAAAAgGtAAAAAAAAgcUA=",
          "dtype": "f8"
         },
         "yaxis": "y"
        },
        {
         "connectgaps": true,
         "error_y": {
          "array": {
           "bdata": "AAAAAAAA+H8AAAAAAAD4fwAAAAAAAPh/AAAAAAAA+H8AAAAAAAD4fwAAAAAAAPh/",
           "dtype": "f8"
          }
         },
         "hovertemplate": "condition=other-directed-x<br>Region=%{x}<br>Mean Reading Time (ms)=%{y}<extra></extra>",
         "legendgroup": "other-directed-x",
         "line": {
          "color": "#EF553B",
          "dash": "solid",
          "width": 2
         },
         "marker": {
          "size": 6,
          "symbol": "circle"
         },
         "mode": "lines+markers",
         "name": "other-directed-x",
         "opacity": 0.85,
         "orientation": "v",
         "showlegend": true,
         "type": "scatter",
         "x": [
          "r1",
          "r2",
          "r3",
          "r4",
          "r5",
          "r7"
         ],
         "xaxis": "x2",
         "y": {
          "bdata": "AAAAAAAIgEAAAAAAAPBzQAAAAAAAAGtAAAAAAADgaUAAAAAAAIBpQAAAAAAAIHJA",
          "dtype": "f8"
         },
         "yaxis": "y2"
        },
        {
         "connectgaps": true,
         "error_y": {
          "array": {
           "bdata": "H0l/6izHdUDKy7YDQaBXQDCpQpt2hDVAI8yzfQNmSUDuk+pl5VtoQK2FUyOjHkFA0z1BJkcwRkA=",
           "dtype": "f8"
          }
         },
         "hovertemplate": "condition=practice<br>Region=%{x}<br>Mean Reading Time (ms)=%{y}<extra></extra>",
         "legendgroup": "practice",
         "line": {
          "color": "#00cc96",
          "dash": "solid",
          "width": 2
         },
         "marker": {
          "size": 6,
          "symbol": "circle"
         },
         "mode": "lines+markers",
         "name": "practice",
         "opacity": 0.85,
         "orientation": "v",
         "showlegend": true,
         "type": "scatter",
         "x": [
          "r1",
          "r2",
          "r3",
          "r4",
          "r5",
          "r6",
          "r7"
         ],
         "xaxis": "x3",
         "y": {
          "bdata": "q6qqqqq6fUAAAAAAAGBxQAAAAAAAQG1AVVVVVVVlckAAAAAAAJB2QFVVVVVVpXJAVVVVVVUldUA=",
          "dtype": "f8"
         },
         "yaxis": "y3"
        }
       ],
       "layout": {
        "annotations": [
         {
          "font": {},
          "showarrow": false,
          "text": "condition=exclusive",
          "x": 0.15999999999999998,
          "xanchor": "center",
          "xref": "paper",
          "y": 1,
          "yanchor": "bottom",
          "yref": "paper"
         },
         {
          "font": {},
          "showarrow": false,
          "text": "condition=other-directed-x",
          "x": 0.49999999999999994,
          "xanchor": "center",
          "xref": "paper",
          "y": 1,
          "yanchor": "bottom",
          "yref": "paper"
         },
         {
          "font": {},
          "showarrow": false,
          "text": "condition=practice",
          "x": 0.8399999999999999,
          "xanchor": "center",
          "xref": "paper",
          "y": 1,
          "yanchor": "bottom",
          "yref": "paper"
         }
        ],
        "legend": {
         "title": {
          "text": "Condition"
         },
         "tracegroupgap": 0
        },
        "template": {
         "data": {
          "bar": [
           {
            "error_x": {
             "color": "#2a3f5f"
            },
            "error_y": {
             "color": "#2a3f5f"
            },
            "marker": {
             "line": {
              "color": "#E5ECF6",
              "width": 0.5
             },
             "pattern": {
              "fillmode": "overlay",
              "size": 10,
              "solidity": 0.2
             }
            },
            "type": "bar"
           }
          ],
          "barpolar": [
           {
            "marker": {
             "line": {
              "color": "#E5ECF6",
              "width": 0.5
             },
             "pattern": {
              "fillmode": "overlay",
              "size": 10,
              "solidity": 0.2
             }
            },
            "type": "barpolar"
           }
          ],
          "carpet": [
           {
            "aaxis": {
             "endlinecolor": "#2a3f5f",
             "gridcolor": "white",
             "linecolor": "white",
             "minorgridcolor": "white",
             "startlinecolor": "#2a3f5f"
            },
            "baxis": {
             "endlinecolor": "#2a3f5f",
             "gridcolor": "white",
             "linecolor": "white",
             "minorgridcolor": "white",
             "startlinecolor": "#2a3f5f"
            },
            "type": "carpet"
           }
          ],
          "choropleth": [
           {
            "colorbar": {
             "outlinewidth": 0,
             "ticks": ""
            },
            "type": "choropleth"
           }
          ],
          "contour": [
           {
            "colorbar": {
             "outlinewidth": 0,
             "ticks": ""
            },
            "colorscale": [
             [
              0,
              "#0d0887"
             ],
             [
              0.1111111111111111,
              "#46039f"
             ],
             [
              0.2222222222222222,
              "#7201a8"
             ],
             [
              0.3333333333333333,
              "#9c179e"
             ],
             [
              0.4444444444444444,
              "#bd3786"
             ],
             [
              0.5555555555555556,
              "#d8576b"
             ],
             [
              0.6666666666666666,
              "#ed7953"
             ],
             [
              0.7777777777777778,
              "#fb9f3a"
             ],
             [
              0.8888888888888888,
              "#fdca26"
             ],
             [
              1,
              "#f0f921"
             ]
            ],
            "type": "contour"
           }
          ],
          "contourcarpet": [
           {
            "colorbar": {
             "outlinewidth": 0,
             "ticks": ""
            },
            "type": "contourcarpet"
           }
          ],
          "heatmap": [
           {
            "colorbar": {
             "outlinewidth": 0,
             "ticks": ""
            },
            "colorscale": [
             [
              0,
              "#0d0887"
             ],
             [
              0.1111111111111111,
              "#46039f"
             ],
             [
              0.2222222222222222,
              "#7201a8"
             ],
             [
              0.3333333333333333,
              "#9c179e"
             ],
             [
              0.4444444444444444,
              "#bd3786"
             ],
             [
              0.5555555555555556,
              "#d8576b"
             ],
             [
              0.6666666666666666,
              "#ed7953"
             ],
             [
              0.7777777777777778,
              "#fb9f3a"
             ],
             [
              0.8888888888888888,
              "#fdca26"
             ],
             [
              1,
              "#f0f921"
             ]
            ],
            "type": "heatmap"
           }
          ],
          "histogram": [
           {
            "marker": {
             "pattern": {
              "fillmode": "overlay",
              "size": 10,
              "solidity": 0.2
             }
            },
            "type": "histogram"
           }
          ],
          "histogram2d": [
           {
            "colorbar": {
             "outlinewidth": 0,
             "ticks": ""
            },
            "colorscale": [
             [
              0,
              "#0d0887"
             ],
             [
              0.1111111111111111,
              "#46039f"
             ],
             [
              0.2222222222222222,
              "#7201a8"
             ],
             [
              0.3333333333333333,
              "#9c179e"
             ],
             [
              0.4444444444444444,
              "#bd3786"
             ],
             [
              0.5555555555555556,
              "#d8576b"
             ],
             [
              0.6666666666666666,
              "#ed7953"
             ],
             [
              0.7777777777777778,
              "#fb9f3a"
             ],
             [
              0.8888888888888888,
              "#fdca26"
             ],
             [
              1,
              "#f0f921"
             ]
            ],
            "type": "histogram2d"
           }
          ],
          "histogram2dcontour": [
           {
            "colorbar": {
             "outlinewidth": 0,
             "ticks": ""
            },
            "colorscale": [
             [
              0,
              "#0d0887"
             ],
             [
              0.1111111111111111,
              "#46039f"
             ],
             [
              0.2222222222222222,
              "#7201a8"
             ],
             [
              0.3333333333333333,
              "#9c179e"
             ],
             [
              0.4444444444444444,
              "#bd3786"
             ],
             [
              0.5555555555555556,
              "#d8576b"
             ],
             [
              0.6666666666666666,
              "#ed7953"
             ],
             [
              0.7777777777777778,
              "#fb9f3a"
             ],
             [
              0.8888888888888888,
              "#fdca26"
             ],
             [
              1,
              "#f0f921"
             ]
            ],
            "type": "histogram2dcontour"
           }
          ],
          "mesh3d": [
           {
            "colorbar": {
             "outlinewidth": 0,
             "ticks": ""
            },
            "type": "mesh3d"
           }
          ],
          "parcoords": [
           {
            "line": {
             "colorbar": {
              "outlinewidth": 0,
              "ticks": ""
             }
            },
            "type": "parcoords"
           }
          ],
          "pie": [
           {
            "automargin": true,
            "type": "pie"
           }
          ],
          "scatter": [
           {
            "fillpattern": {
             "fillmode": "overlay",
             "size": 10,
             "solidity": 0.2
            },
            "type": "scatter"
           }
          ],
          "scatter3d": [
           {
            "line": {
             "colorbar": {
              "outlinewidth": 0,
              "ticks": ""
             }
            },
            "marker": {
             "colorbar": {
              "outlinewidth": 0,
              "ticks": ""
             }
            },
            "type": "scatter3d"
           }
          ],
          "scattercarpet": [
           {
            "marker": {
             "colorbar": {
              "outlinewidth": 0,
              "ticks": ""
             }
            },
            "type": "scattercarpet"
           }
          ],
          "scattergeo": [
           {
            "marker": {
             "colorbar": {
              "outlinewidth": 0,
              "ticks": ""
             }
            },
            "type": "scattergeo"
           }
          ],
          "scattergl": [
           {
            "marker": {
             "colorbar": {
              "outlinewidth": 0,
              "ticks": ""
             }
            },
            "type": "scattergl"
           }
          ],
          "scattermap": [
           {
            "marker": {
             "colorbar": {
              "outlinewidth": 0,
              "ticks": ""
             }
            },
            "type": "scattermap"
           }
          ],
          "scattermapbox": [
           {
            "marker": {
             "colorbar": {
              "outlinewidth": 0,
              "ticks": ""
             }
            },
            "type": "scattermapbox"
           }
          ],
          "scatterpolar": [
           {
            "marker": {
             "colorbar": {
              "outlinewidth": 0,
              "ticks": ""
             }
            },
            "type": "scatterpolar"
           }
          ],
          "scatterpolargl": [
           {
            "marker": {
             "colorbar": {
              "outlinewidth": 0,
              "ticks": ""
             }
            },
            "type": "scatterpolargl"
           }
          ],
          "scatterternary": [
           {
            "marker": {
             "colorbar": {
              "outlinewidth": 0,
              "ticks": ""
             }
            },
            "type": "scatterternary"
           }
          ],
          "surface": [
           {
            "colorbar": {
             "outlinewidth": 0,
             "ticks": ""
            },
            "colorscale": [
             [
              0,
              "#0d0887"
             ],
             [
              0.1111111111111111,
              "#46039f"
             ],
             [
              0.2222222222222222,
              "#7201a8"
             ],
             [
              0.3333333333333333,
              "#9c179e"
             ],
             [
              0.4444444444444444,
              "#bd3786"
             ],
             [
              0.5555555555555556,
              "#d8576b"
             ],
             [
              0.6666666666666666,
              "#ed7953"
             ],
             [
              0.7777777777777778,
              "#fb9f3a"
             ],
             [
              0.8888888888888888,
              "#fdca26"
             ],
             [
              1,
              "#f0f921"
             ]
            ],
            "type": "surface"
           }
          ],
          "table": [
           {
            "cells": {
             "fill": {
              "color": "#EBF0F8"
             },
             "line": {
              "color": "white"
             }
            },
            "header": {
             "fill": {
              "color": "#C8D4E3"
             },
             "line": {
              "color": "white"
             }
            },
            "type": "table"
           }
          ]
         },
         "layout": {
          "annotationdefaults": {
           "arrowcolor": "#2a3f5f",
           "arrowhead": 0,
           "arrowwidth": 1
          },
          "autotypenumbers": "strict",
          "coloraxis": {
           "colorbar": {
            "outlinewidth": 0,
            "ticks": ""
           }
          },
          "colorscale": {
           "diverging": [
            [
             0,
             "#8e0152"
            ],
            [
             0.1,
             "#c51b7d"
            ],
            [
             0.2,
             "#de77ae"
            ],
            [
             0.3,
             "#f1b6da"
            ],
            [
             0.4,
             "#fde0ef"
            ],
            [
             0.5,
             "#f7f7f7"
            ],
            [
             0.6,
             "#e6f5d0"
            ],
            [
             0.7,
             "#b8e186"
            ],
            [
             0.8,
             "#7fbc41"
            ],
            [
             0.9,
             "#4d9221"
            ],
            [
             1,
             "#276419"
            ]
           ],
           "sequential": [
            [
             0,
             "#0d0887"
            ],
            [
             0.1111111111111111,
             "#46039f"
            ],
            [
             0.2222222222222222,
             "#7201a8"
            ],
            [
             0.3333333333333333,
             "#9c179e"
            ],
            [
             0.4444444444444444,
             "#bd3786"
            ],
            [
             0.5555555555555556,
             "#d8576b"
            ],
            [
             0.6666666666666666,
             "#ed7953"
            ],
            [
             0.7777777777777778,
             "#fb9f3a"
            ],
            [
             0.8888888888888888,
             "#fdca26"
            ],
            [
             1,
             "#f0f921"
            ]
           ],
           "sequentialminus": [
            [
             0,
             "#0d0887"
            ],
            [
             0.1111111111111111,
             "#46039f"
            ],
            [
             0.2222222222222222,
             "#7201a8"
            ],
            [
             0.3333333333333333,
             "#9c179e"
            ],
            [
             0.4444444444444444,
             "#bd3786"
            ],
            [
             0.5555555555555556,
             "#d8576b"
            ],
            [
             0.6666666666666666,
             "#ed7953"
            ],
            [
             0.7777777777777778,
             "#fb9f3a"
            ],
            [
             0.8888888888888888,
             "#fdca26"
            ],
            [
             1,
             "#f0f921"
            ]
           ]
          },
          "colorway": [
           "#636efa",
           "#EF553B",
           "#00cc96",
           "#ab63fa",
           "#FFA15A",
           "#19d3f3",
           "#FF6692",
           "#B6E880",
           "#FF97FF",
           "#FECB52"
          ],
          "font": {
           "color": "#2a3f5f"
          },
          "geo": {
           "bgcolor": "white",
           "lakecolor": "white",
           "landcolor": "#E5ECF6",
           "showlakes": true,
           "showland": true,
           "subunitcolor": "white"
          },
          "hoverlabel": {
           "align": "left"
          },
          "hovermode": "closest",
          "mapbox": {
           "style": "light"
          },
          "paper_bgcolor": "white",
          "plot_bgcolor": "#E5ECF6",
          "polar": {
           "angularaxis": {
            "gridcolor": "white",
            "linecolor": "white",
            "ticks": ""
           },
           "bgcolor": "#E5ECF6",
           "radialaxis": {
            "gridcolor": "white",
            "linecolor": "white",
            "ticks": ""
           }
          },
          "scene": {
           "xaxis": {
            "backgroundcolor": "#E5ECF6",
            "gridcolor": "white",
            "gridwidth": 2,
            "linecolor": "white",
            "showbackground": true,
            "ticks": "",
            "zerolinecolor": "white"
           },
           "yaxis": {
            "backgroundcolor": "#E5ECF6",
            "gridcolor": "white",
            "gridwidth": 2,
            "linecolor": "white",
            "showbackground": true,
            "ticks": "",
            "zerolinecolor": "white"
           },
           "zaxis": {
            "backgroundcolor": "#E5ECF6",
            "gridcolor": "white",
            "gridwidth": 2,
            "linecolor": "white",
            "showbackground": true,
            "ticks": "",
            "zerolinecolor": "white"
           }
          },
          "shapedefaults": {
           "line": {
            "color": "#2a3f5f"
           }
          },
          "ternary": {
           "aaxis": {
            "gridcolor": "white",
            "linecolor": "white",
            "ticks": ""
           },
           "baxis": {
            "gridcolor": "white",
            "linecolor": "white",
            "ticks": ""
           },
           "bgcolor": "#E5ECF6",
           "caxis": {
            "gridcolor": "white",
            "linecolor": "white",
            "ticks": ""
           }
          },
          "title": {
           "x": 0.05
          },
          "xaxis": {
           "automargin": true,
           "gridcolor": "white",
           "linecolor": "white",
           "ticks": "",
           "title": {
            "standoff": 15
           },
           "zerolinecolor": "white",
           "zerolinewidth": 2
          },
          "yaxis": {
           "automargin": true,
           "gridcolor": "white",
           "linecolor": "white",
           "ticks": "",
           "title": {
            "standoff": 15
           },
           "zerolinecolor": "white",
           "zerolinewidth": 2
          }
         }
        },
        "title": {
         "text": "Mean Reading Times per Region<br>(Error Bars = Across-Participant Std Dev, Faceted by Condition)"
        },
        "xaxis": {
         "anchor": "y",
         "categoryarray": [
          "r1",
          "r2",
          "r3",
          "r4",
          "r5",
          "r6",
          "r7"
         ],
         "categoryorder": "array",
         "domain": [
          0,
          0.31999999999999995
         ],
         "title": {
          "text": "Region"
         }
        },
        "xaxis2": {
         "anchor": "y2",
         "categoryarray": [
          "r1",
          "r2",
          "r3",
          "r4",
          "r5",
          "r6",
          "r7"
         ],
         "categoryorder": "array",
         "domain": [
          0.33999999999999997,
          0.6599999999999999
         ],
         "matches": "x",
         "title": {
          "text": "Region"
         }
        },
        "xaxis3": {
         "anchor": "y3",
         "categoryarray": [
          "r1",
          "r2",
          "r3",
          "r4",
          "r5",
          "r6",
          "r7"
         ],
         "categoryorder": "array",
         "domain": [
          0.6799999999999999,
          0.9999999999999999
         ],
         "matches": "x",
         "title": {
          "text": "Region"
         }
        },
        "yaxis": {
         "anchor": "x",
         "domain": [
          0,
          1
         ],
         "title": {
          "text": "Mean reading time (ms)"
         }
        },
        "yaxis2": {
         "anchor": "x2",
         "domain": [
          0,
          1
         ],
         "matches": "y",
         "showticklabels": false,
         "title": {
          "text": "Mean reading time (ms)"
         }
        },
        "yaxis3": {
         "anchor": "x3",
         "domain": [
          0,
          1
         ],
         "matches": "y",
         "showticklabels": false,
         "title": {
          "text": "Mean reading time (ms)"
         }
        }
       }
      }
     },
     "metadata": {},
     "output_type": "display_data"
    },
    {
     "data": {
      "application/vnd.plotly.v1+json": {
       "config": {
        "plotlyServerURL": "https://plot.ly"
       },
       "data": [
        {
         "error_y": {
          "array": {
           "bdata": "AAAAAAAA+H8=",
           "dtype": "f8"
          }
         },
         "hovertemplate": "Condition=%{x}<br>Mean Question RT (ms)=%{y}<extra></extra>",
         "legendgroup": "other-directed-x",
         "marker": {
          "color": "#636efa",
          "pattern": {
           "shape": ""
          }
         },
         "name": "other-directed-x",
         "orientation": "v",
         "showlegend": true,
         "textposition": "auto",
         "type": "bar",
         "x": [
          "other-directed-x"
         ],
         "xaxis": "x",
         "y": {
          "bdata": "AAAAAAA4g0A=",
          "dtype": "f8"
         },
         "yaxis": "y"
        },
        {
         "error_y": {
          "array": {
           "bdata": "AAAAAAAA+H8=",
           "dtype": "f8"
          }
         },
         "hovertemplate": "Condition=%{x}<br>Mean Question RT (ms)=%{y}<extra></extra>",
         "legendgroup": "practice",
         "marker": {
          "color": "#EF553B",
          "pattern": {
           "shape": ""
          }
         },
         "name": "practice",
         "orientation": "v",
         "showlegend": true,
         "textposition": "auto",
         "type": "bar",
         "x": [
          "practice"
         ],
         "xaxis": "x",
         "y": {
          "bdata": "AAAAAAAEqEA=",
          "dtype": "f8"
         },
         "yaxis": "y"
        }
       ],
       "layout": {
        "barmode": "relative",
        "legend": {
         "title": {
          "text": "Condition"
         },
         "tracegroupgap": 0
        },
        "template": {
         "data": {
          "bar": [
           {
            "error_x": {
             "color": "#2a3f5f"
            },
            "error_y": {
             "color": "#2a3f5f"
            },
            "marker": {
             "line": {
              "color": "#E5ECF6",
              "width": 0.5
             },
             "pattern": {
              "fillmode": "overlay",
              "size": 10,
              "solidity": 0.2
             }
            },
            "type": "bar"
           }
          ],
          "barpolar": [
           {
            "marker": {
             "line": {
              "color": "#E5ECF6",
              "width": 0.5
             },
             "pattern": {
              "fillmode": "overlay",
              "size": 10,
              "solidity": 0.2
             }
            },
            "type": "barpolar"
           }
          ],
          "carpet": [
           {
            "aaxis": {
             "endlinecolor": "#2a3f5f",
             "gridcolor": "white",
             "linecolor": "white",
             "minorgridcolor": "white",
             "startlinecolor": "#2a3f5f"
            },
            "baxis": {
             "endlinecolor": "#2a3f5f",
             "gridcolor": "white",
             "linecolor": "white",
             "minorgridcolor": "white",
             "startlinecolor": "#2a3f5f"
            },
            "type": "carpet"
           }
          ],
          "choropleth": [
           {
            "colorbar": {
             "outlinewidth": 0,
             "ticks": ""
            },
            "type": "choropleth"
           }
          ],
          "contour": [
           {
            "colorbar": {
             "outlinewidth": 0,
             "ticks": ""
            },
            "colorscale": [
             [
              0,
              "#0d0887"
             ],
             [
              0.1111111111111111,
              "#46039f"
             ],
             [
              0.2222222222222222,
              "#7201a8"
             ],
             [
              0.3333333333333333,
              "#9c179e"
             ],
             [
              0.4444444444444444,
              "#bd3786"
             ],
             [
              0.5555555555555556,
              "#d8576b"
             ],
             [
              0.6666666666666666,
              "#ed7953"
             ],
             [
              0.7777777777777778,
              "#fb9f3a"
             ],
             [
              0.8888888888888888,
              "#fdca26"
             ],
             [
              1,
              "#f0f921"
             ]
            ],
            "type": "contour"
           }
          ],
          "contourcarpet": [
           {
            "colorbar": {
             "outlinewidth": 0,
             "ticks": ""
            },
            "type": "contourcarpet"
           }
          ],
          "heatmap": [
           {
            "colorbar": {
             "outlinewidth": 0,
             "ticks": ""
            },
            "colorscale": [
             [
              0,
              "#0d0887"
             ],
             [
              0.1111111111111111,
              "#46039f"
             ],
             [
              0.2222222222222222,
              "#7201a8"
             ],
             [
              0.3333333333333333,
              "#9c179e"
             ],
             [
              0.4444444444444444,
              "#bd3786"
             ],
             [
              0.5555555555555556,
              "#d8576b"
             ],
             [
              0.6666666666666666,
              "#ed7953"
             ],
             [
              0.7777777777777778,
              "#fb9f3a"
             ],
             [
              0.8888888888888888,
              "#fdca26"
             ],
             [
              1,
              "#f0f921"
             ]
            ],
            "type": "heatmap"
           }
          ],
          "histogram": [
           {
            "marker": {
             "pattern": {
              "fillmode": "overlay",
              "size": 10,
              "solidity": 0.2
             }
            },
            "type": "histogram"
           }
          ],
          "histogram2d": [
           {
            "colorbar": {
             "outlinewidth": 0,
             "ticks": ""
            },
            "colorscale": [
             [
              0,
              "#0d0887"
             ],
             [
              0.1111111111111111,
              "#46039f"
             ],
             [
              0.2222222222222222,
              "#7201a8"
             ],
             [
              0.3333333333333333,
              "#9c179e"
             ],
             [
              0.4444444444444444,
              "#bd3786"
             ],
             [
              0.5555555555555556,
              "#d8576b"
             ],
             [
              0.6666666666666666,
              "#ed7953"
             ],
             [
              0.7777777777777778,
              "#fb9f3a"
             ],
             [
              0.8888888888888888,
              "#fdca26"
             ],
             [
              1,
              "#f0f921"
             ]
            ],
            "type": "histogram2d"
           }
          ],
          "histogram2dcontour": [
           {
            "colorbar": {
             "outlinewidth": 0,
             "ticks": ""
            },
            "colorscale": [
             [
              0,
              "#0d0887"
             ],
             [
              0.1111111111111111,
              "#46039f"
             ],
             [
              0.2222222222222222,
              "#7201a8"
             ],
             [
              0.3333333333333333,
              "#9c179e"
             ],
             [
              0.4444444444444444,
              "#bd3786"
             ],
             [
              0.5555555555555556,
              "#d8576b"
             ],
             [
              0.6666666666666666,
              "#ed7953"
             ],
             [
              0.7777777777777778,
              "#fb9f3a"
             ],
             [
              0.8888888888888888,
              "#fdca26"
             ],
             [
              1,
              "#f0f921"
             ]
            ],
            "type": "histogram2dcontour"
           }
          ],
          "mesh3d": [
           {
            "colorbar": {
             "outlinewidth": 0,
             "ticks": ""
            },
            "type": "mesh3d"
           }
          ],
          "parcoords": [
           {
            "line": {
             "colorbar": {
              "outlinewidth": 0,
              "ticks": ""
             }
            },
            "type": "parcoords"
           }
          ],
          "pie": [
           {
            "automargin": true,
            "type": "pie"
           }
          ],
          "scatter": [
           {
            "fillpattern": {
             "fillmode": "overlay",
             "size": 10,
             "solidity": 0.2
            },
            "type": "scatter"
           }
          ],
          "scatter3d": [
           {
            "line": {
             "colorbar": {
              "outlinewidth": 0,
              "ticks": ""
             }
            },
            "marker": {
             "colorbar": {
              "outlinewidth": 0,
              "ticks": ""
             }
            },
            "type": "scatter3d"
           }
          ],
          "scattercarpet": [
           {
            "marker": {
             "colorbar": {
              "outlinewidth": 0,
              "ticks": ""
             }
            },
            "type": "scattercarpet"
           }
          ],
          "scattergeo": [
           {
            "marker": {
             "colorbar": {
              "outlinewidth": 0,
              "ticks": ""
             }
            },
            "type": "scattergeo"
           }
          ],
          "scattergl": [
           {
            "marker": {
             "colorbar": {
              "outlinewidth": 0,
              "ticks": ""
             }
            },
            "type": "scattergl"
           }
          ],
          "scattermap": [
           {
            "marker": {
             "colorbar": {
              "outlinewidth": 0,
              "ticks": ""
             }
            },
            "type": "scattermap"
           }
          ],
          "scattermapbox": [
           {
            "marker": {
             "colorbar": {
              "outlinewidth": 0,
              "ticks": ""
             }
            },
            "type": "scattermapbox"
           }
          ],
          "scatterpolar": [
           {
            "marker": {
             "colorbar": {
              "outlinewidth": 0,
              "ticks": ""
             }
            },
            "type": "scatterpolar"
           }
          ],
          "scatterpolargl": [
           {
            "marker": {
             "colorbar": {
              "outlinewidth": 0,
              "ticks": ""
             }
            },
            "type": "scatterpolargl"
           }
          ],
          "scatterternary": [
           {
            "marker": {
             "colorbar": {
              "outlinewidth": 0,
              "ticks": ""
             }
            },
            "type": "scatterternary"
           }
          ],
          "surface": [
           {
            "colorbar": {
             "outlinewidth": 0,
             "ticks": ""
            },
            "colorscale": [
             [
              0,
              "#0d0887"
             ],
             [
              0.1111111111111111,
              "#46039f"
             ],
             [
              0.2222222222222222,
              "#7201a8"
             ],
             [
              0.3333333333333333,
              "#9c179e"
             ],
             [
              0.4444444444444444,
              "#bd3786"
             ],
             [
              0.5555555555555556,
              "#d8576b"
             ],
             [
              0.6666666666666666,
              "#ed7953"
             ],
             [
              0.7777777777777778,
              "#fb9f3a"
             ],
             [
              0.8888888888888888,
              "#fdca26"
             ],
             [
              1,
              "#f0f921"
             ]
            ],
            "type": "surface"
           }
          ],
          "table": [
           {
            "cells": {
             "fill": {
              "color": "#EBF0F8"
             },
             "line": {
              "color": "white"
             }
            },
            "header": {
             "fill": {
              "color": "#C8D4E3"
             },
             "line": {
              "color": "white"
             }
            },
            "type": "table"
           }
          ]
         },
         "layout": {
          "annotationdefaults": {
           "arrowcolor": "#2a3f5f",
           "arrowhead": 0,
           "arrowwidth": 1
          },
          "autotypenumbers": "strict",
          "coloraxis": {
           "colorbar": {
            "outlinewidth": 0,
            "ticks": ""
           }
          },
          "colorscale": {
           "diverging": [
            [
             0,
             "#8e0152"
            ],
            [
             0.1,
             "#c51b7d"
            ],
            [
             0.2,
             "#de77ae"
            ],
            [
             0.3,
             "#f1b6da"
            ],
            [
             0.4,
             "#fde0ef"
            ],
            [
             0.5,
             "#f7f7f7"
            ],
            [
             0.6,
             "#e6f5d0"
            ],
            [
             0.7,
             "#b8e186"
            ],
            [
             0.8,
             "#7fbc41"
            ],
            [
             0.9,
             "#4d9221"
            ],
            [
             1,
             "#276419"
            ]
           ],
           "sequential": [
            [
             0,
             "#0d0887"
            ],
            [
             0.1111111111111111,
             "#46039f"
            ],
            [
             0.2222222222222222,
             "#7201a8"
            ],
            [
             0.3333333333333333,
             "#9c179e"
            ],
            [
             0.4444444444444444,
             "#bd3786"
            ],
            [
             0.5555555555555556,
             "#d8576b"
            ],
            [
             0.6666666666666666,
             "#ed7953"
            ],
            [
             0.7777777777777778,
             "#fb9f3a"
            ],
            [
             0.8888888888888888,
             "#fdca26"
            ],
            [
             1,
             "#f0f921"
            ]
           ],
           "sequentialminus": [
            [
             0,
             "#0d0887"
            ],
            [
             0.1111111111111111,
             "#46039f"
            ],
            [
             0.2222222222222222,
             "#7201a8"
            ],
            [
             0.3333333333333333,
             "#9c179e"
            ],
            [
             0.4444444444444444,
             "#bd3786"
            ],
            [
             0.5555555555555556,
             "#d8576b"
            ],
            [
             0.6666666666666666,
             "#ed7953"
            ],
            [
             0.7777777777777778,
             "#fb9f3a"
            ],
            [
             0.8888888888888888,
             "#fdca26"
            ],
            [
             1,
             "#f0f921"
            ]
           ]
          },
          "colorway": [
           "#636efa",
           "#EF553B",
           "#00cc96",
           "#ab63fa",
           "#FFA15A",
           "#19d3f3",
           "#FF6692",
           "#B6E880",
           "#FF97FF",
           "#FECB52"
          ],
          "font": {
           "color": "#2a3f5f"
          },
          "geo": {
           "bgcolor": "white",
           "lakecolor": "white",
           "landcolor": "#E5ECF6",
           "showlakes": true,
           "showland": true,
           "subunitcolor": "white"
          },
          "hoverlabel": {
           "align": "left"
          },
          "hovermode": "closest",
          "mapbox": {
           "style": "light"
          },
          "paper_bgcolor": "white",
          "plot_bgcolor": "#E5ECF6",
          "polar": {
           "angularaxis": {
            "gridcolor": "white",
            "linecolor": "white",
            "ticks": ""
           },
           "bgcolor": "#E5ECF6",
           "radialaxis": {
            "gridcolor": "white",
            "linecolor": "white",
            "ticks": ""
           }
          },
          "scene": {
           "xaxis": {
            "backgroundcolor": "#E5ECF6",
            "gridcolor": "white",
            "gridwidth": 2,
            "linecolor": "white",
            "showbackground": true,
            "ticks": "",
            "zerolinecolor": "white"
           },
           "yaxis": {
            "backgroundcolor": "#E5ECF6",
            "gridcolor": "white",
            "gridwidth": 2,
            "linecolor": "white",
            "showbackground": true,
            "ticks": "",
            "zerolinecolor": "white"
           },
           "zaxis": {
            "backgroundcolor": "#E5ECF6",
            "gridcolor": "white",
            "gridwidth": 2,
            "linecolor": "white",
            "showbackground": true,
            "ticks": "",
            "zerolinecolor": "white"
           }
          },
          "shapedefaults": {
           "line": {
            "color": "#2a3f5f"
           }
          },
          "ternary": {
           "aaxis": {
            "gridcolor": "white",
            "linecolor": "white",
            "ticks": ""
           },
           "baxis": {
            "gridcolor": "white",
            "linecolor": "white",
            "ticks": ""
           },
           "bgcolor": "#E5ECF6",
           "caxis": {
            "gridcolor": "white",
            "linecolor": "white",
            "ticks": ""
           }
          },
          "title": {
           "x": 0.05
          },
          "xaxis": {
           "automargin": true,
           "gridcolor": "white",
           "linecolor": "white",
           "ticks": "",
           "title": {
            "standoff": 15
           },
           "zerolinecolor": "white",
           "zerolinewidth": 2
          },
          "yaxis": {
           "automargin": true,
           "gridcolor": "white",
           "linecolor": "white",
           "ticks": "",
           "title": {
            "standoff": 15
           },
           "zerolinecolor": "white",
           "zerolinewidth": 2
          }
         }
        },
        "title": {
         "text": "Mean Question RT by Condition (Error Bars = Std Dev)"
        },
        "xaxis": {
         "anchor": "y",
         "categoryarray": [
          "other-directed-x",
          "practice"
         ],
         "categoryorder": "array",
         "domain": [
          0,
          1
         ],
         "title": {
          "text": "Condition"
         }
        },
        "yaxis": {
         "anchor": "x",
         "domain": [
          0,
          1
         ],
         "title": {
          "text": "Mean Question RT (ms)"
         }
        }
       }
      }
     },
     "metadata": {},
     "output_type": "display_data"
    },
    {
     "data": {
      "application/vnd.plotly.v1+json": {
       "config": {
        "plotlyServerURL": "https://plot.ly"
       },
       "data": [
        {
         "error_y": {
          "array": {
           "bdata": "AAAAAAAA+H8=",
           "dtype": "f8"
          }
         },
         "hovertemplate": "Condition=%{x}<br>Mean Decision RT (ms)=%{y}<extra></extra>",
         "legendgroup": "exclusive",
         "marker": {
          "color": "#636efa",
          "pattern": {
           "shape": ""
          }
         },
         "name": "exclusive",
         "orientation": "v",
         "showlegend": true,
         "textposition": "auto",
         "type": "bar",
         "x": [
          "exclusive"
         ],
         "xaxis": "x",
         "y": {
          "bdata": "AAAAAACwikA=",
          "dtype": "f8"
         },
         "yaxis": "y"
        },
        {
         "error_y": {
          "array": {
           "bdata": "AAAAAAAA+H8=",
           "dtype": "f8"
          }
         },
         "hovertemplate": "Condition=%{x}<br>Mean Decision RT (ms)=%{y}<extra></extra>",
         "legendgroup": "other-directed-x",
         "marker": {
          "color": "#EF553B",
          "pattern": {
           "shape": ""
          }
         },
         "name": "other-directed-x",
         "orientation": "v",
         "showlegend": true,
         "textposition": "auto",
         "type": "bar",
         "x": [
          "other-directed-x"
         ],
         "xaxis": "x",
         "y": {
          "bdata": "AAAAAACgakA=",
          "dtype": "f8"
         },
         "yaxis": "y"
        },
        {
         "error_y": {
          "array": {
           "bdata": "tBrQO12zj0A=",
           "dtype": "f8"
          }
         },
         "hovertemplate": "Condition=%{x}<br>Mean Decision RT (ms)=%{y}<extra></extra>",
         "legendgroup": "practice",
         "marker": {
          "color": "#00cc96",
          "pattern": {
           "shape": ""
          }
         },
         "name": "practice",
         "orientation": "v",
         "showlegend": true,
         "textposition": "auto",
         "type": "bar",
         "x": [
          "practice"
         ],
         "xaxis": "x",
         "y": {
          "bdata": "AAAAAABkqEA=",
          "dtype": "f8"
         },
         "yaxis": "y"
        }
       ],
       "layout": {
        "barmode": "relative",
        "legend": {
         "title": {
          "text": "Condition"
         },
         "tracegroupgap": 0
        },
        "template": {
         "data": {
          "bar": [
           {
            "error_x": {
             "color": "#2a3f5f"
            },
            "error_y": {
             "color": "#2a3f5f"
            },
            "marker": {
             "line": {
              "color": "#E5ECF6",
              "width": 0.5
             },
             "pattern": {
              "fillmode": "overlay",
              "size": 10,
              "solidity": 0.2
             }
            },
            "type": "bar"
           }
          ],
          "barpolar": [
           {
            "marker": {
             "line": {
              "color": "#E5ECF6",
              "width": 0.5
             },
             "pattern": {
              "fillmode": "overlay",
              "size": 10,
              "solidity": 0.2
             }
            },
            "type": "barpolar"
           }
          ],
          "carpet": [
           {
            "aaxis": {
             "endlinecolor": "#2a3f5f",
             "gridcolor": "white",
             "linecolor": "white",
             "minorgridcolor": "white",
             "startlinecolor": "#2a3f5f"
            },
            "baxis": {
             "endlinecolor": "#2a3f5f",
             "gridcolor": "white",
             "linecolor": "white",
             "minorgridcolor": "white",
             "startlinecolor": "#2a3f5f"
            },
            "type": "carpet"
           }
          ],
          "choropleth": [
           {
            "colorbar": {
             "outlinewidth": 0,
             "ticks": ""
            },
            "type": "choropleth"
           }
          ],
          "contour": [
           {
            "colorbar": {
             "outlinewidth": 0,
             "ticks": ""
            },
            "colorscale": [
             [
              0,
              "#0d0887"
             ],
             [
              0.1111111111111111,
              "#46039f"
             ],
             [
              0.2222222222222222,
              "#7201a8"
             ],
             [
              0.3333333333333333,
              "#9c179e"
             ],
             [
              0.4444444444444444,
              "#bd3786"
             ],
             [
              0.5555555555555556,
              "#d8576b"
             ],
             [
              0.6666666666666666,
              "#ed7953"
             ],
             [
              0.7777777777777778,
              "#fb9f3a"
             ],
             [
              0.8888888888888888,
              "#fdca26"
             ],
             [
              1,
              "#f0f921"
             ]
            ],
            "type": "contour"
           }
          ],
          "contourcarpet": [
           {
            "colorbar": {
             "outlinewidth": 0,
             "ticks": ""
            },
            "type": "contourcarpet"
           }
          ],
          "heatmap": [
           {
            "colorbar": {
             "outlinewidth": 0,
             "ticks": ""
            },
            "colorscale": [
             [
              0,
              "#0d0887"
             ],
             [
              0.1111111111111111,
              "#46039f"
             ],
             [
              0.2222222222222222,
              "#7201a8"
             ],
             [
              0.3333333333333333,
              "#9c179e"
             ],
             [
              0.4444444444444444,
              "#bd3786"
             ],
             [
              0.5555555555555556,
              "#d8576b"
             ],
             [
              0.6666666666666666,
              "#ed7953"
             ],
             [
              0.7777777777777778,
              "#fb9f3a"
             ],
             [
              0.8888888888888888,
              "#fdca26"
             ],
             [
              1,
              "#f0f921"
             ]
            ],
            "type": "heatmap"
           }
          ],
          "histogram": [
           {
            "marker": {
             "pattern": {
              "fillmode": "overlay",
              "size": 10,
              "solidity": 0.2
             }
            },
            "type": "histogram"
           }
          ],
          "histogram2d": [
           {
            "colorbar": {
             "outlinewidth": 0,
             "ticks": ""
            },
            "colorscale": [
             [
              0,
              "#0d0887"
             ],
             [
              0.1111111111111111,
              "#46039f"
             ],
             [
              0.2222222222222222,
              "#7201a8"
             ],
             [
              0.3333333333333333,
              "#9c179e"
             ],
             [
              0.4444444444444444,
              "#bd3786"
             ],
             [
              0.5555555555555556,
              "#d8576b"
             ],
             [
              0.6666666666666666,
              "#ed7953"
             ],
             [
              0.7777777777777778,
              "#fb9f3a"
             ],
             [
              0.8888888888888888,
              "#fdca26"
             ],
             [
              1,
              "#f0f921"
             ]
            ],
            "type": "histogram2d"
           }
          ],
          "histogram2dcontour": [
           {
            "colorbar": {
             "outlinewidth": 0,
             "ticks": ""
            },
            "colorscale": [
             [
              0,
              "#0d0887"
             ],
             [
              0.1111111111111111,
              "#46039f"
             ],
             [
              0.2222222222222222,
              "#7201a8"
             ],
             [
              0.3333333333333333,
              "#9c179e"
             ],
             [
              0.4444444444444444,
              "#bd3786"
             ],
             [
              0.5555555555555556,
              "#d8576b"
             ],
             [
              0.6666666666666666,
              "#ed7953"
             ],
             [
              0.7777777777777778,
              "#fb9f3a"
             ],
             [
              0.8888888888888888,
              "#fdca26"
             ],
             [
              1,
              "#f0f921"
             ]
            ],
            "type": "histogram2dcontour"
           }
          ],
          "mesh3d": [
           {
            "colorbar": {
             "outlinewidth": 0,
             "ticks": ""
            },
            "type": "mesh3d"
           }
          ],
          "parcoords": [
           {
            "line": {
             "colorbar": {
              "outlinewidth": 0,
              "ticks": ""
             }
            },
            "type": "parcoords"
           }
          ],
          "pie": [
           {
            "automargin": true,
            "type": "pie"
           }
          ],
          "scatter": [
           {
            "fillpattern": {
             "fillmode": "overlay",
             "size": 10,
             "solidity": 0.2
            },
            "type": "scatter"
           }
          ],
          "scatter3d": [
           {
            "line": {
             "colorbar": {
              "outlinewidth": 0,
              "ticks": ""
             }
            },
            "marker": {
             "colorbar": {
              "outlinewidth": 0,
              "ticks": ""
             }
            },
            "type": "scatter3d"
           }
          ],
          "scattercarpet": [
           {
            "marker": {
             "colorbar": {
              "outlinewidth": 0,
              "ticks": ""
             }
            },
            "type": "scattercarpet"
           }
          ],
          "scattergeo": [
           {
            "marker": {
             "colorbar": {
              "outlinewidth": 0,
              "ticks": ""
             }
            },
            "type": "scattergeo"
           }
          ],
          "scattergl": [
           {
            "marker": {
             "colorbar": {
              "outlinewidth": 0,
              "ticks": ""
             }
            },
            "type": "scattergl"
           }
          ],
          "scattermap": [
           {
            "marker": {
             "colorbar": {
              "outlinewidth": 0,
              "ticks": ""
             }
            },
            "type": "scattermap"
           }
          ],
          "scattermapbox": [
           {
            "marker": {
             "colorbar": {
              "outlinewidth": 0,
              "ticks": ""
             }
            },
            "type": "scattermapbox"
           }
          ],
          "scatterpolar": [
           {
            "marker": {
             "colorbar": {
              "outlinewidth": 0,
              "ticks": ""
             }
            },
            "type": "scatterpolar"
           }
          ],
          "scatterpolargl": [
           {
            "marker": {
             "colorbar": {
              "outlinewidth": 0,
              "ticks": ""
             }
            },
            "type": "scatterpolargl"
           }
          ],
          "scatterternary": [
           {
            "marker": {
             "colorbar": {
              "outlinewidth": 0,
              "ticks": ""
             }
            },
            "type": "scatterternary"
           }
          ],
          "surface": [
           {
            "colorbar": {
             "outlinewidth": 0,
             "ticks": ""
            },
            "colorscale": [
             [
              0,
              "#0d0887"
             ],
             [
              0.1111111111111111,
              "#46039f"
             ],
             [
              0.2222222222222222,
              "#7201a8"
             ],
             [
              0.3333333333333333,
              "#9c179e"
             ],
             [
              0.4444444444444444,
              "#bd3786"
             ],
             [
              0.5555555555555556,
              "#d8576b"
             ],
             [
              0.6666666666666666,
              "#ed7953"
             ],
             [
              0.7777777777777778,
              "#fb9f3a"
             ],
             [
              0.8888888888888888,
              "#fdca26"
             ],
             [
              1,
              "#f0f921"
             ]
            ],
            "type": "surface"
           }
          ],
          "table": [
           {
            "cells": {
             "fill": {
              "color": "#EBF0F8"
             },
             "line": {
              "color": "white"
             }
            },
            "header": {
             "fill": {
              "color": "#C8D4E3"
             },
             "line": {
              "color": "white"
             }
            },
            "type": "table"
           }
          ]
         },
         "layout": {
          "annotationdefaults": {
           "arrowcolor": "#2a3f5f",
           "arrowhead": 0,
           "arrowwidth": 1
          },
          "autotypenumbers": "strict",
          "coloraxis": {
           "colorbar": {
            "outlinewidth": 0,
            "ticks": ""
           }
          },
          "colorscale": {
           "diverging": [
            [
             0,
             "#8e0152"
            ],
            [
             0.1,
             "#c51b7d"
            ],
            [
             0.2,
             "#de77ae"
            ],
            [
             0.3,
             "#f1b6da"
            ],
            [
             0.4,
             "#fde0ef"
            ],
            [
             0.5,
             "#f7f7f7"
            ],
            [
             0.6,
             "#e6f5d0"
            ],
            [
             0.7,
             "#b8e186"
            ],
            [
             0.8,
             "#7fbc41"
            ],
            [
             0.9,
             "#4d9221"
            ],
            [
             1,
             "#276419"
            ]
           ],
           "sequential": [
            [
             0,
             "#0d0887"
            ],
            [
             0.1111111111111111,
             "#46039f"
            ],
            [
             0.2222222222222222,
             "#7201a8"
            ],
            [
             0.3333333333333333,
             "#9c179e"
            ],
            [
             0.4444444444444444,
             "#bd3786"
            ],
            [
             0.5555555555555556,
             "#d8576b"
            ],
            [
             0.6666666666666666,
             "#ed7953"
            ],
            [
             0.7777777777777778,
             "#fb9f3a"
            ],
            [
             0.8888888888888888,
             "#fdca26"
            ],
            [
             1,
             "#f0f921"
            ]
           ],
           "sequentialminus": [
            [
             0,
             "#0d0887"
            ],
            [
             0.1111111111111111,
             "#46039f"
            ],
            [
             0.2222222222222222,
             "#7201a8"
            ],
            [
             0.3333333333333333,
             "#9c179e"
            ],
            [
             0.4444444444444444,
             "#bd3786"
            ],
            [
             0.5555555555555556,
             "#d8576b"
            ],
            [
             0.6666666666666666,
             "#ed7953"
            ],
            [
             0.7777777777777778,
             "#fb9f3a"
            ],
            [
             0.8888888888888888,
             "#fdca26"
            ],
            [
             1,
             "#f0f921"
            ]
           ]
          },
          "colorway": [
           "#636efa",
           "#EF553B",
           "#00cc96",
           "#ab63fa",
           "#FFA15A",
           "#19d3f3",
           "#FF6692",
           "#B6E880",
           "#FF97FF",
           "#FECB52"
          ],
          "font": {
           "color": "#2a3f5f"
          },
          "geo": {
           "bgcolor": "white",
           "lakecolor": "white",
           "landcolor": "#E5ECF6",
           "showlakes": true,
           "showland": true,
           "subunitcolor": "white"
          },
          "hoverlabel": {
           "align": "left"
          },
          "hovermode": "closest",
          "mapbox": {
           "style": "light"
          },
          "paper_bgcolor": "white",
          "plot_bgcolor": "#E5ECF6",
          "polar": {
           "angularaxis": {
            "gridcolor": "white",
            "linecolor": "white",
            "ticks": ""
           },
           "bgcolor": "#E5ECF6",
           "radialaxis": {
            "gridcolor": "white",
            "linecolor": "white",
            "ticks": ""
           }
          },
          "scene": {
           "xaxis": {
            "backgroundcolor": "#E5ECF6",
            "gridcolor": "white",
            "gridwidth": 2,
            "linecolor": "white",
            "showbackground": true,
            "ticks": "",
            "zerolinecolor": "white"
           },
           "yaxis": {
            "backgroundcolor": "#E5ECF6",
            "gridcolor": "white",
            "gridwidth": 2,
            "linecolor": "white",
            "showbackground": true,
            "ticks": "",
            "zerolinecolor": "white"
           },
           "zaxis": {
            "backgroundcolor": "#E5ECF6",
            "gridcolor": "white",
            "gridwidth": 2,
            "linecolor": "white",
            "showbackground": true,
            "ticks": "",
            "zerolinecolor": "white"
           }
          },
          "shapedefaults": {
           "line": {
            "color": "#2a3f5f"
           }
          },
          "ternary": {
           "aaxis": {
            "gridcolor": "white",
            "linecolor": "white",
            "ticks": ""
           },
           "baxis": {
            "gridcolor": "white",
            "linecolor": "white",
            "ticks": ""
           },
           "bgcolor": "#E5ECF6",
           "caxis": {
            "gridcolor": "white",
            "linecolor": "white",
            "ticks": ""
           }
          },
          "title": {
           "x": 0.05
          },
          "xaxis": {
           "automargin": true,
           "gridcolor": "white",
           "linecolor": "white",
           "ticks": "",
           "title": {
            "standoff": 15
           },
           "zerolinecolor": "white",
           "zerolinewidth": 2
          },
          "yaxis": {
           "automargin": true,
           "gridcolor": "white",
           "linecolor": "white",
           "ticks": "",
           "title": {
            "standoff": 15
           },
           "zerolinecolor": "white",
           "zerolinewidth": 2
          }
         }
        },
        "title": {
         "text": "Mean Decision RT by Condition (Error Bars = Std Dev)"
        },
        "xaxis": {
         "anchor": "y",
         "categoryarray": [
          "exclusive",
          "other-directed-x",
          "practice"
         ],
         "categoryorder": "array",
         "domain": [
          0,
          1
         ],
         "title": {
          "text": "Condition"
         }
        },
        "yaxis": {
         "anchor": "x",
         "domain": [
          0,
          1
         ],
         "title": {
          "text": "Mean Decision RT (ms)"
         }
        }
       }
      }
     },
     "metadata": {},
     "output_type": "display_data"
    }
   ],
   "source": [
    "# Recompute STDs here (do not rely on precomputed r?_std columns)\n",
    "import plotly.express as px\n",
    "\n",
    "# Melt longform to one row per participant × item × region \n",
    "region_cols = [c for c in longform.columns if re.match(r\"r\\d+$\", c)]\n",
    "melted = (\n",
    "    longform\n",
    "    .melt(id_vars=['participant_id', 'item', 'condition'],\n",
    "          value_vars=region_cols,\n",
    "          var_name='region',\n",
    "          value_name='reading_time')\n",
    "    .dropna(subset=['reading_time'])\n",
    ")\n",
    "\n",
    "# Per-participant (across items) mean and std for each region × condition\n",
    "pp_region_stats = (\n",
    "    melted\n",
    "    .groupby(['participant_id', 'condition', 'region'], as_index=False)\n",
    "    .reading_time.agg(reading_time_mean='mean', reading_time_std='std')\n",
    ")\n",
    "\n",
    "# Per-participant question/choice mean+std across items (if present)\n",
    "extras_pp = []\n",
    "if 'question_rt' in longform.columns:\n",
    "    q_pp = (\n",
    "        longform\n",
    "        .dropna(subset=['question_rt'])\n",
    "        .groupby(['participant_id', 'condition'], as_index=False)\n",
    "        .question_rt.agg(reading_time_mean='mean', reading_time_std='std')\n",
    "    )\n",
    "    q_pp['region'] = 'question'\n",
    "    extras_pp.append(q_pp[['participant_id','condition','region','reading_time_mean','reading_time_std']])\n",
    "\n",
    "if 'choice_rt' in longform.columns:\n",
    "    c_pp = (\n",
    "        longform\n",
    "        .dropna(subset=['choice_rt'])\n",
    "        .groupby(['participant_id', 'condition'], as_index=False)\n",
    "        .choice_rt.agg(reading_time_mean='mean', reading_time_std='std')\n",
    "    )\n",
    "    c_pp['region'] = 'choice'\n",
    "    extras_pp.append(c_pp[['participant_id','condition','region','reading_time_mean','reading_time_std']])\n",
    "\n",
    "if extras_pp:\n",
    "    pp_region_stats = pd.concat([pp_region_stats] + extras_pp, ignore_index=True, sort=False)\n",
    "\n",
    "# Now aggregate across participants: use participant-level means to compute group mean and across-participant std\n",
    "present_regions = pp_region_stats['region'].unique().tolist()\n",
    "full_region_order = [f\"r{i}\" for i in range(1, 8)]\n",
    "# keep consistent ordering and append extras if present\n",
    "present_regions = [r for r in full_region_order if r in present_regions] + [r for r in ['question','choice'] if r in pp_region_stats['region'].unique()]\n",
    "\n",
    "agg_plot = (\n",
    "    pp_region_stats\n",
    "    .groupby(['region', 'condition'], as_index=False)\n",
    "    .reading_time_mean.agg(mean_reading_time='mean', std_reading_time='std')\n",
    ")\n",
    "\n",
    "# --- INSERT FALLBACK STD COMPUTATION HERE ---\n",
    "# Use item-level (within-participant across-items) std as fallback when across-participant std is NaN\n",
    "std_items = melted.groupby(['condition', 'region'])['reading_time'].std().reset_index().rename(columns={'reading_time':'std_items'})\n",
    "\n",
    "if 'question_rt' in longform.columns:\n",
    "    std_q = longform.dropna(subset=['question_rt']).groupby('condition')['question_rt'].std().reset_index().rename(columns={'question_rt':'std_items'})\n",
    "    std_q['region'] = 'question'\n",
    "    std_items = pd.concat([std_items, std_q[['condition','region','std_items']]], ignore_index=True)\n",
    "\n",
    "if 'choice_rt' in longform.columns:\n",
    "    std_c = longform.dropna(subset=['choice_rt']).groupby('condition')['choice_rt'].std().reset_index().rename(columns={'choice_rt':'std_items'})\n",
    "    std_c['region'] = 'choice'\n",
    "    std_items = pd.concat([std_items, std_c[['condition','region','std_items']]], ignore_index=True)\n",
    "\n",
    "agg_plot = agg_plot.merge(std_items, on=['condition', 'region'], how='left')\n",
    "agg_plot['std_reading_time'] = agg_plot['std_reading_time'].fillna(agg_plot['std_items'])\n",
    "agg_plot.drop(columns=['std_items'], inplace=True)\n",
    "# --- END INSERT ---\n",
    "\n",
    "# Keep only present regions and set categorical ordering\n",
    "agg_plot = agg_plot[agg_plot['region'].isin(present_regions)].copy()\n",
    "agg_plot['region'] = pd.Categorical(agg_plot['region'], categories=present_regions, ordered=True)\n",
    "\n",
    "# Plot 1: Reading times for regions (r1..r7) — error bars are across-participant std of participant means\n",
    "region_only = agg_plot[agg_plot['region'].isin(full_region_order)]\n",
    "fig1 = px.line(\n",
    "    region_only,\n",
    "    x='region',\n",
    "    y='mean_reading_time',\n",
    "    error_y='std_reading_time',\n",
    "    color='condition',\n",
    "    facet_col='condition',\n",
    "    category_orders={'region': full_region_order},\n",
    "    title='Mean Reading Times per Region<br>(Error Bars = Across-Participant Std Dev, Faceted by Condition)',\n",
    "    labels={'mean_reading_time': 'Mean Reading Time (ms)', 'region': 'Region'}\n",
    ")\n",
    "fig1.update_traces(connectgaps=True, mode='lines+markers', marker={'size': 6}, line={'width': 2}, opacity=0.85)\n",
    "fig1.update_yaxes(title_text='Mean reading time (ms)')\n",
    "fig1.update_xaxes(title_text='Region')\n",
    "fig1.update_layout(legend_title_text='Condition')\n",
    "fig1.show()\n",
    "\n",
    "# Plot 2: Question RTs\n",
    "question_only = agg_plot[agg_plot['region'] == 'question']\n",
    "fig2 = px.bar(\n",
    "    question_only,\n",
    "    x='condition',\n",
    "    y='mean_reading_time',\n",
    "    error_y='std_reading_time',\n",
    "    color='condition',\n",
    "    title='Mean Question RT by Condition (Error Bars = Std Dev)',\n",
    "    labels={'mean_reading_time': 'Mean Question RT (ms)', 'condition': 'Condition'}\n",
    ")\n",
    "fig2.update_layout(legend_title_text='Condition')\n",
    "fig2.show()\n",
    "\n",
    "# Plot 3: Decision RTs\n",
    "choice_only = agg_plot[agg_plot['region'] == 'choice']\n",
    "fig3 = px.bar(\n",
    "    choice_only,\n",
    "    x='condition',\n",
    "    y='mean_reading_time',\n",
    "    error_y='std_reading_time',\n",
    "    color='condition',\n",
    "    title='Mean Decision RT by Condition (Error Bars = Std Dev)',\n",
    "    labels={'mean_reading_time': 'Mean Decision RT (ms)', 'condition': 'Condition'}\n",
    ")\n",
    "fig3.update_layout(legend_title_text='Condition')\n",
    "fig3.show()"
   ]
  },
  {
   "cell_type": "markdown",
   "id": "ca109956",
   "metadata": {},
   "source": [
    "## Eye-tracking"
   ]
  },
  {
   "cell_type": "code",
   "execution_count": 346,
   "id": "4b9fc625",
   "metadata": {},
   "outputs": [
    {
     "name": "stdout",
     "output_type": "stream",
     "text": [
      "Done!\n"
     ]
    }
   ],
   "source": [
    "import pandas as pd\n",
    "import requests\n",
    "from io import StringIO\n",
    "\n",
    "def download_and_save_eyetracking_data():\n",
    "    out_dir = 'eyetracking_data'\n",
    "    eturl = \"https://mondo1.dreamhosters.com/script.php?experiment=\"\n",
    "    for _, row in participants_df.iterrows():\n",
    "        et_filename = row['eyetracker_filename']\n",
    "        participant_id = row['participant_id']\n",
    "        if pd.notnull(et_filename) and pd.notnull(participant_id):\n",
    "            et_file = eturl + et_filename\n",
    "            try:\n",
    "                r = requests.get(et_file, timeout=15)\n",
    "                r.raise_for_status()\n",
    "                df_et = pd.read_csv(StringIO(r.text))\n",
    "                df_et.to_csv(f\"{out_dir}/{participant_id}.csv\", index=False)\n",
    "            except Exception as e:\n",
    "                print(f\"Failed for {participant_id}: {e}\")\n",
    "    print(\"Done!\")\n",
    "# Example usage:\n",
    "download_and_save_eyetracking_data()"
   ]
  },
  {
   "cell_type": "code",
   "execution_count": 347,
   "id": "cb81841a",
   "metadata": {},
   "outputs": [
    {
     "name": "stdout",
     "output_type": "stream",
     "text": [
      "All eyetracking files fixed and overwritten.\n"
     ]
    }
   ],
   "source": [
    "# Fix eyetracking csv trial numbering\n",
    "import os\n",
    "import pandas as pd\n",
    "from glob import glob\n",
    "\n",
    "et_dir = os.path.join(ROOT, 'eyetracking_data')\n",
    "\n",
    "for csv_file in glob(os.path.join(et_dir, '*.csv')):\n",
    "    df = pd.read_csv(csv_file)\n",
    "    # Apply fix_trial_numbering WITHOUT changing row order\n",
    "    trial_col = 'trial' if 'trial' in df.columns else [c for c in df.columns if 'trial' in c][0]\n",
    "    # Map 9,10,11 to 6,7,8\n",
    "    mapping = {9: 6, 10: 7, 11: 8}\n",
    "    df[trial_col] = df[trial_col].replace(mapping)\n",
    "    # Find the index of the last occurrence of 8\n",
    "    last_mapped_idx = df[df[trial_col] == 8].index.max()\n",
    "    if last_mapped_idx is not None and last_mapped_idx + 1 < len(df):\n",
    "        next_trial = 10\n",
    "        prev_trial_val = None\n",
    "        for i in range(last_mapped_idx + 1, len(df)):\n",
    "            current_trial_val = df.at[i, trial_col]\n",
    "            if prev_trial_val is not None and current_trial_val != prev_trial_val:\n",
    "                next_trial += 1\n",
    "            df.at[i, trial_col] = next_trial\n",
    "            prev_trial_val = current_trial_val\n",
    "    df.to_csv(csv_file, index=False)\n",
    "print(\"All eyetracking files fixed and overwritten.\")"
   ]
  },
  {
   "cell_type": "code",
   "execution_count": 348,
   "id": "fb88d771",
   "metadata": {},
   "outputs": [
    {
     "data": {
      "application/vnd.microsoft.datawrangler.viewer.v0+json": {
       "columns": [
        {
         "name": "index",
         "rawType": "int64",
         "type": "integer"
        },
        {
         "name": "participant_id",
         "rawType": "object",
         "type": "string"
        },
        {
         "name": "trial",
         "rawType": "int64",
         "type": "integer"
        },
        {
         "name": "dominant",
         "rawType": "object",
         "type": "string"
        },
        {
         "name": "prop_left",
         "rawType": "float64",
         "type": "float"
        },
        {
         "name": "prop_right",
         "rawType": "float64",
         "type": "float"
        },
        {
         "name": "total_dwell",
         "rawType": "float64",
         "type": "float"
        },
        {
         "name": "dwell_left",
         "rawType": "float64",
         "type": "float"
        },
        {
         "name": "dwell_right",
         "rawType": "float64",
         "type": "float"
        },
        {
         "name": "n_fix_left",
         "rawType": "int64",
         "type": "integer"
        },
        {
         "name": "n_fix_right",
         "rawType": "int64",
         "type": "integer"
        },
        {
         "name": "transitions",
         "rawType": "int32",
         "type": "integer"
        }
       ],
       "ref": "c1947f4a-d5c2-4ada-bb2b-9a63c347a674",
       "rows": [
        [
         "0",
         "Gabor111",
         "6",
         "left",
         "0.73",
         "0.27",
         "4.03",
         "2.951",
         "1.081",
         "2",
         "1",
         "2"
        ],
        [
         "1",
         "Gabor111",
         "7",
         "right",
         "0.45",
         "0.55",
         "14.29",
         "6.433",
         "7.853",
         "13",
         "14",
         "26"
        ],
        [
         "2",
         "Gabor111",
         "8",
         "left",
         "0.61",
         "0.39",
         "6.38",
         "3.893",
         "2.486",
         "15",
         "14",
         "28"
        ],
        [
         "3",
         "Gabor222",
         "6",
         "left",
         "0.53",
         "0.47",
         "8.84",
         "4.725",
         "4.117",
         "2",
         "2",
         "3"
        ],
        [
         "4",
         "Gabor222",
         "7",
         "right",
         "0.22",
         "0.78",
         "2.32",
         "0.515",
         "1.805",
         "4",
         "5",
         "8"
        ],
        [
         "5",
         "Gabor222",
         "8",
         "left",
         "0.59",
         "0.41",
         "11.7",
         "6.901",
         "4.8",
         "12",
         "12",
         "23"
        ],
        [
         "6",
         "Maris111",
         "6",
         "left",
         "0.98",
         "0.02",
         "4.58",
         "4.484",
         "0.094",
         "2",
         "1",
         "2"
        ],
        [
         "7",
         "Maris111",
         "7",
         "right",
         "0.43",
         "0.57",
         "9.75",
         "4.154",
         "5.601",
         "7",
         "6",
         "12"
        ],
        [
         "8",
         "Maris111",
         "8",
         "left",
         "0.52",
         "0.48",
         "13.71",
         "7.187",
         "6.524",
         "11",
         "11",
         "21"
        ],
        [
         "9",
         "Maris111",
         "10",
         "left",
         "0.79",
         "0.21",
         "3.8",
         "2.987",
         "0.816",
         "3",
         "2",
         "4"
        ],
        [
         "10",
         "Maris222",
         "6",
         "right",
         null,
         null,
         null,
         "2.297",
         null,
         "1",
         "0",
         "0"
        ],
        [
         "11",
         "Maris222",
         "7",
         "right",
         "0.5",
         "0.5",
         "12.23",
         "6.101",
         "6.127",
         "20",
         "21",
         "40"
        ],
        [
         "12",
         "Maris222",
         "8",
         "left",
         "0.53",
         "0.47",
         "15.02",
         "7.97",
         "7.049",
         "16",
         "15",
         "30"
        ],
        [
         "13",
         "Maris222",
         "10",
         "right",
         "0.43",
         "0.57",
         "5.65",
         "2.44",
         "3.209",
         "7",
         "7",
         "13"
        ],
        [
         "14",
         "Maris444",
         "6",
         "left",
         "0.7",
         "0.3",
         "3.08",
         "2.167",
         "0.918",
         "2",
         "1",
         "2"
        ],
        [
         "15",
         "Maris444",
         "7",
         "right",
         "0.48",
         "0.52",
         "5.56",
         "2.673",
         "2.89",
         "7",
         "8",
         "14"
        ],
        [
         "16",
         "Maris444",
         "8",
         "right",
         "0.46",
         "0.54",
         "7.73",
         "3.584",
         "4.149",
         "8",
         "9",
         "16"
        ],
        [
         "17",
         "Maris444",
         "10",
         "right",
         "0.36",
         "0.64",
         "1.3",
         "0.467",
         "0.833",
         "2",
         "3",
         "4"
        ],
        [
         "18",
         "Maris444",
         "11",
         "right",
         "0.34",
         "0.66",
         "1.76",
         "0.601",
         "1.158",
         "2",
         "3",
         "4"
        ],
        [
         "19",
         "Yun777",
         "6",
         "right",
         "0.5",
         "0.5",
         "8.56",
         "4.264",
         "4.291",
         "7",
         "8",
         "14"
        ],
        [
         "20",
         "Yun777",
         "7",
         "right",
         "0.44",
         "0.56",
         "7.95",
         "3.489",
         "4.459",
         "9",
         "10",
         "18"
        ],
        [
         "21",
         "Yun777",
         "8",
         "right",
         "0.49",
         "0.51",
         "4.4",
         "2.171",
         "2.229",
         "7",
         "8",
         "14"
        ],
        [
         "22",
         "Yun999",
         "6",
         "left",
         "0.81",
         "0.19",
         "1.78",
         "1.446",
         "0.331",
         "1",
         "1",
         "1"
        ],
        [
         "23",
         "Yun999",
         "7",
         "right",
         "0.47",
         "0.53",
         "4.75",
         "2.223",
         "2.524",
         "5",
         "6",
         "10"
        ],
        [
         "24",
         "Yun999",
         "8",
         "left",
         "0.5",
         "0.5",
         "15.22",
         "7.655",
         "7.561",
         "6",
         "5",
         "10"
        ]
       ],
       "shape": {
        "columns": 11,
        "rows": 25
       }
      },
      "text/html": [
       "<div>\n",
       "<style scoped>\n",
       "    .dataframe tbody tr th:only-of-type {\n",
       "        vertical-align: middle;\n",
       "    }\n",
       "\n",
       "    .dataframe tbody tr th {\n",
       "        vertical-align: top;\n",
       "    }\n",
       "\n",
       "    .dataframe thead th {\n",
       "        text-align: right;\n",
       "    }\n",
       "</style>\n",
       "<table border=\"1\" class=\"dataframe\">\n",
       "  <thead>\n",
       "    <tr style=\"text-align: right;\">\n",
       "      <th></th>\n",
       "      <th>participant_id</th>\n",
       "      <th>trial</th>\n",
       "      <th>dominant</th>\n",
       "      <th>prop_left</th>\n",
       "      <th>prop_right</th>\n",
       "      <th>total_dwell</th>\n",
       "      <th>dwell_left</th>\n",
       "      <th>dwell_right</th>\n",
       "      <th>n_fix_left</th>\n",
       "      <th>n_fix_right</th>\n",
       "      <th>transitions</th>\n",
       "    </tr>\n",
       "  </thead>\n",
       "  <tbody>\n",
       "    <tr>\n",
       "      <th>0</th>\n",
       "      <td>Gabor111</td>\n",
       "      <td>6</td>\n",
       "      <td>left</td>\n",
       "      <td>0.73</td>\n",
       "      <td>0.27</td>\n",
       "      <td>4.03</td>\n",
       "      <td>2.951</td>\n",
       "      <td>1.081</td>\n",
       "      <td>2</td>\n",
       "      <td>1</td>\n",
       "      <td>2</td>\n",
       "    </tr>\n",
       "    <tr>\n",
       "      <th>1</th>\n",
       "      <td>Gabor111</td>\n",
       "      <td>7</td>\n",
       "      <td>right</td>\n",
       "      <td>0.45</td>\n",
       "      <td>0.55</td>\n",
       "      <td>14.29</td>\n",
       "      <td>6.433</td>\n",
       "      <td>7.853</td>\n",
       "      <td>13</td>\n",
       "      <td>14</td>\n",
       "      <td>26</td>\n",
       "    </tr>\n",
       "    <tr>\n",
       "      <th>2</th>\n",
       "      <td>Gabor111</td>\n",
       "      <td>8</td>\n",
       "      <td>left</td>\n",
       "      <td>0.61</td>\n",
       "      <td>0.39</td>\n",
       "      <td>6.38</td>\n",
       "      <td>3.893</td>\n",
       "      <td>2.486</td>\n",
       "      <td>15</td>\n",
       "      <td>14</td>\n",
       "      <td>28</td>\n",
       "    </tr>\n",
       "    <tr>\n",
       "      <th>3</th>\n",
       "      <td>Gabor222</td>\n",
       "      <td>6</td>\n",
       "      <td>left</td>\n",
       "      <td>0.53</td>\n",
       "      <td>0.47</td>\n",
       "      <td>8.84</td>\n",
       "      <td>4.725</td>\n",
       "      <td>4.117</td>\n",
       "      <td>2</td>\n",
       "      <td>2</td>\n",
       "      <td>3</td>\n",
       "    </tr>\n",
       "    <tr>\n",
       "      <th>4</th>\n",
       "      <td>Gabor222</td>\n",
       "      <td>7</td>\n",
       "      <td>right</td>\n",
       "      <td>0.22</td>\n",
       "      <td>0.78</td>\n",
       "      <td>2.32</td>\n",
       "      <td>0.515</td>\n",
       "      <td>1.805</td>\n",
       "      <td>4</td>\n",
       "      <td>5</td>\n",
       "      <td>8</td>\n",
       "    </tr>\n",
       "    <tr>\n",
       "      <th>5</th>\n",
       "      <td>Gabor222</td>\n",
       "      <td>8</td>\n",
       "      <td>left</td>\n",
       "      <td>0.59</td>\n",
       "      <td>0.41</td>\n",
       "      <td>11.70</td>\n",
       "      <td>6.901</td>\n",
       "      <td>4.800</td>\n",
       "      <td>12</td>\n",
       "      <td>12</td>\n",
       "      <td>23</td>\n",
       "    </tr>\n",
       "    <tr>\n",
       "      <th>6</th>\n",
       "      <td>Maris111</td>\n",
       "      <td>6</td>\n",
       "      <td>left</td>\n",
       "      <td>0.98</td>\n",
       "      <td>0.02</td>\n",
       "      <td>4.58</td>\n",
       "      <td>4.484</td>\n",
       "      <td>0.094</td>\n",
       "      <td>2</td>\n",
       "      <td>1</td>\n",
       "      <td>2</td>\n",
       "    </tr>\n",
       "    <tr>\n",
       "      <th>7</th>\n",
       "      <td>Maris111</td>\n",
       "      <td>7</td>\n",
       "      <td>right</td>\n",
       "      <td>0.43</td>\n",
       "      <td>0.57</td>\n",
       "      <td>9.75</td>\n",
       "      <td>4.154</td>\n",
       "      <td>5.601</td>\n",
       "      <td>7</td>\n",
       "      <td>6</td>\n",
       "      <td>12</td>\n",
       "    </tr>\n",
       "    <tr>\n",
       "      <th>8</th>\n",
       "      <td>Maris111</td>\n",
       "      <td>8</td>\n",
       "      <td>left</td>\n",
       "      <td>0.52</td>\n",
       "      <td>0.48</td>\n",
       "      <td>13.71</td>\n",
       "      <td>7.187</td>\n",
       "      <td>6.524</td>\n",
       "      <td>11</td>\n",
       "      <td>11</td>\n",
       "      <td>21</td>\n",
       "    </tr>\n",
       "    <tr>\n",
       "      <th>9</th>\n",
       "      <td>Maris111</td>\n",
       "      <td>10</td>\n",
       "      <td>left</td>\n",
       "      <td>0.79</td>\n",
       "      <td>0.21</td>\n",
       "      <td>3.80</td>\n",
       "      <td>2.987</td>\n",
       "      <td>0.816</td>\n",
       "      <td>3</td>\n",
       "      <td>2</td>\n",
       "      <td>4</td>\n",
       "    </tr>\n",
       "    <tr>\n",
       "      <th>10</th>\n",
       "      <td>Maris222</td>\n",
       "      <td>6</td>\n",
       "      <td>right</td>\n",
       "      <td>NaN</td>\n",
       "      <td>NaN</td>\n",
       "      <td>NaN</td>\n",
       "      <td>2.297</td>\n",
       "      <td>NaN</td>\n",
       "      <td>1</td>\n",
       "      <td>0</td>\n",
       "      <td>0</td>\n",
       "    </tr>\n",
       "    <tr>\n",
       "      <th>11</th>\n",
       "      <td>Maris222</td>\n",
       "      <td>7</td>\n",
       "      <td>right</td>\n",
       "      <td>0.50</td>\n",
       "      <td>0.50</td>\n",
       "      <td>12.23</td>\n",
       "      <td>6.101</td>\n",
       "      <td>6.127</td>\n",
       "      <td>20</td>\n",
       "      <td>21</td>\n",
       "      <td>40</td>\n",
       "    </tr>\n",
       "    <tr>\n",
       "      <th>12</th>\n",
       "      <td>Maris222</td>\n",
       "      <td>8</td>\n",
       "      <td>left</td>\n",
       "      <td>0.53</td>\n",
       "      <td>0.47</td>\n",
       "      <td>15.02</td>\n",
       "      <td>7.970</td>\n",
       "      <td>7.049</td>\n",
       "      <td>16</td>\n",
       "      <td>15</td>\n",
       "      <td>30</td>\n",
       "    </tr>\n",
       "    <tr>\n",
       "      <th>13</th>\n",
       "      <td>Maris222</td>\n",
       "      <td>10</td>\n",
       "      <td>right</td>\n",
       "      <td>0.43</td>\n",
       "      <td>0.57</td>\n",
       "      <td>5.65</td>\n",
       "      <td>2.440</td>\n",
       "      <td>3.209</td>\n",
       "      <td>7</td>\n",
       "      <td>7</td>\n",
       "      <td>13</td>\n",
       "    </tr>\n",
       "    <tr>\n",
       "      <th>14</th>\n",
       "      <td>Maris444</td>\n",
       "      <td>6</td>\n",
       "      <td>left</td>\n",
       "      <td>0.70</td>\n",
       "      <td>0.30</td>\n",
       "      <td>3.08</td>\n",
       "      <td>2.167</td>\n",
       "      <td>0.918</td>\n",
       "      <td>2</td>\n",
       "      <td>1</td>\n",
       "      <td>2</td>\n",
       "    </tr>\n",
       "    <tr>\n",
       "      <th>15</th>\n",
       "      <td>Maris444</td>\n",
       "      <td>7</td>\n",
       "      <td>right</td>\n",
       "      <td>0.48</td>\n",
       "      <td>0.52</td>\n",
       "      <td>5.56</td>\n",
       "      <td>2.673</td>\n",
       "      <td>2.890</td>\n",
       "      <td>7</td>\n",
       "      <td>8</td>\n",
       "      <td>14</td>\n",
       "    </tr>\n",
       "    <tr>\n",
       "      <th>16</th>\n",
       "      <td>Maris444</td>\n",
       "      <td>8</td>\n",
       "      <td>right</td>\n",
       "      <td>0.46</td>\n",
       "      <td>0.54</td>\n",
       "      <td>7.73</td>\n",
       "      <td>3.584</td>\n",
       "      <td>4.149</td>\n",
       "      <td>8</td>\n",
       "      <td>9</td>\n",
       "      <td>16</td>\n",
       "    </tr>\n",
       "    <tr>\n",
       "      <th>17</th>\n",
       "      <td>Maris444</td>\n",
       "      <td>10</td>\n",
       "      <td>right</td>\n",
       "      <td>0.36</td>\n",
       "      <td>0.64</td>\n",
       "      <td>1.30</td>\n",
       "      <td>0.467</td>\n",
       "      <td>0.833</td>\n",
       "      <td>2</td>\n",
       "      <td>3</td>\n",
       "      <td>4</td>\n",
       "    </tr>\n",
       "    <tr>\n",
       "      <th>18</th>\n",
       "      <td>Maris444</td>\n",
       "      <td>11</td>\n",
       "      <td>right</td>\n",
       "      <td>0.34</td>\n",
       "      <td>0.66</td>\n",
       "      <td>1.76</td>\n",
       "      <td>0.601</td>\n",
       "      <td>1.158</td>\n",
       "      <td>2</td>\n",
       "      <td>3</td>\n",
       "      <td>4</td>\n",
       "    </tr>\n",
       "    <tr>\n",
       "      <th>19</th>\n",
       "      <td>Yun777</td>\n",
       "      <td>6</td>\n",
       "      <td>right</td>\n",
       "      <td>0.50</td>\n",
       "      <td>0.50</td>\n",
       "      <td>8.56</td>\n",
       "      <td>4.264</td>\n",
       "      <td>4.291</td>\n",
       "      <td>7</td>\n",
       "      <td>8</td>\n",
       "      <td>14</td>\n",
       "    </tr>\n",
       "    <tr>\n",
       "      <th>20</th>\n",
       "      <td>Yun777</td>\n",
       "      <td>7</td>\n",
       "      <td>right</td>\n",
       "      <td>0.44</td>\n",
       "      <td>0.56</td>\n",
       "      <td>7.95</td>\n",
       "      <td>3.489</td>\n",
       "      <td>4.459</td>\n",
       "      <td>9</td>\n",
       "      <td>10</td>\n",
       "      <td>18</td>\n",
       "    </tr>\n",
       "    <tr>\n",
       "      <th>21</th>\n",
       "      <td>Yun777</td>\n",
       "      <td>8</td>\n",
       "      <td>right</td>\n",
       "      <td>0.49</td>\n",
       "      <td>0.51</td>\n",
       "      <td>4.40</td>\n",
       "      <td>2.171</td>\n",
       "      <td>2.229</td>\n",
       "      <td>7</td>\n",
       "      <td>8</td>\n",
       "      <td>14</td>\n",
       "    </tr>\n",
       "    <tr>\n",
       "      <th>22</th>\n",
       "      <td>Yun999</td>\n",
       "      <td>6</td>\n",
       "      <td>left</td>\n",
       "      <td>0.81</td>\n",
       "      <td>0.19</td>\n",
       "      <td>1.78</td>\n",
       "      <td>1.446</td>\n",
       "      <td>0.331</td>\n",
       "      <td>1</td>\n",
       "      <td>1</td>\n",
       "      <td>1</td>\n",
       "    </tr>\n",
       "    <tr>\n",
       "      <th>23</th>\n",
       "      <td>Yun999</td>\n",
       "      <td>7</td>\n",
       "      <td>right</td>\n",
       "      <td>0.47</td>\n",
       "      <td>0.53</td>\n",
       "      <td>4.75</td>\n",
       "      <td>2.223</td>\n",
       "      <td>2.524</td>\n",
       "      <td>5</td>\n",
       "      <td>6</td>\n",
       "      <td>10</td>\n",
       "    </tr>\n",
       "    <tr>\n",
       "      <th>24</th>\n",
       "      <td>Yun999</td>\n",
       "      <td>8</td>\n",
       "      <td>left</td>\n",
       "      <td>0.50</td>\n",
       "      <td>0.50</td>\n",
       "      <td>15.22</td>\n",
       "      <td>7.655</td>\n",
       "      <td>7.561</td>\n",
       "      <td>6</td>\n",
       "      <td>5</td>\n",
       "      <td>10</td>\n",
       "    </tr>\n",
       "  </tbody>\n",
       "</table>\n",
       "</div>"
      ],
      "text/plain": [
       "   participant_id  trial dominant  prop_left  prop_right  total_dwell  \\\n",
       "0        Gabor111      6     left       0.73        0.27         4.03   \n",
       "1        Gabor111      7    right       0.45        0.55        14.29   \n",
       "2        Gabor111      8     left       0.61        0.39         6.38   \n",
       "3        Gabor222      6     left       0.53        0.47         8.84   \n",
       "4        Gabor222      7    right       0.22        0.78         2.32   \n",
       "5        Gabor222      8     left       0.59        0.41        11.70   \n",
       "6        Maris111      6     left       0.98        0.02         4.58   \n",
       "7        Maris111      7    right       0.43        0.57         9.75   \n",
       "8        Maris111      8     left       0.52        0.48        13.71   \n",
       "9        Maris111     10     left       0.79        0.21         3.80   \n",
       "10       Maris222      6    right        NaN         NaN          NaN   \n",
       "11       Maris222      7    right       0.50        0.50        12.23   \n",
       "12       Maris222      8     left       0.53        0.47        15.02   \n",
       "13       Maris222     10    right       0.43        0.57         5.65   \n",
       "14       Maris444      6     left       0.70        0.30         3.08   \n",
       "15       Maris444      7    right       0.48        0.52         5.56   \n",
       "16       Maris444      8    right       0.46        0.54         7.73   \n",
       "17       Maris444     10    right       0.36        0.64         1.30   \n",
       "18       Maris444     11    right       0.34        0.66         1.76   \n",
       "19         Yun777      6    right       0.50        0.50         8.56   \n",
       "20         Yun777      7    right       0.44        0.56         7.95   \n",
       "21         Yun777      8    right       0.49        0.51         4.40   \n",
       "22         Yun999      6     left       0.81        0.19         1.78   \n",
       "23         Yun999      7    right       0.47        0.53         4.75   \n",
       "24         Yun999      8     left       0.50        0.50        15.22   \n",
       "\n",
       "    dwell_left  dwell_right  n_fix_left  n_fix_right  transitions  \n",
       "0        2.951        1.081           2            1            2  \n",
       "1        6.433        7.853          13           14           26  \n",
       "2        3.893        2.486          15           14           28  \n",
       "3        4.725        4.117           2            2            3  \n",
       "4        0.515        1.805           4            5            8  \n",
       "5        6.901        4.800          12           12           23  \n",
       "6        4.484        0.094           2            1            2  \n",
       "7        4.154        5.601           7            6           12  \n",
       "8        7.187        6.524          11           11           21  \n",
       "9        2.987        0.816           3            2            4  \n",
       "10       2.297          NaN           1            0            0  \n",
       "11       6.101        6.127          20           21           40  \n",
       "12       7.970        7.049          16           15           30  \n",
       "13       2.440        3.209           7            7           13  \n",
       "14       2.167        0.918           2            1            2  \n",
       "15       2.673        2.890           7            8           14  \n",
       "16       3.584        4.149           8            9           16  \n",
       "17       0.467        0.833           2            3            4  \n",
       "18       0.601        1.158           2            3            4  \n",
       "19       4.264        4.291           7            8           14  \n",
       "20       3.489        4.459           9           10           18  \n",
       "21       2.171        2.229           7            8           14  \n",
       "22       1.446        0.331           1            1            1  \n",
       "23       2.223        2.524           5            6           10  \n",
       "24       7.655        7.561           6            5           10  "
      ]
     },
     "execution_count": 348,
     "metadata": {},
     "output_type": "execute_result"
    }
   ],
   "source": [
    "# Eye tracking data with filtering out neutral gaze\n",
    "import os\n",
    "import pandas as pd\n",
    "import numpy as np\n",
    "import plotly.express as px\n",
    "from glob import glob\n",
    "\n",
    "# Directory containing eyetracking data\n",
    "et_dir = os.path.join(ROOT, 'eyetracking_data')\n",
    "\n",
    "# Helper to parse a single participant's eyetracking file\n",
    "def parse_eyetracking_file(filepath):\n",
    "    df = pd.read_csv(filepath)\n",
    "    # df = fix_trial_numbering(df).copy()\n",
    "    df.columns = [c.lower() for c in df.columns]\n",
    "    # Drop rows where both left and right canvas are 0 (neutral gaze) \n",
    "    df = df[~((df['_left_canvas'] == 0) & (df['_right_canvas'] == 0))].copy()\n",
    "    # Identify trial number\n",
    "    if 'trial' in df.columns:\n",
    "        trial_col = 'trial'\n",
    "    else:\n",
    "        trial_col = [c for c in df.columns if 'trial' in c][0]\n",
    "    return df, trial_col\n",
    "\n",
    "# Aggregate results for all participants except those to remove\n",
    "et_results = []\n",
    "for csv_file in glob(os.path.join(et_dir, '*.csv')):\n",
    "    participant_id = os.path.splitext(os.path.basename(csv_file))[0]\n",
    "    if participant_id in list_of_participants_to_remove:\n",
    "        continue\n",
    "    df, trial_col = parse_eyetracking_file(csv_file)\n",
    "    for trial, g in df.groupby(trial_col):\n",
    "        dwell_left = g.loc[g['_left_canvas'] == 1, 'times'].max() / 1000\n",
    "        dwell_right = g.loc[g['_right_canvas'] == 1, 'times'].max() / 1000\n",
    "        total_dwell = dwell_left + dwell_right\n",
    "        prop_left = dwell_left / total_dwell if total_dwell > 0 else np.nan\n",
    "        prop_right = dwell_right / total_dwell if total_dwell > 0 else np.nan\n",
    "        dominant = 'left' if dwell_left > dwell_right else 'right'\n",
    "        left_changes = (g['_left_canvas'] != g['_left_canvas'].shift()).astype(int)\n",
    "        n_fix_left = ((g['_left_canvas'] == 1) & (left_changes == 1)).sum()\n",
    "        right_changes = (g['_right_canvas'] != g['_right_canvas'].shift()).astype(int)\n",
    "        n_fix_right = ((g['_right_canvas'] == 1) & (right_changes == 1)).sum()\n",
    "        canvas_state = np.where(g['_left_canvas'] == 1, 'L', np.where(g['_right_canvas'] == 1, 'R', 'N'))\n",
    "        transitions = np.sum(canvas_state[1:] != canvas_state[:-1])\n",
    "        et_results.append({\n",
    "            'participant_id': participant_id,\n",
    "            'trial': trial,\n",
    "            'dominant': dominant,\n",
    "            'prop_left': round(prop_left, 2) if not np.isnan(prop_left) else np.nan,\n",
    "            'prop_right': round(prop_right, 2) if not np.isnan(prop_right) else np.nan,\n",
    "            'total_dwell': round(total_dwell, 2),\n",
    "            'dwell_left': dwell_left,\n",
    "            'dwell_right': dwell_right,\n",
    "            'n_fix_left': n_fix_left,\n",
    "            'n_fix_right': n_fix_right,\n",
    "            'transitions': transitions\n",
    "        })\n",
    "\n",
    "et_df = pd.DataFrame(et_results)\n",
    "\n",
    "# Remove certain participants\n",
    "et_df = et_df[~et_df['participant_id'].isin(list_of_participants_to_remove)]\n",
    "et_df"
   ]
  },
  {
   "cell_type": "markdown",
   "id": "36808edf",
   "metadata": {},
   "source": [
    "## Merge ET and behavioral data"
   ]
  },
  {
   "cell_type": "code",
   "execution_count": 349,
   "id": "c9e07804",
   "metadata": {},
   "outputs": [
    {
     "name": "stdout",
     "output_type": "stream",
     "text": [
      "participant_id\n",
      "Maris444    5\n",
      "Maris111    4\n",
      "Maris222    4\n",
      "Gabor111    3\n",
      "Gabor222    3\n",
      "Yun777      3\n",
      "Yun999      3\n",
      "Name: count, dtype: int64\n"
     ]
    }
   ],
   "source": [
    "# Print count values of participant_id \n",
    "print(et_df['participant_id'].value_counts())"
   ]
  },
  {
   "cell_type": "code",
   "execution_count": 350,
   "id": "de30f854",
   "metadata": {},
   "outputs": [
    {
     "name": "stdout",
     "output_type": "stream",
     "text": [
      "Warning: trial count mismatch for Gabor111 (region_mean: 0, et_df: 3)\n",
      "Warning: trial count mismatch for Gabor222 (region_mean: 0, et_df: 3)\n",
      "Warning: trial count mismatch for Maris111 (region_mean: 0, et_df: 4)\n",
      "Warning: trial count mismatch for Maris222 (region_mean: 0, et_df: 4)\n",
      "Warning: trial count mismatch for Yun777 (region_mean: 0, et_df: 3)\n",
      "Warning: trial count mismatch for Yun999 (region_mean: 0, et_df: 3)\n"
     ]
    },
    {
     "data": {
      "application/vnd.microsoft.datawrangler.viewer.v0+json": {
       "columns": [
        {
         "name": "index",
         "rawType": "int64",
         "type": "integer"
        },
        {
         "name": "results_time",
         "rawType": "datetime64[ns, UTC]",
         "type": "unknown"
        },
        {
         "name": "participant_id",
         "rawType": "object",
         "type": "string"
        },
        {
         "name": "group",
         "rawType": "object",
         "type": "string"
        },
        {
         "name": "trial",
         "rawType": "int64",
         "type": "integer"
        },
        {
         "name": "label",
         "rawType": "object",
         "type": "string"
        },
        {
         "name": "no",
         "rawType": "Int64",
         "type": "integer"
        },
        {
         "name": "item",
         "rawType": "Int64",
         "type": "integer"
        },
        {
         "name": "exp",
         "rawType": "object",
         "type": "string"
        },
        {
         "name": "condition",
         "rawType": "object",
         "type": "string"
        },
        {
         "name": "cb",
         "rawType": "object",
         "type": "string"
        },
        {
         "name": "left",
         "rawType": "object",
         "type": "string"
        },
        {
         "name": "right",
         "rawType": "object",
         "type": "string"
        },
        {
         "name": "target",
         "rawType": "object",
         "type": "string"
        },
        {
         "name": "r1",
         "rawType": "float64",
         "type": "float"
        },
        {
         "name": "r2",
         "rawType": "float64",
         "type": "float"
        },
        {
         "name": "r3",
         "rawType": "float64",
         "type": "float"
        },
        {
         "name": "r4",
         "rawType": "float64",
         "type": "float"
        },
        {
         "name": "r5",
         "rawType": "float64",
         "type": "float"
        },
        {
         "name": "r6",
         "rawType": "float64",
         "type": "float"
        },
        {
         "name": "r7",
         "rawType": "float64",
         "type": "float"
        },
        {
         "name": "question_rt",
         "rawType": "float64",
         "type": "float"
        },
        {
         "name": "choice_rt",
         "rawType": "float64",
         "type": "float"
        },
        {
         "name": "choice",
         "rawType": "object",
         "type": "string"
        },
        {
         "name": "dominant",
         "rawType": "object",
         "type": "string"
        },
        {
         "name": "prop_left",
         "rawType": "float64",
         "type": "float"
        },
        {
         "name": "prop_right",
         "rawType": "float64",
         "type": "float"
        },
        {
         "name": "total_dwell",
         "rawType": "float64",
         "type": "float"
        },
        {
         "name": "dwell_left",
         "rawType": "float64",
         "type": "float"
        },
        {
         "name": "dwell_right",
         "rawType": "float64",
         "type": "float"
        },
        {
         "name": "n_fix_left",
         "rawType": "int64",
         "type": "integer"
        },
        {
         "name": "n_fix_right",
         "rawType": "int64",
         "type": "integer"
        },
        {
         "name": "transitions",
         "rawType": "int32",
         "type": "integer"
        }
       ],
       "ref": "2bcae460-9ff7-4616-bca7-79c091a4e939",
       "rows": [
        [
         "0",
         "2025-09-22 10:50:09+00:00",
         "Maris444",
         "c",
         "6",
         "practice",
         "990",
         "900",
         "",
         "practice",
         "n",
         "A",
         "B",
         "A",
         "271.0",
         "228.0",
         "235.0",
         "247.0",
         "251.0",
         "262.0",
         "291.0",
         null,
         "2194.0",
         "left",
         "left",
         "0.7",
         "0.3",
         "3.08",
         "2.167",
         "0.918",
         "2",
         "1",
         "2"
        ],
        [
         "1",
         "2025-09-22 10:50:09+00:00",
         "Maris444",
         "c",
         "7",
         "practice",
         "991",
         "901",
         "",
         "practice",
         "y",
         "D",
         "C",
         "C",
         "278.0",
         "219.0",
         "212.0",
         "288.0",
         "246.0",
         "303.0",
         "379.0",
         null,
         "2967.0",
         "right",
         "right",
         "0.48",
         "0.52",
         "5.56",
         "2.673",
         "2.89",
         "7",
         "8",
         "14"
        ],
        [
         "2",
         "2025-09-22 10:50:09+00:00",
         "Maris444",
         "c",
         "8",
         "practice",
         "992",
         "902",
         "",
         "practice",
         "n",
         "E",
         "F",
         "E",
         "878.0",
         "387.0",
         "255.0",
         "348.0",
         "586.0",
         "330.0",
         "345.0",
         "3074.0",
         "4205.0",
         "right",
         "right",
         "0.46",
         "0.54",
         "7.73",
         "3.584",
         "4.149",
         "8",
         "9",
         "16"
        ],
        [
         "3",
         "2025-09-22 10:50:09+00:00",
         "Maris444",
         "c",
         "10",
         "experiment",
         "34",
         "12",
         "1",
         "exclusive",
         "y",
         "12b",
         "12a",
         "12a",
         "266.0",
         "235.0",
         "239.0",
         "234.0",
         "232.0",
         "220.0",
         "274.0",
         null,
         "854.0",
         "right",
         "right",
         "0.36",
         "0.64",
         "1.3",
         "0.467",
         "0.833",
         "2",
         "3",
         "4"
        ],
        [
         "4",
         "2025-09-22 10:50:09+00:00",
         "Maris444",
         "c",
         "11",
         "experiment",
         "66",
         "21",
         "2",
         "other-directed-x",
         "y",
         "tűzoltó",
         "orvos",
         "orvos",
         "513.0",
         "319.0",
         "216.0",
         "207.0",
         "204.0",
         null,
         "290.0",
         "615.0",
         "213.0",
         "right",
         "right",
         "0.34",
         "0.66",
         "1.76",
         "0.601",
         "1.158",
         "2",
         "3",
         "4"
        ]
       ],
       "shape": {
        "columns": 32,
        "rows": 5
       }
      },
      "text/html": [
       "<div>\n",
       "<style scoped>\n",
       "    .dataframe tbody tr th:only-of-type {\n",
       "        vertical-align: middle;\n",
       "    }\n",
       "\n",
       "    .dataframe tbody tr th {\n",
       "        vertical-align: top;\n",
       "    }\n",
       "\n",
       "    .dataframe thead th {\n",
       "        text-align: right;\n",
       "    }\n",
       "</style>\n",
       "<table border=\"1\" class=\"dataframe\">\n",
       "  <thead>\n",
       "    <tr style=\"text-align: right;\">\n",
       "      <th></th>\n",
       "      <th>results_time</th>\n",
       "      <th>participant_id</th>\n",
       "      <th>group</th>\n",
       "      <th>trial</th>\n",
       "      <th>label</th>\n",
       "      <th>no</th>\n",
       "      <th>item</th>\n",
       "      <th>exp</th>\n",
       "      <th>condition</th>\n",
       "      <th>cb</th>\n",
       "      <th>left</th>\n",
       "      <th>right</th>\n",
       "      <th>target</th>\n",
       "      <th>r1</th>\n",
       "      <th>r2</th>\n",
       "      <th>r3</th>\n",
       "      <th>r4</th>\n",
       "      <th>r5</th>\n",
       "      <th>r6</th>\n",
       "      <th>r7</th>\n",
       "      <th>question_rt</th>\n",
       "      <th>choice_rt</th>\n",
       "      <th>choice</th>\n",
       "      <th>dominant</th>\n",
       "      <th>prop_left</th>\n",
       "      <th>prop_right</th>\n",
       "      <th>total_dwell</th>\n",
       "      <th>dwell_left</th>\n",
       "      <th>dwell_right</th>\n",
       "      <th>n_fix_left</th>\n",
       "      <th>n_fix_right</th>\n",
       "      <th>transitions</th>\n",
       "    </tr>\n",
       "  </thead>\n",
       "  <tbody>\n",
       "    <tr>\n",
       "      <th>0</th>\n",
       "      <td>2025-09-22 10:50:09+00:00</td>\n",
       "      <td>Maris444</td>\n",
       "      <td>c</td>\n",
       "      <td>6</td>\n",
       "      <td>practice</td>\n",
       "      <td>990</td>\n",
       "      <td>900</td>\n",
       "      <td></td>\n",
       "      <td>practice</td>\n",
       "      <td>n</td>\n",
       "      <td>A</td>\n",
       "      <td>B</td>\n",
       "      <td>A</td>\n",
       "      <td>271.0</td>\n",
       "      <td>228.0</td>\n",
       "      <td>235.0</td>\n",
       "      <td>247.0</td>\n",
       "      <td>251.0</td>\n",
       "      <td>262.0</td>\n",
       "      <td>291.0</td>\n",
       "      <td>NaN</td>\n",
       "      <td>2194.0</td>\n",
       "      <td>left</td>\n",
       "      <td>left</td>\n",
       "      <td>0.70</td>\n",
       "      <td>0.30</td>\n",
       "      <td>3.08</td>\n",
       "      <td>2.167</td>\n",
       "      <td>0.918</td>\n",
       "      <td>2</td>\n",
       "      <td>1</td>\n",
       "      <td>2</td>\n",
       "    </tr>\n",
       "    <tr>\n",
       "      <th>1</th>\n",
       "      <td>2025-09-22 10:50:09+00:00</td>\n",
       "      <td>Maris444</td>\n",
       "      <td>c</td>\n",
       "      <td>7</td>\n",
       "      <td>practice</td>\n",
       "      <td>991</td>\n",
       "      <td>901</td>\n",
       "      <td></td>\n",
       "      <td>practice</td>\n",
       "      <td>y</td>\n",
       "      <td>D</td>\n",
       "      <td>C</td>\n",
       "      <td>C</td>\n",
       "      <td>278.0</td>\n",
       "      <td>219.0</td>\n",
       "      <td>212.0</td>\n",
       "      <td>288.0</td>\n",
       "      <td>246.0</td>\n",
       "      <td>303.0</td>\n",
       "      <td>379.0</td>\n",
       "      <td>NaN</td>\n",
       "      <td>2967.0</td>\n",
       "      <td>right</td>\n",
       "      <td>right</td>\n",
       "      <td>0.48</td>\n",
       "      <td>0.52</td>\n",
       "      <td>5.56</td>\n",
       "      <td>2.673</td>\n",
       "      <td>2.890</td>\n",
       "      <td>7</td>\n",
       "      <td>8</td>\n",
       "      <td>14</td>\n",
       "    </tr>\n",
       "    <tr>\n",
       "      <th>2</th>\n",
       "      <td>2025-09-22 10:50:09+00:00</td>\n",
       "      <td>Maris444</td>\n",
       "      <td>c</td>\n",
       "      <td>8</td>\n",
       "      <td>practice</td>\n",
       "      <td>992</td>\n",
       "      <td>902</td>\n",
       "      <td></td>\n",
       "      <td>practice</td>\n",
       "      <td>n</td>\n",
       "      <td>E</td>\n",
       "      <td>F</td>\n",
       "      <td>E</td>\n",
       "      <td>878.0</td>\n",
       "      <td>387.0</td>\n",
       "      <td>255.0</td>\n",
       "      <td>348.0</td>\n",
       "      <td>586.0</td>\n",
       "      <td>330.0</td>\n",
       "      <td>345.0</td>\n",
       "      <td>3074.0</td>\n",
       "      <td>4205.0</td>\n",
       "      <td>right</td>\n",
       "      <td>right</td>\n",
       "      <td>0.46</td>\n",
       "      <td>0.54</td>\n",
       "      <td>7.73</td>\n",
       "      <td>3.584</td>\n",
       "      <td>4.149</td>\n",
       "      <td>8</td>\n",
       "      <td>9</td>\n",
       "      <td>16</td>\n",
       "    </tr>\n",
       "    <tr>\n",
       "      <th>3</th>\n",
       "      <td>2025-09-22 10:50:09+00:00</td>\n",
       "      <td>Maris444</td>\n",
       "      <td>c</td>\n",
       "      <td>10</td>\n",
       "      <td>experiment</td>\n",
       "      <td>34</td>\n",
       "      <td>12</td>\n",
       "      <td>1</td>\n",
       "      <td>exclusive</td>\n",
       "      <td>y</td>\n",
       "      <td>12b</td>\n",
       "      <td>12a</td>\n",
       "      <td>12a</td>\n",
       "      <td>266.0</td>\n",
       "      <td>235.0</td>\n",
       "      <td>239.0</td>\n",
       "      <td>234.0</td>\n",
       "      <td>232.0</td>\n",
       "      <td>220.0</td>\n",
       "      <td>274.0</td>\n",
       "      <td>NaN</td>\n",
       "      <td>854.0</td>\n",
       "      <td>right</td>\n",
       "      <td>right</td>\n",
       "      <td>0.36</td>\n",
       "      <td>0.64</td>\n",
       "      <td>1.30</td>\n",
       "      <td>0.467</td>\n",
       "      <td>0.833</td>\n",
       "      <td>2</td>\n",
       "      <td>3</td>\n",
       "      <td>4</td>\n",
       "    </tr>\n",
       "    <tr>\n",
       "      <th>4</th>\n",
       "      <td>2025-09-22 10:50:09+00:00</td>\n",
       "      <td>Maris444</td>\n",
       "      <td>c</td>\n",
       "      <td>11</td>\n",
       "      <td>experiment</td>\n",
       "      <td>66</td>\n",
       "      <td>21</td>\n",
       "      <td>2</td>\n",
       "      <td>other-directed-x</td>\n",
       "      <td>y</td>\n",
       "      <td>tűzoltó</td>\n",
       "      <td>orvos</td>\n",
       "      <td>orvos</td>\n",
       "      <td>513.0</td>\n",
       "      <td>319.0</td>\n",
       "      <td>216.0</td>\n",
       "      <td>207.0</td>\n",
       "      <td>204.0</td>\n",
       "      <td>NaN</td>\n",
       "      <td>290.0</td>\n",
       "      <td>615.0</td>\n",
       "      <td>213.0</td>\n",
       "      <td>right</td>\n",
       "      <td>right</td>\n",
       "      <td>0.34</td>\n",
       "      <td>0.66</td>\n",
       "      <td>1.76</td>\n",
       "      <td>0.601</td>\n",
       "      <td>1.158</td>\n",
       "      <td>2</td>\n",
       "      <td>3</td>\n",
       "      <td>4</td>\n",
       "    </tr>\n",
       "  </tbody>\n",
       "</table>\n",
       "</div>"
      ],
      "text/plain": [
       "               results_time participant_id group  trial       label   no  \\\n",
       "0 2025-09-22 10:50:09+00:00       Maris444     c      6    practice  990   \n",
       "1 2025-09-22 10:50:09+00:00       Maris444     c      7    practice  991   \n",
       "2 2025-09-22 10:50:09+00:00       Maris444     c      8    practice  992   \n",
       "3 2025-09-22 10:50:09+00:00       Maris444     c     10  experiment   34   \n",
       "4 2025-09-22 10:50:09+00:00       Maris444     c     11  experiment   66   \n",
       "\n",
       "   item exp         condition cb     left  right target     r1     r2     r3  \\\n",
       "0   900              practice  n        A      B      A  271.0  228.0  235.0   \n",
       "1   901              practice  y        D      C      C  278.0  219.0  212.0   \n",
       "2   902              practice  n        E      F      E  878.0  387.0  255.0   \n",
       "3    12   1         exclusive  y      12b    12a    12a  266.0  235.0  239.0   \n",
       "4    21   2  other-directed-x  y  tűzoltó  orvos  orvos  513.0  319.0  216.0   \n",
       "\n",
       "      r4     r5     r6     r7  question_rt  choice_rt choice dominant  \\\n",
       "0  247.0  251.0  262.0  291.0          NaN     2194.0   left     left   \n",
       "1  288.0  246.0  303.0  379.0          NaN     2967.0  right    right   \n",
       "2  348.0  586.0  330.0  345.0       3074.0     4205.0  right    right   \n",
       "3  234.0  232.0  220.0  274.0          NaN      854.0  right    right   \n",
       "4  207.0  204.0    NaN  290.0        615.0      213.0  right    right   \n",
       "\n",
       "   prop_left  prop_right  total_dwell  dwell_left  dwell_right  n_fix_left  \\\n",
       "0       0.70        0.30         3.08       2.167        0.918           2   \n",
       "1       0.48        0.52         5.56       2.673        2.890           7   \n",
       "2       0.46        0.54         7.73       3.584        4.149           8   \n",
       "3       0.36        0.64         1.30       0.467        0.833           2   \n",
       "4       0.34        0.66         1.76       0.601        1.158           2   \n",
       "\n",
       "   n_fix_right  transitions  \n",
       "0            1            2  \n",
       "1            8           14  \n",
       "2            9           16  \n",
       "3            3            4  \n",
       "4            3            4  "
      ]
     },
     "execution_count": 350,
     "metadata": {},
     "output_type": "execute_result"
    }
   ],
   "source": [
    "# Overwrite 'trial' values in et_df per participant using the order from region_mean/trial_index\n",
    "for participant in et_df['participant_id'].unique():\n",
    "    # Get the ordered list of trial numbers for this participant from region_mean\n",
    "    # region_mean index: (results_time, participant_id, group, trial, label, no, item, condition, cb, left, right)\n",
    "    # Extract trial numbers for this participant\n",
    "    idx = region_mean.index\n",
    "    participant_trials = [i[3] for i in idx if i[1] == participant]\n",
    "    \n",
    "    # Get indices in et_df for this participant\n",
    "    mask = et_df['participant_id'] == participant\n",
    "    n_trials = mask.sum()\n",
    "    \n",
    "    # Only overwrite if counts match\n",
    "    if len(participant_trials) == n_trials:\n",
    "        et_df.loc[mask, 'trial'] = participant_trials\n",
    "    else:\n",
    "        print(f\"Warning: trial count mismatch for {participant} (region_mean: {len(participant_trials)}, et_df: {n_trials})\")\n",
    "        \n",
    "# # Merge eyetracking data with longform data on participant_id\n",
    "# longform = pd.merge(\n",
    "#     longform,\n",
    "#     et_df,\n",
    "#     how='left',\n",
    "#     left_on=['participant_id', 'trial'],\n",
    "#     right_on=['participant_id', 'trial']\n",
    "# )\n",
    "\n",
    "# longform\n",
    "\n",
    "# Merge eyetracking data with longform data on participant_id\n",
    "et_df = pd.merge(\n",
    "    longform,\n",
    "    et_df,\n",
    "    how='left',\n",
    "    left_on=['participant_id', 'trial'],\n",
    "    right_on=['participant_id', 'trial']\n",
    ")\n",
    "\n",
    "et_df"
   ]
  },
  {
   "cell_type": "markdown",
   "id": "b487dec9",
   "metadata": {},
   "source": [
    "## Plot ET"
   ]
  },
  {
   "cell_type": "code",
   "execution_count": 351,
   "id": "39d2519a",
   "metadata": {},
   "outputs": [
    {
     "data": {
      "application/vnd.plotly.v1+json": {
       "config": {
        "plotlyServerURL": "https://plot.ly"
       },
       "data": [
        {
         "marker": {
          "color": "steelblue"
         },
         "name": "Left",
         "orientation": "h",
         "showlegend": false,
         "type": "bar",
         "x": [
          0
         ],
         "y": [
          "Maris444 - Trial 6"
         ]
        },
        {
         "marker": {
          "color": "hsva(0, 0%, 100%, 0)"
         },
         "name": "None",
         "orientation": "h",
         "showlegend": false,
         "type": "bar",
         "x": [
          0.033
         ],
         "y": [
          "Maris444 - Trial 6"
         ]
        },
        {
         "marker": {
          "color": "steelblue"
         },
         "name": "Left",
         "orientation": "h",
         "showlegend": false,
         "type": "bar",
         "x": [
          0.125
         ],
         "y": [
          "Maris444 - Trial 6"
         ]
        },
        {
         "marker": {
          "color": "hsva(0, 0%, 100%, 0)"
         },
         "name": "None",
         "orientation": "h",
         "showlegend": false,
         "type": "bar",
         "x": [
          0.029
         ],
         "y": [
          "Maris444 - Trial 6"
         ]
        },
        {
         "marker": {
          "color": "steelblue"
         },
         "name": "Left",
         "orientation": "h",
         "showlegend": false,
         "type": "bar",
         "x": [
          0.374
         ],
         "y": [
          "Maris444 - Trial 6"
         ]
        },
        {
         "marker": {
          "color": "orange"
         },
         "name": "Right",
         "orientation": "h",
         "showlegend": false,
         "type": "bar",
         "x": [
          0.066
         ],
         "y": [
          "Maris444 - Trial 6"
         ]
        },
        {
         "marker": {
          "color": "hsva(0, 0%, 100%, 0)"
         },
         "name": "None",
         "orientation": "h",
         "showlegend": false,
         "type": "bar",
         "x": [
          0.033
         ],
         "y": [
          "Maris444 - Trial 6"
         ]
        },
        {
         "marker": {
          "color": "orange"
         },
         "name": "Right",
         "orientation": "h",
         "showlegend": false,
         "type": "bar",
         "x": [
          0.032
         ],
         "y": [
          "Maris444 - Trial 6"
         ]
        },
        {
         "marker": {
          "color": "hsva(0, 0%, 100%, 0)"
         },
         "name": "None",
         "orientation": "h",
         "showlegend": false,
         "type": "bar",
         "x": [
          0
         ],
         "y": [
          "Maris444 - Trial 6"
         ]
        },
        {
         "marker": {
          "color": "steelblue"
         },
         "name": "Left",
         "orientation": "h",
         "showlegend": false,
         "type": "bar",
         "x": [
          0.473
         ],
         "y": [
          "Maris444 - Trial 6"
         ]
        },
        {
         "marker": {
          "color": "hsva(0, 0%, 100%, 0)"
         },
         "name": "None",
         "orientation": "h",
         "showlegend": false,
         "type": "bar",
         "x": [
          0
         ],
         "y": [
          "Maris444 - Trial 6"
         ]
        },
        {
         "marker": {
          "color": "steelblue"
         },
         "name": "Left",
         "orientation": "h",
         "showlegend": false,
         "type": "bar",
         "x": [
          0.026
         ],
         "y": [
          "Maris444 - Trial 6"
         ]
        },
        {
         "marker": {
          "color": "hsva(0, 0%, 100%, 0)"
         },
         "name": "None",
         "orientation": "h",
         "showlegend": false,
         "type": "bar",
         "x": [
          0
         ],
         "y": [
          "Maris444 - Trial 6"
         ]
        },
        {
         "marker": {
          "color": "steelblue"
         },
         "name": "Left",
         "orientation": "h",
         "showlegend": false,
         "type": "bar",
         "x": [
          0.331
         ],
         "y": [
          "Maris444 - Trial 6"
         ]
        },
        {
         "marker": {
          "color": "hsva(0, 0%, 100%, 0)"
         },
         "name": "None",
         "orientation": "h",
         "showlegend": false,
         "type": "bar",
         "x": [
          0
         ],
         "y": [
          "Maris444 - Trial 6"
         ]
        },
        {
         "marker": {
          "color": "steelblue"
         },
         "name": "Left",
         "orientation": "h",
         "showlegend": false,
         "type": "bar",
         "x": [
          0.193
         ],
         "y": [
          "Maris444 - Trial 6"
         ]
        },
        {
         "marker": {
          "color": "orange"
         },
         "name": "Right",
         "orientation": "h",
         "showlegend": false,
         "type": "bar",
         "x": [
          0.067
         ],
         "y": [
          "Maris444 - Trial 7"
         ]
        },
        {
         "marker": {
          "color": "hsva(0, 0%, 100%, 0)"
         },
         "name": "None",
         "orientation": "h",
         "showlegend": false,
         "type": "bar",
         "x": [
          0
         ],
         "y": [
          "Maris444 - Trial 7"
         ]
        },
        {
         "marker": {
          "color": "orange"
         },
         "name": "Right",
         "orientation": "h",
         "showlegend": false,
         "type": "bar",
         "x": [
          0
         ],
         "y": [
          "Maris444 - Trial 7"
         ]
        },
        {
         "marker": {
          "color": "steelblue"
         },
         "name": "Left",
         "orientation": "h",
         "showlegend": false,
         "type": "bar",
         "x": [
          0
         ],
         "y": [
          "Maris444 - Trial 7"
         ]
        },
        {
         "marker": {
          "color": "orange"
         },
         "name": "Right",
         "orientation": "h",
         "showlegend": false,
         "type": "bar",
         "x": [
          0
         ],
         "y": [
          "Maris444 - Trial 7"
         ]
        },
        {
         "marker": {
          "color": "hsva(0, 0%, 100%, 0)"
         },
         "name": "None",
         "orientation": "h",
         "showlegend": false,
         "type": "bar",
         "x": [
          0
         ],
         "y": [
          "Maris444 - Trial 7"
         ]
        },
        {
         "marker": {
          "color": "steelblue"
         },
         "name": "Left",
         "orientation": "h",
         "showlegend": false,
         "type": "bar",
         "x": [
          0.067
         ],
         "y": [
          "Maris444 - Trial 7"
         ]
        },
        {
         "marker": {
          "color": "orange"
         },
         "name": "Right",
         "orientation": "h",
         "showlegend": false,
         "type": "bar",
         "x": [
          0.034
         ],
         "y": [
          "Maris444 - Trial 7"
         ]
        },
        {
         "marker": {
          "color": "hsva(0, 0%, 100%, 0)"
         },
         "name": "None",
         "orientation": "h",
         "showlegend": false,
         "type": "bar",
         "x": [
          0
         ],
         "y": [
          "Maris444 - Trial 7"
         ]
        },
        {
         "marker": {
          "color": "orange"
         },
         "name": "Right",
         "orientation": "h",
         "showlegend": false,
         "type": "bar",
         "x": [
          0.033
         ],
         "y": [
          "Maris444 - Trial 7"
         ]
        },
        {
         "marker": {
          "color": "hsva(0, 0%, 100%, 0)"
         },
         "name": "None",
         "orientation": "h",
         "showlegend": false,
         "type": "bar",
         "x": [
          0
         ],
         "y": [
          "Maris444 - Trial 7"
         ]
        },
        {
         "marker": {
          "color": "steelblue"
         },
         "name": "Left",
         "orientation": "h",
         "showlegend": false,
         "type": "bar",
         "x": [
          0.067
         ],
         "y": [
          "Maris444 - Trial 7"
         ]
        },
        {
         "marker": {
          "color": "hsva(0, 0%, 100%, 0)"
         },
         "name": "None",
         "orientation": "h",
         "showlegend": false,
         "type": "bar",
         "x": [
          0.034
         ],
         "y": [
          "Maris444 - Trial 7"
         ]
        },
        {
         "marker": {
          "color": "steelblue"
         },
         "name": "Left",
         "orientation": "h",
         "showlegend": false,
         "type": "bar",
         "x": [
          0.032
         ],
         "y": [
          "Maris444 - Trial 7"
         ]
        },
        {
         "marker": {
          "color": "orange"
         },
         "name": "Right",
         "orientation": "h",
         "showlegend": false,
         "type": "bar",
         "x": [
          0
         ],
         "y": [
          "Maris444 - Trial 7"
         ]
        },
        {
         "marker": {
          "color": "hsva(0, 0%, 100%, 0)"
         },
         "name": "None",
         "orientation": "h",
         "showlegend": false,
         "type": "bar",
         "x": [
          0
         ],
         "y": [
          "Maris444 - Trial 7"
         ]
        },
        {
         "marker": {
          "color": "steelblue"
         },
         "name": "Left",
         "orientation": "h",
         "showlegend": false,
         "type": "bar",
         "x": [
          0.054
         ],
         "y": [
          "Maris444 - Trial 7"
         ]
        },
        {
         "marker": {
          "color": "orange"
         },
         "name": "Right",
         "orientation": "h",
         "showlegend": false,
         "type": "bar",
         "x": [
          0.488
         ],
         "y": [
          "Maris444 - Trial 7"
         ]
        },
        {
         "marker": {
          "color": "hsva(0, 0%, 100%, 0)"
         },
         "name": "None",
         "orientation": "h",
         "showlegend": false,
         "type": "bar",
         "x": [
          0
         ],
         "y": [
          "Maris444 - Trial 7"
         ]
        },
        {
         "marker": {
          "color": "orange"
         },
         "name": "Right",
         "orientation": "h",
         "showlegend": false,
         "type": "bar",
         "x": [
          0
         ],
         "y": [
          "Maris444 - Trial 7"
         ]
        },
        {
         "marker": {
          "color": "steelblue"
         },
         "name": "Left",
         "orientation": "h",
         "showlegend": false,
         "type": "bar",
         "x": [
          0
         ],
         "y": [
          "Maris444 - Trial 7"
         ]
        },
        {
         "marker": {
          "color": "orange"
         },
         "name": "Right",
         "orientation": "h",
         "showlegend": false,
         "type": "bar",
         "x": [
          0
         ],
         "y": [
          "Maris444 - Trial 7"
         ]
        },
        {
         "marker": {
          "color": "hsva(0, 0%, 100%, 0)"
         },
         "name": "None",
         "orientation": "h",
         "showlegend": false,
         "type": "bar",
         "x": [
          0.029
         ],
         "y": [
          "Maris444 - Trial 7"
         ]
        },
        {
         "marker": {
          "color": "orange"
         },
         "name": "Right",
         "orientation": "h",
         "showlegend": false,
         "type": "bar",
         "x": [
          0.033
         ],
         "y": [
          "Maris444 - Trial 7"
         ]
        },
        {
         "marker": {
          "color": "hsva(0, 0%, 100%, 0)"
         },
         "name": "None",
         "orientation": "h",
         "showlegend": false,
         "type": "bar",
         "x": [
          0
         ],
         "y": [
          "Maris444 - Trial 7"
         ]
        },
        {
         "marker": {
          "color": "steelblue"
         },
         "name": "Left",
         "orientation": "h",
         "showlegend": false,
         "type": "bar",
         "x": [
          0
         ],
         "y": [
          "Maris444 - Trial 7"
         ]
        },
        {
         "marker": {
          "color": "orange"
         },
         "name": "Right",
         "orientation": "h",
         "showlegend": false,
         "type": "bar",
         "x": [
          0.033
         ],
         "y": [
          "Maris444 - Trial 7"
         ]
        },
        {
         "marker": {
          "color": "steelblue"
         },
         "name": "Left",
         "orientation": "h",
         "showlegend": false,
         "type": "bar",
         "x": [
          0
         ],
         "y": [
          "Maris444 - Trial 7"
         ]
        },
        {
         "marker": {
          "color": "hsva(0, 0%, 100%, 0)"
         },
         "name": "None",
         "orientation": "h",
         "showlegend": false,
         "type": "bar",
         "x": [
          0
         ],
         "y": [
          "Maris444 - Trial 7"
         ]
        },
        {
         "marker": {
          "color": "steelblue"
         },
         "name": "Left",
         "orientation": "h",
         "showlegend": false,
         "type": "bar",
         "x": [
          0.149
         ],
         "y": [
          "Maris444 - Trial 7"
         ]
        },
        {
         "marker": {
          "color": "hsva(0, 0%, 100%, 0)"
         },
         "name": "None",
         "orientation": "h",
         "showlegend": false,
         "type": "bar",
         "x": [
          0
         ],
         "y": [
          "Maris444 - Trial 7"
         ]
        },
        {
         "marker": {
          "color": "steelblue"
         },
         "name": "Left",
         "orientation": "h",
         "showlegend": false,
         "type": "bar",
         "x": [
          0.098
         ],
         "y": [
          "Maris444 - Trial 7"
         ]
        },
        {
         "marker": {
          "color": "hsva(0, 0%, 100%, 0)"
         },
         "name": "None",
         "orientation": "h",
         "showlegend": false,
         "type": "bar",
         "x": [
          0.033
         ],
         "y": [
          "Maris444 - Trial 7"
         ]
        },
        {
         "marker": {
          "color": "steelblue"
         },
         "name": "Left",
         "orientation": "h",
         "showlegend": false,
         "type": "bar",
         "x": [
          0.166
         ],
         "y": [
          "Maris444 - Trial 7"
         ]
        },
        {
         "marker": {
          "color": "hsva(0, 0%, 100%, 0)"
         },
         "name": "None",
         "orientation": "h",
         "showlegend": false,
         "type": "bar",
         "x": [
          0
         ],
         "y": [
          "Maris444 - Trial 7"
         ]
        },
        {
         "marker": {
          "color": "steelblue"
         },
         "name": "Left",
         "orientation": "h",
         "showlegend": false,
         "type": "bar",
         "x": [
          0
         ],
         "y": [
          "Maris444 - Trial 7"
         ]
        },
        {
         "marker": {
          "color": "hsva(0, 0%, 100%, 0)"
         },
         "name": "None",
         "orientation": "h",
         "showlegend": false,
         "type": "bar",
         "x": [
          0.068
         ],
         "y": [
          "Maris444 - Trial 7"
         ]
        },
        {
         "marker": {
          "color": "steelblue"
         },
         "name": "Left",
         "orientation": "h",
         "showlegend": false,
         "type": "bar",
         "x": [
          0
         ],
         "y": [
          "Maris444 - Trial 7"
         ]
        },
        {
         "marker": {
          "color": "orange"
         },
         "name": "Right",
         "orientation": "h",
         "showlegend": false,
         "type": "bar",
         "x": [
          0.184
         ],
         "y": [
          "Maris444 - Trial 7"
         ]
        },
        {
         "marker": {
          "color": "hsva(0, 0%, 100%, 0)"
         },
         "name": "None",
         "orientation": "h",
         "showlegend": false,
         "type": "bar",
         "x": [
          0
         ],
         "y": [
          "Maris444 - Trial 7"
         ]
        },
        {
         "marker": {
          "color": "orange"
         },
         "name": "Right",
         "orientation": "h",
         "showlegend": false,
         "type": "bar",
         "x": [
          0.098
         ],
         "y": [
          "Maris444 - Trial 8"
         ]
        },
        {
         "marker": {
          "color": "hsva(0, 0%, 100%, 0)"
         },
         "name": "None",
         "orientation": "h",
         "showlegend": false,
         "type": "bar",
         "x": [
          0.034
         ],
         "y": [
          "Maris444 - Trial 8"
         ]
        },
        {
         "marker": {
          "color": "steelblue"
         },
         "name": "Left",
         "orientation": "h",
         "showlegend": false,
         "type": "bar",
         "x": [
          0
         ],
         "y": [
          "Maris444 - Trial 8"
         ]
        },
        {
         "marker": {
          "color": "hsva(0, 0%, 100%, 0)"
         },
         "name": "None",
         "orientation": "h",
         "showlegend": false,
         "type": "bar",
         "x": [
          0
         ],
         "y": [
          "Maris444 - Trial 8"
         ]
        },
        {
         "marker": {
          "color": "steelblue"
         },
         "name": "Left",
         "orientation": "h",
         "showlegend": false,
         "type": "bar",
         "x": [
          0
         ],
         "y": [
          "Maris444 - Trial 8"
         ]
        },
        {
         "marker": {
          "color": "hsva(0, 0%, 100%, 0)"
         },
         "name": "None",
         "orientation": "h",
         "showlegend": false,
         "type": "bar",
         "x": [
          0
         ],
         "y": [
          "Maris444 - Trial 8"
         ]
        },
        {
         "marker": {
          "color": "orange"
         },
         "name": "Right",
         "orientation": "h",
         "showlegend": false,
         "type": "bar",
         "x": [
          0
         ],
         "y": [
          "Maris444 - Trial 8"
         ]
        },
        {
         "marker": {
          "color": "hsva(0, 0%, 100%, 0)"
         },
         "name": "None",
         "orientation": "h",
         "showlegend": false,
         "type": "bar",
         "x": [
          0
         ],
         "y": [
          "Maris444 - Trial 8"
         ]
        },
        {
         "marker": {
          "color": "steelblue"
         },
         "name": "Left",
         "orientation": "h",
         "showlegend": false,
         "type": "bar",
         "x": [
          0.495
         ],
         "y": [
          "Maris444 - Trial 8"
         ]
        },
        {
         "marker": {
          "color": "orange"
         },
         "name": "Right",
         "orientation": "h",
         "showlegend": false,
         "type": "bar",
         "x": [
          0.316
         ],
         "y": [
          "Maris444 - Trial 8"
         ]
        },
        {
         "marker": {
          "color": "steelblue"
         },
         "name": "Left",
         "orientation": "h",
         "showlegend": false,
         "type": "bar",
         "x": [
          0.034
         ],
         "y": [
          "Maris444 - Trial 8"
         ]
        },
        {
         "marker": {
          "color": "hsva(0, 0%, 100%, 0)"
         },
         "name": "None",
         "orientation": "h",
         "showlegend": false,
         "type": "bar",
         "x": [
          0.027
         ],
         "y": [
          "Maris444 - Trial 8"
         ]
        },
        {
         "marker": {
          "color": "steelblue"
         },
         "name": "Left",
         "orientation": "h",
         "showlegend": false,
         "type": "bar",
         "x": [
          0
         ],
         "y": [
          "Maris444 - Trial 8"
         ]
        },
        {
         "marker": {
          "color": "hsva(0, 0%, 100%, 0)"
         },
         "name": "None",
         "orientation": "h",
         "showlegend": false,
         "type": "bar",
         "x": [
          0.068
         ],
         "y": [
          "Maris444 - Trial 8"
         ]
        },
        {
         "marker": {
          "color": "orange"
         },
         "name": "Right",
         "orientation": "h",
         "showlegend": false,
         "type": "bar",
         "x": [
          0.15
         ],
         "y": [
          "Maris444 - Trial 8"
         ]
        },
        {
         "marker": {
          "color": "steelblue"
         },
         "name": "Left",
         "orientation": "h",
         "showlegend": false,
         "type": "bar",
         "x": [
          0.126
         ],
         "y": [
          "Maris444 - Trial 8"
         ]
        },
        {
         "marker": {
          "color": "hsva(0, 0%, 100%, 0)"
         },
         "name": "None",
         "orientation": "h",
         "showlegend": false,
         "type": "bar",
         "x": [
          0.121
         ],
         "y": [
          "Maris444 - Trial 8"
         ]
        },
        {
         "marker": {
          "color": "orange"
         },
         "name": "Right",
         "orientation": "h",
         "showlegend": false,
         "type": "bar",
         "x": [
          0.053
         ],
         "y": [
          "Maris444 - Trial 8"
         ]
        },
        {
         "marker": {
          "color": "hsva(0, 0%, 100%, 0)"
         },
         "name": "None",
         "orientation": "h",
         "showlegend": false,
         "type": "bar",
         "x": [
          0.065
         ],
         "y": [
          "Maris444 - Trial 8"
         ]
        },
        {
         "marker": {
          "color": "orange"
         },
         "name": "Right",
         "orientation": "h",
         "showlegend": false,
         "type": "bar",
         "x": [
          0
         ],
         "y": [
          "Maris444 - Trial 8"
         ]
        },
        {
         "marker": {
          "color": "hsva(0, 0%, 100%, 0)"
         },
         "name": "None",
         "orientation": "h",
         "showlegend": false,
         "type": "bar",
         "x": [
          0.034
         ],
         "y": [
          "Maris444 - Trial 8"
         ]
        },
        {
         "marker": {
          "color": "orange"
         },
         "name": "Right",
         "orientation": "h",
         "showlegend": false,
         "type": "bar",
         "x": [
          0.101
         ],
         "y": [
          "Maris444 - Trial 8"
         ]
        },
        {
         "marker": {
          "color": "hsva(0, 0%, 100%, 0)"
         },
         "name": "None",
         "orientation": "h",
         "showlegend": false,
         "type": "bar",
         "x": [
          0
         ],
         "y": [
          "Maris444 - Trial 8"
         ]
        },
        {
         "marker": {
          "color": "steelblue"
         },
         "name": "Left",
         "orientation": "h",
         "showlegend": false,
         "type": "bar",
         "x": [
          0
         ],
         "y": [
          "Maris444 - Trial 8"
         ]
        },
        {
         "marker": {
          "color": "orange"
         },
         "name": "Right",
         "orientation": "h",
         "showlegend": false,
         "type": "bar",
         "x": [
          0.033
         ],
         "y": [
          "Maris444 - Trial 8"
         ]
        },
        {
         "marker": {
          "color": "hsva(0, 0%, 100%, 0)"
         },
         "name": "None",
         "orientation": "h",
         "showlegend": false,
         "type": "bar",
         "x": [
          0
         ],
         "y": [
          "Maris444 - Trial 8"
         ]
        },
        {
         "marker": {
          "color": "orange"
         },
         "name": "Right",
         "orientation": "h",
         "showlegend": false,
         "type": "bar",
         "x": [
          0.091
         ],
         "y": [
          "Maris444 - Trial 8"
         ]
        },
        {
         "marker": {
          "color": "steelblue"
         },
         "name": "Left",
         "orientation": "h",
         "showlegend": false,
         "type": "bar",
         "x": [
          0
         ],
         "y": [
          "Maris444 - Trial 8"
         ]
        },
        {
         "marker": {
          "color": "orange"
         },
         "name": "Right",
         "orientation": "h",
         "showlegend": false,
         "type": "bar",
         "x": [
          0.083
         ],
         "y": [
          "Maris444 - Trial 8"
         ]
        },
        {
         "marker": {
          "color": "steelblue"
         },
         "name": "Left",
         "orientation": "h",
         "showlegend": false,
         "type": "bar",
         "x": [
          0
         ],
         "y": [
          "Maris444 - Trial 8"
         ]
        },
        {
         "marker": {
          "color": "hsva(0, 0%, 100%, 0)"
         },
         "name": "None",
         "orientation": "h",
         "showlegend": false,
         "type": "bar",
         "x": [
          0
         ],
         "y": [
          "Maris444 - Trial 8"
         ]
        },
        {
         "marker": {
          "color": "orange"
         },
         "name": "Right",
         "orientation": "h",
         "showlegend": false,
         "type": "bar",
         "x": [
          0.2
         ],
         "y": [
          "Maris444 - Trial 8"
         ]
        },
        {
         "marker": {
          "color": "hsva(0, 0%, 100%, 0)"
         },
         "name": "None",
         "orientation": "h",
         "showlegend": false,
         "type": "bar",
         "x": [
          0
         ],
         "y": [
          "Maris444 - Trial 8"
         ]
        },
        {
         "marker": {
          "color": "orange"
         },
         "name": "Right",
         "orientation": "h",
         "showlegend": false,
         "type": "bar",
         "x": [
          0
         ],
         "y": [
          "Maris444 - Trial 8"
         ]
        },
        {
         "marker": {
          "color": "hsva(0, 0%, 100%, 0)"
         },
         "name": "None",
         "orientation": "h",
         "showlegend": false,
         "type": "bar",
         "x": [
          0
         ],
         "y": [
          "Maris444 - Trial 8"
         ]
        },
        {
         "marker": {
          "color": "orange"
         },
         "name": "Right",
         "orientation": "h",
         "showlegend": false,
         "type": "bar",
         "x": [
          0
         ],
         "y": [
          "Maris444 - Trial 8"
         ]
        },
        {
         "marker": {
          "color": "steelblue"
         },
         "name": "Left",
         "orientation": "h",
         "showlegend": false,
         "type": "bar",
         "x": [
          0.06
         ],
         "y": [
          "Maris444 - Trial 8"
         ]
        },
        {
         "marker": {
          "color": "hsva(0, 0%, 100%, 0)"
         },
         "name": "None",
         "orientation": "h",
         "showlegend": false,
         "type": "bar",
         "x": [
          0
         ],
         "y": [
          "Maris444 - Trial 8"
         ]
        },
        {
         "marker": {
          "color": "steelblue"
         },
         "name": "Left",
         "orientation": "h",
         "showlegend": false,
         "type": "bar",
         "x": [
          0.152
         ],
         "y": [
          "Maris444 - Trial 8"
         ]
        },
        {
         "marker": {
          "color": "orange"
         },
         "name": "Right",
         "orientation": "h",
         "showlegend": false,
         "type": "bar",
         "x": [
          0.066
         ],
         "y": [
          "Maris444 - Trial 8"
         ]
        },
        {
         "marker": {
          "color": "hsva(0, 0%, 100%, 0)"
         },
         "name": "None",
         "orientation": "h",
         "showlegend": false,
         "type": "bar",
         "x": [
          0.082
         ],
         "y": [
          "Maris444 - Trial 8"
         ]
        },
        {
         "marker": {
          "color": "orange"
         },
         "name": "Right",
         "orientation": "h",
         "showlegend": false,
         "type": "bar",
         "x": [
          0
         ],
         "y": [
          "Maris444 - Trial 8"
         ]
        },
        {
         "marker": {
          "color": "hsva(0, 0%, 100%, 0)"
         },
         "name": "None",
         "orientation": "h",
         "showlegend": false,
         "type": "bar",
         "x": [
          0
         ],
         "y": [
          "Maris444 - Trial 8"
         ]
        },
        {
         "marker": {
          "color": "orange"
         },
         "name": "Right",
         "orientation": "h",
         "showlegend": false,
         "type": "bar",
         "x": [
          0
         ],
         "y": [
          "Maris444 - Trial 8"
         ]
        },
        {
         "marker": {
          "color": "hsva(0, 0%, 100%, 0)"
         },
         "name": "None",
         "orientation": "h",
         "showlegend": false,
         "type": "bar",
         "x": [
          0.025
         ],
         "y": [
          "Maris444 - Trial 8"
         ]
        },
        {
         "marker": {
          "color": "orange"
         },
         "name": "Right",
         "orientation": "h",
         "showlegend": false,
         "type": "bar",
         "x": [
          0.085
         ],
         "y": [
          "Maris444 - Trial 8"
         ]
        },
        {
         "marker": {
          "color": "hsva(0, 0%, 100%, 0)"
         },
         "name": "None",
         "orientation": "h",
         "showlegend": false,
         "type": "bar",
         "x": [
          0.033
         ],
         "y": [
          "Maris444 - Trial 8"
         ]
        },
        {
         "marker": {
          "color": "orange"
         },
         "name": "Right",
         "orientation": "h",
         "showlegend": false,
         "type": "bar",
         "x": [
          0
         ],
         "y": [
          "Maris444 - Trial 8"
         ]
        },
        {
         "marker": {
          "color": "orange"
         },
         "name": "Right",
         "orientation": "h",
         "showlegend": false,
         "type": "bar",
         "x": [
          0
         ],
         "y": [
          "Maris444 - Trial 10"
         ]
        },
        {
         "marker": {
          "color": "steelblue"
         },
         "name": "Left",
         "orientation": "h",
         "showlegend": false,
         "type": "bar",
         "x": [
          0.03
         ],
         "y": [
          "Maris444 - Trial 10"
         ]
        },
        {
         "marker": {
          "color": "hsva(0, 0%, 100%, 0)"
         },
         "name": "None",
         "orientation": "h",
         "showlegend": false,
         "type": "bar",
         "x": [
          0.022
         ],
         "y": [
          "Maris444 - Trial 10"
         ]
        },
        {
         "marker": {
          "color": "steelblue"
         },
         "name": "Left",
         "orientation": "h",
         "showlegend": false,
         "type": "bar",
         "x": [
          0.063
         ],
         "y": [
          "Maris444 - Trial 10"
         ]
        },
        {
         "marker": {
          "color": "hsva(0, 0%, 100%, 0)"
         },
         "name": "None",
         "orientation": "h",
         "showlegend": false,
         "type": "bar",
         "x": [
          0
         ],
         "y": [
          "Maris444 - Trial 10"
         ]
        },
        {
         "marker": {
          "color": "steelblue"
         },
         "name": "Left",
         "orientation": "h",
         "showlegend": false,
         "type": "bar",
         "x": [
          0.095
         ],
         "y": [
          "Maris444 - Trial 10"
         ]
        },
        {
         "marker": {
          "color": "orange"
         },
         "name": "Right",
         "orientation": "h",
         "showlegend": false,
         "type": "bar",
         "x": [
          0
         ],
         "y": [
          "Maris444 - Trial 10"
         ]
        },
        {
         "marker": {
          "color": "steelblue"
         },
         "name": "Left",
         "orientation": "h",
         "showlegend": false,
         "type": "bar",
         "x": [
          0
         ],
         "y": [
          "Maris444 - Trial 10"
         ]
        },
        {
         "marker": {
          "color": "hsva(0, 0%, 100%, 0)"
         },
         "name": "None",
         "orientation": "h",
         "showlegend": false,
         "type": "bar",
         "x": [
          0
         ],
         "y": [
          "Maris444 - Trial 10"
         ]
        },
        {
         "marker": {
          "color": "steelblue"
         },
         "name": "Left",
         "orientation": "h",
         "showlegend": false,
         "type": "bar",
         "x": [
          0
         ],
         "y": [
          "Maris444 - Trial 10"
         ]
        },
        {
         "marker": {
          "color": "orange"
         },
         "name": "Right",
         "orientation": "h",
         "showlegend": false,
         "type": "bar",
         "x": [
          0.332
         ],
         "y": [
          "Maris444 - Trial 10"
         ]
        },
        {
         "marker": {
          "color": "hsva(0, 0%, 100%, 0)"
         },
         "name": "None",
         "orientation": "h",
         "showlegend": false,
         "type": "bar",
         "x": [
          0
         ],
         "y": [
          "Maris444 - Trial 11"
         ]
        },
        {
         "marker": {
          "color": "orange"
         },
         "name": "Right",
         "orientation": "h",
         "showlegend": false,
         "type": "bar",
         "x": [
          0
         ],
         "y": [
          "Maris444 - Trial 11"
         ]
        },
        {
         "marker": {
          "color": "steelblue"
         },
         "name": "Left",
         "orientation": "h",
         "showlegend": false,
         "type": "bar",
         "x": [
          0
         ],
         "y": [
          "Maris444 - Trial 11"
         ]
        },
        {
         "marker": {
          "color": "orange"
         },
         "name": "Right",
         "orientation": "h",
         "showlegend": false,
         "type": "bar",
         "x": [
          0
         ],
         "y": [
          "Maris444 - Trial 11"
         ]
        },
        {
         "marker": {
          "color": "hsva(0, 0%, 100%, 0)"
         },
         "name": "None",
         "orientation": "h",
         "showlegend": false,
         "type": "bar",
         "x": [
          0.066
         ],
         "y": [
          "Maris444 - Trial 11"
         ]
        },
        {
         "marker": {
          "color": "steelblue"
         },
         "name": "Left",
         "orientation": "h",
         "showlegend": false,
         "type": "bar",
         "x": [
          0
         ],
         "y": [
          "Maris444 - Trial 11"
         ]
        },
        {
         "marker": {
          "color": "hsva(0, 0%, 100%, 0)"
         },
         "name": "None",
         "orientation": "h",
         "showlegend": false,
         "type": "bar",
         "x": [
          0.029
         ],
         "y": [
          "Maris444 - Trial 11"
         ]
        },
        {
         "marker": {
          "color": "steelblue"
         },
         "name": "Left",
         "orientation": "h",
         "showlegend": false,
         "type": "bar",
         "x": [
          0.284
         ],
         "y": [
          "Maris444 - Trial 11"
         ]
        },
        {
         "marker": {
          "color": "hsva(0, 0%, 100%, 0)"
         },
         "name": "None",
         "orientation": "h",
         "showlegend": false,
         "type": "bar",
         "x": [
          0
         ],
         "y": [
          "Maris444 - Trial 11"
         ]
        },
        {
         "marker": {
          "color": "orange"
         },
         "name": "Right",
         "orientation": "h",
         "showlegend": false,
         "type": "bar",
         "x": [
          0.1
         ],
         "y": [
          "Maris444 - Trial 11"
         ]
        },
        {
         "marker": {
          "color": "hsva(0, 0%, 100%, 0)"
         },
         "name": "None",
         "orientation": "h",
         "showlegend": false,
         "type": "bar",
         "x": [
          0
         ],
         "y": [
          "Maris444 - Trial 11"
         ]
        },
        {
         "marker": {
          "color": "orange"
         },
         "name": "Right",
         "orientation": "h",
         "showlegend": false,
         "type": "bar",
         "x": [
          0.151
         ],
         "y": [
          "Maris444 - Trial 11"
         ]
        },
        {
         "marker": {
          "color": "hsva(0, 0%, 100%, 0)"
         },
         "name": "None",
         "orientation": "h",
         "showlegend": false,
         "type": "bar",
         "x": [
          0.082
         ],
         "y": [
          "Maris444 - Trial 11"
         ]
        },
        {
         "marker": {
          "color": "orange"
         },
         "name": "Right",
         "orientation": "h",
         "showlegend": false,
         "type": "bar",
         "x": [
          0.029
         ],
         "y": [
          "Maris444 - Trial 11"
         ]
        }
       ],
       "layout": {
        "barmode": "stack",
        "height": 1200,
        "legend": {
         "title": {
          "text": "Side"
         }
        },
        "template": {
         "data": {
          "bar": [
           {
            "error_x": {
             "color": "#2a3f5f"
            },
            "error_y": {
             "color": "#2a3f5f"
            },
            "marker": {
             "line": {
              "color": "white",
              "width": 0.5
             },
             "pattern": {
              "fillmode": "overlay",
              "size": 10,
              "solidity": 0.2
             }
            },
            "type": "bar"
           }
          ],
          "barpolar": [
           {
            "marker": {
             "line": {
              "color": "white",
              "width": 0.5
             },
             "pattern": {
              "fillmode": "overlay",
              "size": 10,
              "solidity": 0.2
             }
            },
            "type": "barpolar"
           }
          ],
          "carpet": [
           {
            "aaxis": {
             "endlinecolor": "#2a3f5f",
             "gridcolor": "#C8D4E3",
             "linecolor": "#C8D4E3",
             "minorgridcolor": "#C8D4E3",
             "startlinecolor": "#2a3f5f"
            },
            "baxis": {
             "endlinecolor": "#2a3f5f",
             "gridcolor": "#C8D4E3",
             "linecolor": "#C8D4E3",
             "minorgridcolor": "#C8D4E3",
             "startlinecolor": "#2a3f5f"
            },
            "type": "carpet"
           }
          ],
          "choropleth": [
           {
            "colorbar": {
             "outlinewidth": 0,
             "ticks": ""
            },
            "type": "choropleth"
           }
          ],
          "contour": [
           {
            "colorbar": {
             "outlinewidth": 0,
             "ticks": ""
            },
            "colorscale": [
             [
              0,
              "#0d0887"
             ],
             [
              0.1111111111111111,
              "#46039f"
             ],
             [
              0.2222222222222222,
              "#7201a8"
             ],
             [
              0.3333333333333333,
              "#9c179e"
             ],
             [
              0.4444444444444444,
              "#bd3786"
             ],
             [
              0.5555555555555556,
              "#d8576b"
             ],
             [
              0.6666666666666666,
              "#ed7953"
             ],
             [
              0.7777777777777778,
              "#fb9f3a"
             ],
             [
              0.8888888888888888,
              "#fdca26"
             ],
             [
              1,
              "#f0f921"
             ]
            ],
            "type": "contour"
           }
          ],
          "contourcarpet": [
           {
            "colorbar": {
             "outlinewidth": 0,
             "ticks": ""
            },
            "type": "contourcarpet"
           }
          ],
          "heatmap": [
           {
            "colorbar": {
             "outlinewidth": 0,
             "ticks": ""
            },
            "colorscale": [
             [
              0,
              "#0d0887"
             ],
             [
              0.1111111111111111,
              "#46039f"
             ],
             [
              0.2222222222222222,
              "#7201a8"
             ],
             [
              0.3333333333333333,
              "#9c179e"
             ],
             [
              0.4444444444444444,
              "#bd3786"
             ],
             [
              0.5555555555555556,
              "#d8576b"
             ],
             [
              0.6666666666666666,
              "#ed7953"
             ],
             [
              0.7777777777777778,
              "#fb9f3a"
             ],
             [
              0.8888888888888888,
              "#fdca26"
             ],
             [
              1,
              "#f0f921"
             ]
            ],
            "type": "heatmap"
           }
          ],
          "histogram": [
           {
            "marker": {
             "pattern": {
              "fillmode": "overlay",
              "size": 10,
              "solidity": 0.2
             }
            },
            "type": "histogram"
           }
          ],
          "histogram2d": [
           {
            "colorbar": {
             "outlinewidth": 0,
             "ticks": ""
            },
            "colorscale": [
             [
              0,
              "#0d0887"
             ],
             [
              0.1111111111111111,
              "#46039f"
             ],
             [
              0.2222222222222222,
              "#7201a8"
             ],
             [
              0.3333333333333333,
              "#9c179e"
             ],
             [
              0.4444444444444444,
              "#bd3786"
             ],
             [
              0.5555555555555556,
              "#d8576b"
             ],
             [
              0.6666666666666666,
              "#ed7953"
             ],
             [
              0.7777777777777778,
              "#fb9f3a"
             ],
             [
              0.8888888888888888,
              "#fdca26"
             ],
             [
              1,
              "#f0f921"
             ]
            ],
            "type": "histogram2d"
           }
          ],
          "histogram2dcontour": [
           {
            "colorbar": {
             "outlinewidth": 0,
             "ticks": ""
            },
            "colorscale": [
             [
              0,
              "#0d0887"
             ],
             [
              0.1111111111111111,
              "#46039f"
             ],
             [
              0.2222222222222222,
              "#7201a8"
             ],
             [
              0.3333333333333333,
              "#9c179e"
             ],
             [
              0.4444444444444444,
              "#bd3786"
             ],
             [
              0.5555555555555556,
              "#d8576b"
             ],
             [
              0.6666666666666666,
              "#ed7953"
             ],
             [
              0.7777777777777778,
              "#fb9f3a"
             ],
             [
              0.8888888888888888,
              "#fdca26"
             ],
             [
              1,
              "#f0f921"
             ]
            ],
            "type": "histogram2dcontour"
           }
          ],
          "mesh3d": [
           {
            "colorbar": {
             "outlinewidth": 0,
             "ticks": ""
            },
            "type": "mesh3d"
           }
          ],
          "parcoords": [
           {
            "line": {
             "colorbar": {
              "outlinewidth": 0,
              "ticks": ""
             }
            },
            "type": "parcoords"
           }
          ],
          "pie": [
           {
            "automargin": true,
            "type": "pie"
           }
          ],
          "scatter": [
           {
            "fillpattern": {
             "fillmode": "overlay",
             "size": 10,
             "solidity": 0.2
            },
            "type": "scatter"
           }
          ],
          "scatter3d": [
           {
            "line": {
             "colorbar": {
              "outlinewidth": 0,
              "ticks": ""
             }
            },
            "marker": {
             "colorbar": {
              "outlinewidth": 0,
              "ticks": ""
             }
            },
            "type": "scatter3d"
           }
          ],
          "scattercarpet": [
           {
            "marker": {
             "colorbar": {
              "outlinewidth": 0,
              "ticks": ""
             }
            },
            "type": "scattercarpet"
           }
          ],
          "scattergeo": [
           {
            "marker": {
             "colorbar": {
              "outlinewidth": 0,
              "ticks": ""
             }
            },
            "type": "scattergeo"
           }
          ],
          "scattergl": [
           {
            "marker": {
             "colorbar": {
              "outlinewidth": 0,
              "ticks": ""
             }
            },
            "type": "scattergl"
           }
          ],
          "scattermap": [
           {
            "marker": {
             "colorbar": {
              "outlinewidth": 0,
              "ticks": ""
             }
            },
            "type": "scattermap"
           }
          ],
          "scattermapbox": [
           {
            "marker": {
             "colorbar": {
              "outlinewidth": 0,
              "ticks": ""
             }
            },
            "type": "scattermapbox"
           }
          ],
          "scatterpolar": [
           {
            "marker": {
             "colorbar": {
              "outlinewidth": 0,
              "ticks": ""
             }
            },
            "type": "scatterpolar"
           }
          ],
          "scatterpolargl": [
           {
            "marker": {
             "colorbar": {
              "outlinewidth": 0,
              "ticks": ""
             }
            },
            "type": "scatterpolargl"
           }
          ],
          "scatterternary": [
           {
            "marker": {
             "colorbar": {
              "outlinewidth": 0,
              "ticks": ""
             }
            },
            "type": "scatterternary"
           }
          ],
          "surface": [
           {
            "colorbar": {
             "outlinewidth": 0,
             "ticks": ""
            },
            "colorscale": [
             [
              0,
              "#0d0887"
             ],
             [
              0.1111111111111111,
              "#46039f"
             ],
             [
              0.2222222222222222,
              "#7201a8"
             ],
             [
              0.3333333333333333,
              "#9c179e"
             ],
             [
              0.4444444444444444,
              "#bd3786"
             ],
             [
              0.5555555555555556,
              "#d8576b"
             ],
             [
              0.6666666666666666,
              "#ed7953"
             ],
             [
              0.7777777777777778,
              "#fb9f3a"
             ],
             [
              0.8888888888888888,
              "#fdca26"
             ],
             [
              1,
              "#f0f921"
             ]
            ],
            "type": "surface"
           }
          ],
          "table": [
           {
            "cells": {
             "fill": {
              "color": "#EBF0F8"
             },
             "line": {
              "color": "white"
             }
            },
            "header": {
             "fill": {
              "color": "#C8D4E3"
             },
             "line": {
              "color": "white"
             }
            },
            "type": "table"
           }
          ]
         },
         "layout": {
          "annotationdefaults": {
           "arrowcolor": "#2a3f5f",
           "arrowhead": 0,
           "arrowwidth": 1
          },
          "autotypenumbers": "strict",
          "coloraxis": {
           "colorbar": {
            "outlinewidth": 0,
            "ticks": ""
           }
          },
          "colorscale": {
           "diverging": [
            [
             0,
             "#8e0152"
            ],
            [
             0.1,
             "#c51b7d"
            ],
            [
             0.2,
             "#de77ae"
            ],
            [
             0.3,
             "#f1b6da"
            ],
            [
             0.4,
             "#fde0ef"
            ],
            [
             0.5,
             "#f7f7f7"
            ],
            [
             0.6,
             "#e6f5d0"
            ],
            [
             0.7,
             "#b8e186"
            ],
            [
             0.8,
             "#7fbc41"
            ],
            [
             0.9,
             "#4d9221"
            ],
            [
             1,
             "#276419"
            ]
           ],
           "sequential": [
            [
             0,
             "#0d0887"
            ],
            [
             0.1111111111111111,
             "#46039f"
            ],
            [
             0.2222222222222222,
             "#7201a8"
            ],
            [
             0.3333333333333333,
             "#9c179e"
            ],
            [
             0.4444444444444444,
             "#bd3786"
            ],
            [
             0.5555555555555556,
             "#d8576b"
            ],
            [
             0.6666666666666666,
             "#ed7953"
            ],
            [
             0.7777777777777778,
             "#fb9f3a"
            ],
            [
             0.8888888888888888,
             "#fdca26"
            ],
            [
             1,
             "#f0f921"
            ]
           ],
           "sequentialminus": [
            [
             0,
             "#0d0887"
            ],
            [
             0.1111111111111111,
             "#46039f"
            ],
            [
             0.2222222222222222,
             "#7201a8"
            ],
            [
             0.3333333333333333,
             "#9c179e"
            ],
            [
             0.4444444444444444,
             "#bd3786"
            ],
            [
             0.5555555555555556,
             "#d8576b"
            ],
            [
             0.6666666666666666,
             "#ed7953"
            ],
            [
             0.7777777777777778,
             "#fb9f3a"
            ],
            [
             0.8888888888888888,
             "#fdca26"
            ],
            [
             1,
             "#f0f921"
            ]
           ]
          },
          "colorway": [
           "#636efa",
           "#EF553B",
           "#00cc96",
           "#ab63fa",
           "#FFA15A",
           "#19d3f3",
           "#FF6692",
           "#B6E880",
           "#FF97FF",
           "#FECB52"
          ],
          "font": {
           "color": "#2a3f5f"
          },
          "geo": {
           "bgcolor": "white",
           "lakecolor": "white",
           "landcolor": "white",
           "showlakes": true,
           "showland": true,
           "subunitcolor": "#C8D4E3"
          },
          "hoverlabel": {
           "align": "left"
          },
          "hovermode": "closest",
          "mapbox": {
           "style": "light"
          },
          "paper_bgcolor": "white",
          "plot_bgcolor": "white",
          "polar": {
           "angularaxis": {
            "gridcolor": "#EBF0F8",
            "linecolor": "#EBF0F8",
            "ticks": ""
           },
           "bgcolor": "white",
           "radialaxis": {
            "gridcolor": "#EBF0F8",
            "linecolor": "#EBF0F8",
            "ticks": ""
           }
          },
          "scene": {
           "xaxis": {
            "backgroundcolor": "white",
            "gridcolor": "#DFE8F3",
            "gridwidth": 2,
            "linecolor": "#EBF0F8",
            "showbackground": true,
            "ticks": "",
            "zerolinecolor": "#EBF0F8"
           },
           "yaxis": {
            "backgroundcolor": "white",
            "gridcolor": "#DFE8F3",
            "gridwidth": 2,
            "linecolor": "#EBF0F8",
            "showbackground": true,
            "ticks": "",
            "zerolinecolor": "#EBF0F8"
           },
           "zaxis": {
            "backgroundcolor": "white",
            "gridcolor": "#DFE8F3",
            "gridwidth": 2,
            "linecolor": "#EBF0F8",
            "showbackground": true,
            "ticks": "",
            "zerolinecolor": "#EBF0F8"
           }
          },
          "shapedefaults": {
           "line": {
            "color": "#2a3f5f"
           }
          },
          "ternary": {
           "aaxis": {
            "gridcolor": "#DFE8F3",
            "linecolor": "#A2B1C6",
            "ticks": ""
           },
           "baxis": {
            "gridcolor": "#DFE8F3",
            "linecolor": "#A2B1C6",
            "ticks": ""
           },
           "bgcolor": "white",
           "caxis": {
            "gridcolor": "#DFE8F3",
            "linecolor": "#A2B1C6",
            "ticks": ""
           }
          },
          "title": {
           "x": 0.05
          },
          "xaxis": {
           "automargin": true,
           "gridcolor": "#EBF0F8",
           "linecolor": "#EBF0F8",
           "ticks": "",
           "title": {
            "standoff": 15
           },
           "zerolinecolor": "#EBF0F8",
           "zerolinewidth": 2
          },
          "yaxis": {
           "automargin": true,
           "gridcolor": "#EBF0F8",
           "linecolor": "#EBF0F8",
           "ticks": "",
           "title": {
            "standoff": 15
           },
           "zerolinecolor": "#EBF0F8",
           "zerolinewidth": 2
          }
         }
        },
        "title": {
         "text": "Eye-Tracking: Stacked Dwell Time Segments (Transitions) per Trial"
        },
        "xaxis": {
         "title": {
          "text": "Seconds"
         }
        },
        "yaxis": {
         "ticktext": [
          "<b>Maris444 - Trial 6</b>",
          "<b>Maris444 - Trial 7</b>",
          "<b>Maris444 - Trial 8</b>",
          "<b>Maris444 - Trial 10</b>",
          "<b>Maris444 - Trial 11</b>"
         ],
         "tickvals": [
          "Maris444 - Trial 6",
          "Maris444 - Trial 7",
          "Maris444 - Trial 8",
          "Maris444 - Trial 10",
          "Maris444 - Trial 11"
         ],
         "title": {
          "text": "Participant - Trial"
         }
        }
       }
      }
     },
     "metadata": {},
     "output_type": "display_data"
    }
   ],
   "source": [
    "import plotly.graph_objects as go\n",
    "transparent_color = 'hsva(0, 0%, 100%, 0)'\n",
    "fig = go.Figure()\n",
    "\n",
    "# Collect all y-tick labels and which should be bold\n",
    "yticks = []\n",
    "yticks_bold = set()\n",
    "\n",
    "for participant in [p for p in et_df['participant_id'].unique() if p not in list_of_participants_to_remove]:\n",
    "    df_part = et_df[et_df['participant_id'] == participant]\n",
    "    sorted_trials = sorted(df_part['trial'].unique(), key=lambda x: float(x) if str(x).replace('.', '', 1).isdigit() else x)\n",
    "    for trial in sorted_trials:\n",
    "        label = f\"{participant} - Trial {trial}\"\n",
    "        yticks.append(label)\n",
    "\n",
    "        et_row = df_part[df_part['trial'] == trial]\n",
    "        dominant = et_row['dominant'].iloc[0] if not et_row.empty else None\n",
    "        lf_row = longform[(longform['participant_id'] == participant) & (longform['trial'] == trial)]\n",
    "        choice = lf_row['choice'].iloc[0] if not lf_row.empty else None\n",
    "\n",
    "        if dominant is not None and choice is not None and dominant == choice:\n",
    "            yticks_bold.add(label)\n",
    "\n",
    "        et_file = os.path.join(et_dir, f\"{participant}.csv\")\n",
    "        df_et = pd.read_csv(et_file)\n",
    "        df_et.columns = [c.lower() for c in df_et.columns]\n",
    "        trial_col = 'trial' if 'trial' in df_et.columns else [c for c in df_et.columns if 'trial' in c][0]\n",
    "        g = df_et[df_et[trial_col] == trial].copy()\n",
    "\n",
    "        canvas_state = np.where(\n",
    "            (g['_left_canvas'] == 1) & (g['_right_canvas'] == 0), 'L',\n",
    "            np.where(\n",
    "                (g['_right_canvas'] == 1) & (g['_left_canvas'] == 0), 'R',\n",
    "                np.where(\n",
    "                    (g['_left_canvas'] == 0) & (g['_right_canvas'] == 0), 'N', 'B'\n",
    "                )\n",
    "            )\n",
    "        )\n",
    "        transitions_idx = np.where(canvas_state[1:] != canvas_state[:-1])[0] + 1\n",
    "        segment_starts = np.concatenate(([0], transitions_idx))\n",
    "        segment_ends = np.concatenate((transitions_idx, [len(canvas_state)]))\n",
    "        times = g['times'].values  # times are timestamps in ms\n",
    "        for seg_start, seg_end in zip(segment_starts, segment_ends):\n",
    "            seg = g.iloc[seg_start:seg_end]\n",
    "            if len(seg) > 0:\n",
    "                start_time = seg['times'].iloc[0]\n",
    "                end_time = seg['times'].iloc[-1]\n",
    "                seg_time = (end_time - start_time) / 1000  # duration in seconds\n",
    "            else:\n",
    "                seg_time = 0\n",
    "            if ((seg['_left_canvas'] == 1) & (seg['_right_canvas'] == 0)).all():\n",
    "                side = 'Left'\n",
    "                color = 'steelblue'\n",
    "            elif ((seg['_right_canvas'] == 1) & (seg['_left_canvas'] == 0)).all():\n",
    "                side = 'Right'\n",
    "                color = 'orange'\n",
    "            elif ((seg['_left_canvas'] == 0) & (seg['_right_canvas'] == 0)).all():\n",
    "                side = 'None'\n",
    "                color = transparent_color\n",
    "            else:\n",
    "                side = 'Both'\n",
    "                color = \"red\" #transparent\n",
    "            fig.add_trace(go.Bar(\n",
    "                x=[seg_time],\n",
    "                y=[label],\n",
    "                name=side,\n",
    "                marker_color=color,\n",
    "                orientation='h',\n",
    "                showlegend=False\n",
    "            ))\n",
    "\n",
    "# Build tickvals and ticktext with bolding\n",
    "tickvals = yticks\n",
    "ticktext = [f\"<b>{t}</b>\" if t in yticks_bold else t for t in yticks]\n",
    "\n",
    "fig.update_layout(\n",
    "    template='plotly_white', #_dark\n",
    "    barmode='stack',\n",
    "    title='Eye-Tracking: Stacked Dwell Time Segments (Transitions) per Trial',\n",
    "    xaxis_title='Seconds',\n",
    "    yaxis_title='Participant - Trial',\n",
    "    legend_title='Side',\n",
    "    height=1200,\n",
    "    yaxis=dict(\n",
    "        tickvals=tickvals,\n",
    "        ticktext=ticktext\n",
    "    )\n",
    ")\n",
    "fig.show()"
   ]
  }
 ],
 "metadata": {
  "kernelspec": {
   "display_name": "work",
   "language": "python",
   "name": "python3"
  },
  "language_info": {
   "codemirror_mode": {
    "name": "ipython",
    "version": 3
   },
   "file_extension": ".py",
   "mimetype": "text/x-python",
   "name": "python",
   "nbconvert_exporter": "python",
   "pygments_lexer": "ipython3",
   "version": "3.12.9"
  }
 },
 "nbformat": 4,
 "nbformat_minor": 5
}
